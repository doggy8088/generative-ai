{
  "cells": [
    {
      "cell_type": "code",
      "execution_count": null,
      "metadata": {
        "id": "uxCkB_DXTHzf"
      },
      "outputs": [],
      "source": [
        "# Copyright 2023 Google LLC\n",
        "#\n",
        "# Licensed under the Apache License, Version 2.0 (the \"License\");\n",
        "# you may not use this file except in compliance with the License.\n",
        "# You may obtain a copy of the License at\n",
        "#\n",
        "#     https://www.apache.org/licenses/LICENSE-2.0\n",
        "#\n",
        "# Unless required by applicable law or agreed to in writing, software\n",
        "# distributed under the License is distributed on an \"AS IS\" BASIS,\n",
        "# WITHOUT WARRANTIES OR CONDITIONS OF ANY KIND, either express or implied.\n",
        "# See the License for the specific language governing permissions and\n",
        "# limitations under the License."
      ]
    },
    {
      "cell_type": "markdown",
      "metadata": {
        "id": "Hny4I-ODTIS6"
      },
      "source": [
        "# 使用 Gradio 應用程式和 Vertex AI 進行影像生成\n",
        "\n",
        "<table align=\"left\">\n",
        "  <td style=\"text-align: center\">\n",
        "    <a href=\"https://colab.research.google.com/github/doggy8088/generative-ai/blob/main/vision/gradio/gradio_image_generation_sdk.zh.ipynb\">\n",
        "      <img src=\"https://cloud.google.com/ml-engine/images/colab-logo-32px.png\" alt=\"Google Colaboratory logo\"><br> 在 Colab 中執行\n",
        "    </a>\n",
        "  </td>\n",
        "  <td style=\"text-align: center\">\n",
        "    <a href=\"https://github.com/doggy8088/generative-ai/blob/main/vision/gradio/gradio_image_generation_sdk.zh.ipynb\">\n",
        "      <img src=\"https://cloud.google.com/ml-engine/images/github-logo-32px.png\" alt=\"GitHub logo\"><br> 在 GitHub 上檢視\n",
        "    </a>\n",
        "  </td>\n",
        "  <td style=\"text-align: center\">\n",
        "    <a href=\"https://console.cloud.google.com/vertex-ai/workbench/deploy-notebook?download_url=https://raw.githubusercontent.com/doggy8088/generative-ai/blob/main/vision/gradio/gradio_image_generation_sdk.zh.ipynb\">\n",
        "      <img src=\"https://lh3.googleusercontent.com/UiNooY4LUgW_oTvpsNhPpQzsstV5W8F7rYgxgGBD85cWJoLmrOzhVs_ksK_vgx40SHs7jCqkTkCk=e14-rj-sc0xffffff-h130-w32\" alt=\"Vertex AI logo\"><br> 在 Vertex AI Workbench 中開啟\n",
        "    </a>\n",
        "  </td>\n",
        "</table>\n"
      ]
    },
    {
      "cell_type": "markdown",
      "metadata": {},
      "source": [
        "| | |\n",
        "|-|-|\n",
        "|作者| [Jose Brache](https://github.com/jbrache) |\n"
      ]
    },
    {
      "cell_type": "markdown",
      "metadata": {
        "id": "-nLS57E2TO5y"
      },
      "source": [
        "## 簡介\n",
        "\n",
        "此 Notebook 將建立 Gradio 應用程式 (前端)，透過整合 Vertex AI 中的 Imagen，使用自然語言提示產生高品質圖片。\n",
        "\n",
        "此 Notebook 僅關注 Imagen 中的「圖片產生」功能。請注意，[圖片產生](https://cloud.google.com/vertex-ai/docs/generative-ai/image/overview#feature-launch-stage) 目前處於**受限一般公開 (已核准使用者)** 階段。如欲使用 API，你需要在「Vertex AI Studio → Vision」下「產生」標籤的請求表單，透過 [Google Cloud 控制台](https://console.cloud.google.com/vertex-ai/generative/vision) 提出存取請求。\n",
        "\n",
        "如需進一步瞭解如何為圖片產生撰寫文字提示，請參閱 [提示指南](https://cloud.google.com/vertex-ai/docs/generative-ai/image/img-gen-prompt-guide) 和下列資源：\n",
        "- 在產生圖片時，有許多標準和進階 [參數](https://cloud.google.com/vertex-ai/docs/generative-ai/image/generate-images#use-params) 可以根據你的使用案例設定。\n",
        "- 你可以使用各種版本的 `imagegeneration` 模型。如需 Imagen 模型版本說明的一般資訊，請參閱 [官方文件](https://cloud.google.com/vertex-ai/docs/generative-ai/image/generate-images#model-versions)。\n",
        "\n",
        "你可以透過 [Google Cloud 控制台](https://console.cloud.google.com/vertex-ai/generative/vision) 或呼叫 Vertex AI API 來存取 Imagen。可在 [官方文件](https://cloud.google.com/vertex-ai/docs/generative-ai/image/generate-images) 中找到 Vertex AI 中 Imagen 圖片產生的更進一步資訊。\n"
      ]
    },
    {
      "cell_type": "markdown",
      "metadata": {
        "id": "iXsvgIuwTPZw"
      },
      "source": [
        "### 目標\n",
        "\n",
        "在本筆記本中，你將學習如何：\n",
        "\n",
        "- 使用 [Imagen 2](https://cloud.google.com/blog/products/ai-machine-learning/imagen-2-on-vertex-ai-is-now-generally-available) (`imagegeneration@005`) 與 Vertex AI SDK，從文字提示產生新圖片\n",
        "\n",
        "- 使用不同的參數進行實驗，例如：\n",
        "    - 使用範例或自己的文字提示來產生圖片\n",
        "    - 產生圖片的模型版本\n",
        "    - 提供種子，根據輸入重現相同的圖片輸出\n",
        "\n",
        "- 啟動 [Gradio 應用程式](https://www.gradio.app/) 以存取 Imagen\n"
      ]
    },
    {
      "cell_type": "markdown",
      "metadata": {
        "id": "skXAu__iqks_"
      },
      "source": [
        "### 費用\n",
        "\n",
        "- 本筆記本使用 Google Cloud 的計費元件：\n",
        "  - Vertex AI (Imagen) \n",
        "\n",
        "- 進一步了解 [Vertex AI 定價](https://cloud.google.com/vertex-ai/pricing)，並使用 [費率計算器](https://cloud.google.com/products/calculator/) 依據你的預計使用狀況產生成本估計。\n"
      ]
    },
    {
      "cell_type": "markdown",
      "metadata": {
        "id": "mvKl-BtQTRiQ"
      },
      "source": [
        "## 開始使用\n"
      ]
    },
    {
      "cell_type": "markdown",
      "metadata": {
        "id": "PwFMpIMrTV_4"
      },
      "source": [
        "### 安裝 Vertex AI SDK 及其他套裝及其相依套件\n",
        "\n",
        "[Gradio](https://pypi.org/project/gradio/) 用於使用使用者介面互動使用 Imagen，測試時使用的版本為 `gradio==4.11.0` 和 `google-cloud-aiplatform==1.38.1`。\n"
      ]
    },
    {
      "cell_type": "code",
      "execution_count": null,
      "metadata": {
        "id": "WYUu8VMdJs3V"
      },
      "outputs": [],
      "source": [
        "!pip3 install --upgrade --user gradio\n",
        "!pip3 install --upgrade --user google-cloud-aiplatform"
      ]
    },
    {
      "cell_type": "markdown",
      "metadata": {
        "id": "R5Xep4W9lq-Z"
      },
      "source": [
        "### 重新啟動當前運行時\n",
        "\n",
        "若要在這個 Jupyter 運行時中使用新安裝的套件，你必須重新啟動運行時。你可以執行下方的Cell來這麼做，這會重新啟動目前的 kernel。\n",
        "\n",
        "重新啟動流程可能會花費一分鐘左右。\n"
      ]
    },
    {
      "cell_type": "code",
      "execution_count": null,
      "metadata": {
        "id": "XRvKdaPDTznN"
      },
      "outputs": [],
      "source": [
        "# Restart kernel after installs so that your environment can access the new packages\n",
        "import IPython\n",
        "import time\n",
        "\n",
        "app = IPython.Application.instance()\n",
        "app.kernel.do_shutdown(True)"
      ]
    },
    {
      "cell_type": "markdown",
      "metadata": {
        "id": "SbmM4z7FOBpM"
      },
      "source": [
        "<div class=\"alert alert-block alert-warning\">\n",
        "<b>⚠️ 這個 kernel 將會重新啟動。請等到重新啟動程序完成後再進行下一步。⚠️</b>\n",
        "</div>\n"
      ]
    },
    {
      "cell_type": "markdown",
      "metadata": {
        "id": "opUxT_k5TdgP"
      },
      "source": [
        "### 認證你的 notebook 環境 (僅限 Colab) \n",
        "\n",
        "如果你是在 Google Colab 上執行這個筆記本，你將需要認證你的環境。為執行這項工作，請執行下列新的Cell。如果你使用的是 [Vertex AI Workbench](https://cloud.google.com/vertex-ai-workbench)，則不需要執行這個步驟。\n"
      ]
    },
    {
      "cell_type": "code",
      "execution_count": null,
      "metadata": {
        "id": "vbNgv4q1T2Mi"
      },
      "outputs": [],
      "source": [
        "import sys\n",
        "\n",
        "# Addtional authentication is required for Google Colab\n",
        "if \"google.colab\" in sys.modules:\n",
        "    # Authenticate user to Google Cloud\n",
        "    from google.colab import auth\n",
        "\n",
        "    auth.authenticate_user()"
      ]
    },
    {
      "cell_type": "markdown",
      "metadata": {
        "id": "ybBXSukZkgjg"
      },
      "source": [
        "### 定義 Google Cloud 專案資訊 (僅適用於 Colab) \n",
        "\n",
        "如果你是在 Google Colab 上執行這個筆記本，你需要定義要使用的 Google Cloud 專案資訊。在以下Cell中，你會定義資訊、匯入 Vertex AI 套件並初始化它。如果你使用 [Vertex AI Workbench](https://cloud.google.com/vertex-ai-workbench)，也不需要進行這個步驟。\n"
      ]
    },
    {
      "cell_type": "code",
      "execution_count": null,
      "metadata": {
        "id": "5gUjJ42Nh5kf"
      },
      "outputs": [],
      "source": [
        "if \"google.colab\" in sys.modules:\n",
        "    # Define project information\n",
        "    PROJECT_ID = \"[your-project-id]\"  # @param {type:\"string\"}\n",
        "    LOCATION = \"us-central1\"  # @param {type:\"string\"}\n",
        "\n",
        "    # Initialize Vertex AI\n",
        "    import vertexai\n",
        "\n",
        "    vertexai.init(project=PROJECT_ID, location=LOCATION)"
      ]
    },
    {
      "cell_type": "markdown",
      "metadata": {
        "id": "EKIAyh27sM4J"
      },
      "source": [
        "### 匯入函式庫\n"
      ]
    },
    {
      "cell_type": "code",
      "execution_count": null,
      "metadata": {
        "id": "VuEbYyfM4RR7"
      },
      "outputs": [],
      "source": [
        "import gradio as gr\n",
        "\n",
        "from vertexai.preview.vision_models import Image, ImageGenerationModel\n",
        "\n",
        "import traceback"
      ]
    },
    {
      "cell_type": "markdown",
      "metadata": {
        "id": "ApmmaBh8i_2N"
      },
      "source": [
        "# Gradio 應用程式\n",
        "\n",
        "[Imagen 2](https://cloud.google.com/blog/products/ai-machine-learning/imagen-2-on-vertex-ai-is-now-generally-available) (`imagegeneration@005`) 是設計為從自然語言提示產生高品質、逼真、高解析度、美觀的圖像。\n",
        "\n",
        "此區段會將 Imagen 的文字轉圖像生成功能包裝到 [Gradio 應用程式](https://www.gradio.app/docs/interface) 中，以使用範例提示進行互動式使用。Imagen 有支援不同功能的 [模型版本](https://cloud.google.com/vertex-ai/docs/generative-ai/image/generate-images)，請參閱 [Imagen 在 Vertex AI 的模型版本和生命週期](https://cloud.google.com/vertex-ai/docs/generative-ai/image/model-versioning) 以取得更多資訊。\n"
      ]
    },
    {
      "cell_type": "markdown",
      "metadata": {
        "id": "SK2qqlhXfDCK"
      },
      "source": [
        "### 定義輔助函式\n",
        "\n",
        "定義 Gradio 與 Vertex AI SDK 的輔助函式，用於載入和顯示圖片。\n"
      ]
    },
    {
      "cell_type": "code",
      "execution_count": null,
      "metadata": {
        "id": "KxOxQaFK2Eif"
      },
      "outputs": [],
      "source": [
        "# @title Helper functions\n",
        "# Wrapper around the Vertex AI SDK to return PIL images\n",
        "def imagen_generate(\n",
        "    model_name: str,\n",
        "    prompt: str,\n",
        "    negative_prompt: str,\n",
        "    sampleImageSize: int,\n",
        "    sampleCount: int,\n",
        "    seed=None,\n",
        "):\n",
        "    model = ImageGenerationModel.from_pretrained(model_name)\n",
        "\n",
        "    generate_response = model.generate_images(\n",
        "        prompt=prompt,\n",
        "        negative_prompt=negative_prompt,\n",
        "        number_of_images=sampleCount,\n",
        "        guidance_scale=float(sampleImageSize),\n",
        "        seed=seed,\n",
        "    )\n",
        "\n",
        "    images = []\n",
        "    for index, result in enumerate(generate_response):\n",
        "        images.append(generate_response[index]._pil_image)\n",
        "    return images, generate_response\n",
        "\n",
        "\n",
        "# Update function called by Gradio\n",
        "def update(\n",
        "    model_name,\n",
        "    prompt,\n",
        "    negative_prompt,\n",
        "    sampleImageSize=\"1536\",\n",
        "    sampleCount=4,\n",
        "    seed=None,\n",
        "):\n",
        "    if len(negative_prompt) == 0:\n",
        "        negative_prompt = None\n",
        "\n",
        "    print(\"prompt:\", prompt)\n",
        "    print(\"negative_prompt:\", negative_prompt)\n",
        "\n",
        "    # Advanced option, try different the seed numbers\n",
        "    # any random integer number range: (0, 2147483647)\n",
        "    if seed < 0 or seed > 2147483647:\n",
        "        seed = None\n",
        "\n",
        "    # Use & provide a seed, if possible, so that we can reproduce the results when needed.\n",
        "    images = []\n",
        "    error_message = \"\"\n",
        "    try:\n",
        "        images, generate_response = imagen_generate(\n",
        "            model_name, prompt, negative_prompt, sampleImageSize, sampleCount, seed\n",
        "        )\n",
        "    except Exception as e:\n",
        "        print(e)\n",
        "        error_message = \"\"\"An error occured calling the API.\n",
        "      1. Check if response was not blocked based on policy violation, check if the UI behaves the same way.\n",
        "      2. Try a different prompt to see if that was the problem.\n",
        "      \"\"\"\n",
        "        error_message += \"\\n\" + traceback.format_exc()\n",
        "        # raise gr.Error(str(e))\n",
        "\n",
        "    return images, error_message"
      ]
    },
    {
      "cell_type": "markdown",
      "metadata": {
        "id": "ZzrUN8Gbx0LW"
      },
      "source": [
        "### 定義 Gradio 範例\n",
        "\n",
        "範例文字提示提供用於產生圖片，你也可以嘗試你自己的文字提示。\n"
      ]
    },
    {
      "cell_type": "code",
      "execution_count": null,
      "metadata": {
        "id": "PwZjm3jsx5G9"
      },
      "outputs": [],
      "source": [
        "examples = [\n",
        "    [\n",
        "        \"imagegeneration@005\",\n",
        "        \"\"\"A studio portrait of a man with a grizzly beard eating a sandwich with his hands, a dramatic skewed angled photography, film noir.\"\"\",\n",
        "        \"\",\n",
        "        \"1536\",\n",
        "        4,\n",
        "        -1,\n",
        "    ],\n",
        "    [\n",
        "        \"imagegeneration@005\",\n",
        "        \"\"\"A mosaic-inspired portrait of a person, their features formed by a collection of small, colourful tiles.\"\"\",\n",
        "        \"\",\n",
        "        \"1536\",\n",
        "        4,\n",
        "        -1,\n",
        "    ],\n",
        "    [\n",
        "        \"imagegeneration@005\",\n",
        "        \"\"\"A modern house on a coastal cliff, sunset, reflections in the water, bright stylized, architectural magazine photo.\"\"\",\n",
        "        \"\",\n",
        "        \"1536\",\n",
        "        4,\n",
        "        -1,\n",
        "    ],\n",
        "    [\n",
        "        \"imagegeneration@005\",\n",
        "        \"\"\"Isometric 3d rendering of a car driving in the countryside surrounded by trees, bright colors, puffy clouds overhead.\"\"\",\n",
        "        \"\",\n",
        "        \"1536\",\n",
        "        4,\n",
        "        -1,\n",
        "    ],\n",
        "    [\n",
        "        \"imagegeneration@005\",\n",
        "        \"\"\"A tube of toothpaste with the words \"CYMBAL\" written on it, on a bathroom counter, advertisement.\"\"\",\n",
        "        \"\",\n",
        "        \"1536\",\n",
        "        4,\n",
        "        -1,\n",
        "    ],\n",
        "    [\n",
        "        \"imagegeneration@005\",\n",
        "        \"\"\"A cup of strawberry yogurt with the word \"Delicious\" written on its side, sitting on a wooden tabletop. Next to the cup of yogurt is a plat with toast and a glass of orange juice.\"\"\",\n",
        "        \"\",\n",
        "        \"1536\",\n",
        "        4,\n",
        "        -1,\n",
        "    ],\n",
        "    [\n",
        "        \"imagegeneration@005\",\n",
        "        \"\"\"A clearn minimal emblem style logo for an ice cream shop, cream background.\"\"\",\n",
        "        \"\",\n",
        "        \"1536\",\n",
        "        4,\n",
        "        -1,\n",
        "    ],\n",
        "    [\n",
        "        \"imagegeneration@005\",\n",
        "        \"\"\"An abstract logo representing intelligence for an enterprise AI platform, \"Vertex AI\" written under the logo.\"\"\",\n",
        "        \"\",\n",
        "        \"1536\",\n",
        "        4,\n",
        "        -1,\n",
        "    ],\n",
        "    [\n",
        "        \"imagegeneration@002\",\n",
        "        \"\"\"A line drawing of a duck boat tour in Boston, with a colorful background of the city.\"\"\",\n",
        "        \"\",\n",
        "        \"1024\",\n",
        "        4,\n",
        "        -1,\n",
        "    ],\n",
        "    [\n",
        "        \"imagegeneration@002\",\n",
        "        \"\"\"A raccoon wearing formal clothes, wearing a top hat. Oil painting in the style of Vincent Van Gogh.\"\"\",\n",
        "        \"\",\n",
        "        \"1024\",\n",
        "        4,\n",
        "        -1,\n",
        "    ],\n",
        "]"
      ]
    },
    {
      "cell_type": "markdown",
      "metadata": {
        "id": "8Qu4NE09ubOj"
      },
      "source": [
        "## Gradio 界面\n",
        "\n",
        "本節啟動一個 [Gradio Interface](https://www.gradio.app/docs/interface)，可經由公開 URL 開啟，或直接從筆記本中使用。歡迎使用不同的文字提示進行實驗以產生影像。\n"
      ]
    },
    {
      "cell_type": "code",
      "execution_count": null,
      "metadata": {
        "id": "jS26wHPc7HxC"
      },
      "outputs": [],
      "source": [
        "# https://gradio.app/docs/#gallery\n",
        "iface = gr.Interface(\n",
        "    fn=update,\n",
        "    inputs=[\n",
        "        gr.Dropdown(\n",
        "            label=\"Model Name\",\n",
        "            choices=[\"imagegeneration@002\", \"imagegeneration@005\"],\n",
        "            value=\"imagegeneration@005\",\n",
        "        ),\n",
        "        gr.Textbox(\n",
        "            placeholder=\"Try: A studio portrait of a man with a grizzly beard eating a sandwich with his hands, a dramatic skewed angled photography, film noir.\",\n",
        "            label=\"Text Prompt\",\n",
        "            value=\"A studio portrait of a man with a grizzly beard eating a sandwich with his hands, a dramatic skewed angled photography, film noir.\",\n",
        "        ),\n",
        "        gr.Textbox(placeholder=\"\", label=\"Negative Prompt\", value=\"\"),\n",
        "        gr.Dropdown(label=\"ImageSize\", choices=[\"256\", \"1024\", \"1536\"], value=\"1536\"),\n",
        "        gr.Number(label=\"sampleCount\", value=4),\n",
        "        gr.Number(\n",
        "            label=\"seed\",\n",
        "            info=\"Use & provide a seed, if possible, so that we can reproduce the results when needed. Integer number range: (0, 2147483647)\",\n",
        "            value=-1,\n",
        "        ),\n",
        "    ],\n",
        "    outputs=[\n",
        "        gr.Gallery(\n",
        "            label=\"Generated Images\",\n",
        "            show_label=True,\n",
        "            elem_id=\"gallery\",\n",
        "            columns=[2],\n",
        "            object_fit=\"contain\",\n",
        "            height=\"auto\",\n",
        "        ),\n",
        "        gr.Textbox(label=\"Error Messages\"),\n",
        "    ],\n",
        "    examples=examples,\n",
        "    title=\"Imagen\",\n",
        "    description=\"\"\"Image generation from a text prompt. Look at [this link](https://cloud.google.com/vertex-ai/docs/generative-ai/image/generate-images) for Imagen documentation.\n",
        "                     \"\"\",\n",
        "    allow_flagging=\"never\",\n",
        "    theme=gr.themes.Soft(),\n",
        ")"
      ]
    },
    {
      "cell_type": "markdown",
      "metadata": {
        "id": "GIS9i8eTy2Is"
      },
      "source": [
        "### 啟動 Gradio 應用程式，開始產生圖片！\n"
      ]
    },
    {
      "cell_type": "code",
      "execution_count": null,
      "metadata": {
        "id": "EbPHFNRJy913"
      },
      "outputs": [],
      "source": [
        "# Set debug=True in Colab for live debugging\n",
        "iface.launch(debug=True)"
      ]
    },
    {
      "cell_type": "code",
      "execution_count": null,
      "metadata": {
        "id": "iNbrI-SkYlpB"
      },
      "outputs": [],
      "source": [
        "# (Optional) Make your Gradio app link publicly accessible by uncommenting the line below and running this cell\n",
        "# iface.launch(share=True, debug=True)"
      ]
    }
  ],
  "metadata": {
    "colab": {
      "provenance": [],
      "toc_visible": true
    },
    "environment": {
      "kernel": "python3",
      "name": "tf2-gpu.2-11.m110",
      "type": "gcloud",
      "uri": "gcr.io/deeplearning-platform-release/tf2-gpu.2-11:m110"
    },
    "kernelspec": {
      "display_name": "Python 3",
      "language": "python",
      "name": "python3"
    },
    "language_info": {
      "codemirror_mode": {
        "name": "ipython",
        "version": 3
      },
      "file_extension": ".py",
      "mimetype": "text/x-python",
      "name": "python",
      "nbconvert_exporter": "python",
      "pygments_lexer": "ipython3",
      "version": "3.10.12"
    }
  },
  "nbformat": 4,
  "nbformat_minor": 0
}