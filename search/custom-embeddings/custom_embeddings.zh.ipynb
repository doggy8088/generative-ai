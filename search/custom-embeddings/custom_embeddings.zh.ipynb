{
  "cells": [
    {
      "cell_type": "code",
      "execution_count": null,
      "metadata": {
        "id": "z3Gi-zdCeEbE"
      },
      "outputs": [],
      "source": [
        "# Copyright 2024 Google LLC\n",
        "#\n",
        "# Licensed under the Apache License, Version 2.0 (the \"License\");\n",
        "# you may not use this file except in compliance with the License.\n",
        "# You may obtain a copy of the License at\n",
        "#\n",
        "#     https://www.apache.org/licenses/LICENSE-2.0\n",
        "#\n",
        "# Unless required by applicable law or agreed to in writing, software\n",
        "# distributed under the License is distributed on an \"AS IS\" BASIS,\n",
        "# WITHOUT WARRANTIES OR CONDITIONS OF ANY KIND, either express or implied.\n",
        "# See the License for the specific language governing permissions and\n",
        "# limitations under the License."
      ]
    },
    {
      "cell_type": "markdown",
      "metadata": {
        "id": "WcfbGhs1eJF6"
      },
      "source": [
        "# 使用 Vertex AI Search 的自訂內嵌程式碼\n",
        "\n",
        "<table align=\"left\">\n",
        "  <td style=\"text-align: center\">\n",
        "    <a href=\"https://colab.research.google.com/github/doggy8088/generative-ai/blob/main/search/custom-embeddings/custom_embeddings.zh.ipynb\">\n",
        "      <img src=\"https://cloud.google.com/ml-engine/images/colab-logo-32px.png\" alt=\"Google Colaboratory logo\"><br> 在 Colab 中執行\n",
        "    </a>\n",
        "  </td>\n",
        "  <td style=\"text-align: center\">\n",
        "    <a href=\"https://github.com/doggy8088/generative-ai/blob/main/search/custom-embeddings/custom_embeddings.zh.ipynb\">\n",
        "      <img src=\"https://cloud.google.com/ml-engine/images/github-logo-32px.png\" alt=\"GitHub logo\"><br> 在 GitHub 上檢視\n",
        "    </a>\n",
        "  </td>\n",
        "  <td style=\"text-align: center\">\n",
        "    <a href=\"https://console.cloud.google.com/vertex-ai/workbench/deploy-notebook?download_url=https://raw.githubusercontent.com/doggy8088/generative-ai/blob/main/search/custom-embeddings/custom_embeddings.zh.ipynb\">\n",
        "      <img src=\"https://lh3.googleusercontent.com/UiNooY4LUgW_oTvpsNhPpQzsstV5W8F7rYgxgGBD85cWJoLmrOzhVs_ksK_vgx40SHs7jCqkTkCk=e14-rj-sc0xffffff-h130-w32\" alt=\"Vertex AI logo\"><br> 在 Vertex AI Workbench 中開啟\n",
        "    </a>\n",
        "  </td>\n",
        "</table>\n"
      ]
    },
    {
      "cell_type": "markdown",
      "metadata": {
        "id": "ghQ2aBsbnMyn"
      },
      "source": [
        "---\n",
        "\n",
        "* 作者：Holt Skinner\n",
        "\n",
        "---\n",
        "\n",
        "本筆記本示範瞭如何執行以下操作：\n",
        "\n",
        "  - 使用 [`textembedding-gecko` 中 Vertex AI 取得文字嵌入](https://cloud.google.com/vertex-ai/docs/generative-ai/embeddings/get-text-embeddings)\n",
        "  - 將嵌入轉換成 [Vertex AI 搜尋預期的格式](https://cloud.google.com/generative-ai-app-builder/docs/prepare-data#unstructured)\n",
        "  - [建立具有自訂嵌入的搜尋應用程式](https://cloud.google.com/generative-ai-app-builder/docs/bring-embeddings)\n"
      ]
    },
    {
      "cell_type": "markdown",
      "metadata": {
        "id": "DsW5tPDRkT4m"
      },
      "source": [
        "## 開始使用\n"
      ]
    },
    {
      "cell_type": "markdown",
      "metadata": {
        "id": "jx1FQVAokWVb"
      },
      "source": [
        "### 安裝函式庫\n"
      ]
    },
    {
      "cell_type": "code",
      "execution_count": null,
      "metadata": {
        "id": "nJFw23w1kYVj"
      },
      "outputs": [],
      "source": [
        "%pip install -q --upgrade --user google-cloud-aiplatform google-cloud-discoveryengine google-cloud-storage google-cloud-bigquery[pandas] google-cloud-bigquery-storage pandas ipywidgets"
      ]
    },
    {
      "cell_type": "code",
      "execution_count": null,
      "metadata": {},
      "outputs": [],
      "source": [
        "%load_ext google.cloud.bigquery"
      ]
    },
    {
      "cell_type": "markdown",
      "metadata": {},
      "source": [
        "---\n",
        "#### ⚠️ 不要忘記點擊上方 \"重新啟動執行階段\" 按鈕。\n",
        "---\n"
      ]
    },
    {
      "cell_type": "markdown",
      "metadata": {
        "id": "-jwsaMQYkZm8"
      },
      "source": [
        "### 認證你的 notebook 環境 (僅限 Colab) \n",
        "\n",
        "如果你是在 Google Colab 上執行這個筆記本，你將需要認證你的環境。為執行這項工作，請執行下列新的Cell。如果你使用的是 [Vertex AI Workbench](https://cloud.google.com/vertex-ai-workbench)，則不需要執行這個步驟。\n"
      ]
    },
    {
      "cell_type": "code",
      "execution_count": null,
      "metadata": {
        "id": "ikOmH4doxOFs"
      },
      "outputs": [],
      "source": [
        "import sys\n",
        "\n",
        "if \"google.colab\" in sys.modules:\n",
        "    # Authenticate user to Google Cloud\n",
        "    from google.colab import auth\n",
        "\n",
        "    auth.authenticate_user()"
      ]
    },
    {
      "cell_type": "markdown",
      "metadata": {
        "id": "-h0ba4rmkpKW"
      },
      "source": [
        "### 匯入函式庫\n"
      ]
    },
    {
      "cell_type": "code",
      "execution_count": null,
      "metadata": {
        "id": "YLUml_s7iqBc"
      },
      "outputs": [],
      "source": [
        "from typing import List\n",
        "import requests\n",
        "import subprocess\n",
        "import time\n",
        "\n",
        "from google.api_core.client_options import ClientOptions\n",
        "from google.api_core.exceptions import GoogleAPICallError\n",
        "from google.cloud import bigquery\n",
        "from google.cloud import discoveryengine_v1alpha as discoveryengine\n",
        "from google.cloud import storage\n",
        "\n",
        "from tqdm import tqdm  # to show a progress bar\n",
        "\n",
        "import vertexai\n",
        "from vertexai.language_models import TextEmbeddingModel, TextEmbeddingInput\n",
        "\n",
        "tqdm.pandas()"
      ]
    },
    {
      "cell_type": "markdown",
      "metadata": {},
      "source": [
        "## 設定筆記本環境\n",
        "\n",
        "### 設定以下常數以反映你的環境\n"
      ]
    },
    {
      "cell_type": "code",
      "execution_count": null,
      "metadata": {},
      "outputs": [],
      "source": [
        "# Define project information for Vertex AI\n",
        "PROJECT_ID = \"[your-project-id]\"  # @param {type:\"string\"}\n",
        "LOCATION = \"us-central1\"  # @param {type:\"string\"}\n",
        "\n",
        "# Initialize Vertex AI SDK\n",
        "vertexai.init(project=PROJECT_ID, location=LOCATION)"
      ]
    },
    {
      "cell_type": "markdown",
      "metadata": {},
      "source": [
        "## 使用 Vertex AI 創造詞嵌入\n",
        "\n",
        "### 資料準備\n",
        "\n",
        "我們將使用寄存於 BigQuery 表格 `bigquery-public-data.stackoverflow.posts_questions` 上的 [Stack Overflow 公開資料集](https://console.cloud.google.com/marketplace/product/stack-exchange/stack-overflow)。\n",
        "\n",
        "這個資料集非常龐大，擁有 2,300 萬列，無法容納於記憶體中。我們將在這個教學中將其限制為 500 列。\n",
        "\n",
        "- 從 BigQuery 擷取資料\n",
        "- 聯接標題和內文，並從文字中創造詞嵌入。\n"
      ]
    },
    {
      "cell_type": "code",
      "execution_count": null,
      "metadata": {},
      "outputs": [],
      "source": [
        "bq_client = bigquery.Client(project=PROJECT_ID)\n",
        "query = f\"\"\"\n",
        "SELECT\n",
        "  DISTINCT \n",
        "  q.id,\n",
        "  q.title,\n",
        "  q.body,\n",
        "  q.answer_count,\n",
        "  q.comment_count,\n",
        "  q.creation_date,\n",
        "  q.last_activity_date,\n",
        "  q.score,\n",
        "  q.tags,\n",
        "  q.view_count\n",
        "FROM\n",
        "  `bigquery-public-data.stackoverflow.posts_questions` AS q\n",
        "WHERE\n",
        "  q.score > 0\n",
        "ORDER BY\n",
        "  q.view_count DESC\n",
        "LIMIT\n",
        "  500;\n",
        "\"\"\"\n",
        "\n",
        "# Load the BQ Table into a Pandas Dataframe\n",
        "df = bq_client.query(query).result().to_dataframe()\n",
        "\n",
        "# Convert ID to String\n",
        "df[\"id\"] = df[\"id\"].apply(str)\n",
        "\n",
        "# examine the data\n",
        "df.head()"
      ]
    },
    {
      "cell_type": "markdown",
      "metadata": {},
      "source": [
        "### 呼叫 API 生成內嵌內容\n",
        "\n",
        "搭配 Stack Overflow 資料集，我們將使用「主旨」和「內文」欄位 (問題主旨和說明)，並使用文字內嵌 API 為其內嵌。此 API 在 SDK 的 [`vertexai`](https://cloud.google.com/python/docs/reference/aiplatform/latest/vertexai) 封裝中。\n",
        "\n",
        "從封裝匯入 [`TextEmbeddingModel`](https://cloud.google.com/python/docs/reference/aiplatform/latest/vertexai.language_models.TextEmbeddingModel)，並取得一個模型。\n",
        "\n",
        "如需更進一步的資訊，請參考：\n",
        "\n",
        "- [Vertex AI：取得文字內嵌內容](https://cloud.google.com/vertex-ai/docs/generative-ai/embeddings/get-text-embeddings)\n",
        "- [Vertex AI：模型版本和生命週期](https://cloud.google.com/vertex-ai/docs/generative-ai/learn/model-versioning)\n"
      ]
    },
    {
      "cell_type": "code",
      "execution_count": null,
      "metadata": {},
      "outputs": [],
      "source": [
        "# Load the text embeddings model\n",
        "model = TextEmbeddingModel.from_pretrained(\"textembedding-gecko@003\")"
      ]
    },
    {
      "cell_type": "code",
      "execution_count": null,
      "metadata": {},
      "outputs": [],
      "source": [
        "# Get embeddings for a list of texts\n",
        "def get_embeddings_wrapper(texts, batch_size: int = 5) -> List:\n",
        "    embs = []\n",
        "    for i in tqdm(range(0, len(texts), batch_size)):\n",
        "        # Create embeddings optimized for document retrieval\n",
        "        # (supported in textembedding-gecko@002 and later)\n",
        "        result = model.get_embeddings(\n",
        "            [\n",
        "                TextEmbeddingInput(text=text, task_type=\"RETRIEVAL_DOCUMENT\")\n",
        "                for text in texts[i : i + batch_size]\n",
        "            ]\n",
        "        )\n",
        "        embs.extend([e.values for e in result])\n",
        "    return embs"
      ]
    },
    {
      "cell_type": "markdown",
      "metadata": {},
      "source": [
        "取得問答標題/內文的嵌入表示，並將它們添加為 `\"embedding\"` 欄位。\n"
      ]
    },
    {
      "cell_type": "code",
      "execution_count": null,
      "metadata": {},
      "outputs": [],
      "source": [
        "df[\"title_body\"] = df[\"title\"] + \"\\n\" + df[\"body\"]\n",
        "\n",
        "df = df.assign(embedding=get_embeddings_wrapper(df.title_body))\n",
        "df.head()"
      ]
    },
    {
      "cell_type": "markdown",
      "metadata": {
        "id": "TKBmi2BMk_OU"
      },
      "source": [
        "## 從問題頁面擷取 HTML\n",
        "\n",
        "- 取得 StackOverflow 問題頁面的 HTML\n",
        "   - 將其上傳至 GCS，做為文件儲存/用於顯示的搜尋結果\n"
      ]
    },
    {
      "cell_type": "code",
      "execution_count": null,
      "metadata": {
        "id": "tXHmC10IitET"
      },
      "outputs": [],
      "source": [
        "JSONL_MIME_TYPE = \"application/jsonl\"\n",
        "HTML_MIME_TYPE = \"text/html\"\n",
        "\n",
        "BUCKET_NAME = \"ucs-demo\"\n",
        "DIRECTORY = \"embeddings-stackoverflow\"\n",
        "BLOB_PREFIX = f\"{DIRECTORY}/html/\"\n",
        "\n",
        "GCS_URI_PREFIX = f\"gs://{BUCKET_NAME}/{BLOB_PREFIX}\"\n",
        "\n",
        "storage_client = storage.Client()\n",
        "bucket = storage_client.bucket(BUCKET_NAME)\n",
        "\n",
        "\n",
        "def scrape_question(question_url: str) -> str:\n",
        "    response = requests.get(question_url)\n",
        "\n",
        "    if response.status_code != 200 or not response.content:\n",
        "        print(f\"URL: {question_url} Code: {response.status_code}\")\n",
        "        return None\n",
        "\n",
        "    print(f\"Scraping {question_url}\")\n",
        "\n",
        "    link_title = response.url.split(\"/\")[-1] + \".html\"\n",
        "    gcs_uri = f\"{GCS_URI_PREFIX}{link_title}\"\n",
        "\n",
        "    # Upload HTML to Google Cloud Storage\n",
        "    blob = bucket.blob(f\"{BLOB_PREFIX}{link_title}\")\n",
        "    blob.upload_from_string(response.content, content_type=HTML_MIME_TYPE)\n",
        "    time.sleep(1)\n",
        "    return gcs_uri"
      ]
    },
    {
      "cell_type": "code",
      "execution_count": null,
      "metadata": {},
      "outputs": [],
      "source": [
        "# Get the published URL from the ID\n",
        "QUESTION_BASE_URL = \"https://stackoverflow.com/questions/\"\n",
        "df[\"question_url\"] = df[\"id\"].apply(lambda x: f\"{QUESTION_BASE_URL}{x}\")\n",
        "\n",
        "# Scrape HTML from stackoverflow.com and upload to GCS\n",
        "df[\"gcs_uri\"] = df[\"question_url\"].apply(scrape_question)"
      ]
    },
    {
      "cell_type": "markdown",
      "metadata": {},
      "source": [
        "將內嵌資料重組成 JSONL，以遵循 [Vertex AI Search 格式 (非結構化且帶有元資料)](https://cloud.google.com/generative-ai-app-builder/docs/prepare-data)。此格式為使用自訂內嵌所必需的。\n"
      ]
    },
    {
      "cell_type": "code",
      "execution_count": null,
      "metadata": {},
      "outputs": [],
      "source": [
        "EMBEDDINGS_FIELD_NAME = \"embedding_vector\"\n",
        "\n",
        "\n",
        "def format_row(row):\n",
        "    return {\n",
        "        \"id\": row[\"id\"],\n",
        "        \"content\": {\"mimeType\": HTML_MIME_TYPE, \"uri\": row[\"gcs_uri\"]},\n",
        "        \"structData\": {\n",
        "            EMBEDDINGS_FIELD_NAME: row[\"embedding\"],\n",
        "            \"title\": row[\"title\"],\n",
        "            \"body\": row[\"body\"],\n",
        "            \"question_url\": row[\"question_url\"],\n",
        "            \"answer_count\": row[\"answer_count\"],\n",
        "            \"creation_date\": row[\"creation_date\"],\n",
        "            \"score\": row[\"score\"],\n",
        "        },\n",
        "    }\n",
        "\n",
        "\n",
        "vais_embeddings = (\n",
        "    df.apply(format_row, axis=1)\n",
        "    .to_json(orient=\"records\", lines=True, force_ascii=False)\n",
        "    .replace(\"\\/\", \"/\")  # To prevent escaping the / characters\n",
        ")"
      ]
    },
    {
      "cell_type": "markdown",
      "metadata": {},
      "source": [
        "上傳 JSONL 檔案至 Google Cloud Storage\n"
      ]
    },
    {
      "cell_type": "code",
      "execution_count": null,
      "metadata": {},
      "outputs": [],
      "source": [
        "jsonl_filename = f\"{DIRECTORY}/vais_embeddings.jsonl\"\n",
        "embeddings_file = f\"gs://{BUCKET_NAME}/{jsonl_filename}\"\n",
        "\n",
        "blob = bucket.blob(jsonl_filename)\n",
        "blob.upload_from_string(vais_embeddings, content_type=JSONL_MIME_TYPE)"
      ]
    },
    {
      "cell_type": "markdown",
      "metadata": {},
      "source": [
        "## 設定 Vertex AI Search & Conversation\n"
      ]
    },
    {
      "cell_type": "code",
      "execution_count": null,
      "metadata": {},
      "outputs": [],
      "source": [
        "DATA_STORE_LOCATION = \"global\"\n",
        "\n",
        "client_options = (\n",
        "    ClientOptions(api_endpoint=f\"{DATA_STORE_LOCATION}-discoveryengine.googleapis.com\")\n",
        "    if DATA_STORE_LOCATION != \"global\"\n",
        "    else None\n",
        ")"
      ]
    },
    {
      "cell_type": "code",
      "execution_count": null,
      "metadata": {},
      "outputs": [],
      "source": [
        "def create_data_store(\n",
        "    project_id: str, location: str, data_store_name: str, data_store_id: str\n",
        "):\n",
        "    # Create a client\n",
        "    client = discoveryengine.DataStoreServiceClient(client_options=client_options)\n",
        "\n",
        "    # Initialize request argument(s)\n",
        "    data_store = discoveryengine.DataStore(\n",
        "        display_name=data_store_name,\n",
        "        industry_vertical=\"GENERIC\",\n",
        "        content_config=\"CONTENT_REQUIRED\",\n",
        "        solution_types=[\"SOLUTION_TYPE_SEARCH\"],\n",
        "    )\n",
        "\n",
        "    request = discoveryengine.CreateDataStoreRequest(\n",
        "        parent=discoveryengine.DataStoreServiceClient.collection_path(\n",
        "            project_id, location, \"default_collection\"\n",
        "        ),\n",
        "        data_store=data_store,\n",
        "        data_store_id=data_store_id,\n",
        "    )\n",
        "    operation = client.create_data_store(request=request)\n",
        "\n",
        "    try:\n",
        "        operation.result()\n",
        "    except GoogleAPICallError:\n",
        "        pass\n",
        "\n",
        "\n",
        "def update_schema(\n",
        "    project_id: str,\n",
        "    location: str,\n",
        "    data_store_id: str,\n",
        "):\n",
        "    client = discoveryengine.SchemaServiceClient(client_options=client_options)\n",
        "\n",
        "    schema = discoveryengine.Schema(\n",
        "        name=client.schema_path(project_id, location, data_store_id, \"default_schema\"),\n",
        "        struct_schema={\n",
        "            \"$schema\": \"https://json-schema.org/draft/2020-12/schema\",\n",
        "            \"type\": \"object\",\n",
        "            \"properties\": {\n",
        "                EMBEDDINGS_FIELD_NAME: {\n",
        "                    \"type\": \"array\",\n",
        "                    \"keyPropertyMapping\": \"embedding_vector\",\n",
        "                    \"dimension\": 768,\n",
        "                    \"items\": {\"type\": \"number\"},\n",
        "                }\n",
        "            },\n",
        "        },\n",
        "    )\n",
        "\n",
        "    operation = client.update_schema(\n",
        "        request=discoveryengine.UpdateSchemaRequest(schema=schema)\n",
        "    )\n",
        "\n",
        "    print(\"Waiting for operation to complete...\")\n",
        "\n",
        "    response = operation.result()\n",
        "\n",
        "    # Handle the response\n",
        "    print(response)\n",
        "\n",
        "\n",
        "def import_documents(\n",
        "    project_id: str,\n",
        "    location: str,\n",
        "    data_store_id: str,\n",
        "    gcs_uri: str,\n",
        "):\n",
        "    client = discoveryengine.DocumentServiceClient(client_options=client_options)\n",
        "\n",
        "    # The full resource name of the search engine branch.\n",
        "    # e.g. projects/{project}/locations/{location}/dataStores/{data_store_id}/branches/{branch}\n",
        "    parent = client.branch_path(\n",
        "        project=project_id,\n",
        "        location=location,\n",
        "        data_store=data_store_id,\n",
        "        branch=\"default_branch\",\n",
        "    )\n",
        "\n",
        "    request = discoveryengine.ImportDocumentsRequest(\n",
        "        parent=parent,\n",
        "        gcs_source=discoveryengine.GcsSource(input_uris=[gcs_uri]),\n",
        "        # Options: `FULL`, `INCREMENTAL`\n",
        "        reconciliation_mode=discoveryengine.ImportDocumentsRequest.ReconciliationMode.FULL,\n",
        "    )\n",
        "\n",
        "    # Make the request\n",
        "    operation = client.import_documents(request=request)\n",
        "\n",
        "\n",
        "def create_engine(\n",
        "    project_id: str, location: str, data_store_name: str, data_store_id: str\n",
        "):\n",
        "    client = discoveryengine.EngineServiceClient(client_options=client_options)\n",
        "\n",
        "    # Initialize request argument(s)\n",
        "    config = discoveryengine.Engine.SearchEngineConfig(\n",
        "        search_tier=\"SEARCH_TIER_ENTERPRISE\", search_add_ons=[\"SEARCH_ADD_ON_LLM\"]\n",
        "    )\n",
        "\n",
        "    engine = discoveryengine.Engine(\n",
        "        display_name=data_store_name,\n",
        "        solution_type=\"SOLUTION_TYPE_SEARCH\",\n",
        "        industry_vertical=\"GENERIC\",\n",
        "        data_store_ids=[data_store_id],\n",
        "        search_engine_config=config,\n",
        "    )\n",
        "\n",
        "    request = discoveryengine.CreateEngineRequest(\n",
        "        parent=discoveryengine.DataStoreServiceClient.collection_path(\n",
        "            project_id, location, \"default_collection\"\n",
        "        ),\n",
        "        engine=engine,\n",
        "        engine_id=engine.display_name,\n",
        "    )\n",
        "\n",
        "    # Make the request\n",
        "    operation = client.create_engine(request=request)\n",
        "    response = operation.result(timeout=90)"
      ]
    },
    {
      "cell_type": "code",
      "execution_count": null,
      "metadata": {},
      "outputs": [],
      "source": [
        "DATA_STORE_NAME = \"stackoverflow-embeddings\"\n",
        "DATA_STORE_ID = f\"{DATA_STORE_NAME}-id\""
      ]
    },
    {
      "cell_type": "code",
      "execution_count": null,
      "metadata": {},
      "outputs": [],
      "source": [
        "# Create a Data Store\n",
        "create_data_store(PROJECT_ID, DATA_STORE_LOCATION, DATA_STORE_NAME, DATA_STORE_ID)\n",
        "\n",
        "# Update the Data Store Schema for embeddings\n",
        "update_schema(PROJECT_ID, DATA_STORE_LOCATION, DATA_STORE_ID)\n",
        "\n",
        "# Import the embeddings JSONL file\n",
        "import_documents(PROJECT_ID, DATA_STORE_LOCATION, DATA_STORE_ID, embeddings_file)\n",
        "\n",
        "# Create a Search App and attach the Data Store\n",
        "create_engine(PROJECT_ID, DATA_STORE_LOCATION, DATA_STORE_NAME, DATA_STORE_ID)"
      ]
    },
    {
      "cell_type": "markdown",
      "metadata": {},
      "source": [
        "接著，我們需要設定資料儲存空間的嵌入規格。 我們將對所有搜尋要求設定相同的規格。\n",
        "\n",
        "`0.5 * relevance_score`\n",
        "\n",
        "- 這在客戶端函式庫中不受支援，因此我們將使用 `requests` 模組進行 REST 要求\n",
        "- 文件：https://cloud.google.com/generative-ai-app-builder/docs/bring-embeddings#global\n"
      ]
    },
    {
      "cell_type": "code",
      "execution_count": null,
      "metadata": {},
      "outputs": [],
      "source": [
        "access_token = (\n",
        "    subprocess.check_output([\"gcloud\", \"auth\", \"print-access-token\"])\n",
        "    .decode(\"utf-8\")\n",
        "    .strip()\n",
        ")\n",
        "\n",
        "response = requests.patch(\n",
        "    url=f\"https://discoveryengine.googleapis.com/v1alpha/projects/{PROJECT_ID}/locations/{DATA_STORE_LOCATION}/collections/default_collection/dataStores/{DATA_STORE_ID}/servingConfigs/default_search?updateMask=embeddingConfig,rankingExpression\",\n",
        "    headers={\n",
        "        \"Authorization\": f\"Bearer {access_token}\",\n",
        "        \"Content-Type\": \"application/json; charset=utf-8\",\n",
        "        \"X-Goog-User-Project\": PROJECT_ID,\n",
        "    },\n",
        "    json={\n",
        "        \"name\": f\"projects/{PROJECT_ID}/locations/{DATA_STORE_LOCATION}/collections/default_collection/dataStores/{DATA_STORE_ID}/servingConfigs/default_search\",\n",
        "        \"embeddingConfig\": {\"fieldPath\": EMBEDDINGS_FIELD_NAME},\n",
        "        \"ranking_expression\": \"0.5 * relevance_score\",\n",
        "    },\n",
        ")\n",
        "\n",
        "print(response.text)"
      ]
    },
    {
      "cell_type": "markdown",
      "metadata": {},
      "source": [
        "## 測試搜尋應用程式\n",
        "\n",
        "進行範例查詢以檢查結果外觀。\n"
      ]
    },
    {
      "cell_type": "code",
      "execution_count": null,
      "metadata": {},
      "outputs": [],
      "source": [
        "def search_data_store(\n",
        "    project_id: str,\n",
        "    location: str,\n",
        "    data_store_id: str,\n",
        "    search_query: str,\n",
        ") -> List[discoveryengine.SearchResponse]:\n",
        "    # Create a client\n",
        "    client = discoveryengine.SearchServiceClient(client_options=client_options)\n",
        "\n",
        "    # The full resource name of the search engine serving config\n",
        "    # e.g. projects/{project_id}/locations/{location}/dataStores/{data_store_id}/servingConfigs/{serving_config_id}\n",
        "    serving_config = client.serving_config_path(\n",
        "        project=project_id,\n",
        "        location=location,\n",
        "        data_store=data_store_id,\n",
        "        serving_config=\"default_config\",\n",
        "    )\n",
        "\n",
        "    # Optional: Configuration options for search\n",
        "    # Refer to the `ContentSearchSpec` reference for all supported fields:\n",
        "    # https://cloud.google.com/python/docs/reference/discoveryengine/latest/google.cloud.discoveryengine_v1.types.SearchRequest.ContentSearchSpec\n",
        "    content_search_spec = discoveryengine.SearchRequest.ContentSearchSpec(\n",
        "        # For information about snippets, refer to:\n",
        "        # https://cloud.google.com/generative-ai-app-builder/docs/snippets\n",
        "        snippet_spec=discoveryengine.SearchRequest.ContentSearchSpec.SnippetSpec(\n",
        "            return_snippet=True\n",
        "        ),\n",
        "        # For information about search summaries, refer to:\n",
        "        # https://cloud.google.com/generative-ai-app-builder/docs/get-search-summaries\n",
        "        summary_spec=discoveryengine.SearchRequest.ContentSearchSpec.SummarySpec(\n",
        "            summary_result_count=5,\n",
        "            include_citations=True,\n",
        "            ignore_adversarial_query=True,\n",
        "            ignore_non_summary_seeking_query=True,\n",
        "        ),\n",
        "    )\n",
        "\n",
        "    # Refer to the `SearchRequest` reference for all supported fields:\n",
        "    # https://cloud.google.com/python/docs/reference/discoveryengine/latest/google.cloud.discoveryengine_v1.types.SearchRequest\n",
        "    request = discoveryengine.SearchRequest(\n",
        "        serving_config=serving_config,\n",
        "        query=search_query,\n",
        "        page_size=10,\n",
        "        content_search_spec=content_search_spec,\n",
        "        query_expansion_spec=discoveryengine.SearchRequest.QueryExpansionSpec(\n",
        "            condition=discoveryengine.SearchRequest.QueryExpansionSpec.Condition.AUTO,\n",
        "        ),\n",
        "        spell_correction_spec=discoveryengine.SearchRequest.SpellCorrectionSpec(\n",
        "            mode=discoveryengine.SearchRequest.SpellCorrectionSpec.Mode.AUTO\n",
        "        ),\n",
        "    )\n",
        "\n",
        "    response = client.search(request)\n",
        "    return response"
      ]
    },
    {
      "cell_type": "code",
      "execution_count": null,
      "metadata": {},
      "outputs": [],
      "source": [
        "search_query = \"How do I create an array in Java?\"\n",
        "\n",
        "response = search_data_store(\n",
        "    PROJECT_ID, DATA_STORE_LOCATION, DATA_STORE_ID, search_query\n",
        ")\n",
        "\n",
        "print(f\"Summary: {response.summary.summary_text}\")"
      ]
    },
    {
      "cell_type": "markdown",
      "metadata": {},
      "source": [
        "## 部署搜尋引擎\n",
        "\n",
        "此搜尋引擎現可使用預先建置的 [搜尋小工具](https://cloud.google.com/generative-ai-app-builder/docs/add-widget) 部署至網頁。\n",
        "\n",
        "如要取得 Stack Overflow 自訂嵌入式搜尋引擎的已部署範例，請前往 [vertex-ai-search.web.app](https://vertex-ai-search.web.app/)。\n"
      ]
    }
  ],
  "metadata": {
    "colab": {
      "provenance": []
    },
    "kernelspec": {
      "display_name": "Python 3",
      "name": "python3"
    },
    "language_info": {
      "codemirror_mode": {
        "name": "ipython",
        "version": 3
      },
      "file_extension": ".py",
      "mimetype": "text/x-python",
      "name": "python",
      "nbconvert_exporter": "python",
      "pygments_lexer": "ipython3",
      "version": "3.11.6"
    }
  },
  "nbformat": 4,
  "nbformat_minor": 0
}