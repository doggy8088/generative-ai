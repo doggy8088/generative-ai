{
  "cells": [
    {
      "cell_type": "code",
      "execution_count": null,
      "id": "ed4aa0ff-dce1-42c3-bb68-31de7752841c",
      "metadata": {},
      "outputs": [],
      "source": [
        "# Copyright 2024 Google LLC\n",
        "#\n",
        "# Licensed under the Apache License, Version 2.0 (the \"License\");\n",
        "# you may not use this file except in compliance with the License.\n",
        "# You may obtain a copy of the License at\n",
        "#\n",
        "#     https://www.apache.org/licenses/LICENSE-2.0\n",
        "#\n",
        "# Unless required by applicable law or agreed to in writing, software\n",
        "# distributed under the License is distributed on an \"AS IS\" BASIS,\n",
        "# WITHOUT WARRANTIES OR CONDITIONS OF ANY KIND, either express or implied.\n",
        "# See the License for the specific language governing permissions and\n",
        "# limitations under the License."
      ]
    },
    {
      "cell_type": "markdown",
      "id": "df13176e-8d3d-4d6f-a265-91a0fb44695c",
      "metadata": {
        "tags": []
      },
      "source": [
        "# 開始使用 Vertex AI Gemini API & Python SDK\n",
        "\n",
        "<table align=\"left\">\n",
        "  <td style=\"text-align: center\">\n",
        "    <a href=\"https://colab.research.google.com/github/doggy8088/generative-ai/blob/main/search/search_data_blending_with_gemini_summarization.zh.ipynb\">\n",
        "      <img src=\"https://cloud.google.com/ml-engine/images/colab-logo-32px.png\" alt=\"Google Colaboratory 標誌\"><br> 在 Colab 中執行\n",
        "    </a>\n",
        "  </td>\n",
        "  <td style=\"text-align: center\">\n",
        "    <a href=\"https://console.cloud.google.com/vertex-ai/colab/import/https:%2F%2Fraw.githubusercontent.com%2Fdoggy8088%2Fgenerative-ai%2Fmain%2Fsearch%2Fsearch_data_blending_with_gemini_summarization.zh.ipynb\">\n",
        "      <img width=\"32px\" src=\"https://lh3.googleusercontent.com/JmcxdQi-qOpctIvWKgPtrzZdJJK-J3sWE1RsfjZNwshCFgE_9fULcNpuXYTilIR2hjwN\" alt=\"Google Cloud Colab Enterprise 標誌\"><br> 在 Colab Enterprise 中執行\n",
        "    </a>\n",
        "  </td>    \n",
        "  <td style=\"text-align: center\">\n",
        "    <a href=\"https://github.com/doggy8088/generative-ai/blob/main/search/search_data_blending_with_gemini_summarization.zh.ipynb\">\n",
        "      <img src=\"https://cloud.google.com/ml-engine/images/github-logo-32px.png\" alt=\"GitHub 標誌\"><br> 在 GitHub 上檢視\n",
        "    </a>\n",
        "  </td>\n",
        "  <td style=\"text-align: center\">\n",
        "    <a href=\"https://console.cloud.google.com/vertex-ai/workbench/deploy-notebook?download_url=https://raw.githubusercontent.com/doggy8088/generative-ai/blob/main/search/search_data_blending_with_gemini_summarization.zh.ipynb\">\n",
        "      <img src=\"https://lh3.googleusercontent.com/UiNooY4LUgW_oTvpsNhPpQzsstV5W8F7rYgxgGBD85cWJoLmrOzhVs_ksK_vgx40SHs7jCqkTkCk=e14-rj-sc0xffffff-h130-w32\" alt=\"Vertex AI 標誌\"><br> 在 Vertex AI Workbench 中開啟\n",
        "    </a>\n",
        "  </td>\n",
        "</table>\n"
      ]
    },
    {
      "cell_type": "markdown",
      "id": "fe9bac0e-d4d3-4c07-ba82-80d93281a115",
      "metadata": {},
      "source": [
        "| | |\n",
        "|-|-|\n",
        "|作者 | [Shantam Gupta](https://github.com/ShantamGupta)\n"
      ]
    },
    {
      "cell_type": "markdown",
      "id": "c03164e3-b49e-4b6f-bada-ee3c4a9ef8cb",
      "metadata": {
        "tags": []
      },
      "source": [
        "## 概觀\n",
        "\n",
        "### 搜尋\n",
        "\n",
        "Vertex AI Search 結合深度資訊檢索、最先進的自然語言處理和大型語言處理的最新技術，以了解使用者意圖並為使用者傳回最相關的結果。\n",
        "\n",
        "使用 Vertex AI Search，你可以建立用於搜尋和提供建議的應用程式。Vertex AI Search 對於某些產業，例如媒體、醫療保健和零售，也具備了特殊功能。\n",
        "\n",
        "\n",
        "\n",
        "### Gemini\n",
        "\n",
        "Gemini 是由 Google DeepMind 開發的生成式 AI 模型家族，專為多模態使用案例而設計。Gemini API 讓你能夠存取 Gemini Pro 和 Gemini Pro Vision 模型。\n",
        "\n",
        "### Vertex AI Gemini API\n",
        "\n",
        "Vertex AI Gemini API 提供統一介面，供與 Gemini 模型互動。Gemini API 中提供了兩個 Gemini 1.0 Pro 模型：\n",
        "\n",
        "- **Gemini 1.0 Pro 模型** (`gemini-1.0-pro`)：旨在處理自然語言任務、多輪次文字和程式碼聊天及程式碼產生。\n",
        ".\n",
        "\n",
        "你可以使用下列方法與 Gemini API 互動：\n",
        "\n",
        "- 使用 [Vertex AI Studio](https://cloud.google.com/generative-ai-studio) 進行快速測試和指令產生\n",
        "- 使用 cURL 指令\n",
        "- 使用 Vertex AI SDK\n",
        "\n",
        "有關更多資訊，請參閱 [Vertex AI 上的生成式 AI](https://cloud.google.com/vertex-ai/docs/generative-ai/learn/overview) 文件。\n",
        "\n",
        "本教學說明如何使用混合資料儲存空間呼叫搜尋應用程式、取得搜尋摘要並使用 Gemini Pro 摘要回應。\n"
      ]
    },
    {
      "cell_type": "markdown",
      "id": "4f2112dc-6f63-414e-bf79-eb262752a248",
      "metadata": {},
      "source": [
        "### 使用混合資料庫建立搜尋應用程式\n"
      ]
    },
    {
      "cell_type": "markdown",
      "id": "c9251ab7-4a41-4a7e-b675-3822308c50f8",
      "metadata": {},
      "source": [
        "1. 請依照下列步驟建立搜尋 App\n",
        "   - https://cloud.google.com/generative-ai-app-builder/docs/create-engine-es\n",
        "2. 建立相關資料儲存區 (GCS、BQ、網站) \n",
        "   - https://cloud.google.com/generative-ai-app-builder/docs/create-data-store-es\n",
        "3. 將資料儲存區連結到搜尋 App\n",
        "   - https://cloud.google.com/generative-ai-app-builder/docs/create-data-store-es#multi-data-stores\n"
      ]
    },
    {
      "cell_type": "markdown",
      "id": "3ab58f9f-ceba-4eea-8ac0-5fbd36eac78d",
      "metadata": {},
      "source": [
        "### 安裝相關套件\n"
      ]
    },
    {
      "cell_type": "code",
      "execution_count": null,
      "id": "739fb52f-7ca7-4fdc-993b-c8b88fdec713",
      "metadata": {
        "tags": []
      },
      "outputs": [],
      "source": [
        "%pip install --upgrade --user -q google-cloud-aiplatform google-cloud-discoveryengine"
      ]
    },
    {
      "cell_type": "markdown",
      "id": "514726d9-6ca2-4270-bd0a-417ba5fba471",
      "metadata": {},
      "source": [
        "### 重新啟動目前的執行階段\n",
        "\n",
        "要在此 Jupyter 執行階段中使用新安裝的套件，你必須重新啟動執行階段。你可以執行下列Cell來執行此項操作，如此將重新啟動目前的Kernel。\n"
      ]
    },
    {
      "cell_type": "code",
      "execution_count": null,
      "id": "b382f165-1003-4eb2-94ef-23a646d22f4c",
      "metadata": {},
      "outputs": [],
      "source": [
        "# Restart kernel after installs so that your environment can access the new packages\n",
        "import IPython\n",
        "\n",
        "app = IPython.Application.instance()\n",
        "app.kernel.do_shutdown(True)"
      ]
    },
    {
      "cell_type": "markdown",
      "id": "de665d59-bada-491f-9264-cf12cac2146e",
      "metadata": {},
      "source": [
        "### 驗證你的筆記本環境 (僅限 Colab) \n",
        "\n",
        "如果你在 Google Colab 上執行此筆記本，請執行下列單元格來驗證你的環境。如果你使用 [Vertex AI Workbench](https://cloud.google.com/vertex-ai-workbench)，則不需要這個步驟。\n"
      ]
    },
    {
      "cell_type": "code",
      "execution_count": null,
      "id": "ccfd1c99-2440-41d3-b087-a30c321d71ee",
      "metadata": {},
      "outputs": [],
      "source": [
        "import sys\n",
        "\n",
        "# Additional authentication is required for Google Colab\n",
        "if \"google.colab\" in sys.modules:\n",
        "    # Authenticate user to Google Cloud\n",
        "    from google.colab import auth\n",
        "\n",
        "    auth.authenticate_user()"
      ]
    },
    {
      "cell_type": "markdown",
      "id": "17c7b4fb-fdfc-4900-8de3-2943f51bf007",
      "metadata": {},
      "source": [
        "### 定義 Google Cloud 專案資訊\n"
      ]
    },
    {
      "cell_type": "code",
      "execution_count": null,
      "id": "379ae518-563b-4bf0-a1fc-b2b121414cec",
      "metadata": {},
      "outputs": [],
      "source": [
        "PROJECT_ID = \"PROJECT_ID\"  # @param {type:\"string\"}\n",
        "SEARCH_APP_LOCATION = \"global\"  # @param {type:\"string\"}\n",
        "SEARCH_ENGINE_ID = \"VERTEX_SEARCH_ENGINE_ID\"  # @param {type:\"string\"}\n",
        "LOCATION_GEMINI_MODEL = \"NORTHAMERICA-NORTHEAST1\"  # @param {type:\"string\"}"
      ]
    },
    {
      "cell_type": "markdown",
      "id": "544cd6ec",
      "metadata": {},
      "source": [
        "### 初始化 Vertex AI SDK\n"
      ]
    },
    {
      "cell_type": "code",
      "execution_count": null,
      "id": "0df206a8",
      "metadata": {},
      "outputs": [],
      "source": [
        "import vertexai\n",
        "\n",
        "vertexai.init(project=PROJECT_ID, location=LOCATION_GEMINI_MODEL)"
      ]
    },
    {
      "cell_type": "markdown",
      "id": "de73be91-7a1c-4df5-bf08-3a447b158a57",
      "metadata": {
        "tags": []
      },
      "source": [
        "### 引入相關套件\n"
      ]
    },
    {
      "cell_type": "code",
      "execution_count": null,
      "id": "052f7cf3-f34f-402c-a08b-978130e18cf8",
      "metadata": {
        "tags": []
      },
      "outputs": [],
      "source": [
        "from vertexai.generative_models import (\n",
        "    GenerativeModel,\n",
        "    GenerationConfig,\n",
        "    HarmCategory,\n",
        "    HarmBlockThreshold,\n",
        ")\n",
        "import requests\n",
        "import subprocess\n",
        "import re"
      ]
    },
    {
      "cell_type": "markdown",
      "id": "d96ed5da-e479-4270-8169-ba534a2a2550",
      "metadata": {},
      "source": [
        "### 使用資料混合 (混合 Datastore) 向 Vertex AI Search App 發送要求\n",
        "\n",
        "- https://cloud.google.com/generative-ai-app-builder/docs/create-data-store-es#multi-data-stores\n"
      ]
    },
    {
      "cell_type": "code",
      "execution_count": null,
      "id": "a12ac92a-ac23-4f36-b2c8-8e5fbd40b6ed",
      "metadata": {
        "tags": []
      },
      "outputs": [],
      "source": [
        "# Obtain the access token\n",
        "access_token = (\n",
        "    subprocess.check_output([\"gcloud\", \"auth\", \"print-access-token\"])\n",
        "    .decode(\"utf-8\")\n",
        "    .strip()\n",
        ")\n",
        "\n",
        "# Construct the API endpoint URL\n",
        "url = (\n",
        "    \"https://discoveryengine.googleapis.com/v1beta/projects/\"\n",
        "    + PROJECT_ID\n",
        "    + \"/locations/\"\n",
        "    + SEARCH_APP_LOCATION\n",
        "    + \"/collections/default_collection/engines/\"\n",
        "    + SEARCH_ENGINE_ID\n",
        "    + \"/servingConfigs/default_search:search\"\n",
        ")\n",
        "\n",
        "# Headers for the request\n",
        "headers = {\n",
        "    \"Authorization\": f\"Bearer {access_token}\",\n",
        "    \"Content-Type\": \"application/json\",\n",
        "}\n",
        "\n",
        "# Data payload for the POST request\n",
        "data = {\n",
        "    \"servingConfig\": \"projects/\"\n",
        "    + PROJECT_ID\n",
        "    + \"/locations/\"\n",
        "    + SEARCH_APP_LOCATION\n",
        "    + \"/collections/default_collection/engines/\"\n",
        "    + SEARCH_ENGINE_ID\n",
        "    + \"/servingConfigs/default_search\",\n",
        "    \"query\": \"How many 10-ks are there in the datastore \",  # <- insert your search prompt/query\n",
        "    \"pageSize\": \"10\",\n",
        "}\n",
        "\n",
        "# Send the POST request\n",
        "response = requests.post(url, headers=headers, json=data)\n",
        "\n",
        "# Check for successful response\n",
        "if response.status_code != 200:\n",
        "    print(f\"Request failed with status code: {response.status_code}\")\n",
        "    exit()\n",
        "\n",
        "output = response.text\n",
        "print(output)\n",
        "\n",
        "# Store response is in a variable called 'response_data'\n",
        "response_data = response.json()"
      ]
    },
    {
      "cell_type": "markdown",
      "id": "a4a5be18",
      "metadata": {},
      "source": [
        "### 從搜尋結果擷取程式碼片段\n"
      ]
    },
    {
      "cell_type": "code",
      "execution_count": null,
      "id": "d8058308-f25d-497a-91dd-db0337cf390a",
      "metadata": {
        "tags": []
      },
      "outputs": [],
      "source": [
        "snippets_list = []\n",
        "\n",
        "for idx, result in enumerate(response_data[\"results\"]):\n",
        "    document = result[\"document\"]\n",
        "    if \"derivedStructData\" in document:\n",
        "        print(f\"\\n--- Snippets from Document {idx+1} ---\")\n",
        "        for snippet_item in document[\"derivedStructData\"].get(\"snippets\", []):\n",
        "            print(snippet_item[\"snippet\"])\n",
        "            snippets_list.append(snippet_item[\"snippet\"])\n",
        "\n",
        "# clean up snippets\n",
        "for item in snippets_list:\n",
        "    clean_text = re.sub(\"<[^>]*>\", \"\", item)\n",
        "    print(clean_text)\n",
        "    print(\"\\n\")"
      ]
    },
    {
      "cell_type": "markdown",
      "id": "a8fc8d60-be4a-4831-8330-4c0470f85c3c",
      "metadata": {},
      "source": [
        "### 將搜尋結果片段提供給 Gemini Pro 模型，並根據你的原始提示制定摘要/回應\n"
      ]
    },
    {
      "cell_type": "markdown",
      "id": "c414262d-ae7b-4c49-9dba-d56e2681e865",
      "metadata": {
        "tags": []
      },
      "source": [
        "#### 模型參數\n",
        "\n",
        "你對模型所使用的每一個提示，都包含用於控制模型如何產生回應之參數值。\n",
        "\n",
        "模型可以針對不同參數值產生不同的結果。\n",
        "\n",
        "你可以透過實驗不同的模型參數，觀察結果如何產生變化。\n"
      ]
    },
    {
      "cell_type": "code",
      "execution_count": null,
      "id": "0f197649-9204-4bf2-be8e-36c3ebcfce42",
      "metadata": {
        "tags": []
      },
      "outputs": [],
      "source": [
        "generation_config = GenerationConfig(\n",
        "    temperature=0.9,\n",
        "    top_p=1.0,\n",
        "    max_output_tokens=2048,\n",
        ")"
      ]
    },
    {
      "cell_type": "code",
      "execution_count": null,
      "id": "42950f35-7b64-4c7d-9ce3-3bbeb8224c9e",
      "metadata": {
        "tags": []
      },
      "outputs": [],
      "source": [
        "# Prompt for Gemini Pro model\n",
        "PROMPT_GEMINI = (\n",
        "    str(response_data)\n",
        "    + \" organize the json results based on the question :\"\n",
        "    + data[\"query\"]\n",
        ")\n",
        "\n",
        "model = GenerativeModel(\"gemini-1.0-pro\")  # specify the gemini model version\n",
        "\n",
        "\n",
        "def generate(PROMPT_GEMINI: str) -> str:\n",
        "    \"\"\"\n",
        "    Given the prompt\n",
        "    output the summarized response to user's orginal query\n",
        "    \"\"\"\n",
        "    responses = model.generate_content(\n",
        "        PROMPT_GEMINI,\n",
        "        generation_config=generation_config,\n",
        "        safety_settings={\n",
        "            HarmCategory.HARM_CATEGORY_HATE_SPEECH: HarmBlockThreshold.BLOCK_MEDIUM_AND_ABOVE,\n",
        "            HarmCategory.HARM_CATEGORY_DANGEROUS_CONTENT: HarmBlockThreshold.BLOCK_MEDIUM_AND_ABOVE,\n",
        "            HarmCategory.HARM_CATEGORY_SEXUALLY_EXPLICIT: HarmBlockThreshold.BLOCK_MEDIUM_AND_ABOVE,\n",
        "            HarmCategory.HARM_CATEGORY_HARASSMENT: HarmBlockThreshold.BLOCK_MEDIUM_AND_ABOVE,\n",
        "        },\n",
        "        stream=True,\n",
        "    )\n",
        "\n",
        "    for response in responses:\n",
        "        print(response.text, end=\"\")\n",
        "\n",
        "\n",
        "generate(PROMPT_GEMINI)"
      ]
    }
  ],
  "metadata": {
    "environment": {
      "kernel": "python3",
      "name": "tf2-gpu.2-15.m118",
      "type": "gcloud",
      "uri": "us-docker.pkg.dev/deeplearning-platform-release/gcr.io/tf2-gpu.2-15:m118"
    },
    "kernelspec": {
      "display_name": "Python 3",
      "language": "python",
      "name": "python3"
    },
    "language_info": {
      "codemirror_mode": {
        "name": "ipython",
        "version": 3
      },
      "file_extension": ".py",
      "mimetype": "text/x-python",
      "name": "python",
      "nbconvert_exporter": "python",
      "pygments_lexer": "ipython3",
      "version": "3.10.13"
    }
  },
  "nbformat": 4,
  "nbformat_minor": 5
}