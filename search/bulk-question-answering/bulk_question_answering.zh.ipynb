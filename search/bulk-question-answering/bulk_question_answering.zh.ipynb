{
  "cells": [
    {
      "cell_type": "markdown",
      "metadata": {
        "id": "359697d5"
      },
      "source": [
        "# 利用 Vertex AI Search 做大量問題解答\n",
        "\n",
        "使用 Vertex AI Search 資料庫從 CSV 回答問題。\n",
        "\n",
        "<table align=\"left\">\n",
        "\n",
        "  <td>\n",
        "    <a href=\"https://colab.research.google.com/github/doggy8088/generative-ai/blob/main/search/bulk-question-answering/bulk_question_answering.zh.ipynb\">\n",
        "      <img width=\"32px\" src=\"https://www.gstatic.com/pantheon/images/bigquery/welcome_page/colab-logo.svg\" alt=\"Google Colaboratory logo\"><br> 在 Google Colab 中執行\n",
        "    </a>\n",
        "  </td>\n",
        "  <td>\n",
        "    <a href=\"https://github.com/doggy8088/generative-ai/blob/main/search/bulk-question-answering/bulk_question_answering.zh.ipynb\">\n",
        "      <img width=\"32px\" src=\"https://upload.wikimedia.org/wikipedia/commons/9/91/Octicons-mark-github.svg\" alt=\"GitHub logo\"><br> 在 GitHub 上檢視\n",
        "    </a>\n",
        "  </td>\n",
        "  <td>\n",
        "    <a href=\"https://console.cloud.google.com/vertex-ai/workbench/deploy-notebook?download_url=https://raw.githubusercontent.com/doggy8088/generative-ai/blob/main/search/bulk-question-answering/bulk_question_answering.zh.ipynb\">\n",
        "      <img src=\"https://www.gstatic.com/images/branding/gcpiconscolors/vertexai/v1/32px.svg\" alt=\"Vertex AI logo\"><br> 在 Vertex AI Workbench 中開啟\n",
        "    </a>\n",
        "  </td>\n",
        "</table>\n"
      ]
    },
    {
      "cell_type": "markdown",
      "metadata": {},
      "source": [
        "| | |\n",
        "|-|-|\n",
        "|作者 | [Ruchika Kharwar](https://github.com/rasalt), [Holt Skinner](https://github.com/holtskinner) |\n"
      ]
    },
    {
      "cell_type": "markdown",
      "metadata": {
        "id": "pQbOO-Lc-2-7"
      },
      "source": [
        "## 安裝先備條件\n",
        "\n",
        "如果在 Colab 中執行，請將先備條件安裝到執行時期中。否則，假定該筆記本在 Vertex Workbench 中執行。在這種情況下，建議使用 `--user` 選項從終端機安裝先備條件。\n"
      ]
    },
    {
      "cell_type": "code",
      "execution_count": null,
      "metadata": {
        "id": "ohPUPez8imvE",
        "tags": []
      },
      "outputs": [],
      "source": [
        "%pip install google-cloud-discoveryengine google-auth pandas --upgrade --user -q"
      ]
    },
    {
      "cell_type": "markdown",
      "metadata": {
        "id": "R5Xep4W9lq-Z"
      },
      "source": [
        "### 重新啟動目前的執行階段\n",
        "\n",
        "要在此 Jupyter 執行階段中使用新安裝的套件，你必須重新啟動執行階段。你可以執行下列Cell來執行此項操作，如此將重新啟動目前的Kernel。\n"
      ]
    },
    {
      "cell_type": "code",
      "execution_count": null,
      "metadata": {
        "colab": {
          "base_uri": "https://localhost:8080/"
        },
        "id": "XRvKdaPDTznN",
        "outputId": "154a71b5-f302-4f53-ed2f-b3e5fef9195b"
      },
      "outputs": [],
      "source": [
        "# Restart kernel after installs so that your environment can access the new packages\n",
        "import IPython\n",
        "\n",
        "app = IPython.Application.instance()\n",
        "app.kernel.do_shutdown(True)"
      ]
    },
    {
      "cell_type": "markdown",
      "metadata": {
        "id": "SbmM4z7FOBpM"
      },
      "source": [
        "<div class=\"alert alert-block alert-warning\">\n",
        "<b>⚠️ Kernel將重新啟動。請等待它完成，再繼續執行下一個步驟。⚠️</b>\n",
        "</div>\n"
      ]
    },
    {
      "cell_type": "markdown",
      "metadata": {
        "id": "8vEczuYo_r-g"
      },
      "source": [
        "## 驗證\n",
        "\n",
        "如果在 Colab 中執行，則使用 `google.colab.google.auth` 驗證，否則假設在 Vertex Workbench 上執行。\n"
      ]
    },
    {
      "cell_type": "code",
      "execution_count": 2,
      "metadata": {
        "id": "loTfn0KniwB2"
      },
      "outputs": [],
      "source": [
        "import sys\n",
        "\n",
        "if \"google.colab\" in sys.modules:\n",
        "    from google.colab import auth as google_auth\n",
        "\n",
        "    google_auth.authenticate_user()"
      ]
    },
    {
      "cell_type": "markdown",
      "metadata": {},
      "source": [
        "## 索引值定義\n",
        "\n",
        "- \"查詢\"\n",
        "- \"說明文件\"\n",
        "- \"說明文件頁數\"\n",
        "- \"說明答案\"\n",
        "- \"前 5 項文件\"\n",
        "- \"前 5 項摘要答案\"\n",
        "- \"前 5 項摘要段落\"\n",
        "- \"答案 /摘要\"\n"
      ]
    },
    {
      "cell_type": "markdown",
      "metadata": {},
      "source": [
        "# 匯入函式庫\n"
      ]
    },
    {
      "cell_type": "code",
      "execution_count": 3,
      "metadata": {},
      "outputs": [],
      "source": [
        "import pandas as pd\n",
        "from google.api_core.client_options import ClientOptions\n",
        "from google.cloud import discoveryengine_v1beta as discoveryengine"
      ]
    },
    {
      "cell_type": "markdown",
      "metadata": {
        "id": "66ff7614"
      },
      "source": [
        "### 將下列常數設定為反映你的環境\n",
        "* 本範例中使用的查詢與包含 Alphabet 投資人 PDF 檔案的 GCS 儲存空間相關，但你應將這些內容自訂為你自己的資料。\n"
      ]
    },
    {
      "cell_type": "code",
      "execution_count": 7,
      "metadata": {
        "id": "uVxFSrppK8Oy"
      },
      "outputs": [],
      "source": [
        "PROJECT_ID = \"YOUR_PROJECT_ID\"  # @param {type:\"string\"}\n",
        "LOCATION = \"global\"  # @param {type:\"string\"}\n",
        "DATA_STORE_ID = \"YOUR_DATA_STORE_ID\"  # @param {type:\"string\"}"
      ]
    },
    {
      "cell_type": "markdown",
      "metadata": {},
      "source": [
        "## 函式用於搜尋 Vertex AI Search 資料儲存空間\n"
      ]
    },
    {
      "cell_type": "code",
      "execution_count": 4,
      "metadata": {},
      "outputs": [],
      "source": [
        "def search_data_store(\n",
        "    project_id: str,\n",
        "    location: str,\n",
        "    data_store_id: str,\n",
        "    search_query: str,\n",
        ") -> discoveryengine.SearchResponse:\n",
        "    #  For more information, refer to:\n",
        "    # https://cloud.google.com/generative-ai-app-builder/docs/locations#specify_a_multi-region_for_your_data_store\n",
        "    client_options = (\n",
        "        ClientOptions(api_endpoint=f\"{location}-discoveryengine.googleapis.com\")\n",
        "        if location != \"global\"\n",
        "        else None\n",
        "    )\n",
        "\n",
        "    # Create a client\n",
        "    client = discoveryengine.SearchServiceClient(client_options=client_options)\n",
        "\n",
        "    # The full resource name of the search engine serving config\n",
        "    # e.g. projects/{project_id}/locations/{location}/dataStores/{data_store_id}/servingConfigs/{serving_config_id}\n",
        "    serving_config = client.serving_config_path(\n",
        "        project=project_id,\n",
        "        location=location,\n",
        "        data_store=data_store_id,\n",
        "        serving_config=\"default_config\",\n",
        "    )\n",
        "\n",
        "    # Optional: Configuration options for search\n",
        "    # Refer to the `ContentSearchSpec` reference for all supported fields:\n",
        "    # https://cloud.google.com/python/docs/reference/discoveryengine/latest/google.cloud.discoveryengine_v1.types.SearchRequest.ContentSearchSpec\n",
        "    content_search_spec = discoveryengine.SearchRequest.ContentSearchSpec(\n",
        "        # For information about snippets, refer to:\n",
        "        # https://cloud.google.com/generative-ai-app-builder/docs/snippets\n",
        "        snippet_spec=discoveryengine.SearchRequest.ContentSearchSpec.SnippetSpec(\n",
        "            return_snippet=True\n",
        "        ),\n",
        "        extractive_content_spec=discoveryengine.SearchRequest.ContentSearchSpec.ExtractiveContentSpec(\n",
        "            max_extractive_answer_count=5,\n",
        "            max_extractive_segment_count=1,\n",
        "        ),\n",
        "        # For information about search summaries, refer to:\n",
        "        # https://cloud.google.com/generative-ai-app-builder/docs/get-search-summaries\n",
        "        summary_spec=discoveryengine.SearchRequest.ContentSearchSpec.SummarySpec(\n",
        "            summary_result_count=5,\n",
        "            include_citations=True,\n",
        "            ignore_adversarial_query=False,\n",
        "            ignore_non_summary_seeking_query=False,\n",
        "        ),\n",
        "    )\n",
        "\n",
        "    # Refer to the `SearchRequest` reference for all supported fields:\n",
        "    # https://cloud.google.com/python/docs/reference/discoveryengine/latest/google.cloud.discoveryengine_v1.types.SearchRequest\n",
        "    request = discoveryengine.SearchRequest(\n",
        "        serving_config=serving_config,\n",
        "        query=search_query,\n",
        "        page_size=5,\n",
        "        content_search_spec=content_search_spec,\n",
        "        query_expansion_spec=discoveryengine.SearchRequest.QueryExpansionSpec(\n",
        "            condition=discoveryengine.SearchRequest.QueryExpansionSpec.Condition.AUTO,\n",
        "        ),\n",
        "        spell_correction_spec=discoveryengine.SearchRequest.SpellCorrectionSpec(\n",
        "            mode=discoveryengine.SearchRequest.SpellCorrectionSpec.Mode.AUTO\n",
        "        ),\n",
        "    )\n",
        "\n",
        "    response = client.search(request)\n",
        "    return response"
      ]
    },
    {
      "cell_type": "markdown",
      "metadata": {},
      "source": [
        "# 函式將結果載入資料框中\n"
      ]
    },
    {
      "cell_type": "code",
      "execution_count": 49,
      "metadata": {},
      "outputs": [],
      "source": [
        "def answer_questions(\n",
        "    row, project_id: str, location: str, data_store_id: str, top_n: int = 5\n",
        ") -> None:\n",
        "    \"\"\"This function returns the top 5 docs, extractive segments, answers\"\"\"\n",
        "    # Perform search with Query\n",
        "    response = search_data_store(project_id, location, data_store_id, row[\"Query\"])\n",
        "\n",
        "    row[\"Answer / Summary\"] = response.summary.summary_text\n",
        "\n",
        "    top5docs, top5answers, top5segments = [], [], []\n",
        "    ext_ans_cnt, ext_seg_cnt = 0, 0\n",
        "\n",
        "    for result in response.results:\n",
        "        doc_data = getattr(result.document, \"derived_struct_data\", None)\n",
        "        if not doc_data:\n",
        "            continue\n",
        "\n",
        "        # Process extractive answers\n",
        "        for chunk in doc_data.get(\"extractive_answers\", []):\n",
        "            content = chunk.get(\"content\", \"\").replace(\"\\n\", \"\")\n",
        "            top5answers.append(content)\n",
        "            top5docs.append(\n",
        "                f\"Doc: {doc_data.get('link', '')}  Page: {chunk.get('pageNumber', '')}\"\n",
        "            )\n",
        "            ext_ans_cnt += 1\n",
        "\n",
        "        # Process extractive segments\n",
        "        for chunk in doc_data.get(\"extractive_segments\", []):\n",
        "            data = chunk.get(\"content\", \"\").replace(\"\\n\", \"\")\n",
        "            top5segments.append(data)\n",
        "            ext_seg_cnt += 1\n",
        "\n",
        "        if ext_ans_cnt >= top_n and ext_seg_cnt >= top_n:\n",
        "            break\n",
        "\n",
        "    row[\"Top 5 Docs\"] = \"\\n\\n\".join(top5docs)\n",
        "    row[\"Top 5 extractive answers\"] = \"\\n\\n\".join(top5answers)\n",
        "    row[\"Top 5 extractive segments\"] = \"\\n\\n\".join(top5segments)"
      ]
    },
    {
      "cell_type": "markdown",
      "metadata": {},
      "source": [
        "### 收集 Vertex AI Search 所有的結果\n",
        "\n",
        "- 以 CSV 為 Pandas DataFrame 進行讀取\n",
        "- 將問題發送至 Vertex AI Search\n",
        "- 將摘要、前 5 篇文件、萃取的答案、萃取的片段載入至 DataFrame\n",
        "- 將 DataFrame 輸出至 TSV\n"
      ]
    },
    {
      "cell_type": "code",
      "execution_count": 53,
      "metadata": {},
      "outputs": [
        {
          "data": {
            "text/html": [
              "<div>\n",
              "<style scoped>\n",
              "    .dataframe tbody tr th:only-of-type {\n",
              "        vertical-align: middle;\n",
              "    }\n",
              "\n",
              "    .dataframe tbody tr th {\n",
              "        vertical-align: top;\n",
              "    }\n",
              "\n",
              "    .dataframe thead th {\n",
              "        text-align: right;\n",
              "    }\n",
              "</style>\n",
              "<table border=\"1\" class=\"dataframe\">\n",
              "  <thead>\n",
              "    <tr style=\"text-align: right;\">\n",
              "      <th></th>\n",
              "      <th>Query</th>\n",
              "      <th>Golden Doc</th>\n",
              "      <th>Golden Doc Page Number</th>\n",
              "      <th>Golden Answer</th>\n",
              "      <th>Top 5 Docs</th>\n",
              "      <th>Top 5 extractive answers</th>\n",
              "      <th>Top 5 extractive segments</th>\n",
              "      <th>Answer / Summary</th>\n",
              "      <th>Feedback from customer / account team about returned docs and answer</th>\n",
              "    </tr>\n",
              "  </thead>\n",
              "  <tbody>\n",
              "    <tr>\n",
              "      <th>0</th>\n",
              "      <td>What was Google's revenue in 2021?</td>\n",
              "      <td>NaN</td>\n",
              "      <td>NaN</td>\n",
              "      <td>NaN</td>\n",
              "      <td>Doc: gs://cloud-samples-data/gen-app-builder/s...</td>\n",
              "      <td>Google Cloud had an Operating Loss of $890 mil...</td>\n",
              "      <td>Within Other Revenues, we are pleased with the...</td>\n",
              "      <td>Google's revenue for the full year 2021 was $5...</td>\n",
              "      <td>NaN</td>\n",
              "    </tr>\n",
              "    <tr>\n",
              "      <th>1</th>\n",
              "      <td>What was Google's revenue in 2022?</td>\n",
              "      <td>NaN</td>\n",
              "      <td>NaN</td>\n",
              "      <td>NaN</td>\n",
              "      <td>Doc: gs://cloud-samples-data/gen-app-builder/s...</td>\n",
              "      <td>Other Revenues were $8.2 billion, up 22%, driv...</td>\n",
              "      <td>Let me now turn to our segment financial resul...</td>\n",
              "      <td>Google's total revenue was $282.8 billion in 2...</td>\n",
              "      <td>NaN</td>\n",
              "    </tr>\n",
              "  </tbody>\n",
              "</table>\n",
              "</div>"
            ],
            "text/plain": [
              "                                Query Golden Doc Golden Doc Page Number  \\\n",
              "0  What was Google's revenue in 2021?        NaN                    NaN   \n",
              "1  What was Google's revenue in 2022?        NaN                    NaN   \n",
              "\n",
              "  Golden Answer                                         Top 5 Docs  \\\n",
              "0           NaN  Doc: gs://cloud-samples-data/gen-app-builder/s...   \n",
              "1           NaN  Doc: gs://cloud-samples-data/gen-app-builder/s...   \n",
              "\n",
              "                            Top 5 extractive answers  \\\n",
              "0  Google Cloud had an Operating Loss of $890 mil...   \n",
              "1  Other Revenues were $8.2 billion, up 22%, driv...   \n",
              "\n",
              "                           Top 5 extractive segments  \\\n",
              "0  Within Other Revenues, we are pleased with the...   \n",
              "1  Let me now turn to our segment financial resul...   \n",
              "\n",
              "                                    Answer / Summary  \\\n",
              "0  Google's revenue for the full year 2021 was $5...   \n",
              "1  Google's total revenue was $282.8 billion in 2...   \n",
              "\n",
              "  Feedback from customer / account team about returned docs and answer  \n",
              "0                                                NaN                    \n",
              "1                                                NaN                    "
            ]
          },
          "execution_count": 53,
          "metadata": {},
          "output_type": "execute_result"
        }
      ],
      "source": [
        "# Open the CSV file and read column values\n",
        "df = pd.read_csv(\"bulk_question_answering_input.csv\", header=0, dtype=str)\n",
        "\n",
        "# Make Vertex AI Search request for each question\n",
        "df.apply(\n",
        "    lambda row: answer_questions(row, PROJECT_ID, LOCATION, DATA_STORE_ID, top_n=5),\n",
        "    axis=1,\n",
        ")\n",
        "\n",
        "# Output results to new TSV file\n",
        "df.to_csv(\"bulk_question_answering_output.tsv\", index=False, sep=\"\\t\")\n",
        "\n",
        "df"
      ]
    }
  ],
  "metadata": {
    "colab": {
      "name": "question_answering.ipynb",
      "toc_visible": true
    },
    "environment": {
      "kernel": "python3",
      "name": "common-cpu.m108",
      "type": "gcloud",
      "uri": "gcr.io/deeplearning-platform-release/base-cpu:m108"
    },
    "kernelspec": {
      "display_name": "Python 3 (ipykernel)",
      "language": "python",
      "name": "python3"
    },
    "language_info": {
      "codemirror_mode": {
        "name": "ipython",
        "version": 3
      },
      "file_extension": ".py",
      "mimetype": "text/x-python",
      "name": "python",
      "nbconvert_exporter": "python",
      "pygments_lexer": "ipython3",
      "version": "3.11.5"
    }
  },
  "nbformat": 4,
  "nbformat_minor": 4
}