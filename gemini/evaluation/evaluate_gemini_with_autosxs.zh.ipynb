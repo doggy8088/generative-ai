{
  "cells": [
    {
      "cell_type": "code",
      "execution_count": null,
      "metadata": {
        "id": "ur8xi4C7S06n",
        "tags": []
      },
      "outputs": [],
      "source": [
        "# Copyright 2024 Google LLC\n",
        "#\n",
        "# Licensed under the Apache License, Version 2.0 (the \"License\");\n",
        "# you may not use this file except in compliance with the License.\n",
        "# You may obtain a copy of the License at\n",
        "#\n",
        "#     https://www.apache.org/licenses/LICENSE-2.0\n",
        "#\n",
        "# Unless required by applicable law or agreed to in writing, software\n",
        "# distributed under the License is distributed on an \"AS IS\" BASIS,\n",
        "# WITHOUT WARRANTIES OR CONDITIONS OF ANY KIND, either express or implied.\n",
        "# See the License for the specific language governing permissions and\n",
        "# limitations under the License."
      ]
    },
    {
      "cell_type": "markdown",
      "metadata": {
        "id": "JAPoU8Sm5E6e"
      },
      "source": [
        "# 使用 AutoSxS 範例評估大型語言模型\n",
        "\n",
        "<table align=\"left\">\n",
        "  <td style=\"text-align: center\">\n",
        "    <a href=\"https://colab.research.google.com/github/doggy8088/generative-ai/blob/main/gemini/evaluation/evaluate_gemini_with_autosxs.zh.ipynb\">\n",
        "      <img width=\"32px\" src=\"https://www.gstatic.com/pantheon/images/bigquery/welcome_page/colab-logo.svg\" alt=\"Google Colaboratory 標誌\"><br> 在 Colab 中執行\n",
        "    </a>\n",
        "  </td>\n",
        "  <td style=\"text-align: center\">\n",
        "    <a href=\"https://console.cloud.google.com/vertex-ai/colab/import/https:%2F%2Fraw.githubusercontent.com%2Fdoggy8088%2Fgenerative-ai%2Fmain%2Fgemini%2Fevaluation%2Fevaluate_gemini_with_autosxs.zh.ipynb\">\n",
        "      <img width=\"32px\" src=\"https://lh3.googleusercontent.com/JmcxdQi-qOpctIvWKgPtrzZdJJK-J3sWE1RsfjZNwshCFgE_9fULcNpuXYTilIR2hjwN\" alt=\"Google Cloud Colab Enterprise 標誌\"><br> 在 Colab Enterprise 中執行\n",
        "    </a>\n",
        "  </td>\n",
        "  <td style=\"text-align: center\">\n",
        "    <a href=\"https://github.com/doggy8088/generative-ai/blob/main/gemini/evaluation/evaluate_gemini_with_autosxs.zh.ipynb\">\n",
        "      <img width=\"32px\" src=\"https://upload.wikimedia.org/wikipedia/commons/9/91/Octicons-mark-github.svg\" alt=\"GitHub 標誌\"><br> 在 GitHub 上查看\n",
        "    </a>\n",
        "  </td>\n",
        "  <td style=\"text-align: center\">\n",
        "    <a href=\"https://console.cloud.google.com/vertex-ai/workbench/deploy-notebook?download_url=https://raw.githubusercontent.com/doggy8088/generative-ai/main/gemini/evaluation/evaluate_gemini_with_autosxs.zh.ipynb\">\n",
        "      <img src=\"https://www.gstatic.com/images/branding/gcpiconscolors/vertexai/v1/32px.svg\" alt=\"Vertex AI 標誌\"><br> 在 Vertex AI Workbench 中開啟\n",
        "    </a>\n",
        "  </td>    \n",
        "</table>\n"
      ]
    },
    {
      "cell_type": "markdown",
      "metadata": {},
      "source": [
        "| | |\n",
        "|-|-|\n",
        "|作者 | [Ivan Nardini](https://github.com/inardini) |\n"
      ]
    },
    {
      "cell_type": "markdown",
      "metadata": {
        "id": "24743cf4a1e1"
      },
      "source": [
        "**_注意_** : 已在下列環境中測試過這個筆記本：\n",
        "\n",
        "* Python 版本 = 3.9\n"
      ]
    },
    {
      "cell_type": "markdown",
      "metadata": {
        "id": "tvgnzT1CKxrO"
      },
      "source": [
        "## 概述\n",
        "\n",
        "Vertex AI Model Evaluation AutoSxS 是一種 LLM 評估工具，使用戶能夠比較 Google 第一類型和第三方 LLM 的效能。\n",
        "\n",
        "作為預覽版本的其中一環，AutoSxS 僅支援根據一些預先定義的準則比較用於「摘要」和「問答」作業的模型。請查看 [文件](https://cloud.google.com/vertex-ai/docs/generative-ai/models/side-by-side-eval#autosxs) 以深入了解。\n",
        "\n",
        "本教學展示如何使用 Vertex AI Model Evaluation AutoSxS 來比較模型並在摘要作業中檢查人工比對。\n"
      ]
    },
    {
      "cell_type": "markdown",
      "metadata": {
        "id": "d975e698c9a4"
      },
      "source": [
        "### 目標\n",
        "\n",
        "在本教學課程中，你會學習如何使用 Vertex AI Model Evaluation AutoSxS 在摘要任務中比較兩個 LLM 預測 (其中一個模型為 Gemini 1.0 Pro)。\n",
        "\n",
        "本教學課程使用下列 Google Cloud ML 服務及資源：\n",
        "\n",
        "- Vertex AI Model Evaluation\n",
        "\n",
        "執行步驟包括：\n",
        "\n",
        "- 閱讀評量資料\n",
        "- 定義 AutoSxS 模型評量管道\n",
        "- 執行評量管道作業\n",
        "- 檢查判斷、彙總指標與人為比對\n"
      ]
    },
    {
      "cell_type": "markdown",
      "metadata": {
        "id": "08d289fa873f"
      },
      "source": [
        "### 資料集\n",
        "\n",
        "本資料集為 [XSum](https://huggingface.co/datasets/EdinburghNLP/xsum) 資料集的修改樣本，用於評估抽象式單篇文件摘要系統。\n"
      ]
    },
    {
      "cell_type": "markdown",
      "metadata": {
        "id": "aed92deeb4a0"
      },
      "source": [
        "### 成本\n",
        "\n",
        "本教學使用下列 Google Cloud 的計費元件：\n",
        "\n",
        "* Vertex AI\n",
        "* Cloud Storage\n",
        "\n",
        "進一步了解 [Vertex AI 定價](https://cloud.google.com/vertex-ai/pricing) 及 [Cloud Storage 定價](https://cloud.google.com/storage/pricing)，並使用 [定價計算器](https://cloud.google.com/products/calculator/)，根據你預計的使用量估算成本。\n"
      ]
    },
    {
      "cell_type": "markdown",
      "metadata": {
        "id": "i7EUnXsZhAGF"
      },
      "source": [
        "## 安裝\n",
        "\n",
        "安裝執行此筆記本所需的以下套件。\n"
      ]
    },
    {
      "cell_type": "code",
      "execution_count": null,
      "metadata": {
        "id": "kc4WxYmLSBW5",
        "tags": []
      },
      "outputs": [],
      "source": [
        "! pip3 install --user --upgrade --quiet google-cloud-aiplatform"
      ]
    },
    {
      "cell_type": "markdown",
      "metadata": {
        "id": "58707a750154"
      },
      "source": [
        "### 僅 Colab：取消以下Cell註解，重新啟動核心。\n"
      ]
    },
    {
      "cell_type": "code",
      "execution_count": null,
      "metadata": {
        "id": "f200f10a1da3"
      },
      "outputs": [],
      "source": [
        "# import IPython\n",
        "\n",
        "# app = IPython.Application.instance()\n",
        "# app.kernel.do_shutdown(True)"
      ]
    },
    {
      "cell_type": "markdown",
      "metadata": {
        "id": "BF1j6f9HApxa"
      },
      "source": [
        "## 開始之前\n",
        "\n",
        "### 設定 Google Cloud 專案\n",
        "\n",
        "**下列步驟是必要的，不論你的筆記本環境是什麼。** \n",
        "\n",
        "1. [選擇或建立 Google Cloud 專案](https://console.cloud.google.com/cloud-resource-manager)。當你第一次建立帳戶時，你會取得 300 美元的免費額度，可以抵用你的運算/儲存成本。\n",
        "\n",
        "2. [確定已為你的專案啟用帳務處理](https://cloud.google.com/billing/docs/how-to/modify-project)。\n",
        "\n",
        "3. [啟用 Vertex AI API](https://console.cloud.google.com/flows/enableapi?apiid=aiplatform.googleapis.com)。\n",
        "\n",
        "4.如果你在本地端執行這個筆記本，你需要安裝 [Cloud SDK](https://cloud.google.com/sdk)。\n"
      ]
    },
    {
      "cell_type": "markdown",
      "metadata": {
        "id": "WReHDGG5g0XY"
      },
      "source": [
        "#### 設定你的專案 ID\n",
        "\n",
        "**如果你不知道自己的專案 ID** , 請嘗試以下動作：\n",
        "* 執行 `gcloud config list`。\n",
        "* 執行 `gcloud projects list`。\n",
        "* 參閱支援頁面：[尋找專案 ID](https://support.google.com/googleapi/answer/7014113)\n"
      ]
    },
    {
      "cell_type": "code",
      "execution_count": null,
      "metadata": {
        "id": "oM1iC_MfAts1"
      },
      "outputs": [],
      "source": [
        "PROJECT_ID = \"your-project-id\"  # @param {type:\"string\"}\n",
        "\n",
        "# Set the project id\n",
        "! gcloud config set project {PROJECT_ID}"
      ]
    },
    {
      "cell_type": "markdown",
      "metadata": {
        "id": "region"
      },
      "source": [
        "#### 區域\n",
        "\n",
        "你也可以變更 Vertex AI 使用的 `REGION` 變數。進一步了解 [Vertex AI 地區](https://cloud.google.com/vertex-ai/docs/general/locations)。\n"
      ]
    },
    {
      "cell_type": "code",
      "execution_count": null,
      "metadata": {
        "id": "bTeyVM5oRObw"
      },
      "outputs": [],
      "source": [
        "REGION = \"us-central1\"  # @param {type: \"string\"}"
      ]
    },
    {
      "cell_type": "markdown",
      "metadata": {
        "id": "timestamp"
      },
      "source": [
        "### UUID\n",
        "\n",
        "我們定義一個 UUID 產生函式，以避免在筆記本中建立的資源上產生資源名稱衝突。\n"
      ]
    },
    {
      "cell_type": "code",
      "execution_count": null,
      "metadata": {
        "id": "84Vdv7R-QEH6"
      },
      "outputs": [],
      "source": [
        "import random\n",
        "import string\n",
        "\n",
        "\n",
        "def generate_uuid(length: int = 8) -> str:\n",
        "    \"\"\"Generate a uuid of a specifed length (default=8).\"\"\"\n",
        "    return \"\".join(random.choices(string.ascii_lowercase + string.digits, k=length))\n",
        "\n",
        "\n",
        "UUID = generate_uuid()"
      ]
    },
    {
      "cell_type": "markdown",
      "metadata": {
        "id": "sBCra4QMA2wR"
      },
      "source": [
        "### 驗證你的 Google Cloud 帳戶\n",
        "\n",
        "視你的 Jupyter 環境而定，你可能必須手動驗證。請按照以下相關說明進行操作。\n"
      ]
    },
    {
      "cell_type": "markdown",
      "metadata": {
        "id": "74ccc9e52986"
      },
      "source": [
        "**1. Vertex AI Workbench** \n",
        "* 不做任何事情，因為你已驗證身份。\n"
      ]
    },
    {
      "cell_type": "markdown",
      "metadata": {
        "id": "de775a3773ba"
      },
      "source": [
        "**2. Local JupyterLab 執行個體 (移除註解並執行)：** \n"
      ]
    },
    {
      "cell_type": "code",
      "execution_count": null,
      "metadata": {
        "id": "254614fa0c46"
      },
      "outputs": [],
      "source": [
        "# ! gcloud auth login"
      ]
    },
    {
      "cell_type": "markdown",
      "metadata": {
        "id": "ef21552ccea8"
      },
      "source": [
        "**3. Colab, 取消註釋並執行：** \n"
      ]
    },
    {
      "cell_type": "code",
      "execution_count": null,
      "metadata": {
        "id": "603adbbf0532"
      },
      "outputs": [],
      "source": [
        "# from google.colab import auth\n",
        "# auth.authenticate_user()"
      ]
    },
    {
      "cell_type": "markdown",
      "metadata": {
        "id": "f6b2ccc891ed"
      },
      "source": [
        "**4. 服務帳戶或其他** \n",
        "* 詳見如何於 https://cloud.google.com/storage/docs/gsutil/commands/iam#ch-examples 上授予服務帳戶 Cloud Storage 權限。\n"
      ]
    },
    {
      "cell_type": "markdown",
      "metadata": {
        "id": "zgPO1eR3CYjk"
      },
      "source": [
        "### 建立 Cloud Storage 儲存空間\n",
        "\n",
        "建立一個儲存空間儲存暫時產品，例如資料集。\n"
      ]
    },
    {
      "cell_type": "code",
      "execution_count": null,
      "metadata": {
        "id": "MzGDU7TWdts_"
      },
      "outputs": [],
      "source": [
        "BUCKET_URI = f\"gs://autosxs-demo-{UUID}\"  # @param {type:\"string\"}"
      ]
    },
    {
      "cell_type": "markdown",
      "metadata": {
        "id": "-EcIXiGsCePi"
      },
      "source": [
        "**只有你的儲存空間不存在時，才會建立儲存空間：** 執行下列Cell來建立你的 Cloud Storage 儲存空間。\n"
      ]
    },
    {
      "cell_type": "code",
      "execution_count": null,
      "metadata": {
        "id": "NIq7R4HZCfIc"
      },
      "outputs": [],
      "source": [
        "! gsutil mb -l {REGION} -p {PROJECT_ID} {BUCKET_URI}"
      ]
    },
    {
      "cell_type": "markdown",
      "metadata": {
        "id": "960505627ddf"
      },
      "source": [
        "### 匯入函式庫\n"
      ]
    },
    {
      "cell_type": "code",
      "execution_count": null,
      "metadata": {
        "id": "PyQmSRbKA8r-"
      },
      "outputs": [],
      "source": [
        "import os\n",
        "import pprint\n",
        "\n",
        "import pandas as pd\n",
        "from google.cloud import aiplatform\n",
        "from google.protobuf.json_format import MessageToDict\n",
        "from IPython.display import HTML, display"
      ]
    },
    {
      "cell_type": "markdown",
      "metadata": {
        "id": "fQnzv1Gs_cwN"
      },
      "source": [
        "### 定義常數\n"
      ]
    },
    {
      "cell_type": "code",
      "execution_count": null,
      "metadata": {
        "id": "I9JsWvCz_eo0"
      },
      "outputs": [],
      "source": [
        "EVALUATION_FILE_URI = (\n",
        "    \"gs://github-repo/evaluate-gemini/sum_eval_gemini_dataset_001.jsonl\"\n",
        ")\n",
        "HUMAN_EVALUATION_FILE_URI = (\n",
        "    \"gs://github-repo/evaluate-gemini/sum_human_eval_gemini_dataset_001.jsonl\"\n",
        ")\n",
        "TEMPLATE_URI = \"https://us-kfp.pkg.dev/ml-pipeline/llm-rlhf/autosxs-template/2.8.0\"\n",
        "PIPELINE_ROOT = f\"{BUCKET_URI}/pipeline\""
      ]
    },
    {
      "cell_type": "markdown",
      "metadata": {
        "id": "NRkfTNeaHbZd"
      },
      "source": [
        "### 幫手\n"
      ]
    },
    {
      "cell_type": "code",
      "execution_count": null,
      "metadata": {
        "id": "ivbHUDiEHd2Q"
      },
      "outputs": [],
      "source": [
        "def print_autosxs_judgments(df, n=3):\n",
        "    \"\"\"Print AutoSxS judgments in the notebook\"\"\"\n",
        "\n",
        "    style = \"white-space: pre-wrap; width: 800px; overflow-x: auto;\"\n",
        "    df = df.sample(n=n)\n",
        "\n",
        "    for index, row in df.iterrows():\n",
        "        if row[\"confidence\"] >= 0.5:\n",
        "            display(\n",
        "                HTML(\n",
        "                    f\"<h2>Document:</h2> <div style='{style}'>{row['id_columns']['document']}</div>\"\n",
        "                )\n",
        "            )\n",
        "            display(\n",
        "                HTML(\n",
        "                    f\"<h2>Response A:</h2> <div style='{style}'>{row['response_a']}</div>\"\n",
        "                )\n",
        "            )\n",
        "            display(\n",
        "                HTML(\n",
        "                    f\"<h2>Response B:</h2> <div style='{style}'>{row['response_b']}</div>\"\n",
        "                )\n",
        "            )\n",
        "            display(\n",
        "                HTML(\n",
        "                    f\"<h2>Explanation:</h2> <div style='{style}'>{row['explanation']}</div>\"\n",
        "                )\n",
        "            )\n",
        "            display(\n",
        "                HTML(\n",
        "                    f\"<h2>Confidence score:</h2> <div style='{style}'>{row['confidence']}</div>\"\n",
        "                )\n",
        "            )\n",
        "            display(HTML(\"<hr>\"))\n",
        "\n",
        "\n",
        "def print_aggregated_metrics(scores):\n",
        "    \"\"\"Print AutoSxS aggregated metrics\"\"\"\n",
        "\n",
        "    score_b = round(win_rate_metrics[\"autosxs_model_b_win_rate\"] * 100)\n",
        "    display(\n",
        "        HTML(\n",
        "            f\"<h3>AutoSxS Autorater prefers {score_b}% of time Model B over Model A </h3>\"\n",
        "        )\n",
        "    )\n",
        "\n",
        "\n",
        "def print_human_preference_metrics(metrics):\n",
        "    \"\"\"Print AutoSxS Human-preference alignment metrics\"\"\"\n",
        "    display(\n",
        "        HTML(\n",
        "            f\"<h3>AutoSxS Autorater prefers {score_b}% of time Model B over Model A </h3>\"\n",
        "        )\n",
        "    )"
      ]
    },
    {
      "cell_type": "markdown",
      "metadata": {
        "id": "init_aip:mbsdk,all"
      },
      "source": [
        "### 初始化 Python 版的 Vertex AI SDK\n",
        "\n",
        "為你的專案初始化 Python 版的 Vertex AI SDK。\n"
      ]
    },
    {
      "cell_type": "code",
      "execution_count": null,
      "metadata": {
        "id": "j4KEcQEWROby"
      },
      "outputs": [],
      "source": [
        "aiplatform.init(project=PROJECT_ID, location=REGION, staging_bucket=BUCKET_URI)"
      ]
    },
    {
      "cell_type": "markdown",
      "metadata": {
        "id": "qoiqIyiMvc3n"
      },
      "source": [
        "## 使用 Vertex AI Model Evaluation AutoSxS 評估 LLM\n",
        "\n",
        "假設你已在摘要任務中獲得你生成式 LLM 預測。若要使用 AutoSXS 在 Vertex AI 上評估 LLM (例如於 Vertex AI 上的 Gemini 1.0 Pro) 與其他模型的表現，你需要遵循下列步驟進行評估：\n",
        "\n",
        "1.   **準備評估資料集** ：收集評估所需的提示、脈絡、已生成回應及人類偏好。\n",
        "\n",
        "2.   **轉換評估資料集** ：將資料集轉換成 JSONL 格式並儲存在 Cloud Storage 儲存空間中。或者，你可以將資料集儲存到 BigQuery 資料表中。\n",
        "\n",
        "3.   **執行模型評估工作** ：使用 Vertex AI 執行模型評估工作，以評估 LLM 的效能。\n"
      ]
    },
    {
      "cell_type": "markdown",
      "metadata": {
        "id": "ZEIlO0eHbsQh"
      },
      "source": [
        "### 閱讀評量資料\n",
        "\n",
        "在此摘要使用案例中，你使用 `sum_eval_gemini_dataset_001`，一種 JSONL 格式的評量資料集，包含沒有人類偏好的內容回應配對。\n",
        "\n",
        "在資料集中，每一列代表單一範例。該資料集包含身分識別欄位，例如「id」和「文件」，這些欄位用於識別每個獨特範例。「文件」欄位包含新聞文章，將予以摘要。\n",
        "\n",
        "儘管該資料集沒有提示和內容的 [資料欄位](https://cloud.google.com/vertex-ai/docs/generative-ai/models/side-by-side-eval#prep-eval-dataset)，但它包含預先產生的預測。這些預測包含根據 LLM 任務產生的回應，其中「response_a」和「response_b」代表不同的文章摘要。\n",
        "\n",
        "**注意：** 實驗時，你只能提供幾個範例。文件建議至少 400 個範例，以確保高品質的整體指標。\n"
      ]
    },
    {
      "cell_type": "code",
      "execution_count": null,
      "metadata": {
        "id": "R-_ettKRxfxT"
      },
      "outputs": [],
      "source": [
        "evaluation_gemini_df = pd.read_json(EVALUATION_FILE_URI, lines=True)\n",
        "evaluation_gemini_df.head()"
      ]
    },
    {
      "cell_type": "markdown",
      "metadata": {
        "id": "1lZHraNFkDz8"
      },
      "source": [
        "### 執行模型評量作業\n",
        "\n",
        "AutoSxS 依賴 Vertex AI 管線執行模型評量。這裡可看到一些必要的管線參數：\n",
        "\n",
        "*  `evaluation_dataset` 指出評量資料集的位置。這裡是 JSONL Cloud Storage URI。\n",
        "\n",
        "*   `id_columns` 用於辨別唯一的評量範例。如你所料，這裡有 `id` 和 `document` 欄位。\n",
        "\n",
        "*   `task` 指出你要評量的任務類型，格式為 `{task}@{version}`。可以是 `summarization` 或 `question_answer`。這裡有 `summarization`。\n",
        "\n",
        "*   `autorater_prompt_parameters` 設定自動評分器任務行為。你可以指定推理指令來引導任務完成，並設定在任務執行期間要參考的推理脈絡。\n",
        "\n",
        "最後，你必須提供 `response_column_a` 和 `response_column_b`，其中包含預定義預測的欄位名稱，以計算評量指標。這裡分別為 `response_a` 和 `response_b`。\n",
        "\n",
        "若要深入了解所有支援的參數，請參閱 [官方文件](https://cloud.google.com/vertex-ai/docs/generative-ai/models/side-by-side-eval#perform-eval)。\n"
      ]
    },
    {
      "cell_type": "code",
      "execution_count": null,
      "metadata": {
        "id": "Cp7e-hOmNMhA"
      },
      "outputs": [],
      "source": [
        "display_name = f\"autosxs-eval-{generate_uuid()}\"\n",
        "parameters = {\n",
        "    \"evaluation_dataset\": EVALUATION_FILE_URI,\n",
        "    \"id_columns\": [\"id\", \"document\"],\n",
        "    \"task\": \"summarization\",\n",
        "    \"autorater_prompt_parameters\": {\n",
        "        \"inference_context\": {\"column\": \"document\"},\n",
        "        \"inference_instruction\": {\"template\": \"Summarize the following text: \"},\n",
        "    },\n",
        "    \"response_column_a\": \"response_a\",\n",
        "    \"response_column_b\": \"response_b\",\n",
        "}"
      ]
    },
    {
      "cell_type": "markdown",
      "metadata": {
        "id": "Bp0YIvSv-zhB"
      },
      "source": [
        "在你定義模型評估參數後，你可以使用 Vertex AI Python SDK 及預先定義的管道範本執行模型評估管道作業。\n"
      ]
    },
    {
      "cell_type": "code",
      "execution_count": null,
      "metadata": {
        "id": "AjFHT5ze9m4L"
      },
      "outputs": [],
      "source": [
        "job = aiplatform.PipelineJob(\n",
        "    job_id=display_name,\n",
        "    display_name=display_name,\n",
        "    pipeline_root=os.path.join(BUCKET_URI, display_name),\n",
        "    template_path=TEMPLATE_URI,\n",
        "    parameter_values=parameters,\n",
        "    enable_caching=False,\n",
        ")\n",
        "job.run(sync=True)"
      ]
    },
    {
      "cell_type": "markdown",
      "metadata": {
        "id": "PunFdLfqGh0e"
      },
      "source": [
        "### 評估結果\n",
        "\n",
        "評估管線成功執行後，你可以透過檢視 Vertex AI Pipelines UI 中的管線本身所產生的成果，以及使用 Vertex AI Python SDK 在筆記本環境中產生的成果，來檢閱評估結果。\n",
        "\n",
        "AutoSXS 產生三種類型的評估結果：判斷表、總計量測標準和對齊量測標準 (如果提供了人為偏好)。\n"
      ]
    },
    {
      "cell_type": "markdown",
      "metadata": {
        "id": "J4ShokOI9FDI"
      },
      "source": [
        "### AutoSxS 判斷\n",
        "\n",
        "判斷表格包含衡量指標，提供每個範例中 LLM 效能的見解。\n",
        "\n",
        "對於每一組回應，判斷表格包含一個 `choice` 欄位，說明根據自動評分員使用的評分基準，哪一個回應較佳。\n",
        "\n",
        "每個選擇都有介於 0 到 1 之間的 `信心得分` 欄位，代表自動評分員對評分的信心等級。\n",
        "\n",
        "最後但同樣重要的是，AutoSXS 提供自動評分員偏好一方回應勝過另一方的理由說明。\n",
        "\n",
        "以下是 AutoSxS 判斷輸出的範例。\n"
      ]
    },
    {
      "cell_type": "code",
      "execution_count": null,
      "metadata": {
        "id": "MakdmpYCmehF"
      },
      "outputs": [],
      "source": [
        "for details in job.task_details:\n",
        "    if details.task_name == \"autosxs-arbiter\":\n",
        "        break\n",
        "\n",
        "judgments_uri = MessageToDict(details.outputs[\"judgments\"]._pb)[\"artifacts\"][0][\"uri\"]\n",
        "judgments_df = pd.read_json(judgments_uri, lines=True)"
      ]
    },
    {
      "cell_type": "code",
      "execution_count": null,
      "metadata": {
        "id": "_gyM2-i3HHnP"
      },
      "outputs": [],
      "source": [
        "print_autosxs_judgments(judgments_df)"
      ]
    },
    {
      "cell_type": "markdown",
      "metadata": {
        "id": "tJ5PJ9x69KrC"
      },
      "source": [
        "### AutoSxS 聚合指標\n",
        "\n",
        "AutoSxS 也提供聚合指標作為額外的評估結果。這些勝率指標是利用判斷表格計算出的，用來決定 AutoRater 偏好每種模型回應的百分比。\n",
        "\n",
        "這些指標有助於快速找出在所評估任務中哪一種模型較佳。\n",
        "\n",
        "以下是 AutoSxS 聚合指標的範例。\n"
      ]
    },
    {
      "cell_type": "code",
      "execution_count": null,
      "metadata": {
        "id": "w2RISjQSJk9R"
      },
      "outputs": [],
      "source": [
        "for details in job.task_details:\n",
        "    if details.task_name == \"autosxs-metrics-computer\":\n",
        "        break\n",
        "\n",
        "win_rate_metrics = MessageToDict(details.outputs[\"autosxs_metrics\"]._pb)[\"artifacts\"][\n",
        "    0\n",
        "][\"metadata\"]\n",
        "print_aggregated_metrics(win_rate_metrics)"
      ]
    },
    {
      "cell_type": "markdown",
      "metadata": {
        "id": "_5mYmHj6poXz"
      },
      "source": [
        "### 人類偏好一致性指標\n",
        "\n",
        "在查看你的初步 AutoSxS 評估結果後，你可能會想知道 Autorater 評估與人類評量者的觀點之間的一致性。\n",
        "\n",
        "AutoSxS 支援人類偏好以驗證 Autorater 評估。\n",
        "\n",
        "若要檢查與人類偏好資料集的一致性，你需要將基本事實新增為一欄到 `evaluation_dataset`，並將該欄位名稱傳遞給 `human_preference_column`。\n"
      ]
    },
    {
      "cell_type": "markdown",
      "metadata": {
        "id": "8vSedvz39-iu"
      },
      "source": [
        "#### 閱讀評估資料\n",
        "\n",
        "關於評估資料集，在此案例中 `sum_human_eval_gemini_dataset_001` 資料集也包含人類偏好。\n",
        "\n",
        "以下是資料集的範例。\n"
      ]
    },
    {
      "cell_type": "code",
      "execution_count": null,
      "metadata": {
        "id": "mbfsO2uw9-i5"
      },
      "outputs": [],
      "source": [
        "human_evaluation_gemini_df = pd.read_json(HUMAN_EVALUATION_FILE_URI, lines=True)\n",
        "human_evaluation_gemini_df.head()"
      ]
    },
    {
      "cell_type": "markdown",
      "metadata": {
        "id": "XpmAr6UX-Imb"
      },
      "source": [
        "#### 執行模型評估作業\n",
        "\n",
        "對於 AutoSXS 處理程序，你必須在處理程序參數中指定人為偏好欄位。\n",
        "\n",
        "然後，你可以使用下述 Vertex AI Python SDK 執行評估處理程序作業。\n"
      ]
    },
    {
      "cell_type": "code",
      "execution_count": null,
      "metadata": {
        "id": "bFmvFt2a3MtN"
      },
      "outputs": [],
      "source": [
        "display_name = f\"autosxs-human-eval-{generate_uuid()}\"\n",
        "parameters = {\n",
        "    \"evaluation_dataset\": HUMAN_EVALUATION_FILE_URI,\n",
        "    \"id_columns\": [\"id\", \"document\"],\n",
        "    \"task\": \"summarization\",\n",
        "    \"autorater_prompt_parameters\": {\n",
        "        \"inference_context\": {\"column\": \"document\"},\n",
        "        \"inference_instruction\": {\"template\": \"Summarize the following text: \"},\n",
        "    },\n",
        "    \"response_column_a\": \"response_a\",\n",
        "    \"response_column_b\": \"response_b\",\n",
        "    \"human_preference_column\": \"actual\",\n",
        "}"
      ]
    },
    {
      "cell_type": "code",
      "execution_count": null,
      "metadata": {
        "id": "KbhIPY-_3SSB"
      },
      "outputs": [],
      "source": [
        "job = aiplatform.PipelineJob(\n",
        "    job_id=display_name,\n",
        "    display_name=display_name,\n",
        "    pipeline_root=os.path.join(BUCKET_URI, display_name),\n",
        "    template_path=TEMPLATE_URI,\n",
        "    parameter_values=parameters,\n",
        "    enable_caching=False,\n",
        ")\n",
        "job.run(sync=True)"
      ]
    },
    {
      "cell_type": "markdown",
      "metadata": {
        "id": "QTzJ8BaWEusN"
      },
      "source": [
        "### 取得與人類偏好一致的彙總測量指標\n",
        "\n",
        "與之前的彙總測量指標相比，現在管道回傳使用所提供的偏好資料後所取得的其他測量資料。\n",
        "\n",
        "除了準確度、準確性及召回等眾所周知的測量指標外，你將會收到人類偏好分數及自動評分器偏好分數。這些分數表示評量之間的同意程度。並為了簡化比較，提供Cohen's Kappa。Cohen's Kappa測量自動評分器與人類評分器之間的同意程度。它的範圍從0到1，其中0表示與隨機選擇相當的同意，1則表示完全同意。\n",
        "\n",
        "以下是與人類偏好一致的彙總測量結果：\n"
      ]
    },
    {
      "cell_type": "code",
      "execution_count": null,
      "metadata": {
        "id": "JLUOJFjA38ja"
      },
      "outputs": [],
      "source": [
        "for details in job.task_details:\n",
        "    if details.task_name == \"autosxs-metrics-computer\":\n",
        "        break\n",
        "\n",
        "human_aligned_metrics = {\n",
        "    k: round(v, 3)\n",
        "    for k, v in MessageToDict(details.outputs[\"autosxs_metrics\"]._pb)[\"artifacts\"][0][\n",
        "        \"metadata\"\n",
        "    ].items()\n",
        "}\n",
        "pprint.pprint(human_aligned_metrics)"
      ]
    },
    {
      "cell_type": "markdown",
      "metadata": {
        "id": "TpV-iwP9qw9c"
      },
      "source": [
        "## 清理\n",
        "\n",
        "如要清理此專案中使用的所有 Google Cloud 資源，你可以 [刪除用於教學課程的 Google Cloud 專案](https://cloud.google.com/resource-manager/docs/creating-managing-projects#shutting_down_projects)。\n",
        "\n",
        "否則，你可以刪除在教學課程中建立的個別資源。\n"
      ]
    },
    {
      "cell_type": "code",
      "execution_count": null,
      "metadata": {
        "id": "sx_vKniMq9ZX"
      },
      "outputs": [],
      "source": [
        "import os\n",
        "\n",
        "# Delete Model Evaluation pipeline run\n",
        "delete_pipeline = True\n",
        "if delete_pipeline or os.getenv(\"IS_TESTING\"):\n",
        "    job.delete()\n",
        "\n",
        "# Delete Cloud Storage objects that were created\n",
        "delete_bucket = True\n",
        "if delete_bucket or os.getenv(\"IS_TESTING\"):\n",
        "    ! gsutil -m rm -r $BUCKET_URI"
      ]
    }
  ],
  "metadata": {
    "colab": {
      "name": "evaluate_gemini_with_autosxs.ipynb",
      "toc_visible": true
    },
    "environment": {
      "kernel": "conda-root-py",
      "name": "workbench-notebooks.m115",
      "type": "gcloud",
      "uri": "gcr.io/deeplearning-platform-release/workbench-notebooks:m115"
    },
    "kernelspec": {
      "display_name": "Python 3 (ipykernel) (Local)",
      "language": "python",
      "name": "conda-root-py"
    },
    "language_info": {
      "codemirror_mode": {
        "name": "ipython",
        "version": 3
      },
      "file_extension": ".py",
      "mimetype": "text/x-python",
      "name": "python",
      "nbconvert_exporter": "python",
      "pygments_lexer": "ipython3",
      "version": "3.10.13"
    }
  },
  "nbformat": 4,
  "nbformat_minor": 4
}