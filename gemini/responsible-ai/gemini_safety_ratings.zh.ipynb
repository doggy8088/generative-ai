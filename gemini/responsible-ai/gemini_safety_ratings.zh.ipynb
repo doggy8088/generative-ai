{
  "cells": [
    {
      "cell_type": "code",
      "execution_count": null,
      "metadata": {
        "id": "ur8xi4C7S06n",
        "tags": []
      },
      "outputs": [],
      "source": [
        "# Copyright 2024 Google LLC\n",
        "#\n",
        "# Licensed under the Apache License, Version 2.0 (the \"License\");\n",
        "# you may not use this file except in compliance with the License.\n",
        "# You may obtain a copy of the License at\n",
        "#\n",
        "#     https://www.apache.org/licenses/LICENSE-2.0\n",
        "#\n",
        "# Unless required by applicable law or agreed to in writing, software\n",
        "# distributed under the License is distributed on an \"AS IS\" BASIS,\n",
        "# WITHOUT WARRANTIES OR CONDITIONS OF ANY KIND, either express or implied.\n",
        "# See the License for the specific language governing permissions and\n",
        "# limitations under the License."
      ]
    },
    {
      "cell_type": "markdown",
      "metadata": {
        "id": "JAPoU8Sm5E6e"
      },
      "source": [
        "# 使用 Vertex AI Gemini API 的負責任 AI：安全評分與閾值\n",
        "\n",
        "<table align=\"left\">\n",
        "  <td style=\"text-align: center\">\n",
        "    <a href=\"https://colab.research.google.com/github/doggy8088/generative-ai/blob/main/gemini/responsible-ai/gemini_safety_ratings.zh.ipynb\">\n",
        "      <img width=\"32px\" src=\"https://cloud.google.com/ml-engine/images/colab-logo-32px.png\" alt=\"Google Colaboratory 標誌\"><br> 在 Colab 中執行\n",
        "    </a>\n",
        "  </td>\n",
        "  <td style=\"text-align: center\">\n",
        "    <a href=\"https://console.cloud.google.com/vertex-ai/colab/import/https:%2F%2Fraw.githubusercontent.com%2Fdoggy8088%2Fgenerative-ai%2Fmain%2Fgemini%2Fresponsible-ai%2Fgemini_safety_ratings.zh.ipynb\">\n",
        "      <img width=\"32px\" src=\"https://lh3.googleusercontent.com/JmcxdQi-qOpctIvWKgPtrzZdJJK-J3sWE1RsfjZNwshCFgE_9fULcNpuXYTilIR2hjwN\" alt=\"Google Cloud Colab Enterprise 標誌\"><br> 在 Colab Enterprise 中執行\n",
        "    </a>\n",
        "  </td>    \n",
        "  <td style=\"text-align: center\">\n",
        "    <a href=\"https://github.com/doggy8088/generative-ai/blob/main/gemini/responsible-ai/gemini_safety_ratings.zh.ipynb\">\n",
        "      <img width=\"32px\" src=\"https://cloud.google.com/ml-engine/images/github-logo-32px.png\" alt=\"GitHub 標誌\"><br> 在 GitHub 上檢視\n",
        "    </a>\n",
        "  </td>\n",
        "  <td style=\"text-align: center\">\n",
        "    <a href=\"https://console.cloud.google.com/vertex-ai/workbench/deploy-notebook?download_url=https://raw.githubusercontent.com/doggy8088/generative-ai/main/gemini/responsible-ai/gemini_safety_ratings.zh.ipynb\">\n",
        "      <img width=\"32px\" src=\"https://lh3.googleusercontent.com/UiNooY4LUgW_oTvpsNhPpQzsstV5W8F7rYgxgGBD85cWJoLmrOzhVs_ksK_vgx40SHs7jCqkTkCk=e14-rj-sc0xffffff-h130-w32\" alt=\"Vertex AI 標誌\"><br> \n",
        "      在 Vertex AI Workbench 中開啟\n",
        "    </a>\n",
        "  </td>                                                                                               \n",
        "</table>\n"
      ]
    },
    {
      "cell_type": "markdown",
      "metadata": {},
      "source": [
        "| | |\n",
        "|-|-|\n",
        "|作者 | [Hussain Chinoy](https://github.com/ghchinoy) |\n"
      ]
    },
    {
      "cell_type": "markdown",
      "metadata": {
        "id": "tvgnzT1CKxrO"
      },
      "source": [
        "## 概述\n",
        "\n",
        "大語言模型 (LLM) 可以翻譯語言、摘要文字、產生創意寫作、產生程式碼、支援聊天機器人和虛擬助理，以及補充搜尋引擎和推薦系統。LLM 的驚人通用性也是難以精確預測它們可能會產生哪種類型的意外或不可預見輸出。\n",
        "\n",
        "對於這些風險和複雜性，Vertex AI Gemini API 在設計時考量了 [Google 的 AI 原則](https://ai.google/responsibility/principles/)。但是，開發人員瞭解和測試其模型以安全且負責任地部署至關重要。為協助開發人員，Vertex AI Studio 內建了內容過濾、安全評分以及定義適用於其使用案例和業務的安全過濾器閾值的功能。\n",
        "\n",
        "更多資訊，請參閱 [Google Cloud Generative AI 關於負責 AI 的文件](https://cloud.google.com/vertex-ai/docs/generative-ai/learn/responsible-ai)。\n"
      ]
    },
    {
      "cell_type": "markdown",
      "metadata": {
        "id": "d975e698c9a4"
      },
      "source": [
        "### 目標\n",
        "\n",
        "在本教學課程中，你將學習如何使用 Python SDK 檢查 Vertex AI Gemini API 傳回的安全評等，以及如何設定安全臨界值，以篩選來自 Vertex AI Gemini API 的回應。\n",
        "\n",
        "執行步驟包括：\n",
        "\n",
        "- 呼叫 Vertex AI Gemini API，並檢查回應的安全評等\n",
        "- 定義門檻值，根據你的需求篩選安全評等\n"
      ]
    },
    {
      "cell_type": "markdown",
      "metadata": {
        "id": "aed92deeb4a0"
      },
      "source": [
        "### 成本\n",
        "\n",
        "本教學課程使用 Google Cloud 的可計費元件：\n",
        "\n",
        "- Vertex AI\n",
        "\n",
        "瞭解 [Vertex AI 定價](https://cloud.google.com/vertex-ai/pricing)，並使用 [定價計算器](https://cloud.google.com/products/calculator/) 根據預計使用量產生成本估計。\n"
      ]
    },
    {
      "cell_type": "markdown",
      "metadata": {},
      "source": [
        "## 開始使用\n"
      ]
    },
    {
      "cell_type": "markdown",
      "metadata": {
        "id": "HDBMQEnXsnRB"
      },
      "source": [
        "### 安裝 Vertex AI SDK for Python\n"
      ]
    },
    {
      "cell_type": "code",
      "execution_count": null,
      "metadata": {
        "tags": []
      },
      "outputs": [],
      "source": [
        "! pip3 install --upgrade --user google-cloud-aiplatform"
      ]
    },
    {
      "cell_type": "markdown",
      "metadata": {
        "id": "R5Xep4W9lq-Z"
      },
      "source": [
        "### 重新啟動目前的執行階段\n",
        "\n",
        "要在此 Jupyter 執行階段中使用新安裝的套件，你必須重新啟動執行階段。你可以執行下列Cell來執行此項操作，如此將重新啟動目前的Kernel。\n"
      ]
    },
    {
      "cell_type": "code",
      "execution_count": null,
      "metadata": {
        "colab": {
          "base_uri": "https://localhost:8080/"
        },
        "id": "XRvKdaPDTznN",
        "outputId": "154a71b5-f302-4f53-ed2f-b3e5fef9195b",
        "tags": []
      },
      "outputs": [],
      "source": [
        "# Restart kernel after installs so that your environment can access the new packages\n",
        "import IPython\n",
        "import time\n",
        "\n",
        "app = IPython.Application.instance()\n",
        "app.kernel.do_shutdown(True)"
      ]
    },
    {
      "cell_type": "markdown",
      "metadata": {
        "id": "SbmM4z7FOBpM"
      },
      "source": [
        "<div class=\"alert alert-block alert-warning\">\n",
        "<b>⚠️ Kernel將重新啟動。請等待它完成，再繼續執行下一個步驟。⚠️</b>\n",
        "</div>\n"
      ]
    },
    {
      "cell_type": "markdown",
      "metadata": {
        "id": "sBCra4QMA2wR"
      },
      "source": [
        "### 驗證你的筆記本環境 (僅限 Colab) \n",
        "\n",
        "如果你在 Google Colab 上執行此筆記本，請執行下列單元格來驗證你的環境。如果你使用 [Vertex AI Workbench](https://cloud.google.com/vertex-ai-workbench)，則不需要這個步驟。\n"
      ]
    },
    {
      "cell_type": "code",
      "execution_count": 1,
      "metadata": {
        "id": "254614fa0c46",
        "tags": []
      },
      "outputs": [],
      "source": [
        "import sys\n",
        "\n",
        "# Additional authentication is required for Google Colab\n",
        "if \"google.colab\" in sys.modules:\n",
        "    # Authenticate user to Google Cloud\n",
        "    from google.colab import auth\n",
        "\n",
        "    auth.authenticate_user()"
      ]
    },
    {
      "cell_type": "markdown",
      "metadata": {
        "id": "ef21552ccea8"
      },
      "source": [
        "### 定義 Google Cloud 專案資訊及初始化 Vertex AI\n",
        "\n",
        "針對你的專案初始化 Python 版的 Vertex AI SDK：\n"
      ]
    },
    {
      "cell_type": "code",
      "execution_count": 2,
      "metadata": {
        "id": "603adbbf0532",
        "tags": []
      },
      "outputs": [],
      "source": [
        "# Define project information\n",
        "PROJECT_ID = \"[your-project-id]\"  # @param {type:\"string\"}\n",
        "LOCATION = \"us-central1\"  # @param {type:\"string\"}\n",
        "\n",
        "# Initialize Vertex AI\n",
        "import vertexai\n",
        "\n",
        "vertexai.init(project=PROJECT_ID, location=LOCATION)"
      ]
    },
    {
      "cell_type": "markdown",
      "metadata": {
        "id": "i7EUnXsZhAGF"
      },
      "source": [
        "### 匯入函式庫\n"
      ]
    },
    {
      "cell_type": "code",
      "execution_count": 3,
      "metadata": {
        "id": "eeH2sddasR1a",
        "tags": []
      },
      "outputs": [],
      "source": [
        "from vertexai.generative_models import (\n",
        "    GenerationConfig,\n",
        "    GenerativeModel,\n",
        "    HarmCategory,\n",
        "    HarmBlockThreshold,\n",
        "    Image,\n",
        "    Part,\n",
        ")"
      ]
    },
    {
      "cell_type": "markdown",
      "metadata": {},
      "source": [
        "### 載入 Gemini 1.0 Pro 模型\n"
      ]
    },
    {
      "cell_type": "code",
      "execution_count": 4,
      "metadata": {
        "tags": []
      },
      "outputs": [],
      "source": [
        "model = GenerativeModel(\"gemini-1.0-pro\")\n",
        "\n",
        "# Set parameters to reduce variability in responses\n",
        "generation_config = GenerationConfig(\n",
        "    temperature=0,\n",
        "    top_p=0.1,\n",
        "    top_k=1,\n",
        "    max_output_tokens=1024,\n",
        ")"
      ]
    },
    {
      "cell_type": "markdown",
      "metadata": {
        "id": "HlHF7Oqw0zBc"
      },
      "source": [
        "## 產生文字並顯示安全評分\n"
      ]
    },
    {
      "cell_type": "markdown",
      "metadata": {
        "id": "u7wSHFUtV48I"
      },
      "source": [
        "開始使用 Gemini 產生一段聽起來愉快的文本回應。\n"
      ]
    },
    {
      "cell_type": "code",
      "execution_count": 5,
      "metadata": {
        "colab": {
          "base_uri": "https://localhost:8080/",
          "height": 105
        },
        "id": "i-fAS7XV05Bp",
        "outputId": "e581098d-a910-4620-ac8d-49f5d07db430",
        "tags": []
      },
      "outputs": [
        {
          "name": "stdout",
          "output_type": "stream",
          "text": [
            "1. You are a thoughtful and compassionate person.\n",
            "2. You have a great sense of humor and always make me laugh.\n",
            "3. You are a loyal and supportive friend."
          ]
        }
      ],
      "source": [
        "# Call Gemini API\n",
        "nice_prompt = \"Say three nice things about me\"\n",
        "responses = model.generate_content(\n",
        "    contents=[nice_prompt],\n",
        "    generation_config=generation_config,\n",
        "    stream=True,\n",
        ")\n",
        "\n",
        "for response in responses:\n",
        "    print(response.text, end=\"\")"
      ]
    },
    {
      "cell_type": "markdown",
      "metadata": {},
      "source": [
        "#### 檢查安全評分\n"
      ]
    },
    {
      "cell_type": "markdown",
      "metadata": {
        "id": "8EPQRdiG1BVv"
      },
      "source": [
        "請查看串流回應的`safety_ratings`。\n"
      ]
    },
    {
      "cell_type": "code",
      "execution_count": 6,
      "metadata": {
        "colab": {
          "base_uri": "https://localhost:8080/"
        },
        "id": "1z82p_bPSK5p",
        "outputId": "45afc240-7b97-4c32-a72c-baefce6b70d7",
        "tags": []
      },
      "outputs": [
        {
          "name": "stdout",
          "output_type": "stream",
          "text": [
            "candidates {\n",
            "  content {\n",
            "    role: \"model\"\n",
            "    parts {\n",
            "      text: \"1. You are a thoughtful and compassionate person.\\n2. You have a great sense of humor and always make me laugh.\\n3. You are a\"\n",
            "    }\n",
            "  }\n",
            "  safety_ratings {\n",
            "    category: HARM_CATEGORY_HATE_SPEECH\n",
            "    probability: NEGLIGIBLE\n",
            "  }\n",
            "  safety_ratings {\n",
            "    category: HARM_CATEGORY_DANGEROUS_CONTENT\n",
            "    probability: NEGLIGIBLE\n",
            "  }\n",
            "  safety_ratings {\n",
            "    category: HARM_CATEGORY_HARASSMENT\n",
            "    probability: NEGLIGIBLE\n",
            "  }\n",
            "  safety_ratings {\n",
            "    category: HARM_CATEGORY_SEXUALLY_EXPLICIT\n",
            "    probability: NEGLIGIBLE\n",
            "  }\n",
            "}\n",
            "\n",
            "candidates {\n",
            "  content {\n",
            "    role: \"model\"\n",
            "    parts {\n",
            "      text: \" loyal and supportive friend.\"\n",
            "    }\n",
            "  }\n",
            "  finish_reason: STOP\n",
            "  safety_ratings {\n",
            "    category: HARM_CATEGORY_HATE_SPEECH\n",
            "    probability: NEGLIGIBLE\n",
            "  }\n",
            "  safety_ratings {\n",
            "    category: HARM_CATEGORY_DANGEROUS_CONTENT\n",
            "    probability: NEGLIGIBLE\n",
            "  }\n",
            "  safety_ratings {\n",
            "    category: HARM_CATEGORY_HARASSMENT\n",
            "    probability: NEGLIGIBLE\n",
            "  }\n",
            "  safety_ratings {\n",
            "    category: HARM_CATEGORY_SEXUALLY_EXPLICIT\n",
            "    probability: NEGLIGIBLE\n",
            "  }\n",
            "}\n",
            "usage_metadata {\n",
            "  prompt_token_count: 6\n",
            "  candidates_token_count: 37\n",
            "  total_token_count: 43\n",
            "}\n",
            "\n"
          ]
        }
      ],
      "source": [
        "responses = model.generate_content(\n",
        "    contents=[nice_prompt],\n",
        "    generation_config=generation_config,\n",
        "    stream=True,\n",
        ")\n",
        "\n",
        "for response in responses:\n",
        "    print(response)"
      ]
    },
    {
      "cell_type": "markdown",
      "metadata": {},
      "source": [
        "#### 理解安全評級：分類和機率\n"
      ]
    },
    {
      "cell_type": "markdown",
      "metadata": {
        "id": "8bd5SnfOSR0n"
      },
      "source": [
        "你可以看到安全評分，包含每個 `類別` 類型及它相關聯的 `機率` 標籤。\n",
        "\n",
        "`類別` 類型包含：\n",
        "\n",
        "* 仇恨言論： `HARM_CATEGORY_HATE_SPEECH`\n",
        "* 危險內容： `HARM_CATEGORY_DANGEROUS_CONTENT`\n",
        "* 騷擾： `HARM_CATEGORY_HARASSMENT`\n",
        "* 性暗示言論： `HARM_CATEGORY_SEXUALLY_EXPLICIT`\n",
        "\n",
        "`機率` 標籤是：\n",
        "\n",
        "* `NEGLIGIBLE` - 內容有很小的機率是不安全的\n",
        "* `LOW` - 內容有低機率是不安全的\n",
        "* `MEDIUM` - 內容有中機率是不安全的\n",
        "* `HIGH` - 內容有高機率是不安全的\n"
      ]
    },
    {
      "cell_type": "markdown",
      "metadata": {},
      "source": [
        "嘗試一個可能觸發以下類別的提示：\n"
      ]
    },
    {
      "cell_type": "code",
      "execution_count": 7,
      "metadata": {
        "id": "pcw5s7Jo1Axm",
        "tags": []
      },
      "outputs": [
        {
          "name": "stdout",
          "output_type": "stream",
          "text": [
            "candidates {\n",
            "  content {\n",
            "    role: \"model\"\n",
            "    parts {\n",
            "      text: \"1. \\\"Are you kidding me, universe? You couldn\\'t give me a little warning?\\\"\\n2. \\\"Well, that was just plain rude.\"\n",
            "    }\n",
            "  }\n",
            "  safety_ratings {\n",
            "    category: HARM_CATEGORY_HATE_SPEECH\n",
            "    probability: NEGLIGIBLE\n",
            "  }\n",
            "  safety_ratings {\n",
            "    category: HARM_CATEGORY_DANGEROUS_CONTENT\n",
            "    probability: NEGLIGIBLE\n",
            "  }\n",
            "  safety_ratings {\n",
            "    category: HARM_CATEGORY_HARASSMENT\n",
            "    probability: LOW\n",
            "  }\n",
            "  safety_ratings {\n",
            "    category: HARM_CATEGORY_SEXUALLY_EXPLICIT\n",
            "    probability: NEGLIGIBLE\n",
            "  }\n",
            "}\n",
            "\n",
            "candidates {\n",
            "  content {\n",
            "    role: \"model\"\n",
            "    parts {\n",
            "      text: \" Thanks for nothing.\\\"\\n3. \\\"I\\'m starting to think you have it out for me. What did I ever do to you?\\\"\\n4.\"\n",
            "    }\n",
            "  }\n",
            "  safety_ratings {\n",
            "    category: HARM_CATEGORY_HATE_SPEECH\n",
            "    probability: NEGLIGIBLE\n",
            "  }\n",
            "  safety_ratings {\n",
            "    category: HARM_CATEGORY_DANGEROUS_CONTENT\n",
            "    probability: NEGLIGIBLE\n",
            "  }\n",
            "  safety_ratings {\n",
            "    category: HARM_CATEGORY_HARASSMENT\n",
            "    probability: LOW\n",
            "  }\n",
            "  safety_ratings {\n",
            "    category: HARM_CATEGORY_SEXUALLY_EXPLICIT\n",
            "    probability: NEGLIGIBLE\n",
            "  }\n",
            "}\n",
            "\n",
            "candidates {\n",
            "  content {\n",
            "    role: \"model\"\n",
            "  }\n",
            "  finish_reason: SAFETY\n",
            "  safety_ratings {\n",
            "    category: HARM_CATEGORY_HATE_SPEECH\n",
            "    probability: NEGLIGIBLE\n",
            "  }\n",
            "  safety_ratings {\n",
            "    category: HARM_CATEGORY_DANGEROUS_CONTENT\n",
            "    probability: NEGLIGIBLE\n",
            "  }\n",
            "  safety_ratings {\n",
            "    category: HARM_CATEGORY_HARASSMENT\n",
            "    probability: HIGH\n",
            "    blocked: true\n",
            "  }\n",
            "  safety_ratings {\n",
            "    category: HARM_CATEGORY_SEXUALLY_EXPLICIT\n",
            "    probability: NEGLIGIBLE\n",
            "  }\n",
            "}\n",
            "usage_metadata {\n",
            "  prompt_token_count: 24\n",
            "  candidates_token_count: 64\n",
            "  total_token_count: 88\n",
            "}\n",
            "\n"
          ]
        }
      ],
      "source": [
        "impolite_prompt = \"Write a list of 5 disrespectful things that I might say to the universe after stubbing my toe in the dark:\"\n",
        "\n",
        "impolite_responses = model.generate_content(\n",
        "    impolite_prompt,\n",
        "    generation_config=generation_config,\n",
        "    stream=True,\n",
        ")\n",
        "\n",
        "for response in impolite_responses:\n",
        "    print(response)"
      ]
    },
    {
      "cell_type": "markdown",
      "metadata": {},
      "source": [
        "#### 封鎖回應\n"
      ]
    },
    {
      "cell_type": "markdown",
      "metadata": {
        "id": "a9biTSl22RFu"
      },
      "source": [
        "如果回應被封鎖，你會看到最終候選包含 `blocked: true`，並觀察封鎖回應的哪個安全性評分已經觸發 (例如：`finish_reason: SAFETY`)。\n"
      ]
    },
    {
      "cell_type": "code",
      "execution_count": 8,
      "metadata": {
        "colab": {
          "base_uri": "https://localhost:8080/"
        },
        "id": "SZsRqLo72T3X",
        "outputId": "9b31be18-7181-458b-c8ad-b99954cbff09",
        "tags": []
      },
      "outputs": [
        {
          "name": "stdout",
          "output_type": "stream",
          "text": [
            "candidates {\n",
            "  content {\n",
            "    role: \"model\"\n",
            "    parts {\n",
            "      text: \"1. \\\"Are you kidding me, universe? You couldn\\'t give me a little warning before you decided to torture my foot?\\\"\\n2. \\\"Well\"\n",
            "    }\n",
            "  }\n",
            "  safety_ratings {\n",
            "    category: HARM_CATEGORY_HATE_SPEECH\n",
            "    probability: NEGLIGIBLE\n",
            "  }\n",
            "  safety_ratings {\n",
            "    category: HARM_CATEGORY_DANGEROUS_CONTENT\n",
            "    probability: LOW\n",
            "  }\n",
            "  safety_ratings {\n",
            "    category: HARM_CATEGORY_HARASSMENT\n",
            "    probability: NEGLIGIBLE\n",
            "  }\n",
            "  safety_ratings {\n",
            "    category: HARM_CATEGORY_SEXUALLY_EXPLICIT\n",
            "    probability: LOW\n",
            "  }\n",
            "}\n",
            "\n",
            "candidates {\n",
            "  content {\n",
            "    role: \"model\"\n",
            "    parts {\n",
            "      text: \", that was just plain mean. I\\'m starting to think you have a personal vendetta against me.\\\"\\n3. \\\"Seriously, universe? You\\'re\"\n",
            "    }\n",
            "  }\n",
            "  safety_ratings {\n",
            "    category: HARM_CATEGORY_HATE_SPEECH\n",
            "    probability: NEGLIGIBLE\n",
            "  }\n",
            "  safety_ratings {\n",
            "    category: HARM_CATEGORY_DANGEROUS_CONTENT\n",
            "    probability: NEGLIGIBLE\n",
            "  }\n",
            "  safety_ratings {\n",
            "    category: HARM_CATEGORY_HARASSMENT\n",
            "    probability: LOW\n",
            "  }\n",
            "  safety_ratings {\n",
            "    category: HARM_CATEGORY_SEXUALLY_EXPLICIT\n",
            "    probability: NEGLIGIBLE\n",
            "  }\n",
            "}\n",
            "\n",
            "candidates {\n",
            "  content {\n",
            "    role: \"model\"\n",
            "  }\n",
            "  finish_reason: SAFETY\n",
            "  safety_ratings {\n",
            "    category: HARM_CATEGORY_HATE_SPEECH\n",
            "    probability: NEGLIGIBLE\n",
            "  }\n",
            "  safety_ratings {\n",
            "    category: HARM_CATEGORY_DANGEROUS_CONTENT\n",
            "    probability: NEGLIGIBLE\n",
            "  }\n",
            "  safety_ratings {\n",
            "    category: HARM_CATEGORY_HARASSMENT\n",
            "    probability: HIGH\n",
            "    blocked: true\n",
            "  }\n",
            "  safety_ratings {\n",
            "    category: HARM_CATEGORY_SEXUALLY_EXPLICIT\n",
            "    probability: NEGLIGIBLE\n",
            "  }\n",
            "}\n",
            "usage_metadata {\n",
            "  prompt_token_count: 25\n",
            "  candidates_token_count: 64\n",
            "  total_token_count: 89\n",
            "}\n",
            "\n"
          ]
        }
      ],
      "source": [
        "rude_prompt = \"Write a list of 5 very rude things that I might say to the universe after stubbing my toe in the dark:\"\n",
        "\n",
        "rude_responses = model.generate_content(\n",
        "    rude_prompt,\n",
        "    generation_config=generation_config,\n",
        "    stream=True,\n",
        ")\n",
        "\n",
        "for response in rude_responses:\n",
        "    print(response)"
      ]
    },
    {
      "cell_type": "markdown",
      "metadata": {
        "id": "zrPLIhgZ4etq"
      },
      "source": [
        "### 定義安全評級的閾值\n",
        "\n",
        "你可視業務政策或使用案例調整預設安全過濾器閾值。Vertex AI Gemini API 為你提供傳遞每個類別閾值的方法。\n",
        "\n",
        "下列清單顯示可能的閾值標籤：\n",
        "\n",
        "* `BLOCK_ONLY_HIGH` - 在偵測到高機率的不安全內容時封鎖\n",
        "* `BLOCK_MEDIUM_AND_ABOVE` - 在偵測到中等或高機率的不安全內容時封鎖\n",
        "* `BLOCK_LOW_AND_ABOVE` - 在偵測到低、中或高機率的不安全內容時封鎖\n",
        "* `BLOCK_NONE` - 不論不安全內容的機率，始終顯示\n"
      ]
    },
    {
      "cell_type": "markdown",
      "metadata": {},
      "source": [
        "#### 設定安全性閥值\n",
        "以下，安全性閥值已設定到此最敏感閥值：`BLOCK_LOW_AND_ABOVE`\n"
      ]
    },
    {
      "cell_type": "code",
      "execution_count": 9,
      "metadata": {
        "tags": []
      },
      "outputs": [],
      "source": [
        "safety_settings = {\n",
        "    HarmCategory.HARM_CATEGORY_HARASSMENT: HarmBlockThreshold.BLOCK_LOW_AND_ABOVE,\n",
        "    HarmCategory.HARM_CATEGORY_HATE_SPEECH: HarmBlockThreshold.BLOCK_LOW_AND_ABOVE,\n",
        "    HarmCategory.HARM_CATEGORY_SEXUALLY_EXPLICIT: HarmBlockThreshold.BLOCK_LOW_AND_ABOVE,\n",
        "    HarmCategory.HARM_CATEGORY_DANGEROUS_CONTENT: HarmBlockThreshold.BLOCK_LOW_AND_ABOVE,\n",
        "}"
      ]
    },
    {
      "cell_type": "markdown",
      "metadata": {},
      "source": [
        "#### 測試閾值\n",
        "\n",
        "在這裡，你將重新使用較早時不禮貌的提示和最敏感的安全閾值。它甚至在「低」機率標籤下仍會阻止回應。\n"
      ]
    },
    {
      "cell_type": "code",
      "execution_count": 10,
      "metadata": {
        "tags": []
      },
      "outputs": [
        {
          "name": "stdout",
          "output_type": "stream",
          "text": [
            "candidates {\n",
            "  content {\n",
            "    role: \"model\"\n",
            "  }\n",
            "  finish_reason: SAFETY\n",
            "  safety_ratings {\n",
            "    category: HARM_CATEGORY_HATE_SPEECH\n",
            "    probability: NEGLIGIBLE\n",
            "  }\n",
            "  safety_ratings {\n",
            "    category: HARM_CATEGORY_DANGEROUS_CONTENT\n",
            "    probability: NEGLIGIBLE\n",
            "  }\n",
            "  safety_ratings {\n",
            "    category: HARM_CATEGORY_HARASSMENT\n",
            "    probability: LOW\n",
            "    blocked: true\n",
            "  }\n",
            "  safety_ratings {\n",
            "    category: HARM_CATEGORY_SEXUALLY_EXPLICIT\n",
            "    probability: NEGLIGIBLE\n",
            "  }\n",
            "}\n",
            "usage_metadata {\n",
            "  prompt_token_count: 24\n",
            "  total_token_count: 24\n",
            "}\n",
            "\n"
          ]
        }
      ],
      "source": [
        "impolite_prompt = \"Write a list of 5 disrespectful things that I might say to the universe after stubbing my toe in the dark:\"\n",
        "\n",
        "impolite_responses = model.generate_content(\n",
        "    impolite_prompt,\n",
        "    generation_config=generation_config,\n",
        "    safety_settings=safety_settings,\n",
        "    stream=True,\n",
        ")\n",
        "\n",
        "for response in impolite_responses:\n",
        "    print(response)"
      ]
    }
  ],
  "metadata": {
    "colab": {
      "provenance": [],
      "toc_visible": true
    },
    "environment": {
      "kernel": "conda-root-py",
      "name": "workbench-notebooks.m115",
      "type": "gcloud",
      "uri": "gcr.io/deeplearning-platform-release/workbench-notebooks:m115"
    },
    "kernelspec": {
      "display_name": "Python 3 (ipykernel) (Local)",
      "language": "python",
      "name": "conda-root-py"
    },
    "language_info": {
      "codemirror_mode": {
        "name": "ipython",
        "version": 3
      },
      "file_extension": ".py",
      "mimetype": "text/x-python",
      "name": "python",
      "nbconvert_exporter": "python",
      "pygments_lexer": "ipython3",
      "version": "3.10.13"
    }
  },
  "nbformat": 4,
  "nbformat_minor": 4
}