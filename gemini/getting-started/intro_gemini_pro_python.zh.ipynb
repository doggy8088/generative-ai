{
  "cells": [
    {
      "cell_type": "code",
      "execution_count": null,
      "metadata": {
        "id": "ijGzTHJJUCPY",
        "tags": []
      },
      "outputs": [],
      "source": [
        "# Copyright 2024 Google LLC\n",
        "#\n",
        "# Licensed under the Apache License, Version 2.0 (the \"License\");\n",
        "# you may not use this file except in compliance with the License.\n",
        "# You may obtain a copy of the License at\n",
        "#\n",
        "#     https://www.apache.org/licenses/LICENSE-2.0\n",
        "#\n",
        "# Unless required by applicable law or agreed to in writing, software\n",
        "# distributed under the License is distributed on an \"AS IS\" BASIS,\n",
        "# WITHOUT WARRANTIES OR CONDITIONS OF ANY KIND, either express or implied.\n",
        "# See the License for the specific language governing permissions and\n",
        "# limitations under the License."
      ]
    },
    {
      "cell_type": "markdown",
      "metadata": {
        "id": "VEqbX8OhE8y9"
      },
      "source": [
        "# 開始使用 Gemini Pro 模型\n",
        "\n",
        "<table align=\"left\">\n",
        "  <td style=\"text-align: center\">\n",
        "    <a href=\"https://colab.research.google.com/github/doggy8088/generative-ai/blob/main/gemini/getting-started/intro_gemini_pro_python.zh.ipynb\">\n",
        "      <img src=\"https://cloud.google.com/ml-engine/images/colab-logo-32px.png\" alt=\"Google Colaboratory 標誌\"><br>在 Colab 中執行\n",
        "    </a>\n",
        "  </td>\n",
        "  <td style=\"text-align: center\">\n",
        "    <a href=\"https://console.cloud.google.com/vertex-ai/colab/import/https:%2F%2Fraw.githubusercontent.com%2Fdoggy8088%2Fgenerative-ai%2Fmain%2Fgemini%2Fgetting-started%2Fintro_gemini_pro_python.zh.ipynb\">\n",
        "      <img width=\"32px\" src=\"https://lh3.googleusercontent.com/JmcxdQi-qOpctIvWKgPtrzZdJJK-J3sWE1RsfjZNwshCFgE_9fULcNpuXYTilIR2hjwN\" alt=\"Google Cloud Colab Enterprise 標誌\"><br>在 Colab Enterprise 中執行\n",
        "    </a>\n",
        "  </td>    \n",
        "  <td style=\"text-align: center\">\n",
        "    <a href=\"https://github.com/doggy8088/generative-ai/blob/main/gemini/getting-started/intro_gemini_pro_python.zh.ipynb\">\n",
        "      <img src=\"https://cloud.google.com/ml-engine/images/github-logo-32px.png\" alt=\"GitHub 標誌\"><br>在 GitHub 上檢視\n",
        "    </a>\n",
        "  </td>\n",
        "  <td style=\"text-align: center\">\n",
        "    <a href=\"https://console.cloud.google.com/vertex-ai/workbench/deploy-notebook?download_url=https://raw.githubusercontent.com/doggy8088/generative-ai/main/gemini/getting-started/intro_gemini_pro_python.zh.ipynb\">\n",
        "      <img src=\"https://lh3.googleusercontent.com/UiNooY4LUgW_oTvpsNhPpQzsstV5W8F7rYgxgGBD85cWJoLmrOzhVs_ksK_vgx40SHs7jCqkTkCk=e14-rj-sc0xffffff-h130-w32\" alt=\"Vertex AI 標誌\"><br>在 Vertex AI Workbench 中開啟\n",
        "    </a>\n",
        "  </td>\n",
        "</table>\n"
      ]
    },
    {
      "cell_type": "markdown",
      "metadata": {},
      "source": [
        "| | |\n",
        "|-|-|\n",
        "|作者 | [Eric Dong](https://github.com/gericdong), [Polong Lin](https://github.com/polong-lin), [Wanheng Li](https://github.com/wanhengli) |\n"
      ]
    },
    {
      "cell_type": "markdown",
      "metadata": {
        "id": "CkHPv2myT2cx"
      },
      "source": [
        "## 概觀\n",
        "\n",
        "### Gemini\n",
        "\n",
        "Gemini 是 Google DeepMind 所開發的一系列生成式 AI 模型，專為多模態用途而設計。透過 Gemini API，你可以存取 Gemini Pro 及 Gemini Pro Vision 模型。\n",
        "\n",
        "### Vertex AI Gemini API\n",
        "\n",
        "Vertex AI Gemini API 提供一個統一的介面，讓你能與 Gemini 模型互動。Gemini API 中提供了兩個 Gemini 1.0 Pro 模型：\n",
        "\n",
        "- **Gemini 1.0 Pro 模型** (`gemini-1.0-pro`)：專門處理自然語言工作、多回合文字及程式碼交談，以及程式碼產生。\n",
        "- **Gemini 1.0 Pro Vision 模型** (`gemini-1.0-pro-vision`)：支援多模態提示。提示請求中可以包含文字、圖片及影片，而回應將為文字或程式碼。\n",
        "\n",
        "你可以使用以下方法與 Gemini API 互動：\n",
        "\n",
        "- 使用 [Vertex AI Studio](https://cloud.google.com/generative-ai-studio) 進行快速測試和指令產生\n",
        "- 使用 cURL 指令\n",
        "- 使用 Vertex AI SDK\n",
        "\n",
        "本筆記本著重在使用 **Vertex AI SDK for Python** 呼叫有 Gemini 1.0 Pro 模型的 Vertex AI Gemini API。\n",
        "\n",
        "如需更詳細的資訊，請參閱 [Vertex AI 上的生成式 AI](https://cloud.google.com/vertex-ai/docs/generative-ai/learn/overview) 文件。\n"
      ]
    },
    {
      "cell_type": "markdown",
      "metadata": {
        "id": "DrkcqHrrwMAo"
      },
      "source": [
        "### 目標\n",
        "\n",
        "在本教學課程中，你將學習如何將 Vertex AI Gemini API 與 Python 版 Vertex AI SDK 結合使用，以與 Gemini 1.0 Pro (`gemini-1.0-pro`) 模型進行互動。\n",
        "\n",
        "你將完成下列任務：\n",
        "\n",
        "- 安裝 Python 版 Vertex AI SDK\n",
        "- 使用 Vertex AI Gemini API 與 Gemini 1.0 Pro (`gemini-1.0-pro`) 模型進行互動：\n",
        "    - 從文字提示中產生文字\n",
        "    - 探索各種功能和組態選項\n"
      ]
    },
    {
      "cell_type": "markdown",
      "metadata": {
        "id": "C9nEPojogw-g"
      },
      "source": [
        "### 成本\n",
        "\n",
        "本教學課程使用 Google Cloud 的可計費元件：\n",
        "\n",
        "- Vertex AI\n",
        "\n",
        "瞭解 [Vertex AI 定價](https://cloud.google.com/vertex-ai/pricing)，並使用 [定價計算器](https://cloud.google.com/products/calculator/) 根據預計使用量產生成本估計。\n"
      ]
    },
    {
      "cell_type": "markdown",
      "metadata": {
        "id": "r11Gu7qNgx1p"
      },
      "source": [
        "## 開始使用\n"
      ]
    },
    {
      "cell_type": "markdown",
      "metadata": {
        "id": "No17Cw5hgx12"
      },
      "source": [
        "### 安裝 Vertex AI SDK for Python\n"
      ]
    },
    {
      "cell_type": "code",
      "execution_count": null,
      "metadata": {
        "id": "tFy3H3aPgx12",
        "tags": []
      },
      "outputs": [],
      "source": [
        "! pip3 install --upgrade --user google-cloud-aiplatform"
      ]
    },
    {
      "cell_type": "markdown",
      "metadata": {
        "id": "R5Xep4W9lq-Z"
      },
      "source": [
        "### 重新啟動目前的執行階段\n",
        "\n",
        "要在此 Jupyter 執行階段中使用新安裝的套件，你必須重新啟動執行階段。你可以執行下列Cell來執行此項操作，如此將重新啟動目前的Kernel。\n"
      ]
    },
    {
      "cell_type": "code",
      "execution_count": null,
      "metadata": {
        "colab": {
          "base_uri": "https://localhost:8080/"
        },
        "id": "XRvKdaPDTznN",
        "outputId": "154a71b5-f302-4f53-ed2f-b3e5fef9195b",
        "tags": []
      },
      "outputs": [],
      "source": [
        "# Restart kernel after installs so that your environment can access the new packages\n",
        "import IPython\n",
        "import time\n",
        "\n",
        "app = IPython.Application.instance()\n",
        "app.kernel.do_shutdown(True)"
      ]
    },
    {
      "cell_type": "markdown",
      "metadata": {
        "id": "SbmM4z7FOBpM"
      },
      "source": [
        "<div class=\"alert alert-block alert-warning\">\n",
        "<b>⚠️ Kernel將重新啟動。請等待它完成，再繼續執行下一個步驟。⚠️</b>\n",
        "</div>\n"
      ]
    },
    {
      "cell_type": "markdown",
      "metadata": {
        "id": "dmWOrTJ3gx13"
      },
      "source": [
        "### 驗證你的筆記本環境 (僅限 Colab) \n",
        "\n",
        "如果你在 Google Colab 上執行此筆記本，請執行下列單元格來驗證你的環境。如果你使用 [Vertex AI Workbench](https://cloud.google.com/vertex-ai-workbench)，則不需要這個步驟。\n"
      ]
    },
    {
      "cell_type": "code",
      "execution_count": 1,
      "metadata": {
        "id": "NyKGtVQjgx13",
        "tags": []
      },
      "outputs": [],
      "source": [
        "import sys\n",
        "\n",
        "# Additional authentication is required for Google Colab\n",
        "if \"google.colab\" in sys.modules:\n",
        "    # Authenticate user to Google Cloud\n",
        "    from google.colab import auth\n",
        "\n",
        "    auth.authenticate_user()"
      ]
    },
    {
      "cell_type": "markdown",
      "metadata": {
        "id": "DF4l8DTdWgPY"
      },
      "source": [
        "### 定義 Google Cloud 專案資訊及初始化 Vertex AI\n",
        "\n",
        "針對你的專案初始化 Python 版的 Vertex AI SDK：\n"
      ]
    },
    {
      "cell_type": "code",
      "execution_count": 2,
      "metadata": {
        "id": "Nqwi-5ufWp_B",
        "tags": []
      },
      "outputs": [],
      "source": [
        "# Define project information\n",
        "PROJECT_ID = \"[your-project-id]\"  # @param {type:\"string\"}\n",
        "LOCATION = \"us-central1\"  # @param {type:\"string\"}\n",
        "\n",
        "# Initialize Vertex AI\n",
        "import vertexai\n",
        "\n",
        "vertexai.init(project=PROJECT_ID, location=LOCATION)"
      ]
    },
    {
      "cell_type": "markdown",
      "metadata": {
        "id": "jXHfaVS66_01"
      },
      "source": [
        "### 匯入函式庫\n"
      ]
    },
    {
      "cell_type": "code",
      "execution_count": 3,
      "metadata": {
        "id": "lslYAvw37JGQ",
        "tags": []
      },
      "outputs": [],
      "source": [
        "from vertexai.generative_models import (\n",
        "    GenerationConfig,\n",
        "    GenerativeModel,\n",
        ")"
      ]
    },
    {
      "cell_type": "markdown",
      "metadata": {
        "id": "4437b7608c8e"
      },
      "source": [
        "## 使用 Gemini 1.0 Pro 模型\n",
        "\n",
        "Gemini 1.0 Pro (`gemini-1.0-pro`) 模型旨在處理自然語言任務、多輪文字與程式碼對話，以及程式碼生成。\n"
      ]
    },
    {
      "cell_type": "markdown",
      "metadata": {
        "id": "BY1nfXrqRxVX"
      },
      "source": [
        "### 載入 Gemini 1.0 Pro 模型\n"
      ]
    },
    {
      "cell_type": "code",
      "execution_count": 4,
      "metadata": {
        "id": "2998506fe6d1",
        "tags": []
      },
      "outputs": [],
      "source": [
        "model = GenerativeModel(\"gemini-1.0-pro\")"
      ]
    },
    {
      "cell_type": "markdown",
      "metadata": {
        "id": "AIl7R_jBUsaC"
      },
      "source": [
        "### 根據文字提示生成文字\n",
        "\n",
        "發送文字提示給模型。Gemini 1.0 Pro (`gemini-1.0-pro`) 模型提供串流回應機制。使用這種方法，你不需等待完整的回應；你可以開始處理片段，只要一有即可。\n"
      ]
    },
    {
      "cell_type": "code",
      "execution_count": 5,
      "metadata": {
        "id": "eAo-UsfZECGF",
        "outputId": "8da0199c-d5e3-4384-ca02-966ecd41f083",
        "tags": []
      },
      "outputs": [
        {
          "name": "stdout",
          "output_type": "stream",
          "text": [
            "The sky is blue because of a phenomenon known as Rayleigh scattering. Light from the sun is composed of a mixture of all colors, but the shorter wavelengths, such as blue and violet, are more readily scattered by molecules in the Earth's atmosphere. This scattering is caused by the interaction of the light waves with the molecules, which have a size that is comparable to the wavelength of the light.\n",
            "\n",
            "When light interacts with a molecule, the electrons in the molecule are excited and the molecule vibrates. The excited electrons then re-emit the light in all directions, but most of the light is emitted in the direction of the original wave. The amount of scattering depends on the wavelength of the light, and the shorter the wavelength, the more it is scattered. This means that blue and violet light are scattered more than other colors, which is why the sky appears blue. \n",
            "\n",
            "At sunset and sunrise, the sunlight has to pass through more of the atmosphere to reach our eyes. This means that more of the blue and violet light is scattered away, and the light that reaches us is more concentrated in the longer wavelengths, such as red and orange. This is why the sky appears red or orange at these times."
          ]
        }
      ],
      "source": [
        "responses = model.generate_content(\"Why is the sky blue?\", stream=True)\n",
        "\n",
        "for response in responses:\n",
        "    print(response.text, end=\"\")"
      ]
    },
    {
      "cell_type": "markdown",
      "metadata": {
        "id": "Us8idXnVyQ97"
      },
      "source": [
        "#### 嘗試你自己的提示\n",
        "\n",
        "- 醫療保健產業面臨最大的挑戰為何？\n",
        "- 汽車產業的最新進展是什麼？\n",
        "- 零售業中最大的機會是什麼？\n",
        "-  (嘗試你自己的提示！）\n"
      ]
    },
    {
      "cell_type": "code",
      "execution_count": 6,
      "metadata": {
        "id": "MmAZQW1GyQ97",
        "outputId": "2bc4ce7e-5233-45bd-affd-ad2c12db340d",
        "tags": []
      },
      "outputs": [
        {
          "name": "stdout",
          "output_type": "stream",
          "text": [
            "1. Artificial Intelligence\n",
            "2. Cloud Computing\n",
            "3. Cybersecurity\n",
            "4. 5G Networks\n",
            "5. IoT (Internet of Things)\n",
            "6. Blockchain\n",
            "7. Augmented Reality\n",
            "8. Machine Learning\n",
            "9. Quantum Computing\n",
            "10. Robotics"
          ]
        }
      ],
      "source": [
        "prompt = \"\"\"Create a numbered list of 10 items. Each item in the list should be a trend in the tech industry.\n",
        "\n",
        "Each trend should be less than 5 words.\"\"\"  # try your own prompt\n",
        "\n",
        "responses = model.generate_content(prompt, stream=True)\n",
        "\n",
        "for response in responses:\n",
        "    print(response.text, end=\"\")"
      ]
    },
    {
      "cell_type": "markdown",
      "metadata": {
        "id": "tDK4XLdz3Oqv"
      },
      "source": [
        "#### 模型參數\n",
        "\n",
        "你傳送至模型的每個提示都包含控制模型如何產生回應的參數值。模型可以針對不同的參數值產生不同的結果。你可以嘗試使用不同的模型參數來觀察結果如何改變。\n"
      ]
    },
    {
      "cell_type": "code",
      "execution_count": 7,
      "metadata": {
        "id": "s_2ann-F3WTo",
        "outputId": "6ef5fb51-f340-4c70-ae0b-f0a4a09f3597",
        "tags": []
      },
      "outputs": [
        {
          "name": "stdout",
          "output_type": "stream",
          "text": [
            "The sky appears blue because of a phenomenon called Rayleigh scattering.\n",
            "\n",
            "White light from the sun is composed of all colors of the visible spectrum. As this light passes through the Earth's atmosphere, it encounters molecules of nitrogen, oxygen, and other gases. These molecules are much smaller than the wavelength of visible light, so they scatter the light in all directions.\n",
            "\n",
            "However, the amount of scattering depends on the wavelength of the light. Shorter wavelengths, such as blue and violet, are scattered more strongly than longer wavelengths, such as red and orange. This is because the smaller molecules of the atmosphere are more effective at scattering shorter wavelengths.\n",
            "\n",
            "As a result, the scattered light that reaches our eyes is predominantly blue and violet. This is what gives the sky its characteristic blue appearance.\n",
            "\n",
            "At sunset and sunrise, the sunlight has to travel through more of the atmosphere to reach our eyes. This allows more of the blue and violet light to be scattered away, leaving the remaining light to appear red, orange, or yellow."
          ]
        }
      ],
      "source": [
        "generation_config = GenerationConfig(\n",
        "    temperature=0.9,\n",
        "    top_p=1.0,\n",
        "    top_k=32,\n",
        "    candidate_count=1,\n",
        "    max_output_tokens=8192,\n",
        ")\n",
        "\n",
        "responses = model.generate_content(\n",
        "    \"Why is the sky blue?\",\n",
        "    generation_config=generation_config,\n",
        "    stream=True,\n",
        ")\n",
        "\n",
        "for response in responses:\n",
        "    print(response.text, end=\"\")"
      ]
    },
    {
      "cell_type": "markdown",
      "metadata": {
        "id": "ga0xM9z9fAnR"
      },
      "source": [
        "### 測試聊天提示\n",
        "\n",
        "Gemini 1.0 Pro 模型支援自然的多輪對話，也很適合需要來回互動的文字任務。以下範例展示模型在多輪對話中的回應方式。\n"
      ]
    },
    {
      "cell_type": "code",
      "execution_count": 8,
      "metadata": {
        "id": "SFbGVflTfBBk",
        "outputId": "b6c2e137-67df-42f5-878d-ef53454fddf7",
        "tags": []
      },
      "outputs": [
        {
          "name": "stdout",
          "output_type": "stream",
          "text": [
            "**Fantasy Adventures:**\n",
            "\n",
            "* **Game of Thrones** (TV series): A complex and gripping fantasy epic with political intrigue, warfare, and mythical creatures.\n",
            "* **The Princess Bride** (1987): A charming and whimsical adventure with a fairy-tale setting and memorable characters.\n",
            "* **The Chronicles of Narnia: The Lion, the Witch and the Wardrobe** (2005): A magical and heartwarming adaptation of C.S. Lewis's classic novel.\n",
            "* **How to Train Your Dragon** (2010): An animated adventure about a young Viking who befriends a dragon and fights alongside him.\n",
            "* **Eragon** (2006): A fantasy epic based on Christopher Paolini's novel, featuring a young farm boy who discovers his destiny as a dragon rider.\n",
            "\n",
            "**Epic Historical Dramas:**\n",
            "\n",
            "* **Braveheart** (1995): A rousing and historically accurate tale of Scottish resistance against English rule.\n",
            "* **Gladiator** (2000): A brutal and immersive depiction of ancient Rome, with stunning battle scenes and a powerful performance from Russell Crowe.\n",
            "* **Kingdom of Heaven** (2005): A visually stunning and emotionally resonant historical epic set during the Crusades.\n",
            "* **The Last Samurai** (2003): A captivating exploration of cultural clashes and the power of redemption, set in 19th-century Japan.\n",
            "* **Troy** (2004): A stirring and action-packed adaptation of Homer's epic poem, featuring a star-studded cast and breathtaking battles."
          ]
        }
      ],
      "source": [
        "chat = model.start_chat()\n",
        "\n",
        "prompt = \"\"\"My name is Ned. You are my personal assistant. My favorite movies are Lord of the Rings and Hobbit.\n",
        "\n",
        "Suggest another movie I might like.\n",
        "\"\"\"\n",
        "\n",
        "responses = chat.send_message(prompt, stream=True)\n",
        "\n",
        "for response in responses:\n",
        "    print(response.text, end=\"\")"
      ]
    },
    {
      "cell_type": "markdown",
      "metadata": {
        "id": "ZP_z_Oh1J4nk"
      },
      "source": [
        "此後續提示顯示模型如何根據前一個提示來回應：\n"
      ]
    },
    {
      "cell_type": "code",
      "execution_count": 9,
      "metadata": {
        "id": "OCq7JNBKJrI8",
        "outputId": "f2e3ea4f-6591-4f57-eb03-1047777c8ca1",
        "tags": []
      },
      "outputs": [
        {
          "name": "stdout",
          "output_type": "stream",
          "text": [
            "Yes, both **The Lord of the Rings** and **The Hobbit** are based on book series by J.R.R. Tolkien.\n",
            "\n",
            "* **The Lord of the Rings** is a trilogy of epic fantasy novels published between 1954 and 1955. It tells the story of the quest of the Fellowship of the Ring to destroy the One Ring, an evil artifact created by the Dark Lord Sauron.\n",
            "* **The Hobbit** is a prequel to The Lord of the Rings, published in 1937. It follows the adventures of Bilbo Baggins, a hobbit who joins a group of dwarves on a quest to reclaim their lost kingdom from the dragon Smaug.\n",
            "\n",
            "Both book series have been adapted into highly successful film trilogies directed by Peter Jackson. The Lord of the Rings film trilogy was released between 2001 and 2003, and The Hobbit film trilogy was released between 2012 and 2014."
          ]
        }
      ],
      "source": [
        "prompt = \"Are my favorite movies based on a book series?\"\n",
        "\n",
        "responses = chat.send_message(prompt, stream=True)\n",
        "\n",
        "for response in responses:\n",
        "    print(response.text, end=\"\")"
      ]
    },
    {
      "cell_type": "markdown",
      "metadata": {
        "id": "LLSpo4qQHNpI"
      },
      "source": [
        "你也可以查看聊天記錄：\n"
      ]
    },
    {
      "cell_type": "code",
      "execution_count": 10,
      "metadata": {
        "id": "DAyhwvMtHNpI",
        "outputId": "9a0310a9-fe84-4db3-b984-d702c0094ca4",
        "tags": []
      },
      "outputs": [
        {
          "name": "stdout",
          "output_type": "stream",
          "text": [
            "[role: \"user\"\n",
            "parts {\n",
            "  text: \"My name is Ned. You are my personal assistant. My favorite movies are Lord of the Rings and Hobbit.\\n\\nSuggest another movie I might like.\\n\"\n",
            "}\n",
            ", role: \"model\"\n",
            "parts {\n",
            "  text: \"**Fantasy Adventures:**\\n\\n* **Game of Thrones** (TV series): A complex and gripping fantasy epic with political intrigue, warfare, and mythical creatures.\\n* **The Princess Bride** (1987): A charming and whimsical adventure with a fairy-tale setting and memorable characters.\\n* **The Chronicles of Narnia: The Lion, the Witch and the Wardrobe** (2005): A magical and heartwarming adaptation of C.S. Lewis\\'s classic novel.\\n* **How to Train Your Dragon** (2010): An animated adventure about a young Viking who befriends a dragon and fights alongside him.\\n* **Eragon** (2006): A fantasy epic based on Christopher Paolini\\'s novel, featuring a young farm boy who discovers his destiny as a dragon rider.\\n\\n**Epic Historical Dramas:**\\n\\n* **Braveheart** (1995): A rousing and historically accurate tale of Scottish resistance against English rule.\\n* **Gladiator** (2000): A brutal and immersive depiction of ancient Rome, with stunning battle scenes and a powerful performance from Russell Crowe.\\n* **Kingdom of Heaven** (2005): A visually stunning and emotionally resonant historical epic set during the Crusades.\\n* **The Last Samurai** (2003): A captivating exploration of cultural clashes and the power of redemption, set in 19th-century Japan.\\n* **Troy** (2004): A stirring and action-packed adaptation of Homer\\'s epic poem, featuring a star-studded cast and breathtaking battles.\"\n",
            "}\n",
            ", role: \"user\"\n",
            "parts {\n",
            "  text: \"Are my favorite movies based on a book series?\"\n",
            "}\n",
            ", role: \"model\"\n",
            "parts {\n",
            "  text: \"Yes, both **The Lord of the Rings** and **The Hobbit** are based on book series by J.R.R. Tolkien.\\n\\n* **The Lord of the Rings** is a trilogy of epic fantasy novels published between 1954 and 1955. It tells the story of the quest of the Fellowship of the Ring to destroy the One Ring, an evil artifact created by the Dark Lord Sauron.\\n* **The Hobbit** is a prequel to The Lord of the Rings, published in 1937. It follows the adventures of Bilbo Baggins, a hobbit who joins a group of dwarves on a quest to reclaim their lost kingdom from the dragon Smaug.\\n\\nBoth book series have been adapted into highly successful film trilogies directed by Peter Jackson. The Lord of the Rings film trilogy was released between 2001 and 2003, and The Hobbit film trilogy was released between 2012 and 2014.\"\n",
            "}\n",
            "]\n"
          ]
        }
      ],
      "source": [
        "print(chat.history)"
      ]
    }
  ],
  "metadata": {
    "colab": {
      "provenance": [],
      "toc_visible": true
    },
    "environment": {
      "kernel": "conda-root-py",
      "name": "workbench-notebooks.m115",
      "type": "gcloud",
      "uri": "gcr.io/deeplearning-platform-release/workbench-notebooks:m115"
    },
    "kernelspec": {
      "display_name": "Python 3 (ipykernel) (Local)",
      "language": "python",
      "name": "conda-root-py"
    },
    "language_info": {
      "codemirror_mode": {
        "name": "ipython",
        "version": 3
      },
      "file_extension": ".py",
      "mimetype": "text/x-python",
      "name": "python",
      "nbconvert_exporter": "python",
      "pygments_lexer": "ipython3",
      "version": "3.10.13"
    }
  },
  "nbformat": 4,
  "nbformat_minor": 4
}