{
  "cells": [
    {
      "cell_type": "code",
      "execution_count": null,
      "metadata": {
        "id": "ur8xi4C7S06n"
      },
      "outputs": [],
      "source": [
        "# Copyright 2023 Google LLC\n",
        "#\n",
        "# Licensed under the Apache License, Version 2.0 (the \"License\");\n",
        "# you may not use this file except in compliance with the License.\n",
        "# You may obtain a copy of the License at\n",
        "#\n",
        "#     https://www.apache.org/licenses/LICENSE-2.0\n",
        "#\n",
        "# Unless required by applicable law or agreed to in writing, software\n",
        "# distributed under the License is distributed on an \"AS IS\" BASIS,\n",
        "# WITHOUT WARRANTIES OR CONDITIONS OF ANY KIND, either express or implied.\n",
        "# See the License for the specific language governing permissions and\n",
        "# limitations under the License."
      ]
    },
    {
      "cell_type": "markdown",
      "metadata": {
        "id": "JAPoU8Sm5E6e"
      },
      "source": [
        "# 使用 Vertex AI 上的生成式模型進行文本分類\n",
        "\n",
        "<table align=\"left\">\n",
        "  <td style=\"text-align: center\">\n",
        "    <a href=\"https://colab.research.google.com/github/doggy8088/generative-ai/blob/main/language/prompts/examples/text_classification.zh.ipynb\">\n",
        "      <img src=\"https://cloud.google.com/ml-engine/images/colab-logo-32px.png\" alt=\"Google Colaboratory logo\"><br> 在 Colab 中運行\n",
        "    </a>\n",
        "  </td>\n",
        "  <td style=\"text-align: center\">\n",
        "    <a href=\"https://github.com/doggy8088/generative-ai/blob/main/language/prompts/examples/text_classification.zh.ipynb\">\n",
        "      <img src=\"https://cloud.google.com/ml-engine/images/github-logo-32px.png\" alt=\"GitHub logo\"><br> 在 GitHub 上查看\n",
        "    </a>\n",
        "  </td>\n",
        "  <td style=\"text-align: center\">\n",
        "    <a href=\"https://console.cloud.google.com/vertex-ai/workbench/deploy-notebook?download_url=https://raw.githubusercontent.com/doggy8088/generative-ai/blob/main/language/prompts/examples/text_classification.zh.ipynb\">\n",
        "      <img src=\"https://lh3.googleusercontent.com/UiNooY4LUgW_oTvpsNhPpQzsstV5W8F7rYgxgGBD85cWJoLmrOzhVs_ksK_vgx40SHs7jCqkTkCk=e14-rj-sc0xffffff-h130-w32\" alt=\"Vertex AI logo\"><br> 在 Vertex AI Workbench 中開啟\n",
        "    </a>\n",
        "  </td>\n",
        "</table>\n"
      ]
    },
    {
      "cell_type": "markdown",
      "metadata": {},
      "source": [
        "| | |\n",
        "|-|-|\n",
        "|作者 | [Polong Lin](https://github.com/polong-lin) |\n"
      ]
    },
    {
      "cell_type": "markdown",
      "metadata": {
        "id": "tvgnzT1CKxrO"
      },
      "source": [
        "## 概觀\n",
        "\n",
        "PaLM 2 等生成模型是功能強大的語言模型，用於各類自然語言處理 (NLP) 任務。其中一項任務是文字分類，這需將一個或多個類別指定給特定文字。儘管可以用傳統 NLP 技術來執行文字分類，但 LLM 可透過提供提示 (與特定於網域的標籤資料相反) 進行分類，這可以加快建置文字分類解決方案所需時間。基於 LLM 的分類模型可以透過自訂模型訓練配合大量範例進一步調整，但這不屬于本筆記書的範疇。\n",
        "\n",
        "在本筆記書中，你將探索如何將提示與 PaLM API 搭配使用來執行文字分類。進一步了解 [官方說明文件](https://cloud.google.com/vertex-ai/docs/generative-ai/text/classification-prompts) 中的分類提示。\n"
      ]
    },
    {
      "cell_type": "markdown",
      "metadata": {
        "id": "d975e698c9a4"
      },
      "source": [
        "### 目標\n",
        "\n",
        "在本筆記本的最後，你應該能夠使用大型語言模型執行各種分類任務，包括：\n",
        "\n",
        "* 零次提示文字分類\n",
        "* 少次提示文字分類\n",
        "* 常見任務：\n",
        "    * 情緒分析\n",
        "    * 主題分類\n",
        "    * 垃圾郵件偵測\n",
        "    * 意圖辨識\n",
        "    * 語言辨識\n",
        "    * 毒性偵測\n",
        "    * 情感偵測\n"
      ]
    },
    {
      "cell_type": "markdown",
      "metadata": {
        "id": "nSyXtwyz_o_v"
      },
      "source": [
        "## 開始使用\n"
      ]
    },
    {
      "cell_type": "markdown",
      "metadata": {
        "id": "2a5AEr0lkLKD"
      },
      "source": [
        "### 安裝 Vertex AI SDK\n"
      ]
    },
    {
      "cell_type": "code",
      "execution_count": null,
      "metadata": {
        "id": "82ad0c445061"
      },
      "outputs": [],
      "source": [
        "!pip install google-cloud-aiplatform --upgrade --user"
      ]
    },
    {
      "cell_type": "markdown",
      "metadata": {},
      "source": [
        "**僅 Colab：** 取消下一個Cell註解以重新啟動Kernel或使用按鈕重新啟動Kernel。對於 Vertex AI Workbench，你可以使用頂端的按鈕重新啟動終端機。\n"
      ]
    },
    {
      "cell_type": "code",
      "execution_count": null,
      "metadata": {
        "id": "_Hsqwn4hkLKE"
      },
      "outputs": [],
      "source": [
        "# # Automatically restart kernel after installs so that your environment can access the new packages\n",
        "# import IPython\n",
        "\n",
        "# app = IPython.Application.instance()\n",
        "# app.kernel.do_shutdown(True)"
      ]
    },
    {
      "cell_type": "markdown",
      "metadata": {
        "id": "Xe7OuYuGkLKF"
      },
      "source": [
        "### 驗證筆記本環境\n",
        "* 如果你使用 **Colab** 執行此筆記本，取消註解下方的Cell並繼續。\n",
        "* 如果你使用 **Vertex AI 工作台** ，請查看[此處](https://github.com/doggy8088/generative-ai/tree/main/setup-env)的設定說明。\n"
      ]
    },
    {
      "cell_type": "code",
      "execution_count": null,
      "metadata": {
        "id": "U9Gx2SAZkLKF"
      },
      "outputs": [],
      "source": [
        "# from google.colab import auth\n",
        "# auth.authenticate_user()"
      ]
    },
    {
      "cell_type": "markdown",
      "metadata": {
        "id": "960505627ddf"
      },
      "source": [
        "### 匯入函式庫\n"
      ]
    },
    {
      "cell_type": "markdown",
      "metadata": {},
      "source": [
        "**僅限 Colab：** 取消下方單元格的註解，以初始化 Vertex AI SDK。對於 Vertex AI Workbench，不需要執行此動作。\n"
      ]
    },
    {
      "cell_type": "code",
      "execution_count": null,
      "metadata": {},
      "outputs": [],
      "source": [
        "# import vertexai\n",
        "\n",
        "# PROJECT_ID = \"[your-project-id]\"  # @param {type:\"string\"}\n",
        "# vertexai.init(project=PROJECT_ID, location=\"us-central1\")"
      ]
    },
    {
      "cell_type": "code",
      "execution_count": null,
      "metadata": {
        "id": "PyQmSRbKA8r-"
      },
      "outputs": [],
      "source": [
        "import pandas as pd\n",
        "from vertexai.language_models import TextGenerationModel"
      ]
    },
    {
      "cell_type": "markdown",
      "metadata": {
        "id": "UP76a2la7O-a"
      },
      "source": [
        "### 載入模型\n"
      ]
    },
    {
      "cell_type": "code",
      "execution_count": null,
      "metadata": {
        "id": "7isig7e07O-a"
      },
      "outputs": [],
      "source": [
        "generation_model = TextGenerationModel.from_pretrained(\"text-bison@001\")"
      ]
    },
    {
      "cell_type": "markdown",
      "metadata": {
        "id": "fIPcn5dZ7O-b"
      },
      "source": [
        "## 文本分類\n"
      ]
    },
    {
      "cell_type": "markdown",
      "metadata": {
        "id": "l2eDjxvafo5W"
      },
      "source": [
        "在以下部分，你將探索零次提示、少量提示和一些常見的文本分類任務類型。\n"
      ]
    },
    {
      "cell_type": "markdown",
      "metadata": {
        "id": "bC3qkPZ8jFkY"
      },
      "source": [
        "### 零樣本提示\n"
      ]
    },
    {
      "cell_type": "markdown",
      "metadata": {
        "id": "W8RFu2ZX_o_y"
      },
      "source": [
        "不標記引導是你不提供標籤的範例，並依賴 LLM 自行分類。\n"
      ]
    },
    {
      "cell_type": "code",
      "execution_count": null,
      "metadata": {
        "id": "_uNNGhC_e1nZ"
      },
      "outputs": [],
      "source": [
        "prompt = \"\"\"\n",
        "Classify the following:\\n\n",
        "text: \"I saw a furry animal in the park today with a long tail and big eyes.\"\n",
        "label: dogs, cats\n",
        "\"\"\"\n",
        "\n",
        "print(\n",
        "    generation_model.predict(\n",
        "        prompt=prompt,\n",
        "        max_output_tokens=256,\n",
        "        temperature=0.1,\n",
        "    ).text\n",
        ")"
      ]
    },
    {
      "cell_type": "markdown",
      "metadata": {
        "id": "tjl-tckTjK2B"
      },
      "source": [
        "### 少樣本提示\n"
      ]
    },
    {
      "cell_type": "markdown",
      "metadata": {
        "id": "5UC0w7n5_o_z"
      },
      "source": [
        "在少次數提示下，你可以向 PaLM 模型提供範例，並期望它根據提供的範例預測類別。\n"
      ]
    },
    {
      "cell_type": "code",
      "execution_count": null,
      "metadata": {
        "id": "b8jYL-hBjMtW"
      },
      "outputs": [],
      "source": [
        "prompt = \"\"\"\n",
        "What is the topic for a given news headline? \\n\n",
        "- business \\n\n",
        "- entertainment \\n\n",
        "- health \\n\n",
        "- sports \\n\n",
        "- technology \\n\\n\n",
        "\n",
        "Text: Pixel 7 Pro Expert Hands On Review. \\n\n",
        "The answer is: technology \\n\n",
        "\n",
        "Text: Quit smoking? \\n\n",
        "The answer is: health \\n\n",
        "\n",
        "Text: Birdies or bogeys? Top 5 tips to hit under par \\n\n",
        "The answer is: sports \\n\n",
        "\n",
        "Text: Relief from local minimum-wage hike looking more remote \\n\n",
        "The answer is: business \\n\n",
        "\n",
        "Text: You won't guess who just arrived in Bari, Italy for the movie premiere. \\n\n",
        "The answer is:\n",
        "\"\"\"\n",
        "\n",
        "print(\n",
        "    generation_model.predict(\n",
        "        prompt=prompt,\n",
        "        max_output_tokens=256,\n",
        "        temperature=0.1,\n",
        "    ).text\n",
        ")"
      ]
    },
    {
      "cell_type": "markdown",
      "metadata": {
        "id": "WaiMLs4SjNLi"
      },
      "source": [
        "### 其他分類範例\n"
      ]
    },
    {
      "cell_type": "markdown",
      "metadata": {
        "id": "LhkcRWrh_o_0"
      },
      "source": [
        "以下是基於零樣本提示的一些常用文本分類提示。你亦可提供你自己的客製文字範例及相關的輸出類別，以將其中一些提示轉換為少樣本提示。\n"
      ]
    },
    {
      "cell_type": "markdown",
      "metadata": {
        "id": "8tEjKEAtXjf8"
      },
      "source": [
        "#### 主題分類\n"
      ]
    },
    {
      "cell_type": "code",
      "execution_count": null,
      "metadata": {
        "id": "bCnuQRVSXmyr"
      },
      "outputs": [],
      "source": [
        "prompt = \"\"\"\n",
        "Classify a piece of text into one of several predefined topics, such as sports, politics, or entertainment. \\n\n",
        "text: President Biden will be visiting India in the month of March to discuss a few opportunites. \\n\n",
        "class:\n",
        "\"\"\"\n",
        "\n",
        "print(\n",
        "    generation_model.predict(\n",
        "        prompt=prompt,\n",
        "        max_output_tokens=256,\n",
        "        temperature=0.1,\n",
        "    ).text\n",
        ")"
      ]
    },
    {
      "cell_type": "markdown",
      "metadata": {
        "id": "rB6rZD-6YAkC"
      },
      "source": [
        "#### 垃圾訊息偵測\n"
      ]
    },
    {
      "cell_type": "code",
      "execution_count": null,
      "metadata": {
        "id": "OfyHvhBfX_P_"
      },
      "outputs": [],
      "source": [
        "prompt = \"\"\"\n",
        "Given an email, classify it as spam or not spam. \\n\n",
        "email: hi user, \\n\n",
        "      you have been selected as a winner of the lotery and can win upto 1 million dollar. \\n\n",
        "      kindly share your bank details and we can proceed from there. \\n\\n\n",
        "\n",
        "      from, \\n\n",
        "      US Official Lottry Depatmint\n",
        "\"\"\"\n",
        "\n",
        "print(\n",
        "    generation_model.predict(\n",
        "        prompt=prompt,\n",
        "        max_output_tokens=256,\n",
        "        temperature=0.1,\n",
        "    ).text\n",
        ")"
      ]
    },
    {
      "cell_type": "markdown",
      "metadata": {
        "id": "cHKcxx0TYrGv"
      },
      "source": [
        "#### 意圖識別\n"
      ]
    },
    {
      "cell_type": "code",
      "execution_count": null,
      "metadata": {
        "id": "DsseGvWNYvK3"
      },
      "outputs": [],
      "source": [
        "prompt = \"\"\"\n",
        "Given a user's input, classify their intent, such as \"finding information\", \"making a reservation\", or \"placing an order\". \\n\n",
        "user input: Hi, can you please book a table for two at Juan for May 1?\n",
        "\"\"\"\n",
        "\n",
        "print(\n",
        "    generation_model.predict(\n",
        "        prompt=prompt,\n",
        "        max_output_tokens=256,\n",
        "        temperature=0.1,\n",
        "    ).text\n",
        ")"
      ]
    },
    {
      "cell_type": "markdown",
      "metadata": {
        "id": "stsfav5aZtqV"
      },
      "source": [
        "#### 語言辨識\n"
      ]
    },
    {
      "cell_type": "code",
      "execution_count": null,
      "metadata": {
        "id": "88TqQSXIZxts"
      },
      "outputs": [],
      "source": [
        "prompt = \"\"\"\n",
        "Given a piece of text, classify the language it is written in. \\n\n",
        "text: Selam nasıl gidiyor?\n",
        "language:\n",
        "\"\"\"\n",
        "\n",
        "print(\n",
        "    generation_model.predict(\n",
        "        prompt=prompt,\n",
        "        max_output_tokens=256,\n",
        "        temperature=0.1,\n",
        "    ).text\n",
        ")"
      ]
    },
    {
      "cell_type": "markdown",
      "metadata": {
        "id": "3Z_jmrhOZ15J"
      },
      "source": [
        "#### 毒性偵測\n"
      ]
    },
    {
      "cell_type": "code",
      "execution_count": null,
      "metadata": {
        "id": "Umloy-o1Z5us"
      },
      "outputs": [],
      "source": [
        "prompt = \"\"\"\n",
        "Given a piece of text, classify it as toxic or non-toxic. \\n\n",
        "text: i love sunny days\n",
        "\"\"\"\n",
        "\n",
        "print(\n",
        "    generation_model.predict(\n",
        "        prompt=prompt,\n",
        "        max_output_tokens=256,\n",
        "        temperature=0.1,\n",
        "    ).text\n",
        ")"
      ]
    },
    {
      "cell_type": "markdown",
      "metadata": {
        "id": "rTH5MeiVZ6Hr"
      },
      "source": [
        "#### 情緒偵測\n"
      ]
    },
    {
      "cell_type": "code",
      "execution_count": null,
      "metadata": {
        "id": "u5ETwBSrZ-Xn"
      },
      "outputs": [],
      "source": [
        "prompt = \"\"\"\n",
        "Given a piece of text, classify the emotion it conveys, such as happiness, or anger. \\n\n",
        "text: I'm still so delighted from yesterday's news\n",
        "\"\"\"\n",
        "\n",
        "print(\n",
        "    generation_model.predict(\n",
        "        prompt=prompt,\n",
        "        max_output_tokens=256,\n",
        "        temperature=0.1,\n",
        "    ).text\n",
        ")"
      ]
    },
    {
      "cell_type": "markdown",
      "metadata": {
        "id": "7ddaadac64c7"
      },
      "source": [
        "### 評估\n"
      ]
    },
    {
      "cell_type": "markdown",
      "metadata": {
        "id": "d5e2266cb257"
      },
      "source": [
        "如果你有該分類任務的真實類別，你可以評估它的輸出的執行結果。為了展示此運作方法，首先透過一個簡單的資料框建立產品評論和真實情緒。\n"
      ]
    },
    {
      "cell_type": "code",
      "execution_count": null,
      "metadata": {
        "id": "b0e04a03f24f"
      },
      "outputs": [],
      "source": [
        "review_data = {\n",
        "    \"review\": [\n",
        "        \"i love this product. it does have everything i am looking for!\",\n",
        "        \"all i can say is that you will be happy after buying this product\",\n",
        "        \"its way too expensive and not worth the price\",\n",
        "        \"i am feeling okay. its neither good nor too bad.\",\n",
        "    ],\n",
        "    \"sentiment_groundtruth\": [\"positive\", \"positive\", \"negative\", \"neutral\"],\n",
        "}\n",
        "\n",
        "review_data_df = pd.DataFrame(review_data)\n",
        "review_data_df"
      ]
    },
    {
      "cell_type": "markdown",
      "metadata": {
        "id": "088327f41a26"
      },
      "source": [
        "現在你擁有檢視和意見的資料，並作為事實標籤，你可以使用 `apply` 函式針對每個檢視列來呼叫文字產生模型。 每列都將使用 `review` 欄中的提示使用 PaLM API 預測意見，並將結果儲存在 `sentiment_prediction` 欄中。\n"
      ]
    },
    {
      "cell_type": "code",
      "execution_count": null,
      "metadata": {
        "id": "0fb691b6c721"
      },
      "outputs": [],
      "source": [
        "def get_sentiment(row):\n",
        "    prompt = f\"\"\"Classify the sentiment of the following review as \"positive\", \"neutral\" and \"negative\". \\n\\n\n",
        "                review: {row} \\n\n",
        "                sentiment:\n",
        "              \"\"\"\n",
        "    response = generation_model.predict(prompt=prompt).text\n",
        "    return response\n",
        "\n",
        "\n",
        "review_data_df[\"sentiment_prediction\"] = review_data_df[\"review\"].apply(get_sentiment)\n",
        "review_data_df"
      ]
    },
    {
      "cell_type": "markdown",
      "metadata": {
        "id": "908c72bdf4c7"
      },
      "source": [
        "最後，你可以呼叫 scikit-learn 中的 `classification_report` 函式，傳遞實際標籤 `sentiment_groundtruth` 和預測標籤 `sentiment_prediction`，以度量準確性和其他分類指標：\n"
      ]
    },
    {
      "cell_type": "code",
      "execution_count": null,
      "metadata": {
        "id": "7f22690ae395"
      },
      "outputs": [],
      "source": [
        "from sklearn.metrics import classification_report\n",
        "\n",
        "print(\n",
        "    classification_report(\n",
        "        review_data_df[\"sentiment_groundtruth\"], review_data_df[\"sentiment_prediction\"]\n",
        "    )\n",
        ")"
      ]
    }
  ],
  "metadata": {
    "colab": {
      "name": "text_classification.ipynb",
      "toc_visible": true
    },
    "environment": {
      "kernel": "python3",
      "name": "tf2-gpu.2-11.m108",
      "type": "gcloud",
      "uri": "gcr.io/deeplearning-platform-release/tf2-gpu.2-11:m108"
    },
    "kernelspec": {
      "display_name": "Python 3 (ipykernel)",
      "language": "python",
      "name": "python3"
    },
    "language_info": {
      "codemirror_mode": {
        "name": "ipython",
        "version": 3
      },
      "file_extension": ".py",
      "mimetype": "text/x-python",
      "name": "python",
      "nbconvert_exporter": "python",
      "pygments_lexer": "ipython3",
      "version": "3.10.10"
    }
  },
  "nbformat": 4,
  "nbformat_minor": 4
}