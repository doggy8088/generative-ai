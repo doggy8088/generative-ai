{
  "cells": [
    {
      "cell_type": "code",
      "execution_count": null,
      "metadata": {
        "id": "ijGzTHJJUCPY"
      },
      "outputs": [],
      "source": [
        "# Copyright 2023 Google LLC\n",
        "#\n",
        "# Licensed under the Apache License, Version 2.0 (the \"License\");\n",
        "# you may not use this file except in compliance with the License.\n",
        "# You may obtain a copy of the License at\n",
        "#\n",
        "#     https://www.apache.org/licenses/LICENSE-2.0\n",
        "#\n",
        "# Unless required by applicable law or agreed to in writing, software\n",
        "# distributed under the License is distributed on an \"AS IS\" BASIS,\n",
        "# WITHOUT WARRANTIES OR CONDITIONS OF ANY KIND, either express or implied.\n",
        "# See the License for the specific language governing permissions and\n",
        "# limitations under the License."
      ]
    },
    {
      "cell_type": "markdown",
      "metadata": {
        "id": "VEqbX8OhE8y9"
      },
      "source": [
        "# Vertex AI Codey API 入門 - 程式碼完成功能\n",
        "\n",
        "<table align=\"left\">\n",
        "  <td style=\"text-align: center\">\n",
        "    <a href=\"https://colab.research.google.com/github/doggy8088/generative-ai/blob/main/language/code/code_completion.zh.ipynb\">\n",
        "      <img src=\"https://cloud.google.com/ml-engine/images/colab-logo-32px.png\" alt=\"Google Colaboratory 標誌\"><br> Run in Colab\n",
        "    </a>\n",
        "  </td>\n",
        "  <td style=\"text-align: center\">\n",
        "    <a href=\"https://github.com/doggy8088/generative-ai/blob/main/language/code/code_completion.zh.ipynb\">\n",
        "      <img src=\"https://cloud.google.com/ml-engine/images/github-logo-32px.png\" alt=\"GitHub 標誌\"><br> 在 GitHub 上檢視\n",
        "    </a>\n",
        "  </td>\n",
        "  <td style=\"text-align: center\">\n",
        "    <a href=\"https://console.cloud.google.com/vertex-ai/workbench/deploy-notebook?download_url=https://raw.githubusercontent.com/doggy8088/generative-ai/blob/main/language/code/code_completion.zh.ipynb\">\n",
        "      <img src=\"https://lh3.googleusercontent.com/UiNooY4LUgW_oTvpsNhPpQzsstV5W8F7rYgxgGBD85cWJoLmrOzhVs_ksK_vgx40SHs7jCqkTkCk=e14-rj-sc0xffffff-h130-w32\" alt=\"Vertex AI 標誌\"><br> 在 Vertex AI Workbench 中開啟\n",
        "    </a>\n",
        "  </td>\n",
        "</table>\n"
      ]
    },
    {
      "cell_type": "markdown",
      "metadata": {},
      "source": [
        "| | |\n",
        "|-|-|\n",
        "|作者 | [Lavi Nigam](https://github.com/lavinigam-gcp), [Polong Lin](https://github.com/polong-lin) |\n"
      ]
    },
    {
      "cell_type": "markdown",
      "metadata": {
        "id": "VK1Q5ZYdVL4Y"
      },
      "source": [
        "## 概要\n",
        "\n",
        "此筆記本旨在提供一個使用 [Codey 模型](https://cloud.google.com/vertex-ai/docs/generative-ai/code/code-models-overview)(特別是 `code-gecko` 模型) 進行程式碼完成的實作入門。你將會學習如何建立提示，與 `code-gecko` 模型互動，並根據你編寫的程式碼脈絡產生程式碼建議。\n",
        "\n",
        "\n",
        "### Vertex AI PaLM API\n",
        "Vertex AI PaLM API，[於 2023 年 5 月 10 日發布](https://cloud.google.com/vertex-ai/docs/generative-ai/release-notes#may_10_2023)，由 [PaLM 2](https://ai.google/discover/palm2) 支援。\n",
        "\n",
        "### 使用 Vertex AI PaLM API\n",
        "\n",
        "你可以使用以下方法與 Vertex AI PaLM API 互動：\n",
        "\n",
        "* 使用 [Generative AI Studio](https://cloud.google.com/generative-ai-studio) 進行快速測試和指令產生。\n",
        "* 在 Cloud Shell 中使用 cURL 指令。\n",
        "* 在 Jupyter 筆記本中使用 Python SDK\n",
        "\n",
        "本筆記本著重於使用 Python SDK 來呼叫 Vertex AI PaLM API。如要取得關於不撰寫程式碼即可使用 Generative AI Studio 的更多資訊，可以探索 [UI 指令入門](https://github.com/doggy8088/generative-ai/blob/main/language/intro_vertex_ai_studio.md)。\n",
        "\n",
        "\n",
        "如要取得更多資訊，請查看 [Vertex AI 生成式 AI 支援文件](https://cloud.google.com/vertex-ai/docs/generative-ai/learn/overview)。\n"
      ]
    },
    {
      "cell_type": "markdown",
      "metadata": {
        "id": "RQT500QqVPIb"
      },
      "source": [
        "### 目標\n",
        "\n",
        "在這個教學課程中，你將學習各種程式碼完成範例，以完成：\n",
        "* 函式\n",
        "* 類別\n",
        "* 語句\n",
        "* 表達式及變數\n",
        "* 匯入\n"
      ]
    },
    {
      "cell_type": "markdown",
      "metadata": {
        "id": "1y6_3dTwV2fI"
      },
      "source": [
        "### 費用\n",
        "本教學指南使用 Google\n",
        "Cloud 的計費元件：\n",
        "\n",
        "* Vertex AI Generative AI Studio\n",
        "\n",
        "了解 [Vertex AI 定價](https://cloud.google.com/vertex-ai/pricing)\n",
        "，並使用 [定價計算器](https://cloud.google.com/products/calculator/)\n",
        "，根據預計用量產生成本估算。\n"
      ]
    },
    {
      "cell_type": "markdown",
      "metadata": {
        "id": "QDU0XJ1xRDlL"
      },
      "source": [
        "## 開始使用\n"
      ]
    },
    {
      "cell_type": "markdown",
      "metadata": {
        "id": "N5afkyDMSBW5"
      },
      "source": [
        "### 安裝 Vertex AI SDK\n"
      ]
    },
    {
      "cell_type": "code",
      "execution_count": null,
      "metadata": {
        "id": "kc4WxYmLSBW5",
        "tags": []
      },
      "outputs": [],
      "source": [
        "!pip install google-cloud-aiplatform --upgrade --user"
      ]
    },
    {
      "cell_type": "markdown",
      "metadata": {
        "id": "j7UyNVSiyQ96"
      },
      "source": [
        "**僅限 Colab：** 取消以下Cell註解以重新啟動核心或使用按鈕重新啟動核心。對於 Vertex AI Workbench，你可以使用右上方的按鈕重新啟動終端機。\n"
      ]
    },
    {
      "cell_type": "code",
      "execution_count": null,
      "metadata": {
        "id": "YmY9HVVGSBW5"
      },
      "outputs": [],
      "source": [
        "# Automatically restart kernel after installs so that your environment can access the new packages\n",
        "import IPython\n",
        "\n",
        "app = IPython.Application.instance()\n",
        "app.kernel.do_shutdown(True)"
      ]
    },
    {
      "cell_type": "markdown",
      "metadata": {
        "id": "6Fom0ZkMSBW6"
      },
      "source": [
        "### 驗證筆記本環境\n",
        "* 如果你使用 **Colab** 執行此筆記本，取消註解下方的Cell並繼續。\n",
        "* 如果你使用 **Vertex AI 工作台** ，請查看[此處](https://github.com/doggy8088/generative-ai/tree/main/setup-env)的設定說明。\n"
      ]
    },
    {
      "cell_type": "code",
      "execution_count": null,
      "metadata": {
        "id": "LCaCx6PLSBW6"
      },
      "outputs": [],
      "source": [
        "# from google.colab import auth\n",
        "# auth.authenticate_user()"
      ]
    },
    {
      "cell_type": "markdown",
      "metadata": {
        "id": "GckO4EysV5BT"
      },
      "source": [
        "## 程式碼補完\n"
      ]
    },
    {
      "cell_type": "markdown",
      "metadata": {
        "id": "BDYqwDmTLgEy"
      },
      "source": [
        "什麼是程式碼補完功能？\n",
        "\n",
        "程式碼補完功能是許多整合開發環境 (IDE) 的功能，可在程式員輸入時，建議輸入的程式碼。這可以節省時間，並有助於避免錯誤。程式碼補完建議會依據正在編寫的程式碼的內容而定，例如程式語言、目前的程式碼列，以及已定義的變數。\n",
        "\n",
        "\n",
        "\n",
        "使用程式碼補完功能的好處？\n",
        "\n",
        "一般而言，使用程式碼補完功能有好幾項好處，包括：\n",
        "\n",
        "* **提升生產力：** 程式碼補完功能可以在程式員輸入時提供程式碼建議，這樣可以為程式員省下許多時間。這可以讓他們騰出時間專注執行其他任務，例如設計軟體的架構或偵錯程式碼。\n",
        "\n",
        "* **減少錯誤：** 程式碼補完功能可以建議語法正確且語意有意義的程式碼，有助於減少錯誤。當程式員使用陌生的或不熟悉的程式語言或 API 時，它會特別有幫助。\n",
        "\n",
        "* **改善程式碼品質：** 程式碼補完功能可以建議與專案的樣式指南相符的程式碼，有助於改善程式碼品質。這可以讓程式碼更易於閱讀和維護。\n",
        "\n",
        "\n",
        "程式碼補完和 IDE 整合：\n",
        "\n",
        "當透過 Codey Model 的程式碼補完功能與 IDE 整合時，它可能會更加強大。IDE 可以利用其對專案架構和程式碼庫的瞭解，提供更準確且相關的建議。例如，如果程式員在類別中輸入程式碼，IDE 可以建議從該類別傳送的方法和欄位。\n",
        "\n",
        "以下是使用與不同 IDE 整合的程式碼補完功能的好處：\n",
        "\n",
        "* **提升生產力：** 程式碼補完功能可以幫助程式員更快速、更準確地撰寫程式碼，這可能帶來顯著的生產力提升。\n",
        "* **改善程式碼品質：** 程式碼補完功能可以幫助程式員避免錯誤和輸入錯誤，它也可以建議更高效率且慣用的程式碼。\n",
        "* **提升程式碼可讀性：** 程式碼補完功能可以建議一致的變數名稱和函式簽章，有助於程式員撰寫出可讀性和可維護性較高的程式碼。\n",
        "* **縮短學習曲線：** 程式碼補完功能可以建議程式員使用正確的符號和函式，有助於新手程式員更快地學習新的語言和架構。\n"
      ]
    },
    {
      "cell_type": "markdown",
      "metadata": {
        "id": "BuQwwRiniVFG"
      },
      "source": [
        "### 匯入函式庫\n"
      ]
    },
    {
      "cell_type": "markdown",
      "metadata": {
        "id": "Vnq2kIV8yQ97"
      },
      "source": [
        "**僅限 Colab：** 取消下方單元格的註解，以初始化 Vertex AI SDK。對於 Vertex AI Workbench，不需要執行此動作。\n"
      ]
    },
    {
      "cell_type": "code",
      "execution_count": null,
      "metadata": {
        "id": "rtMowvm-yQ97"
      },
      "outputs": [],
      "source": [
        "# import vertexai\n",
        "\n",
        "# PROJECT_ID = \"\"  # @param {type:\"string\"}\n",
        "# vertexai.init(project=PROJECT_ID, location=\"us-central1\")"
      ]
    },
    {
      "cell_type": "code",
      "execution_count": null,
      "metadata": {
        "id": "4zjV4alsiVql"
      },
      "outputs": [],
      "source": [
        "from IPython.display import Markdown, display\n",
        "from vertexai.language_models import CodeGenerationModel"
      ]
    },
    {
      "attachments": {},
      "cell_type": "markdown",
      "metadata": {
        "id": "5B1PlCAr3GQi"
      },
      "source": [
        "## 程式碼補完 with code-gecko@002\n"
      ]
    },
    {
      "cell_type": "markdown",
      "metadata": {
        "id": "wzoNuCqd3pbn"
      },
      "source": [
        "Vertex AI Codey API 包括程式碼完成 API，支援基於最近編寫的程式碼提供程式碼建議。使用命名為 `code-gecko` 的生成式 AI 基礎模型與程式碼完成 API 互動。\n",
        "\n",
        "若要深入瞭解如何為程式碼完成建立提示，請參閱 [建立程式碼完成提示](https://cloud.google.com/vertex-ai/docs/generative-ai/model-reference/code-completion#:~:text=code%20completion%2C%20see-,Create%20prompts%20for%20code%20completion,-.).\n",
        "\n",
        "程式碼完成 API 的參數比程式碼生成多一些。\n",
        "\n",
        "* prefix：必要：對於程式碼模型，prefix 代表有意義的程式碼片段開頭，或用於描述要產生的程式碼的自然語言提示。\n",
        "\n",
        "* suffix：可選：對於程式碼完成，suffix 代表有意義的程式碼片段結尾。模型會嘗試填補 prefix 與 suffix 之間的程式碼。\n",
        "\n",
        "* temperature：必要：溫度控制 Token 選擇的隨機程度。與其他模型相同。範圍：(0.0 - 1.0，預設 0)\n",
        "\n",
        "* maxOutputTokens：必要：回應中可以產生的最大 Token 數。範圍：(1 - 64，預設 64)\n",
        "\n",
        "* stopSequences：可選：指定字串清單，告知模型如果在回應中遇到其中一個字串，就停止產生文字。這些字串區分大小寫。\n"
      ]
    },
    {
      "cell_type": "markdown",
      "metadata": {
        "id": "H6AzUJLt-ihw"
      },
      "source": [
        "### 載入模型\n"
      ]
    },
    {
      "cell_type": "code",
      "execution_count": null,
      "metadata": {
        "id": "GqGueQgG3pAA"
      },
      "outputs": [],
      "source": [
        "code_completion_model = CodeGenerationModel.from_pretrained(\"code-gecko@latest\")"
      ]
    },
    {
      "cell_type": "markdown",
      "metadata": {
        "id": "WIiZZHJAC0jC"
      },
      "source": [
        "### Hello Codey Completion\n"
      ]
    },
    {
      "cell_type": "markdown",
      "metadata": {
        "id": "hbChNT8v2TfB"
      },
      "source": [
        "#### Python\n"
      ]
    },
    {
      "cell_type": "code",
      "execution_count": null,
      "metadata": {
        "id": "gEv1Ymoi024h"
      },
      "outputs": [],
      "source": [
        "prefix = \"\"\"def find_x_in_string(string_s, x):\n",
        "\n",
        "         \"\"\"\n",
        "\n",
        "response = code_completion_model.predict(prefix=prefix, max_output_tokens=64)\n",
        "\n",
        "print(response.text)"
      ]
    },
    {
      "cell_type": "code",
      "execution_count": null,
      "metadata": {
        "id": "F5s-BLCe1EoL"
      },
      "outputs": [],
      "source": [
        "prefix = \"\"\"\n",
        "         def reverse_string(s):\n",
        "            return s[::-1]\n",
        "         def test_empty_input_string():\n",
        "         \"\"\"\n",
        "\n",
        "response = code_completion_model.predict(prefix=prefix, max_output_tokens=64)\n",
        "\n",
        "print(response.text)"
      ]
    },
    {
      "cell_type": "markdown",
      "metadata": {
        "id": "sbJNHw8F2Vox"
      },
      "source": [
        "#### Java\n"
      ]
    },
    {
      "cell_type": "code",
      "execution_count": null,
      "metadata": {
        "id": "4Rf3hWGwhfm8"
      },
      "outputs": [],
      "source": [
        "prefix = \"\"\"\n",
        "        ArrayList<String> myList = new ArrayList<>();\n",
        "        //add the `String` \"Hello, world!\" to the `ArrayList`:\n",
        "         \"\"\"\n",
        "\n",
        "response = code_completion_model.predict(prefix=prefix, max_output_tokens=64)\n",
        "\n",
        "print(response.text)"
      ]
    },
    {
      "cell_type": "code",
      "execution_count": null,
      "metadata": {
        "id": "4PpD90a0_6ju"
      },
      "outputs": [],
      "source": [
        "prefix = \"\"\"\n",
        "        public static List<String> getUniqueStrings(List<String> strings) {\n",
        "         \"\"\"\n",
        "\n",
        "response = code_completion_model.predict(prefix=prefix, max_output_tokens=64)\n",
        "\n",
        "print(response.text)"
      ]
    },
    {
      "cell_type": "code",
      "execution_count": null,
      "metadata": {
        "id": "YjfaCNwPAIn-"
      },
      "outputs": [],
      "source": [
        "prefix = \"\"\"\n",
        "        String[] names = {\"Alice\", \"Bob\", \"Carol\"};\n",
        "        for (String name : names) {\n",
        "         \"\"\"\n",
        "\n",
        "response = code_completion_model.predict(prefix=prefix, max_output_tokens=64)\n",
        "\n",
        "print(response.text)"
      ]
    },
    {
      "cell_type": "markdown",
      "metadata": {
        "id": "x3zuhvxr2YAD"
      },
      "source": [
        "#### JavaScript\n"
      ]
    },
    {
      "cell_type": "code",
      "execution_count": null,
      "metadata": {
        "id": "a8XN7je52bwU"
      },
      "outputs": [],
      "source": [
        "prefix = \"\"\"\n",
        "        #javaScript\n",
        "        function factorial(n) {\n",
        "         \"\"\"\n",
        "\n",
        "response = code_completion_model.predict(prefix=prefix, max_output_tokens=64)\n",
        "\n",
        "print(response.text)"
      ]
    },
    {
      "cell_type": "code",
      "execution_count": null,
      "metadata": {
        "id": "Q821xI-YAZaL"
      },
      "outputs": [],
      "source": [
        "prefix = \"\"\"\n",
        "        function greet(name) {\n",
        "            return \"Hello, \" + name + \"!\";\n",
        "          }\n",
        "        const greeting = greet(YOUR_NAME_HERE);\n",
        "         \"\"\"\n",
        "\n",
        "response = code_completion_model.predict(prefix=prefix)\n",
        "\n",
        "print(response.text)"
      ]
    },
    {
      "cell_type": "markdown",
      "metadata": {
        "id": "LbCu3EhW2cJb"
      },
      "source": [
        "#### C/C++\n"
      ]
    },
    {
      "cell_type": "code",
      "execution_count": null,
      "metadata": {
        "id": "uZiieZxc2gfS"
      },
      "outputs": [],
      "source": [
        "prefix = \"\"\"\n",
        "        int main() {\n",
        "          char str[] = \"Hello, world!\";\n",
        "         \"\"\"\n",
        "\n",
        "response = code_completion_model.predict(prefix=prefix)\n",
        "\n",
        "print(response.text)"
      ]
    },
    {
      "cell_type": "code",
      "execution_count": null,
      "metadata": {
        "id": "1hi0HfUXAxqE"
      },
      "outputs": [],
      "source": [
        "prefix = \"\"\"\n",
        "        LinkedList linkedList;\n",
        "\n",
        "        linkedList.addNode(1);\n",
        "        linkedList.addNode(2);\n",
        "        linkedList.addNode(3);\n",
        "\n",
        "        int value =\n",
        "         \"\"\"\n",
        "\n",
        "response = code_completion_model.predict(prefix=prefix)\n",
        "\n",
        "print(response.text)"
      ]
    },
    {
      "cell_type": "markdown",
      "metadata": {
        "id": "uWXz1C_76o9E"
      },
      "source": [
        "### 碼完成範例：\n"
      ]
    },
    {
      "cell_type": "markdown",
      "metadata": {
        "id": "Ps90YZ0j6sKV"
      },
      "source": [
        "#### 完成函式\n"
      ]
    },
    {
      "cell_type": "code",
      "execution_count": null,
      "metadata": {
        "id": "FI85Rua46vka"
      },
      "outputs": [],
      "source": [
        "prefix = \"\"\"import math\n",
        "            # Start typing the name of a function\n",
        "            def sqrt(x):\n",
        "         \"\"\"\n",
        "\n",
        "response = code_completion_model.predict(prefix=prefix, max_output_tokens=64)\n",
        "\n",
        "print(response.text)"
      ]
    },
    {
      "cell_type": "code",
      "execution_count": null,
      "metadata": {
        "id": "XQdfz1qU8i_1"
      },
      "outputs": [],
      "source": [
        "prefix = \"\"\"def greet(name):\n",
        "              print(f\"Hello, {name}!\")\n",
        "\n",
        "            # Call the greet() function\n",
        "         \"\"\"\n",
        "\n",
        "response = code_completion_model.predict(prefix=prefix, max_output_tokens=64)\n",
        "\n",
        "print(response.text)"
      ]
    },
    {
      "cell_type": "markdown",
      "metadata": {
        "id": "u_7wnlUb7SmJ"
      },
      "source": [
        "#### 完課\n"
      ]
    },
    {
      "cell_type": "code",
      "execution_count": null,
      "metadata": {
        "id": "cMTM-3oA7acY"
      },
      "outputs": [],
      "source": [
        "prefix = \"\"\"class Dog:\n",
        "              def bark(self):\n",
        "                print(\"Woof!\")\n",
        "\n",
        "            # Create a new Dog object\n",
        "          \"\"\"\n",
        "response = code_completion_model.predict(prefix=prefix, max_output_tokens=64)\n",
        "\n",
        "print(response.text)"
      ]
    },
    {
      "cell_type": "code",
      "execution_count": null,
      "metadata": {
        "id": "81ylPG1676y8"
      },
      "outputs": [],
      "source": [
        "prefix = \"\"\"class Person:\n",
        "              #Represents a person.\n",
        "              def __init__(self, name, age):\n",
        "                self.name = name\n",
        "                self.age = age\n",
        "\n",
        "            # Start typing the name of the Person class\n",
        "            Person(\n",
        "          \"\"\"\n",
        "response = code_completion_model.predict(prefix=prefix, max_output_tokens=64)\n",
        "\n",
        "print(response.text)"
      ]
    },
    {
      "cell_type": "markdown",
      "metadata": {
        "id": "MOg3nQHR7qs-"
      },
      "source": [
        "#### 完成功能敘述\n"
      ]
    },
    {
      "cell_type": "code",
      "execution_count": null,
      "metadata": {
        "id": "QNBjFgl47tFn"
      },
      "outputs": [],
      "source": [
        "prefix = \"\"\"if age >= 21:\n",
        "              print(\"You are an adult. \")\n",
        "         \"\"\"\n",
        "response = code_completion_model.predict(prefix=prefix, max_output_tokens=64)\n",
        "\n",
        "print(response.text)"
      ]
    },
    {
      "cell_type": "code",
      "execution_count": null,
      "metadata": {
        "id": "1SHI4knA8TqF"
      },
      "outputs": [],
      "source": [
        "prefix = \"\"\"if x < 10:\n",
        "              # Complete the statement\n",
        "         \"\"\"\n",
        "response = code_completion_model.predict(prefix=prefix, max_output_tokens=64)\n",
        "\n",
        "print(response.text)"
      ]
    },
    {
      "cell_type": "markdown",
      "metadata": {
        "id": "M6Yja9SS9PRq"
      },
      "source": [
        "#### 補充表達式\n"
      ]
    },
    {
      "cell_type": "code",
      "execution_count": null,
      "metadata": {
        "id": "8Boqfqa_9Riv"
      },
      "outputs": [],
      "source": [
        "prefix = \"\"\"x = 10 +\n",
        "         \"\"\"\n",
        "response = code_completion_model.predict(prefix=prefix, max_output_tokens=64)\n",
        "\n",
        "print(response.text)"
      ]
    },
    {
      "cell_type": "code",
      "execution_count": null,
      "metadata": {
        "id": "AellPWeD-JT-"
      },
      "outputs": [],
      "source": [
        "prefix = \"\"\"1 + 2 * 3\n",
        "         \"\"\"\n",
        "response = code_completion_model.predict(prefix=prefix, max_output_tokens=64)\n",
        "\n",
        "print(response.text)"
      ]
    },
    {
      "cell_type": "markdown",
      "metadata": {
        "id": "PfjQEvm89UPI"
      },
      "source": [
        "#### 完成變數\n"
      ]
    },
    {
      "cell_type": "code",
      "execution_count": null,
      "metadata": {
        "id": "LZ2hdfCQ9TC1"
      },
      "outputs": [],
      "source": [
        "prefix = \"\"\"# Define a variable\n",
        "            name = \"Alice\"\n",
        "            #get uppercase of the variable\n",
        "            name.upper()\n",
        "         \"\"\"\n",
        "response = code_completion_model.predict(prefix=prefix, max_output_tokens=64)\n",
        "\n",
        "print(response.text)"
      ]
    },
    {
      "cell_type": "code",
      "execution_count": null,
      "metadata": {
        "id": "xaat-Ar8-YGk"
      },
      "outputs": [],
      "source": [
        "prefix = \"\"\"x = 10\n",
        "            y = x +\n",
        "         \"\"\"\n",
        "response = code_completion_model.predict(prefix=prefix, max_output_tokens=64)\n",
        "\n",
        "print(response.text)"
      ]
    },
    {
      "cell_type": "markdown",
      "metadata": {
        "id": "g6RJZuoz9YGh"
      },
      "source": [
        "#### 完成匯入\n"
      ]
    },
    {
      "cell_type": "code",
      "execution_count": null,
      "metadata": {
        "id": "zqDKbWeY9X0g"
      },
      "outputs": [],
      "source": [
        "prefix = \"\"\"import math\n",
        "            import numpy as np\n",
        "            #import machine learning libraries\n",
        "         \"\"\"\n",
        "response = code_completion_model.predict(prefix=prefix, max_output_tokens=64)\n",
        "\n",
        "print(response.text)"
      ]
    },
    {
      "cell_type": "code",
      "execution_count": null,
      "metadata": {
        "id": "KmTs_-9P-k3O"
      },
      "outputs": [],
      "source": [
        "prefix = \"\"\"import math\n",
        "            import time\n",
        "            import random\n",
        "            import sys\n",
        "         \"\"\"\n",
        "response = code_completion_model.predict(prefix=prefix, max_output_tokens=64)\n",
        "\n",
        "print(response.text)"
      ]
    },
    {
      "cell_type": "markdown",
      "metadata": {
        "id": "l5gHEM_k2lCf"
      },
      "source": [
        "### 迴饋循環程式碼補完\n"
      ]
    },
    {
      "cell_type": "code",
      "execution_count": null,
      "metadata": {
        "id": "Jl8rGgVq2lXj"
      },
      "outputs": [],
      "source": [
        "prefix = \"def find_max_element(list):\"\n",
        "i = 0\n",
        "while i < 3:\n",
        "    response = code_completion_model.predict(\n",
        "        prefix=prefix,\n",
        "    )\n",
        "    print(response.text)\n",
        "    prefix = response.text\n",
        "    i += 1"
      ]
    },
    {
      "cell_type": "code",
      "execution_count": null,
      "metadata": {
        "id": "i8ORkzaACFm1"
      },
      "outputs": [],
      "source": [
        "prefix = \"\"\"class Dog:\n",
        "              def bark(self):\n",
        "                print(\"Woof!\")\n",
        "          \"\"\"\n",
        "i = 0\n",
        "while i < 3:\n",
        "    response = code_completion_model.predict(\n",
        "        prefix=prefix,\n",
        "    )\n",
        "    print(response.text)\n",
        "    prefix = response.text\n",
        "    i += 1"
      ]
    },
    {
      "cell_type": "markdown",
      "metadata": {
        "id": "X32dfzSDCWyh"
      },
      "source": [
        "### 最佳實務\n"
      ]
    },
    {
      "cell_type": "markdown",
      "metadata": {
        "id": "YMQ6v5a1CZtf"
      },
      "source": [
        "#### **如何撰寫有效的程式碼補全提示** \n",
        "\n",
        "在撰寫程式碼補全提示時，具體並描述得越詳細越好。提供給模型更多的資訊，它就能越了解你要達成的目標。\n",
        "\n",
        "以下是撰寫有效程式碼補全提示的一些秘訣：\n",
        "\n",
        "* 以自然語言說明模型要產生的內容作為開頭。這必須是你目標的明確且簡潔敘述，例如「完成下列函式以列印兩個數字的總和」或「產生一個函式來檢查字串是否為迴文」。\n",
        "\n",
        "* 在提示中包含任何相關語境。這可以包含你已經撰寫的程式碼、你使用的程式語言或模型可能需要知道的其他資訊。\n",
        "\n",
        "* 使用範例來說明你要找什麼。如果你可以，提供模型所需產生的程式碼範例。這將有助於模型更了解你的意圖。\n",
        "以下是一個良好的程式碼補全提示範例：\n",
        "\n",
        "\n",
        "\n",
        "\n",
        "```\n",
        "完成下列 Python 函式以檢查字串是否為迴文：\n",
        "\n",
        "def is_palindrome(string):\n",
        "  \"\"\"檢查字串是否為迴文。\n",
        "\n",
        "  Args：\n",
        "    字串：字串。\n",
        "\n",
        "  傳回：\n",
        "    布林值，表示該字串是否為迴文。\n",
        "  \"\"\"\n",
        "  # TODO：實作此函式。\n",
        "```\n"
      ]
    },
    {
      "cell_type": "markdown",
      "metadata": {
        "id": "YMvw6dDjCwLc"
      },
      "source": [
        "#### **如何選擇合適的溫度和最大輸出 Token** \n",
        "\n",
        "溫度和最大輸出 Token 是控制程式碼完成模型行為的兩個重要參數。\n",
        "\n",
        "* 溫度：溫度控制著模型的創造力。較高的溫度將導致更多有創意和出乎意料的建議，而較低的溫度會導致更加保守和可預測的建議。\n",
        "\n",
        "* 最大輸出 Token：最大輸出 Token 控制著模型可以生成的程式碼的最大長度。較高的最大輸出 Token 將允許模型產生更長的程式碼片段，而較低的輸出 Token 將限制所產生程式碼的長度。\n",
        "\n",
        "在選擇正確的溫度和最大輸出 Token 時，考慮你嘗試完成的具體任務非常重要。如果你需要該模型產生有創意和出乎意料的建議，則應該使用較高的溫度。如果你需要該模型產生特定長度的程式碼片段，則應該使用適當的最大輸出 Token。\n"
      ]
    },
    {
      "cell_type": "markdown",
      "metadata": {
        "id": "6asQyDqrC8Lq"
      },
      "source": [
        "**#### 如何解讀和使用程式碼完成建議** \n",
        "\n",
        "一旦你生成了某些程式碼完成建議，仔細解讀並使用它們十分重要。\n",
        "\n",
        "程式碼完成模型並非完美，有可能會產生不正確或不完備的建議。仔細檢閱建議並在程式碼中使用前進行測試十分重要。\n",
        "\n",
        "以下是解讀和使用程式碼完成建議的一些秘訣：\n",
        "\n",
        "* 確保建議句法正確。程式碼完成模型可能會產生句法不正確的建議。在程式碼中使用它們之前，檢查建議的句法十分重要。\n",
        "\n",
        "* 在使用建議於程式碼前測試它們。一旦你找到一些令你滿意的建議，在你的程式碼裡使用它們之前測試它們十分重要。這有助於確保建議正確無誤且能按預期運作。\n"
      ]
    },
    {
      "cell_type": "markdown",
      "metadata": {
        "id": "4ixwWF-iDF8I"
      },
      "source": [
        "#### **避免常見程式碼完成功能陷阱的方法** \n",
        "\n",
        "以下列出一些常見的程式碼完成功能陷阱，你應避免陷入：\n",
        "\n",
        "* 不要依賴於程式碼完成功能模型來生成你的所有程式碼。程式碼完成功能模型是一種工具，但它不應被用來生成你的所有程式碼。了解你正在編寫的程式碼，並能夠仔細地檢閱和測試它，這一點很重要。\n",
        "\n",
        "* 不要在不理解程式碼完成功能建議的情況下使用它們。在你的程式碼中使用程式碼完成功能建議之前，了解這些建議很重要。這將有助於你找出任何潛在的錯誤或問題。\n",
        "\n",
        "* 不要將程式碼完成功能建議用於太複雜的任務。程式碼完成功能模型不是用來生成複雜的程式碼片段的。如果你需要生成複雜的程式碼，最好自己編寫。\n"
      ]
    }
  ],
  "metadata": {
    "colab": {
      "provenance": [],
      "toc_visible": true
    },
    "environment": {
      "kernel": "python3",
      "name": "tf2-gpu.2-11.m108",
      "type": "gcloud",
      "uri": "gcr.io/deeplearning-platform-release/tf2-gpu.2-11:m108"
    },
    "kernelspec": {
      "display_name": "Python 3 (ipykernel)",
      "language": "python",
      "name": "python3"
    },
    "language_info": {
      "codemirror_mode": {
        "name": "ipython",
        "version": 3
      },
      "file_extension": ".py",
      "mimetype": "text/x-python",
      "name": "python",
      "nbconvert_exporter": "python",
      "pygments_lexer": "ipython3",
      "version": "3.10.10"
    }
  },
  "nbformat": 4,
  "nbformat_minor": 4
}