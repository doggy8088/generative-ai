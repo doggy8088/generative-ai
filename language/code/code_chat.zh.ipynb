{
  "cells": [
    {
      "cell_type": "code",
      "execution_count": null,
      "metadata": {
        "id": "ijGzTHJJUCPY"
      },
      "outputs": [],
      "source": [
        "# Copyright 2023 Google LLC\n",
        "#\n",
        "# Licensed under the Apache License, Version 2.0 (the \"License\");\n",
        "# you may not use this file except in compliance with the License.\n",
        "# You may obtain a copy of the License at\n",
        "#\n",
        "#     https://www.apache.org/licenses/LICENSE-2.0\n",
        "#\n",
        "# Unless required by applicable law or agreed to in writing, software\n",
        "# distributed under the License is distributed on an \"AS IS\" BASIS,\n",
        "# WITHOUT WARRANTIES OR CONDITIONS OF ANY KIND, either express or implied.\n",
        "# See the License for the specific language governing permissions and\n",
        "# limitations under the License."
      ]
    },
    {
      "cell_type": "markdown",
      "metadata": {
        "id": "VEqbX8OhE8y9"
      },
      "source": [
        "# Vertex AI Codey API 入門 - Code Chat\n",
        "\n",
        "<table align=\"left\">\n",
        "  <td style=\"text-align: center\">\n",
        "    <a href=\"https://colab.research.google.com/github/doggy8088/generative-ai/blob/main/language/code/code_chat.zh.ipynb\">\n",
        "      <img src=\"https://cloud.google.com/ml-engine/images/colab-logo-32px.png\" alt=\"Google Colaboratory 標誌\"><br>在 Colab 中執行\n",
        "    </a>\n",
        "  </td>\n",
        "  <td style=\"text-align: center\">\n",
        "    <a href=\"https://github.com/doggy8088/generative-ai/blob/main/language/code/code_chat.zh.ipynb\">\n",
        "      <img src=\"https://cloud.google.com/ml-engine/images/github-logo-32px.png\" alt=\"GitHub 標誌\"><br>在 GitHub 上檢視\n",
        "    </a>\n",
        "  </td>\n",
        "  <td style=\"text-align: center\">\n",
        "    <a href=\"https://console.cloud.google.com/vertex-ai/workbench/deploy-notebook?download_url=https://raw.githubusercontent.com/doggy8088/generative-ai/blob/main/language/code/code_chat.zh.ipynb\">\n",
        "      <img src=\"https://lh3.googleusercontent.com/UiNooY4LUgW_oTvpsNhPpQzsstV5W8F7rYgxgGBD85cWJoLmrOzhVs_ksK_vgx40SHs7jCqkTkCk=e14-rj-sc0xffffff-h130-w32\" alt=\"Vertex AI 標誌\"><br>在 Vertex AI Workbench 中開啟\n",
        "    </a>\n",
        "  </td>\n",
        "</table>\n"
      ]
    },
    {
      "cell_type": "markdown",
      "metadata": {},
      "source": [
        "| | |\n",
        "|-|-|\n",
        "|作者 | [Lavi Nigam](https://github.com/lavinigam-gcp), [Polong Lin](https://github.com/polong-lin) |\n"
      ]
    },
    {
      "cell_type": "markdown",
      "metadata": {
        "id": "VK1Q5ZYdVL4Y"
      },
      "source": [
        "## 概觀\n",
        "\n",
        "此筆記本提供了使用 [Codey chat 模型](https://cloud.google.com/vertex-ai/docs/generative-ai/code/code-models-overview)，特別是 codechat-bison 基礎模型進行程式碼聊天生成簡介。程式碼聊天讓開發人員能夠與聊天機器人互動，以取得程式碼相關工作支援，包括偵錯、撰寫文件和學習新概念。codechat-bison 模型旨在協助多輪對話，打造更自然互動的編碼體驗。\n",
        "\n",
        "\n",
        "### Vertex AI PaLM API\n",
        "在 [2023 年 5 月 10 日發布](https://cloud.google.com/vertex-ai/docs/generative-ai/release-notes#may_10_2023) 的 Vertex AI PaLM API 支援 [PaLM 2](https://ai.google/discover/palm2)。\n",
        "\n",
        "### 使用 Vertex AI PaLM API\n",
        "\n",
        "你可以透過以下方式與 Vertex AI PaLM API 互動：\n",
        "\n",
        "* 使用 [Generative AI Studio](https://cloud.google.com/generative-ai-studio) 進行快速測試和指令生成。\n",
        "* 在 Cloud Shell 中使用 cURL 指令。\n",
        "* 在 Jupyter 筆記本中使用 Python SDK\n",
        "\n",
        "此筆記本著重於使用 Python SDK 呼叫 Vertex AI PaLM API。如需更多關於無需撰寫程式碼使用 Generative AI Studio 的資訊，你可以探索 [使用 UI 指導的入門事項](https://github.com/doggy8088/generative-ai/blob/main/language/intro_vertex_ai_studio.md)\n",
        "\n",
        "\n",
        "如需更多資訊，請查閱 [Vertex AI Generative AI 支援文件](https://cloud.google.com/vertex-ai/docs/generative-ai/learn/overview)。\n"
      ]
    },
    {
      "cell_type": "markdown",
      "metadata": {
        "id": "RQT500QqVPIb"
      },
      "source": [
        "### 目標\n",
        "\n",
        "在此教學中，你將會學習到：\n",
        "\n",
        "* 程式除錯\n",
        "* 程式重構\n",
        "* 程式檢閱\n",
        "* 程式學習\n",
        "* 程式樣板\n",
        "* 聊天問題提示設計\n",
        "  * 驗證鏈\n",
        "  * 自我一致性\n",
        "  * 思想樹\n"
      ]
    },
    {
      "cell_type": "markdown",
      "metadata": {
        "id": "1y6_3dTwV2fI"
      },
      "source": [
        "### 費用\n",
        "本教學指南使用 Google\n",
        "Cloud 的計費元件：\n",
        "\n",
        "* Vertex AI Generative AI Studio\n",
        "\n",
        "了解 [Vertex AI 定價](https://cloud.google.com/vertex-ai/pricing)\n",
        "，並使用 [定價計算器](https://cloud.google.com/products/calculator/)\n",
        "，根據預計用量產生成本估算。\n"
      ]
    },
    {
      "cell_type": "markdown",
      "metadata": {
        "id": "QDU0XJ1xRDlL"
      },
      "source": [
        "## 開始使用\n"
      ]
    },
    {
      "cell_type": "markdown",
      "metadata": {
        "id": "N5afkyDMSBW5"
      },
      "source": [
        "### 安裝 Vertex AI SDK\n"
      ]
    },
    {
      "cell_type": "code",
      "execution_count": null,
      "metadata": {
        "id": "kc4WxYmLSBW5",
        "tags": []
      },
      "outputs": [],
      "source": [
        "!pip install google-cloud-aiplatform --upgrade --user"
      ]
    },
    {
      "cell_type": "markdown",
      "metadata": {
        "id": "j7UyNVSiyQ96"
      },
      "source": [
        "**僅限 Colab：** 取消以下Cell註解以重新啟動核心或使用按鈕重新啟動核心。對於 Vertex AI Workbench，你可以使用右上方的按鈕重新啟動終端機。\n"
      ]
    },
    {
      "cell_type": "code",
      "execution_count": null,
      "metadata": {
        "id": "YmY9HVVGSBW5"
      },
      "outputs": [],
      "source": [
        "# Automatically restart kernel after installs so that your environment can access the new packages\n",
        "import IPython\n",
        "\n",
        "app = IPython.Application.instance()\n",
        "app.kernel.do_shutdown(True)"
      ]
    },
    {
      "cell_type": "markdown",
      "metadata": {
        "id": "6Fom0ZkMSBW6"
      },
      "source": [
        "### 驗證筆記本環境\n",
        "* 如果你使用 **Colab** 執行此筆記本，取消註解下方的Cell並繼續。\n",
        "* 如果你使用 **Vertex AI 工作台** ，請查看[此處](https://github.com/doggy8088/generative-ai/tree/main/setup-env)的設定說明。\n"
      ]
    },
    {
      "cell_type": "code",
      "execution_count": null,
      "metadata": {
        "id": "LCaCx6PLSBW6"
      },
      "outputs": [],
      "source": [
        "# from google.colab import auth\n",
        "# auth.authenticate_user()"
      ]
    },
    {
      "cell_type": "markdown",
      "metadata": {
        "id": "GckO4EysV5BT"
      },
      "source": [
        "## 程式碼聊天\n"
      ]
    },
    {
      "cell_type": "markdown",
      "metadata": {
        "id": "BDYqwDmTLgEy"
      },
      "source": [
        "Vertex AI Codey API 提供一個程式碼聊天 API，專為量身打造適用於編碼情境的多次對話。利用生成式 AI 基礎模型「codechat-bison」與程式碼聊天 API 進行介接，並建立提示，以啟動基於聊天機器人的程式碼對話。本指南將引導你瞭解使用「codechat-bison」模型建立有效提示以參與與程式碼相關的聊天機器人對話的歷程。\n"
      ]
    },
    {
      "cell_type": "markdown",
      "metadata": {
        "id": "BuQwwRiniVFG"
      },
      "source": [
        "### 匯入函式庫\n"
      ]
    },
    {
      "cell_type": "markdown",
      "metadata": {
        "id": "Vnq2kIV8yQ97"
      },
      "source": [
        "**僅限 Colab：** 取消下方單元格的註解，以初始化 Vertex AI SDK。對於 Vertex AI Workbench，不需要執行此動作。\n"
      ]
    },
    {
      "cell_type": "code",
      "execution_count": null,
      "metadata": {
        "id": "rtMowvm-yQ97"
      },
      "outputs": [],
      "source": [
        "# import vertexai\n",
        "\n",
        "# PROJECT_ID = \"\"  # @param {type:\"string\"}\n",
        "# vertexai.init(project=PROJECT_ID, location=\"us-central1\")"
      ]
    },
    {
      "cell_type": "code",
      "execution_count": null,
      "metadata": {
        "id": "4zjV4alsiVql"
      },
      "outputs": [],
      "source": [
        "from IPython.display import Markdown, display\n",
        "from vertexai.language_models import CodeChatModel"
      ]
    },
    {
      "cell_type": "markdown",
      "metadata": {
        "id": "5B1PlCAr3GQi"
      },
      "source": [
        "## 用 codechat-bison 進行程式碼聊天\n"
      ]
    },
    {
      "cell_type": "markdown",
      "metadata": {
        "id": "wzoNuCqd3pbn"
      },
      "source": [
        "「codechat-bison」模型可讓你在多輪對話中從程式碼背景進行自由對話。應用程式會追蹤對話中先前說過的話。因此，如果你期望在應用程式中使用對話進行程式碼生成，請使用「codechat-bison」模型，因為該模型已針對多輪對話使用案例進行微調。\n"
      ]
    },
    {
      "cell_type": "markdown",
      "metadata": {
        "id": "H6AzUJLt-ihw"
      },
      "source": [
        "### 載入模型\n"
      ]
    },
    {
      "cell_type": "code",
      "execution_count": null,
      "metadata": {
        "id": "GqGueQgG3pAA"
      },
      "outputs": [],
      "source": [
        "code_chat_model = CodeChatModel.from_pretrained(\"codechat-bison@002\")"
      ]
    },
    {
      "cell_type": "markdown",
      "metadata": {
        "id": "ciT1gFGMd5wK"
      },
      "source": [
        "### 開始聊天會話\n"
      ]
    },
    {
      "cell_type": "code",
      "execution_count": null,
      "metadata": {
        "id": "uCHgVidbd8kY"
      },
      "outputs": [],
      "source": [
        "code_chat = code_chat_model.start_chat()"
      ]
    },
    {
      "cell_type": "markdown",
      "metadata": {
        "id": "Rem1FIRcW1lj"
      },
      "source": [
        "### 傳送訊息\n",
        "一旦建立好連線，你可以傳送提示，並讓模型按照指示產生產出，並記住脈絡。\n"
      ]
    },
    {
      "cell_type": "code",
      "execution_count": null,
      "metadata": {
        "id": "bONSaA_SWojK"
      },
      "outputs": [],
      "source": [
        "print(\n",
        "    code_chat.send_message(\n",
        "        \"Please help write a function to calculate the min of two numbers in python\",\n",
        "    ).text\n",
        ")"
      ]
    },
    {
      "cell_type": "markdown",
      "metadata": {
        "id": "sqd9ASLWXU3J"
      },
      "source": [
        "你可以看到它知道上一步中產生的程式碼。\n"
      ]
    },
    {
      "cell_type": "code",
      "execution_count": null,
      "metadata": {
        "id": "Rlvj2c2HeDgB"
      },
      "outputs": [],
      "source": [
        "print(\n",
        "    code_chat.send_message(\n",
        "        \"can you explain the code line by line?\",\n",
        "    ).text\n",
        ")"
      ]
    },
    {
      "cell_type": "code",
      "execution_count": null,
      "metadata": {
        "id": "CfrIiKuleG_e"
      },
      "outputs": [],
      "source": [
        "print(\n",
        "    code_chat.send_message(\n",
        "        \"can you add docstring, typehints and pep8 formating to the code?\",\n",
        "    ).text\n",
        ")"
      ]
    },
    {
      "cell_type": "markdown",
      "metadata": {
        "id": "Y3DzEyDYg64l"
      },
      "source": [
        "## 使用案例\n"
      ]
    },
    {
      "cell_type": "markdown",
      "metadata": {
        "id": "3REfw-BYg8i2"
      },
      "source": [
        "### 程式除錯\n"
      ]
    },
    {
      "cell_type": "markdown",
      "metadata": {
        "id": "jDpwum37X2UE"
      },
      "source": [
        "如果你想降低回應的變異，請保持 temperature=0。如果你想要更多範例 (輸出)，請保持高於 0.2。\n"
      ]
    },
    {
      "cell_type": "code",
      "execution_count": null,
      "metadata": {
        "id": "sJ8f2BHMhB9K"
      },
      "outputs": [],
      "source": [
        "code_chat = code_chat_model.start_chat(temperature=0, max_output_tokens=2048)\n",
        "\n",
        "print(\n",
        "    code_chat.send_message(\n",
        "        '''\n",
        "        Debug the following scenario based on the problem statement, logic, code and error. Suggest possible cause of error and how to fix that.\n",
        "        Expalin the error in detail.\n",
        "\n",
        "        Problem statement: I am trying to write a Python function to implement a simple recommendation system.\n",
        "        The function should take a list of users and a list of items as input and return a list of recommended items for each user.\n",
        "        The recommendations should be based on the user's past ratings of items.\n",
        "\n",
        "        Logic: The function should first create a user-item matrix, where each row represents a user and each column represents an item.\n",
        "        The value of each cell in the matrix represents the user's rating of the item.\n",
        "        The function should then use a recommendation algorithm, such as collaborative filtering or content-based filtering, \\\n",
        "        to generate a list of recommended items for each user.\n",
        "\n",
        "        Code:\n",
        "        ```\n",
        "        import numpy as np\n",
        "\n",
        "        def generate_recommendations(users, items):\n",
        "          \"\"\"Generates a list of recommended items for each user.\n",
        "\n",
        "          Args:\n",
        "            users: A list of users.\n",
        "            items: A list of items.\n",
        "\n",
        "          Returns:\n",
        "            A list of recommended items for each user.\n",
        "          \"\"\"\n",
        "\n",
        "          # Create a user-item matrix.\n",
        "          user_item_matrix = np.zeros((len(users), len(items)))\n",
        "          for user_index, user in enumerate(users):\n",
        "            for item_index, item in enumerate(items):\n",
        "              user_item_matrix[user_index, item_index] = user.get_rating(item)\n",
        "\n",
        "          # Generate recommendations using a recommendation algorithm.\n",
        "          # ...\n",
        "\n",
        "          # Return the list of recommended items for each user.\n",
        "          return recommended_items\n",
        "\n",
        "        # Example usage:\n",
        "        users = [User1(), User2(), User3()]\n",
        "        items = [Item1(), Item2(), Item3()]\n",
        "\n",
        "        recommended_items = generate_recommendations(users, items)\n",
        "\n",
        "        print(recommended_items)\n",
        "        ```\n",
        "        Error:\n",
        "        AttributeError: 'User' object has no attribute 'get_rating'\n",
        "\n",
        "                ```\n",
        "        ''',\n",
        "    ).text\n",
        ")"
      ]
    },
    {
      "cell_type": "code",
      "execution_count": null,
      "metadata": {
        "id": "eDvk7iHzoO0N"
      },
      "outputs": [],
      "source": [
        "print(\n",
        "    code_chat.send_message(\n",
        "        \"\"\"\n",
        "       can you re-write the function to address the bug of conversion to int inside the function itself?\n",
        "        \"\"\",\n",
        "    ).text\n",
        ")"
      ]
    },
    {
      "cell_type": "markdown",
      "metadata": {
        "id": "0Yr2U11RB9Cj"
      },
      "source": [
        "### 程式碼重構\n"
      ]
    },
    {
      "cell_type": "code",
      "execution_count": null,
      "metadata": {
        "id": "AoRdCBpMCC9Z"
      },
      "outputs": [],
      "source": [
        "code_chat = code_chat_model.start_chat(max_output_tokens=2048)\n",
        "\n",
        "print(\n",
        "    code_chat.send_message(\n",
        "        \"\"\"\n",
        "        Given the following C++ code snippet:\n",
        "        ```c++\n",
        "        class User {\n",
        "        public:\n",
        "          User(const std::string& name, int age)\n",
        "            : name_(name), age_(age) {}\n",
        "\n",
        "          std::string GetName() const { return name_; }\n",
        "          int GetAge() const { return age_; }\n",
        "\n",
        "        private:\n",
        "          std::string name_;\n",
        "          int age_;\n",
        "        };\n",
        "\n",
        "        // This function takes a vector of users and returns a new vector containing only users over the age of 18.\n",
        "        std::vector<User> GetAdultUsers(const std::vector<User>& users) {\n",
        "          std::vector<User> adult_users;\n",
        "          for (const User& user : users) {\n",
        "            if (user.GetAge() >= 18) {\n",
        "              adult_users.push_back(user);\n",
        "            }\n",
        "          }\n",
        "          return adult_users;\n",
        "        }\n",
        "        ```\n",
        "        Refactor this code to make it more efficient and idiomatic.\n",
        "        Make sure to identify and fix potential problems.\n",
        "        Explain the refactoring step by step in detail.\n",
        "        List down potential changes that can be recommended to the user.\n",
        "        \"\"\",\n",
        "    ).text\n",
        ")"
      ]
    },
    {
      "cell_type": "markdown",
      "metadata": {
        "id": "OPqrxWpyFEni"
      },
      "source": [
        "### 程式碼檢驗\n"
      ]
    },
    {
      "cell_type": "code",
      "execution_count": null,
      "metadata": {
        "id": "D4yE1XiPMPFC"
      },
      "outputs": [],
      "source": [
        "code_chat = code_chat_model.start_chat(temperature=0, max_output_tokens=2048)\n",
        "\n",
        "print(\n",
        "    code_chat.send_message(\n",
        "        \"\"\"\n",
        "        provide the code review line by line for the following python code: \\n\\n\n",
        "```\n",
        "# Import the requests and json modules\n",
        "import requestz\n",
        "import JSON\n",
        "\n",
        "# Define a class called User\n",
        "class User:\n",
        "    # Define a constructor that takes the user's ID, name, and email as arguments\n",
        "    def __init__(self, id, name, email):\n",
        "        # Set the user's ID\n",
        "        self.userId = id\n",
        "\n",
        "        # Set the user's name\n",
        "        self.userName = name\n",
        "\n",
        "        # Set the user's email\n",
        "        self.userEmail = email\n",
        "\n",
        "    # Define a method called get_posts that gets the user's posts from the API\n",
        "    def getPosts(self):\n",
        "        # Create a URL to the user's posts endpoint\n",
        "        url = \"https://api.example.com/users/{}/posts\".format(self.userId)\n",
        "\n",
        "        # Make a GET request to the URL\n",
        "        response = requestz.get(url)\n",
        "\n",
        "        # Check if the response status code is 200 OK\n",
        "        if response.statusCode != 200:\n",
        "            # Raise an exception if the response status code is not 200 OK\n",
        "            raise Exception(\"Failed to get posts for user {}\".format(self.userId))\n",
        "\n",
        "        # Convert the response content to JSON\n",
        "        posts = JSON.loads(response.content)\n",
        "\n",
        "        # Create a list of Posts\n",
        "        postList = []\n",
        "\n",
        "        # Iterate over the JSON posts and create a Post object for each post\n",
        "        for post in posts:\n",
        "            # Create a new Post object\n",
        "            newPost = Post(post[\"id\"], post[\"title\"], post[\"content\"])\n",
        "\n",
        "            # Add the new Post object to the list of Posts\n",
        "            postList.append(newPost)\n",
        "\n",
        "        # Return the list of Posts\n",
        "        return postList\n",
        "\n",
        "# Define a class called Post\n",
        "class Post:\n",
        "    # Define a constructor that takes the post's ID, title, and content as arguments\n",
        "    def __init__(self, id, title, content):\n",
        "        # Set the post's ID\n",
        "        self.postId = id\n",
        "\n",
        "        # Set the post's title\n",
        "        self.postTitle = title\n",
        "\n",
        "        # Set the post's content\n",
        "        self.postContent = content\n",
        "\n",
        "# Define a main function\n",
        "def main():\n",
        "    # Create a User object for John Doe\n",
        "    user = User(1, \"John Doe\", \"john.doe@example.com\")\n",
        "\n",
        "    # Get the user's posts\n",
        "    posts = user.getPosts()\n",
        "\n",
        "    # Print the title and content of each post\n",
        "    for post in posts:\n",
        "        print(\"Post title: {}\".format(post.postTitle))\n",
        "        print(\"Post content: {}\".format(post.postContent))\n",
        "\n",
        "# Check if the main function is being called directly\n",
        "if __name__ == \"__main__\":\n",
        "    # Call the main function\n",
        "    main()\n",
        "```\n",
        "\n",
        "        \"\"\",\n",
        "    ).text\n",
        ")"
      ]
    },
    {
      "cell_type": "markdown",
      "metadata": {
        "id": "8vWX03R3PQQz"
      },
      "source": [
        "### 編碼學習\n"
      ]
    },
    {
      "cell_type": "code",
      "execution_count": null,
      "metadata": {
        "id": "8HTi-n0KPR6z"
      },
      "outputs": [],
      "source": [
        "code_chat = code_chat_model.start_chat(\n",
        "    temperature=0,\n",
        "    max_output_tokens=2048,\n",
        ")\n",
        "\n",
        "print(\n",
        "    code_chat.send_message(\n",
        "        '''\n",
        "    I am new to Python and i have not read advanced concepts as of now. can you explain this code line by line.\n",
        "    Include fundamental explanation of some of the advance concepts used in the code as well.\n",
        "    Also provide an explanation as why somebody made a choice of using complex code vs simple code.  \\n\\n\n",
        "\n",
        "    ```\n",
        "    import functools\n",
        "\n",
        "    def memoize(func):\n",
        "      \"\"\"Memoizes a function, caching its results for future calls.\n",
        "\n",
        "      Args:\n",
        "        func: The function to memoize.\n",
        "\n",
        "      Returns:\n",
        "        A memoized version of func.\n",
        "      \"\"\"\n",
        "\n",
        "      cache = {}\n",
        "\n",
        "      @functools.wraps(func)\n",
        "      def memoized_func(*args, **kwargs):\n",
        "        key = tuple(args) + tuple(kwargs.items())\n",
        "        if key in cache:\n",
        "          return cache[key]\n",
        "        else:\n",
        "          result = func(*args, **kwargs)\n",
        "          cache[key] = result\n",
        "          return result\n",
        "\n",
        "      return memoized_func\n",
        "\n",
        "    def lru_cache(maxsize=128):\n",
        "      \"\"\"A least recently used (LRU) cache decorator.\n",
        "\n",
        "      Args:\n",
        "        maxsize: The maximum number of items to keep in the cache.\n",
        "\n",
        "      Returns:\n",
        "        A decorator that wraps a function and caches its results. The least recently\n",
        "        used results are evicted when the cache is full.\n",
        "      \"\"\"\n",
        "\n",
        "      def decorating_function(func):\n",
        "        cache = {}\n",
        "        queue = collections.deque()\n",
        "\n",
        "        @functools.wraps(func)\n",
        "        def wrapper(*args, **kwargs):\n",
        "          key = tuple(args) + tuple(kwargs.items())\n",
        "\n",
        "          if key in cache:\n",
        "            value = cache[key]\n",
        "            queue.remove(key)\n",
        "            queue.appendleft(key)\n",
        "            return value\n",
        "\n",
        "          value = func(*args, **kwargs)\n",
        "          cache[key] = value\n",
        "          queue.appendleft(key)\n",
        "\n",
        "          if len(cache) > maxsize:\n",
        "            key = queue.pop()\n",
        "            del cache[key]\n",
        "\n",
        "          return value\n",
        "\n",
        "        return wrapper\n",
        "\n",
        "      return decorating_function\n",
        "    ```\n",
        "\n",
        "    ''',\n",
        "    ).text\n",
        ")"
      ]
    },
    {
      "cell_type": "markdown",
      "metadata": {
        "id": "kb5u10GocF8N"
      },
      "source": [
        "### 程式碼範本\n"
      ]
    },
    {
      "cell_type": "code",
      "execution_count": null,
      "metadata": {
        "id": "bvLgVo9pcGbd"
      },
      "outputs": [],
      "source": [
        "code_chat = code_chat_model.start_chat(temperature=0, max_output_tokens=2048)\n",
        "\n",
        "print(\n",
        "    code_chat.send_message(\n",
        "        \"\"\"\n",
        "        Write a boilerplate code for FastAPI to serve Llama 7b llm using huggingface locally. Add extra with some boilerplate and #todo for user to fill later:\n",
        "        - input validation steps,\n",
        "        - caching user inputs,\n",
        "        - health check of API,\n",
        "        - database connection with redis server and\n",
        "        - Database connection google cloud SQL,  and\n",
        "        - load balance features\n",
        "\n",
        "        Also, add some test cases that can check the functionality of the Api endpoint with examples.\n",
        "        \"\"\",\n",
        "    ).text\n",
        ")"
      ]
    },
    {
      "cell_type": "markdown",
      "metadata": {
        "id": "Nd2Bu1oWgtrr"
      },
      "source": [
        "## 提示設計模式，適用於聊天\n"
      ]
    },
    {
      "cell_type": "markdown",
      "metadata": {
        "id": "kn6nW9Eegx1h"
      },
      "source": [
        "### 驗證鏈\n",
        "\n",
        "驗證鏈 (CoVe) 提示是一種技術，透過使用自我驗證程序來提煉大型語言模型 (LLM) 產生的程式碼。其目標是減輕產生式程式碼中出現幻覺或不準確的可能性。\n",
        "\n",
        "CoVe 程序包含四個關鍵步驟：\n",
        "\n",
        "1. 起草初始回應：LLM 根據提供的自然語言描述產生初始程式碼回應。\n",
        "\n",
        "2. 規劃驗證問題：擬定一系列驗證問題，以仔細檢視初始程式碼回應的準確性和完整性。\n",
        "\n",
        "3. 執行驗證：驗證問題由 LLM 本身或外部來源獨立回答，以最大程度降低驗證程序中潛在的偏差。\n",
        "\n",
        "4. 產生最終驗證回應：根據驗證問題的答案，LLM 將精煉初始程式碼回應，以產生最終更準確和可靠的程式碼輸出。\n",
        "\n",
        "與傳統提示方法相比，CoVe 提示在程式碼產生任務中展現出進步，進而產生更準確和可靠的程式碼輸出。\n"
      ]
    },
    {
      "cell_type": "code",
      "execution_count": null,
      "metadata": {
        "id": "RgZfBIdINYq7"
      },
      "outputs": [],
      "source": [
        "code_chat = code_chat_model.start_chat(max_output_tokens=2048)\n",
        "\n",
        "print(\n",
        "    code_chat.send_message(\n",
        "        \"\"\"\n",
        "        You are a software developer who can take instructions and follow them to generate and modify code.\n",
        "        Your goal is to generate code based on what a user has asked, and to keep modifying the code based on the user's verification rules.\n",
        "        Verification rules are not the same as test functions or test cases.\n",
        "        Instead, they are steps that the user provides to ensure that the code meets their requirements.\n",
        "\n",
        "        For example, if a user asks you to generate a code to calculate the factorial of a number:\n",
        "          Step 1: Initial Setup for function 'calculate_n_factorial'\n",
        "            - Add input:\n",
        "              - n: number\n",
        "            - variables\n",
        "              - temp: store temporary values\n",
        "          As, first step, generate a code to calculate the factorial of a number and setup the function and variables.\n",
        "        and then provides the following verification rules:\n",
        "          Step 2: Verification steps for the factorial function\n",
        "            - The code should return 1 for the input 0.\n",
        "            - The code should return 2 for the input 1.\n",
        "            - The code should return 6 for the input 3.\n",
        "        Now you would modify the code to ensure that it meets the verification rules.\n",
        "\n",
        "        It’s very important to adjust each and every verification in the modification of the code. Each time when the code is modified,\n",
        "        explain your processes. Your job is to self-reflect and correct based on the user input and verification rule.\n",
        "        Do not add anything from your end, just follow user input.\n",
        "        Respond to this context with “Yes, I understand” and do not add any code at this stage. Wait for next instructions.\n",
        "\n",
        "        \"\"\",\n",
        "    ).text\n",
        ")"
      ]
    },
    {
      "cell_type": "code",
      "execution_count": null,
      "metadata": {
        "id": "8Ml-jV_iOmYF"
      },
      "outputs": [],
      "source": [
        "print(\n",
        "    code_chat.send_message(\n",
        "        \"\"\"\n",
        "        Step 1:\n",
        "            - Python function ‘calculate_total_cost_parcel’\n",
        "            - Add Input:\n",
        "                - weight\n",
        "                - distance\n",
        "                - shipping_method\n",
        "                - insurance_coverage\n",
        "                - discount_code\n",
        "            - Add Variable:\n",
        "            base_shipping_cost: weight * distance * shipping_method\n",
        "            shipping_method_multiplier = { \"standard\": 1.0, \"expedited\": 1.5, \"overnight\": 2.0 }\n",
        "            insurance_coverage_multiplier =  { \"none\": 1.0, \"basic\": 1.1, \"premium\": 1.2 }\n",
        "            shipping_cost = shipping_method_multiplier[shipping_method]\n",
        "            insurance_cost = insurance_coverage_multiplier[insurance_coverage]\n",
        "            shipping_cost = base_shipping_cost*shipping_cost *insurance_cost\n",
        "            discount = 0\n",
        "            total_cost = shipping_cost-discount [this is what function will return]\n",
        "\n",
        "        \"\"\",\n",
        "    ).text\n",
        ")"
      ]
    },
    {
      "cell_type": "code",
      "execution_count": null,
      "metadata": {
        "id": "mWXsH_kEOmu-"
      },
      "outputs": [],
      "source": [
        "print(\n",
        "    code_chat.send_message(\n",
        "        \"\"\"\n",
        "        Step 2: Verification steps for the type hints, docstring, and description for the input to the function:\n",
        "        weight: The weight of the package in kilograms.\n",
        "        distance: The distance the package will be shipped in kilometres.\n",
        "        shipping_method: The shipping method, which can be one of the following:\n",
        "              - “standard\": Standard shipping, which takes 3-5 business days.\n",
        "              - “expedited\": Expedited shipping, which takes 1-2 business days.\n",
        "              -  \"overnight\": Overnight shipping, which takes 1 business day.\n",
        "        insurance_coverage: The insurance coverage, which can be one of the following:\n",
        "              - “none\": No insurance coverage.\n",
        "              -“ basic\": Basic insurance coverage, which covers up to $100 in losses.\n",
        "              - \"premium\": Premium insurance coverage, which covers up to $500 in losses.\n",
        "        \"\"\",\n",
        "    ).text\n",
        ")"
      ]
    },
    {
      "cell_type": "code",
      "execution_count": null,
      "metadata": {
        "id": "0pRUhGPTOm_H"
      },
      "outputs": [],
      "source": [
        "print(\n",
        "    code_chat.send_message(\n",
        "        \"\"\"\n",
        "        Step 3: Verification steps for the input to the function:\n",
        "          - Check if the weight is non-negative.\n",
        "          - Check if the distance is non-negative.\n",
        "          - Check if the shipping method is valid.\n",
        "          - Check if the insurance coverage is valid.\n",
        "          - Check if the discount code is valid.\n",
        "        \"\"\",\n",
        "    ).text\n",
        ")"
      ]
    },
    {
      "cell_type": "code",
      "execution_count": null,
      "metadata": {
        "id": "FWjd6nLROnPg"
      },
      "outputs": [],
      "source": [
        "print(\n",
        "    code_chat.send_message(\n",
        "        \"\"\"\n",
        "        Step 4: Verification for Discount\n",
        "          - If the discount code is \"SHIP10\", multiply the base shipping cost by 0.10 and subtract the result from the total shipping cost.\n",
        "          - If the discount code is \"SHIP20\", multiply the base shipping cost by 0.20 and subtract the result from the total shipping cost.\n",
        "          - Otherwise, the discount code is invalid, so do not apply any discount.\n",
        "        \"\"\",\n",
        "    ).text\n",
        ")"
      ]
    },
    {
      "cell_type": "code",
      "execution_count": null,
      "metadata": {
        "id": "v3l5H125OneG"
      },
      "outputs": [],
      "source": [
        "print(\n",
        "    code_chat.send_message(\n",
        "        \"\"\"\n",
        "        Step 5: Generate test cases that can be used to test the function ‘calculate_total_cost_parcel’. The test cases \\\n",
        "        should include incorrect inputs, unexpected inputs, edge cases that are generally not thought by a developer or a QA.\n",
        "\n",
        "        \"\"\",\n",
        "    ).text\n",
        ")"
      ]
    },
    {
      "cell_type": "code",
      "execution_count": null,
      "metadata": {
        "id": "MHrb58x_PtRh"
      },
      "outputs": [],
      "source": [
        "print(\n",
        "    code_chat.send_message(\n",
        "        \"\"\"\n",
        "        How did all the verification steps improve the '‘calculate_total_cost_parcel’' function that was generated?\n",
        "        Explain in details with example, code before and after, and bullet points.\n",
        "        \"\"\",\n",
        "    ).text\n",
        ")"
      ]
    },
    {
      "cell_type": "markdown",
      "metadata": {
        "id": "Ku_4Hu20p78v"
      },
      "source": [
        "### 自洽\n",
        "\n",
        "自洽提示是一種技術，它利用大語言模型 (LLM) 識別和支援推理中一致模式的能力，來增強大語言模型所產生的程式碼品質。它旨在透過引入一種機制來選擇多個可能選項中最一致且最可靠的程式碼輸出，從而解決不一致或錯誤的程式碼生成問題。\n",
        "\n",
        "自洽提示過程包含三個關鍵步驟：\n",
        "\n",
        "* 生成多條推理路徑：LLM 會生成多條不同的推理路徑，它們代表瞭解決給定程式碼生成任務的不同方法。\n",
        "\n",
        "* 評估一致性：對於每條推理路徑，LLM 都會評估其中間步驟和最終程式碼輸出的的連貫性。這包括識別模式、檢查矛盾，並確保與自然語言描述保持一致。\n",
        "\n",
        "* 選擇最一致的回應：基於一致性評估，LLM 會選擇展現最高級別的一致性並產生最可靠程式碼輸出的推理路徑。\n",
        "\n",
        "自洽提示已顯示出在改善所生成程式碼的準確性和可靠性方面有效，尤其是在複雜或含糊不清的任務中。它已被證明可以減少不一致性和錯誤的發生，從而導致更健壯和值得信賴的程式碼生成。\n"
      ]
    },
    {
      "cell_type": "code",
      "execution_count": null,
      "metadata": {
        "id": "NtaTyPDTp-Uz"
      },
      "outputs": [],
      "source": [
        "code_chat = code_chat_model.start_chat(max_output_tokens=2048)\n",
        "\n",
        "print(\n",
        "    code_chat.send_message(\n",
        "        \"\"\"\n",
        "        Input: any english words or group of characters.\n",
        "        Output: reverse of the input string.\n",
        "\n",
        "        Goal:\n",
        "          1) Generate 3 different python code snippets for reverse_string() based on algorithmic complexity and mentioning it along the code.\n",
        "          2) For each code snippet add typehints, docstrings, classes if required, pep8 formatting.\n",
        "        \"\"\",\n",
        "    )\n",
        ")"
      ]
    },
    {
      "cell_type": "code",
      "execution_count": null,
      "metadata": {
        "id": "T2nbVBTQqJWS"
      },
      "outputs": [],
      "source": [
        "print(\n",
        "    code_chat.send_message(\n",
        "        \"\"\"\n",
        "        Going forward, i want you to follow each instruction one by one based on the code that is generated in the previous steps:\n",
        "\n",
        "        Step 1:  For each code snippet, generate a test case that checks if the function reverses the string correctly. The test cases \\\n",
        "        should include incorrect inputs, unexpected inputs, edge cases that are generally not thought by a developer or a QA.\n",
        "        \"\"\",\n",
        "    )\n",
        ")"
      ]
    },
    {
      "cell_type": "code",
      "execution_count": null,
      "metadata": {
        "id": "cm9gmE8oqgaD"
      },
      "outputs": [],
      "source": [
        "print(\n",
        "    code_chat.send_message(\n",
        "        \"\"\"\n",
        "        Step 2: For each code snippet, Intergate the exception handling for incorrect inputs, unexpected inputs, \\\n",
        "        edge cases that based on previous step and re-write the functions\n",
        "        \"\"\",\n",
        "    )\n",
        ")"
      ]
    },
    {
      "cell_type": "code",
      "execution_count": null,
      "metadata": {
        "id": "x2ntdIF-9h63"
      },
      "outputs": [],
      "source": [
        "print(\n",
        "    code_chat.send_message(\n",
        "        \"\"\"\n",
        "        Step 3 : Based on the test written, code completeness and algorithm complexity, select the code which is best\n",
        "\n",
        "        Step 4:  Explain the reasoning in detail as bullet points of why this is selected compared to other options.\n",
        "        \"\"\",\n",
        "    )\n",
        ")"
      ]
    },
    {
      "cell_type": "code",
      "execution_count": null,
      "metadata": {
        "id": "wdruvyiV9iU6"
      },
      "outputs": [],
      "source": [
        "print(\n",
        "    code_chat.send_message(\n",
        "        \"\"\"\n",
        "        Step 5: Show the code which is selected along with its test cases.\n",
        "        \"\"\",\n",
        "    )\n",
        ")"
      ]
    },
    {
      "cell_type": "markdown",
      "metadata": {
        "id": "R06g2qKRJT5F"
      },
      "source": [
        "### 思考樹\n",
        "\n",
        "思考樹 (ToT) 提示法是一種技術，用於指導大型語言模型 (LLM) 透過將任務分解成中間自然語言步驟的分層結構來生成程式碼。這種方法旨在解決傳統提示法侷限性，可能會導致 LLM 陷入局部最佳化或產生結構不佳或未最佳化的程式碼。\n",
        "\n",
        "ToT 提示流程涉及三個關鍵步驟：\n",
        "\n",
        "* 分解任務：以自然語言描述任務，再進一步分解成一系列較小的子任務，形成樹狀結構。\n",
        "\n",
        "* 產生中間想法：對於樹中的每個子任務，LLM 產生相應的中間想法，這是說明如何解決該子任務的自然語言說明。\n",
        "\n",
        "* 建構程式碼：LLM 將中間想法組合成一個有凝聚力且有條理的程式碼輸出，遵循樹的分層組織。\n",
        "\n",
        "在程式碼生成任務中，ToT 提示法已證明優於傳統提示法，特別是針對複雜或多步驟的問題。它幫助 LLM 以更結構化和系統化的方式對問題進行推理，進而產生更有效且可靠的程式碼。\n"
      ]
    },
    {
      "cell_type": "code",
      "execution_count": null,
      "metadata": {
        "id": "KMkNoHZJJTQw"
      },
      "outputs": [],
      "source": [
        "code_chat = code_chat_model.start_chat(max_output_tokens=2048, temperature=0.5)\n",
        "\n",
        "print(\n",
        "    code_chat.send_message(\n",
        "        \"\"\"\n",
        "        Imagine a tree of thoughts, where each thought represents a different step in the data preprocessing pipeline.\n",
        "        The goal of this pipeline is to run a regression model on a ecommerce data from bigquery.\n",
        "        Start at the root of the tree, and write down a thought that captures the main goal of the data preprocessing pipeline.\n",
        "        Then, branch out from that thought and write down two more thoughts that represent related steps in the pipeline.\n",
        "        Continue this process until you have a complete tree of thoughts, with each leaf representing a single line of Python code.\n",
        "        For each branch and leaf, only write the thoughts and not code. Do not write code for each branch and leaves and put them in proper markdown.\n",
        "        \"\"\",\n",
        "    )\n",
        ")"
      ]
    },
    {
      "cell_type": "code",
      "execution_count": null,
      "metadata": {
        "id": "AW96iuyuLYfb"
      },
      "outputs": [],
      "source": [
        "print(\n",
        "    code_chat.send_message(\n",
        "        \"\"\"\n",
        "        The data also needs to be joined across different tables in BigQuery before starting pre-processing.\n",
        "        For example customer table has to be merged with the order table.\n",
        "        this should be added at the initial branchess a thought.\n",
        "        After that Add more branches for model building using BQML once the data is scaled.\n",
        "        \"\"\",\n",
        "    )\n",
        ")"
      ]
    },
    {
      "cell_type": "code",
      "execution_count": null,
      "metadata": {
        "id": "vvOvmMQZJjKS"
      },
      "outputs": [],
      "source": [
        "print(\n",
        "    code_chat.send_message(\n",
        "        \"\"\"\n",
        "        Reconfigure the branches from the root as per the newly added thoughts. Follow the proper flow. rewrite the whole branches and leaves\n",
        "        \"\"\",\n",
        "    )\n",
        ")"
      ]
    },
    {
      "cell_type": "code",
      "execution_count": null,
      "metadata": {
        "id": "XhjjkABRJ-st"
      },
      "outputs": [],
      "source": [
        "print(\n",
        "    code_chat.send_message(\n",
        "        \"\"\"\n",
        "        Generate the code for each branch and leaves.\n",
        "        \"\"\",\n",
        "    )\n",
        ")"
      ]
    }
  ],
  "metadata": {
    "colab": {
      "provenance": [],
      "toc_visible": true
    },
    "environment": {
      "kernel": "python3",
      "name": "tf2-gpu.2-11.m108",
      "type": "gcloud",
      "uri": "gcr.io/deeplearning-platform-release/tf2-gpu.2-11:m108"
    },
    "kernelspec": {
      "display_name": "Python 3 (ipykernel)",
      "language": "python",
      "name": "python3"
    },
    "language_info": {
      "codemirror_mode": {
        "name": "ipython",
        "version": 3
      },
      "file_extension": ".py",
      "mimetype": "text/x-python",
      "name": "python",
      "nbconvert_exporter": "python",
      "pygments_lexer": "ipython3",
      "version": "3.10.10"
    }
  },
  "nbformat": 4,
  "nbformat_minor": 4
}