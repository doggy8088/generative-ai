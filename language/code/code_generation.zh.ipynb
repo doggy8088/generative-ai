{
  "cells": [
    {
      "cell_type": "code",
      "execution_count": null,
      "metadata": {
        "id": "ijGzTHJJUCPY"
      },
      "outputs": [],
      "source": [
        "# Copyright 2023 Google LLC\n",
        "#\n",
        "# Licensed under the Apache License, Version 2.0 (the \"License\");\n",
        "# you may not use this file except in compliance with the License.\n",
        "# You may obtain a copy of the License at\n",
        "#\n",
        "#     https://www.apache.org/licenses/LICENSE-2.0\n",
        "#\n",
        "# Unless required by applicable law or agreed to in writing, software\n",
        "# distributed under the License is distributed on an \"AS IS\" BASIS,\n",
        "# WITHOUT WARRANTIES OR CONDITIONS OF ANY KIND, either express or implied.\n",
        "# See the License for the specific language governing permissions and\n",
        "# limitations under the License."
      ]
    },
    {
      "cell_type": "markdown",
      "metadata": {
        "id": "VEqbX8OhE8y9"
      },
      "source": [
        "# 開始使用 Vertex AI Codey API - 程式碼產生\n",
        "\n",
        "<table align=\"left\">\n",
        "  <td style=\"text-align: center\">\n",
        "    <a href=\"https://colab.research.google.com/github/doggy8088/generative-ai/blob/main/language/code/code_generation.zh.ipynb\">\n",
        "      <img src=\"https://cloud.google.com/ml-engine/images/colab-logo-32px.png\" alt=\"Google Colaboratory 標誌\"><br>在 Colab 上執行\n",
        "    </a>\n",
        "  </td>\n",
        "  <td style=\"text-align: center\">\n",
        "    <a href=\"https://github.com/doggy8088/generative-ai/blob/main/language/code/code_generation.zh.ipynb\">\n",
        "      <img src=\"https://cloud.google.com/ml-engine/images/github-logo-32px.png\" alt=\"GitHub 標誌\"><br>在 GitHub 上檢視\n",
        "    </a>\n",
        "  </td>\n",
        "  <td style=\"text-align: center\">\n",
        "    <a href=\"https://console.cloud.google.com/vertex-ai/workbench/deploy-notebook?download_url=https://raw.githubusercontent.com/doggy8088/generative-ai/blob/main/language/code/code_generation.zh.ipynb\">\n",
        "      <img src=\"https://lh3.googleusercontent.com/UiNooY4LUgW_oTvpsNhPpQzsstV5W8F7rYgxgGBD85cWJoLmrOzhVs_ksK_vgx40SHs7jCqkTkCk=e14-rj-sc0xffffff-h130-w32\" alt=\"Vertex AI 標誌\"><br>在 Vertex AI Workbench 中開啟\n",
        "    </a>\n",
        "  </td>\n",
        "</table>\n"
      ]
    },
    {
      "cell_type": "markdown",
      "metadata": {},
      "source": [
        "| | |\n",
        "|-|-|\n",
        "|作者 | [Lavi Nigam](https://github.com/lavinigam-gcp), [Polong Lin](https://github.com/polong-lin) |\n"
      ]
    },
    {
      "cell_type": "markdown",
      "metadata": {
        "id": "VK1Q5ZYdVL4Y"
      },
      "source": [
        "## 概觀\n",
        "\n",
        "本筆記本將提供有關使用 [Codey 模型](https://cloud.google.com/vertex-ai/docs/generative-ai/code/code-models-overview) 執行程式碼產生的簡介。用於程式碼產生的 Codey (code-bison) 是一種基礎模型，可以根據自然語言描述產生程式碼。它可以用來建立函式、網頁、單元測試和其他類型的程式碼。用於程式碼產生的 Codey 由程式碼產生 Codey API 支援，而程式碼產生 Codey API 是 PaLM API 系列的一部份。\n",
        "\n",
        "### Vertex AI PaLM API\n",
        "[在 2023 年 5 月 10 日發布](https://cloud.google.com/vertex-ai/docs/generative-ai/release-notes#may_10_2023) 的 Vertex AI PaLM API 由 [PaLM 2](https://ai.google/discover/palm2) 提供技術支援。\n",
        "\n",
        "### 使用 Vertex AI PaLM API\n",
        "\n",
        "你可以使用下列方式與 Vertex AI PaLM API 互動：\n",
        "\n",
        "* 使用 [Generative AI Studio](https://cloud.google.com/generative-ai-studio) 進行快速測試和指令產生。\n",
        "* 在 Cloud Shell 中使用 cURL 指令。\n",
        "* 在 Jupyter 筆記本中使用 Python SDK\n",
        "\n",
        "本筆記本著重於使用 Python SDK 來呼叫 Vertex AI PaLM API。如需更多有關無需撰寫程式碼即可使用 Generative AI Studio 的資訊，你可以瀏覽 [使用 UI 說明開始](https://github.com/doggy8088/generative-ai/blob/main/language/intro_vertex_ai_studio.md)\n",
        "\n",
        "\n",
        "如需更多資訊，請查看 [Vertex AI 生成式 AI 支援文件](https://cloud.google.com/vertex-ai/docs/generative-ai/learn/overview)。\n"
      ]
    },
    {
      "cell_type": "markdown",
      "metadata": {
        "id": "RQT500QqVPIb"
      },
      "source": [
        "### 目標\n",
        "\n",
        "在此教學課程中，你將會學習：\n",
        "\n",
        "- 設定程式碼生成模型的程式環境\n",
        "- 為 codey 撰寫基礎提示\n",
        "- 各種提示設計模式：\n",
        "\t- 程式題目範本\n",
        "\t- SQL 元資料和效能\n",
        "\t- 程式碼最佳化\n",
        "\t- 思考鏈\n",
        "\t- 數次的提示\n",
        "\t- DevOps 範本\n",
        "\t- 網頁範本\n",
        "- 程式碼生成的最佳作法\n"
      ]
    },
    {
      "cell_type": "markdown",
      "metadata": {
        "id": "1y6_3dTwV2fI"
      },
      "source": [
        "### 費用\n",
        "本教學指南使用 Google\n",
        "Cloud 的計費元件：\n",
        "\n",
        "* Vertex AI Generative AI Studio\n",
        "\n",
        "了解 [Vertex AI 定價](https://cloud.google.com/vertex-ai/pricing)\n",
        "，並使用 [定價計算器](https://cloud.google.com/products/calculator/)\n",
        "，根據預計用量產生成本估算。\n"
      ]
    },
    {
      "cell_type": "markdown",
      "metadata": {
        "id": "QDU0XJ1xRDlL"
      },
      "source": [
        "## 開始使用\n"
      ]
    },
    {
      "cell_type": "markdown",
      "metadata": {
        "id": "N5afkyDMSBW5"
      },
      "source": [
        "### 安裝 Vertex AI SDK\n"
      ]
    },
    {
      "cell_type": "code",
      "execution_count": null,
      "metadata": {
        "id": "kc4WxYmLSBW5",
        "tags": []
      },
      "outputs": [],
      "source": [
        "!pip install google-cloud-aiplatform==1.36.2 --upgrade --user"
      ]
    },
    {
      "cell_type": "markdown",
      "metadata": {
        "id": "j7UyNVSiyQ96"
      },
      "source": [
        "**僅限 Colab：** 取消以下Cell註解以重新啟動核心或使用按鈕重新啟動核心。對於 Vertex AI Workbench，你可以使用右上方的按鈕重新啟動終端機。\n"
      ]
    },
    {
      "cell_type": "code",
      "execution_count": null,
      "metadata": {
        "id": "YmY9HVVGSBW5"
      },
      "outputs": [],
      "source": [
        "# Automatically restart kernel after installs so that your environment can access the new packages\n",
        "import IPython\n",
        "\n",
        "app = IPython.Application.instance()\n",
        "app.kernel.do_shutdown(True)"
      ]
    },
    {
      "cell_type": "markdown",
      "metadata": {
        "id": "6Fom0ZkMSBW6"
      },
      "source": [
        "### 驗證筆記本環境\n",
        "* 如果你使用 **Colab** 執行此筆記本，取消註解下方的Cell並繼續。\n",
        "* 如果你使用 **Vertex AI 工作台** ，請查看[此處](https://github.com/doggy8088/generative-ai/tree/main/setup-env)的設定說明。\n"
      ]
    },
    {
      "cell_type": "code",
      "execution_count": null,
      "metadata": {
        "id": "LCaCx6PLSBW6"
      },
      "outputs": [],
      "source": [
        "# from google.colab import auth\n",
        "# auth.authenticate_user()"
      ]
    },
    {
      "cell_type": "markdown",
      "metadata": {
        "id": "GckO4EysV5BT"
      },
      "source": [
        "## Vertex AI PaLM API 模型\n"
      ]
    },
    {
      "attachments": {},
      "cell_type": "markdown",
      "metadata": {
        "id": "BDYqwDmTLgEy"
      },
      "source": [
        "Vertex AI PaLM API 讓你能夠測試、自訂和部署稱為 PaLM 的 Google 大型語言模型 (LLM) 實例，如此一來你就能在你應用程式中發揮 PaLM 的功能。\n",
        "\n",
        "### 模型命名規則\n",
        "基礎模型名稱有三個組成部分：使用案例、模型大小和版本號。命名慣例的格式如下： \n",
        "`<用途>-<模型大小>@<版本號>`\n",
        "\n",
        "例如，text-bison@002 代表 Bison 文字模型，版本 002。\n",
        "\n",
        "模型大小如下所示：\n",
        "- **Bison** ：功能和成本最佳值。\n",
        "- **Gecko** ：最小型且最便宜的模型，適合簡單的任務。\n",
        "\n",
        "### 可用的模型\n",
        "\n",
        "Vertex AI Codey API 目前支援三種模型：\n",
        "\n",
        "* `code-bison@002`：根據所需的程式碼的自然語言描述來微調生成程式碼的模型。例如，它可以產生函式的單元測試。\n",
        "\n",
        "* `code-gecko@002`：根據已寫入程式碼中的內容建議程式碼補全的微調模型。\n",
        "\n",
        "* `codechat-bison@002`：針對聊天機器人對話微調的模型，有助於解答與程式碼相關的問題。\n",
        "\n",
        "你可以在 [Generative AI Studio 文件](https://cloud.google.com/vertex-ai/docs/generative-ai/learn/models#foundation_models) 中找到有關這些基礎模型的更多資訊。\n"
      ]
    },
    {
      "cell_type": "markdown",
      "metadata": {
        "id": "BuQwwRiniVFG"
      },
      "source": [
        "### 匯入函式庫\n"
      ]
    },
    {
      "cell_type": "markdown",
      "metadata": {
        "id": "Vnq2kIV8yQ97"
      },
      "source": [
        "**僅限 Colab：** 取消下方單元格的註解，以初始化 Vertex AI SDK。對於 Vertex AI Workbench，不需要執行此動作。\n"
      ]
    },
    {
      "cell_type": "code",
      "execution_count": null,
      "metadata": {
        "id": "rtMowvm-yQ97"
      },
      "outputs": [],
      "source": [
        "# import vertexai\n",
        "\n",
        "# PROJECT_ID = \"\"  # @param {type:\"string\"}\n",
        "# vertexai.init(project=PROJECT_ID, location=\"us-central1\")"
      ]
    },
    {
      "cell_type": "code",
      "execution_count": null,
      "metadata": {
        "id": "4zjV4alsiVql"
      },
      "outputs": [],
      "source": [
        "from IPython.display import Markdown, display\n",
        "from vertexai.language_models import CodeGenerationModel"
      ]
    },
    {
      "attachments": {},
      "cell_type": "markdown",
      "metadata": {
        "id": "5B1PlCAr3GQi"
      },
      "source": [
        "## 程式碼生成與 code-bison@002\n"
      ]
    },
    {
      "attachments": {},
      "cell_type": "markdown",
      "metadata": {
        "id": "wzoNuCqd3pbn"
      },
      "source": [
        "在本筆記本中，你將會使用來自 PaLM API 的程式碼生成模型 (Codey) 是 code-bison@002。此模型經過微調，能夠遵循自然語言指令產生必要的程式碼，適用於各種程式碼任務，例如：\n",
        "\n",
        " - 編寫函式\n",
        " - 編寫類別\n",
        " - 網頁\n",
        " - 單元測試\n",
        " - Docstring\n",
        " - 程式碼翻譯，以及許多其他用途。\n",
        "\n",
        "當前支援語言包含：\n",
        " - C++\n",
        " - C#\n",
        " - Go\n",
        " - GoogleSQL\n",
        " - Java\n",
        " - JavaScript\n",
        " - Kotlin\n",
        " - PHP\n",
        " - Python\n",
        " - Ruby\n",
        " - Rust\n",
        " - Scala\n",
        " - Swift\n",
        " - TypeScript\n",
        "\n",
        "你可以在此找到更進一步的資訊 [here](https://cloud.google.com/vertex-ai/docs/generative-ai/code/code-models-overview)。\n"
      ]
    },
    {
      "cell_type": "markdown",
      "metadata": {
        "id": "H6AzUJLt-ihw"
      },
      "source": [
        "### 載入模型\n"
      ]
    },
    {
      "cell_type": "code",
      "execution_count": null,
      "metadata": {
        "id": "GqGueQgG3pAA"
      },
      "outputs": [],
      "source": [
        "code_generation_model = CodeGenerationModel.from_pretrained(\"code-bison@002\")"
      ]
    },
    {
      "attachments": {},
      "cell_type": "markdown",
      "metadata": {
        "id": "qDzu2A0k_YYL"
      },
      "source": [
        "### `code-bison` 的模型參數\n",
        "\n",
        "你可以針對 `code-bison@002` 使用下列參數，自訂 PaLM API 程式碼產生針對提示的行為：\n",
        "\n",
        "- `prefix`：表示有意義的程式碼區塊開頭，或描述要產生的程式碼的自然語言提示。\n",
        "- `temperature`：越高表示程式碼回應越「有創意」。範圍：(0.0 - 1.0，預設 0)。\n",
        "- `max_output_tokens`：設定輸出中 Token 的最大數量。範圍：(1 - 2048，預設 2048)\n"
      ]
    },
    {
      "cell_type": "markdown",
      "metadata": {
        "id": "WIiZZHJAC0jC"
      },
      "source": [
        "### 你好，Codey\n"
      ]
    },
    {
      "cell_type": "markdown",
      "metadata": {
        "id": "1a0swVvTN0JP"
      },
      "source": [
        "你可以測試正在生成之程式碼 [這裡](https://onecompiler.com/)\n"
      ]
    },
    {
      "cell_type": "code",
      "execution_count": null,
      "metadata": {
        "id": "oiywwL1T5grZ"
      },
      "outputs": [],
      "source": [
        "prefix = \"write a python function to do binary search\"\n",
        "\n",
        "response = code_generation_model.predict(prefix=prefix)\n",
        "\n",
        "print(response.text)"
      ]
    },
    {
      "cell_type": "markdown",
      "metadata": {
        "id": "Dai1FtyDDUjX"
      },
      "source": [
        "### 嘗試使用你自己的提示\n"
      ]
    },
    {
      "cell_type": "markdown",
      "metadata": {
        "id": "YukcUkJRDZvI"
      },
      "source": [
        "一些範例：\n",
        "*撰寫 Go 程式，從文字檔中萃取 IP 位址\n",
        "*撰寫 Java 程式，用於從地址中萃取郵遞區號\n",
        "*撰寫標準 SQL 函式，移除字串中所有非字母字元，並將其編碼為 utf-8\n"
      ]
    },
    {
      "cell_type": "code",
      "execution_count": null,
      "metadata": {
        "id": "CvKHdTHy6RIi"
      },
      "outputs": [],
      "source": [
        "prefix = \"\"\"write a python function that can do cosine similarity between two vectors,\n",
        "            named as \"calculate_cosine_similarity\" and two input arguments \"vector1\" and \"vector2\". \\\n",
        "          \"\"\"\n",
        "\n",
        "response = code_generation_model.predict(prefix=prefix, max_output_tokens=1024)\n",
        "\n",
        "print(response.text)"
      ]
    },
    {
      "cell_type": "markdown",
      "metadata": {
        "id": "iZ0AEuFAEB1N"
      },
      "source": [
        "### 提示範本\n"
      ]
    },
    {
      "cell_type": "markdown",
      "metadata": {
        "id": "LpFTrfLnFHBy"
      },
      "source": [
        "提示模板在你找到一個可以重複使用且結構化良好的提示構成方法時很有用。這也可以有助於限制自由形式提示的開放性。有很多方式可以實作提示模板，下方只是一個使用 f 字串的範例。透過這樣的方式你可以依照預期的程式碼功能來構成提示。\n"
      ]
    },
    {
      "cell_type": "code",
      "execution_count": null,
      "metadata": {
        "id": "1abvkgsZxsh3"
      },
      "outputs": [],
      "source": [
        "language = \"python\"\n",
        "prefix = f\"\"\"Write a {language} function that can input unsorted array or list and return the sorted array or list.\n",
        "             it should not use any pre-built function or library.\n",
        "              \"\"\"\n",
        "\n",
        "response = code_generation_model.predict(prefix=prefix, max_output_tokens=1024)\n",
        "\n",
        "print(response.text)"
      ]
    },
    {
      "cell_type": "code",
      "execution_count": null,
      "metadata": {
        "id": "gznmqXU067tj"
      },
      "outputs": [],
      "source": [
        "language = \"python\"\n",
        "file_format = \"json\"\n",
        "extract_info = \"names\"\n",
        "requirments = \"\"\"\n",
        "              - the name should be start with capital letters.\n",
        "              - There should be no duplicate names in the final list.\n",
        "              \"\"\"\n",
        "\n",
        "prefix = f\"\"\"Create a {language} to parse {file_format} and extract {extract_info} with the following requirements: {requirments}.\n",
        "              \"\"\"\n",
        "\n",
        "response = code_generation_model.predict(prefix=prefix, max_output_tokens=1024)\n",
        "\n",
        "print(response.text)"
      ]
    },
    {
      "cell_type": "markdown",
      "metadata": {
        "id": "1PhbbK7a0B1n"
      },
      "source": [
        "## 提示設計模式\n"
      ]
    },
    {
      "cell_type": "markdown",
      "metadata": {
        "id": "k8W5Lc9O0G-3"
      },
      "source": [
        "### 問題說明範本\n",
        "\n",
        "在問題說明範本中，你可以利用提示範本概念並傳遞你具體的問題說明，而不用關注於語言。語言可以是單獨的參數。你也可以傳遞輸入輸出範例，以確保生成遵循測試使用案例。以下是一些不同語言的範例；你可以看到模型生成多種支援語言的能力。\n"
      ]
    },
    {
      "cell_type": "markdown",
      "metadata": {
        "id": "Bre8loKSYtT-"
      },
      "source": [
        "#### C\n"
      ]
    },
    {
      "cell_type": "code",
      "execution_count": null,
      "metadata": {
        "id": "zwM_U-ch0FB6"
      },
      "outputs": [],
      "source": [
        "language = \"c\"\n",
        "problem_statement = \"find the smallest element in an unordered list\"\n",
        "\n",
        "prefix = \"write a \" + language + \" function to \" + problem_statement\n",
        "\n",
        "response = code_generation_model.predict(prefix=prefix)\n",
        "\n",
        "print(response.text)"
      ]
    },
    {
      "cell_type": "markdown",
      "metadata": {
        "id": "xQ1bw0OI1pM8"
      },
      "source": [
        "#### C++\n"
      ]
    },
    {
      "cell_type": "code",
      "execution_count": null,
      "metadata": {
        "id": "JiEcCW-X1y89"
      },
      "outputs": [],
      "source": [
        "language = \"cpp\"\n",
        "problem_statement = \"\"\"Sort an array in one swap whose two elements are swapped and rest are in sorted order \\\n",
        "                      for example: \\\n",
        "                      input: {1, 5, 3, 7, 9}\n",
        "                      output: {1,3,5,7,9}\n",
        "                    \"\"\"\n",
        "\n",
        "prefix = \"write a \" + language + \" function to \" + problem_statement\n",
        "\n",
        "response = code_generation_model.predict(prefix=prefix)\n",
        "\n",
        "print(response.text)"
      ]
    },
    {
      "cell_type": "markdown",
      "metadata": {
        "id": "RWkwmHlqfM_Y"
      },
      "source": [
        "#### Clojure\n"
      ]
    },
    {
      "cell_type": "code",
      "execution_count": null,
      "metadata": {
        "id": "eBdZdGTBF2LU"
      },
      "outputs": [],
      "source": [
        "language = \"clojure\"\n",
        "problem_statement = \"\"\"that takes a string and calculates if its palindrome or not.\n",
        "                      print the outputs with two example: 'radar' and 'happy'\n",
        "                    \"\"\"\n",
        "\n",
        "prefix = \"write a \" + language + \" function \" + problem_statement\n",
        "\n",
        "response = code_generation_model.predict(prefix=prefix)\n",
        "\n",
        "print(response.text)"
      ]
    },
    {
      "cell_type": "markdown",
      "metadata": {
        "id": "L4dafG41fRFF"
      },
      "source": [
        "#### Elixir\n"
      ]
    },
    {
      "cell_type": "code",
      "execution_count": null,
      "metadata": {
        "id": "OL_MDS2yJytP"
      },
      "outputs": [],
      "source": [
        "language = \"elixir\"\n",
        "problem_statement = \"\"\"print the first non-repeated character from a string.\n",
        "                      take example of 'Mississippi' and 'hello' as example.\n",
        "                    \"\"\"\n",
        "\n",
        "prefix = \"write a \" + language + \" function \" + problem_statement\n",
        "\n",
        "response = code_generation_model.predict(prefix=prefix)\n",
        "\n",
        "print(response.text)"
      ]
    },
    {
      "cell_type": "markdown",
      "metadata": {
        "id": "Z5RxDUrQjG6k"
      },
      "source": [
        "#### Erlang\n"
      ]
    },
    {
      "cell_type": "code",
      "execution_count": null,
      "metadata": {
        "id": "DgQ313X-gLrX"
      },
      "outputs": [],
      "source": [
        "language = \"erlang\"\n",
        "problem_statement = \"\"\"reverse an array in place. Take input of array.Take input of array and output the reversed array.\n",
        "                       For example: [1,2,3,4,5] -> [5,4,3,2,1]\n",
        "                    \"\"\"\n",
        "\n",
        "prefix = \"write a \" + language + \" program \" + problem_statement\n",
        "\n",
        "response = code_generation_model.predict(prefix=prefix)\n",
        "\n",
        "print(response.text)"
      ]
    },
    {
      "cell_type": "markdown",
      "metadata": {
        "id": "JxvXnpp8kuHU"
      },
      "source": [
        "#### Fortran\n"
      ]
    },
    {
      "cell_type": "code",
      "execution_count": null,
      "metadata": {
        "id": "1lHXXUvajJKJ"
      },
      "outputs": [],
      "source": [
        "language = \"Fortan\"\n",
        "problem_statement = \"\"\" to remove duplicate elements from given array.\n",
        "                    \"\"\"\n",
        "\n",
        "prefix = \"write a \" + language + \" program \" + problem_statement\n",
        "\n",
        "response = code_generation_model.predict(prefix=prefix)\n",
        "\n",
        "print(response.text)"
      ]
    },
    {
      "cell_type": "markdown",
      "metadata": {
        "id": "I5Q6wW8QoACz"
      },
      "source": [
        "#### Go\n"
      ]
    },
    {
      "cell_type": "code",
      "execution_count": null,
      "metadata": {
        "id": "sgdIuCrpkzSA"
      },
      "outputs": [],
      "source": [
        "language = \"Go\"\n",
        "problem_statement = \"\"\"that can extract ipv4 addresses from the each line in the log file. use fmt and regexp package.\n",
        "                        input:\n",
        "                        03/22 08:51:06 INFO   :...read_physical_netif: index #0, interface VLINK1 has address 129.1.1.1, ifidx 0\n",
        "                        output:\n",
        "                        129.1.1.1\n",
        "                        \\n\\n\n",
        "                    \"\"\"\n",
        "\n",
        "prefix = \"write a \" + language + \" function \" + problem_statement\n",
        "\n",
        "response = code_generation_model.predict(prefix=prefix)\n",
        "\n",
        "print(response.text)"
      ]
    },
    {
      "cell_type": "markdown",
      "metadata": {
        "id": "RF09q_LNZl_Q"
      },
      "source": [
        "### SQL 元數據 & 效能\n",
        "\n",
        "在 SQL 提示範本中，你可以定義多重標準，例如：問題陳述、表格元數據、程式碼樣式，以及效能期望。傳遞表格元數據很關鍵，因為這可以讓模型產生遵循元數據結構的一致程式碼。確保你的問題陳述非常清晰、簡潔，並且包含所有相關脈絡。\n"
      ]
    },
    {
      "cell_type": "markdown",
      "metadata": {
        "id": "sHGu7mZ3rMCb"
      },
      "source": [
        "#### SQL\n"
      ]
    },
    {
      "cell_type": "code",
      "execution_count": null,
      "metadata": {
        "id": "8Q5n_EzALp0C"
      },
      "outputs": [],
      "source": [
        "problem_statement = \"\"\"\n",
        "                    You are a developer working on an e-commerce platform.\n",
        "                    The marketing team has requested a report on the total number of orders and the average order \\\n",
        "                    value for each product category for the past month.\n",
        "                    Your task is to generate a SQL queries to retrieve the total number of orders and the average order \\\n",
        "                    value for each product category for the orders placed in the:\n",
        "                    1) past month,\n",
        "                    2) given data range,\n",
        "                    3) end of each month for given year,\n",
        "                    4) christmas and new year's eve.\n",
        "                    \"\"\"\n",
        "table_metadata = \"\"\"\n",
        "                 - **Orders:**\n",
        "                    - `OrderID` (integer)\n",
        "                    - `ProductID` (integer)\n",
        "                    - `ProductName` (string)\n",
        "                    - `Category` (string)\n",
        "                    - `OrderDate` (date)\n",
        "                    - `OrderAmount` (decimal)\n",
        "                \"\"\"\n",
        "code_style = \"\"\"\n",
        "            Write a SQL query that follows best practices, is readable, and well-commented.\n",
        "             \"\"\"\n",
        "\n",
        "performance_requirement = \"\"\"\n",
        "                          Optimize the query for performance considering the potential size of the \"Orders\" table.\n",
        "                          Consider using appropriate indexing if necessary.\n",
        "                          \"\"\"\n",
        "\n",
        "prefix = f\"\"\" Solve the following: {problem_statement}. The given table metadata is : {table_metadata} .\n",
        "          Follow the following code style:{code_style} . The following performance requirement is: {performance_requirement} .\n",
        "          \"\"\"\n",
        "response = code_generation_model.predict(prefix=prefix)\n",
        "\n",
        "print(response.text)"
      ]
    },
    {
      "cell_type": "markdown",
      "metadata": {
        "id": "LIG3zF7ErOJT"
      },
      "source": [
        "#### BigQuery\n"
      ]
    },
    {
      "cell_type": "code",
      "execution_count": null,
      "metadata": {
        "id": "wAIoVQoCpz16"
      },
      "outputs": [],
      "source": [
        "metadata = \"\"\"\n",
        "          A table of customer data, with the following columns:\n",
        "\n",
        "          customer_id: The unique identifier for the customer.\n",
        "          first_name: The customer's first name.\n",
        "          last_name: The customer's last name.\n",
        "          email: The customer's email address.\n",
        "          phone_number: The customer's phone number.\n",
        "          country: The customer's country of residence.\n",
        "          order_history: A JSON object containing the customer's order history, including the following information for each order:\n",
        "          order_id: The unique identifier for the order.\n",
        "          order_date: The date the order was placed.\n",
        "          order_total: The total amount of the order.\n",
        "          order_items: A list of the items ordered, including the following information for each item:\n",
        "          item_id: The unique identifier for the item.\n",
        "          item_name: The name of the item.\n",
        "          item_quantity: The quantity of the item ordered.\n",
        "          item_price: The price of the item.\n",
        "\n",
        "            \"\"\"\n",
        "language = \"BigQuery\"\n",
        "problem = \"\"\"solve following queries: \\n\n",
        "            - Total number of orders placed. \\n\n",
        "            - Total amount of money spent on orders. \\n\n",
        "            - Average order value. \\n\n",
        "            - Most popular item ordered (by quantity). \\n\n",
        "            - Most recent order placed. \\n\n",
        "          \"\"\"\n",
        "additional_requirment = \"\"\"\n",
        "            - The query should be efficient and scalable, as the customer table may contain millions of rows. \\n\n",
        "            - The query should be easy to read and maintain.\n",
        "            \"\"\"\n",
        "prefix = f\"\"\"Write a {language} query to {problem}.\n",
        "          use this as the table metadata: {metadata}.\n",
        "          Here are some additional requirement for the query: {additional_requirment}.\n",
        "          Generate each query as a separate query seperated with a comment.\n",
        "              \"\"\"\n",
        "response = code_generation_model.predict(prefix=prefix, max_output_tokens=2000)\n",
        "\n",
        "print(response.text)"
      ]
    },
    {
      "cell_type": "markdown",
      "metadata": {
        "id": "rojGQweJalYN"
      },
      "source": [
        "### 程式碼最適化\n",
        "\n",
        "你可以於程式碼的最佳化提示中定義問題陳述的特定最佳化需求。程式碼模型很擅於遵循具體指示並產生可以滿足使用者特定條件的程式碼。你可以使用下列三種語言進行嘗試，並查看如何針對資料結構、演算法複雜度和可維護性提出具體指示。\n"
      ]
    },
    {
      "cell_type": "markdown",
      "metadata": {
        "id": "TvMKMc87tVb4"
      },
      "source": [
        "#### Haskell\n"
      ]
    },
    {
      "cell_type": "code",
      "execution_count": null,
      "metadata": {
        "id": "y2eBkgwFr3N6"
      },
      "outputs": [],
      "source": [
        "sample_input = \"A list of integers, e.g. [1, 2, 3, 4, 5]\"\n",
        "language = \"Haskell\"\n",
        "problem_statement = (\n",
        "    f\"a {language} program that calculates the sum of all the integers in the list.\"\n",
        ")\n",
        "additional_requirement = \"\"\"\n",
        "                      - The function should be efficient and recursive.\n",
        "                      - The function should be polymorphic, so that it can be used to sum lists of any type of number.\n",
        "                      \"\"\"\n",
        "prefix = f\"\"\"\n",
        "        Write {problem_statement}. \\n\n",
        "        Also add example use case that take {sample_input} calling the function generated.\n",
        "        Here are some additional requirement for the function: {additional_requirement}.\n",
        "        \"\"\"\n",
        "response = code_generation_model.predict(prefix=prefix, max_output_tokens=1000)\n",
        "\n",
        "print(response.text)"
      ]
    },
    {
      "cell_type": "markdown",
      "metadata": {
        "id": "uSDxG_tfvS9h"
      },
      "source": [
        "#### Java\n"
      ]
    },
    {
      "cell_type": "code",
      "execution_count": null,
      "metadata": {
        "id": "sIiKTAK_tZXn"
      },
      "outputs": [],
      "source": [
        "sample_input = \"\"\" \"(1 + 2) * 3\"\n",
        "              \"\"\"\n",
        "language = \"Java\"\n",
        "problem_statement = f\"a {language} program that evaluates the mathematical expression and prints the result to the console.\"\n",
        "additional_requirement = \"\"\"\n",
        "                      - The program should handle all valid mathematical expressions, including those with parentheses, operators, and variables.\n",
        "                      \"\"\"\n",
        "prefix = f\"\"\"\n",
        "        Write {problem_statement}. \\n\n",
        "        Use {sample_input} to test the generated code.\n",
        "        Here are some additional requirement for the function: {additional_requirement}.\n",
        "        \"\"\"\n",
        "response = code_generation_model.predict(prefix=prefix)\n",
        "\n",
        "print(response.text)"
      ]
    },
    {
      "cell_type": "markdown",
      "metadata": {
        "id": "0uoq5mnJxchl"
      },
      "source": [
        "#### JavaScript\n"
      ]
    },
    {
      "cell_type": "code",
      "execution_count": null,
      "metadata": {
        "id": "H-nKwp_Cw0aL"
      },
      "outputs": [],
      "source": [
        "sample_input = \"\"\"\n",
        "              A JSON object containing a list of products, each product with the following properties:\n",
        "              id: The unique identifier for the product.\n",
        "              name: The name of the product.\n",
        "              price: The price of the product.\n",
        "              quantity: The quantity of the product in stock.\n",
        "              \"\"\"\n",
        "language = \"JavaScript\"\n",
        "problem_statement = f\"\"\"a {language} function that takes the JSON object as input and returns a new JSON object containing the following properties:\n",
        "                      total_price: The total price of all the products in the list.\n",
        "                      average_price: The average price of all the products in the list.\n",
        "                      most_expensive_product: The most expensive product in the list.\n",
        "                      least_expensive_product: The least expensive product in the list.\n",
        "                      out_of_stock_products: A list of all the products that are out of stock.\n",
        "                    \"\"\"\n",
        "additional_requirement = \"\"\"\n",
        "                      - The function should be efficient and scalable, as the JSON object may contain millions of products.\n",
        "                      - The function should be easy to read and maintain.\n",
        "                      \"\"\"\n",
        "prefix = f\"\"\"\n",
        "        Write {problem_statement}. \\n\n",
        "        Also add example use case that take {sample_input} calling the function generated.\n",
        "        Here are some additional requirement for the function: {additional_requirement}.\n",
        "        \"\"\"\n",
        "response = code_generation_model.predict(prefix=prefix)\n",
        "\n",
        "print(response.text)"
      ]
    },
    {
      "cell_type": "markdown",
      "metadata": {
        "id": "6lCvDVBtbdVp"
      },
      "source": [
        "### 思考鏈\n",
        "\n",
        "思考鏈 (CoT) 提示技術可用來引導大型語言模型 (LLM) 透過將任務分解成一系列的自然語言中介推理步驟，來產生程式碼。此種方式已證明與傳統提示方法相比，它能提升產出程式的品質。\n",
        "\n",
        "若要將 CoT 提示用於產生程式碼，你首先得提供 LLM 一段自然語言說明，宣告你想達成的任務。LLM 接著會產生思考鏈，也就是一系列說明如何解決任務的自然語言步驟。最後，LLM 會使用思考鏈來產生程式碼。\n",
        "\n",
        "以下為使用 CoT 提示產生 C++ 和 Java 函式的範例，以因應特定使用案例。\n"
      ]
    },
    {
      "cell_type": "markdown",
      "metadata": {
        "id": "J_s8w6eUwb02"
      },
      "source": [
        "#### C++\n"
      ]
    },
    {
      "cell_type": "code",
      "execution_count": null,
      "metadata": {
        "id": "y-85asBEJBsA"
      },
      "outputs": [],
      "source": [
        "language = \"C++\"\n",
        "sample_input = \"\"\"\n",
        "                17/06/09 20:10:41 INFO slf4j.Slf4jLogger: Slf4jLogger started\n",
        "                17/06/09 20:10:41 INFO Remoting: Starting remoting\n",
        "                17/06/09 20:10:41 INFO Remoting: Remoting started; listening on addresses :[akka.tcp://sparkExecutorActorSystem@mesos-slave-07:55904]\n",
        "                17/06/09 20:10:41 INFO util.Utils: Successfully started service 'sparkExecutorActorSystem' on port 55904.\n",
        "              \"\"\"\n",
        "additional_requirement = \"\"\"\n",
        "                      - It should not use regex to find the given line\n",
        "                      - the solution should be scalable and should scale linearly with additional data\n",
        "                      - the output should print a flag and port number both.\n",
        "                      - All the variable should be properly in scope and should be decalred only once.\n",
        "                      - The varibles should have scope to be called in the main() function.\n",
        "                      - The code should be easy to read and maintain\n",
        "                      - The code should have proper typehints and comments\n",
        "                      \"\"\"\n",
        "\n",
        "prefix = f\"\"\"\n",
        "        Prompt 1: What is the problem we are trying to solve?\n",
        "\n",
        "        Identify the status of the sparkExecutorActorSystem service in network log and output True or False along with the port, if True.\n",
        "\n",
        "        Prompt 2: What is the language you want to use to solve this problem?\n",
        "        {language}\n",
        "\n",
        "        Prompt 3: What are the inputs and outputs of the function?\n",
        "\n",
        "        Input: Network log\n",
        "        Output: Boolean value indicating the status of the sparkExecutorActorSystem service and the port, if True\n",
        "\n",
        "        Prompt 4: What are the steps involved in identifying the status of the sparkExecutorActorSystem service in network log?\n",
        "\n",
        "        Split the network log into lines.\n",
        "        Iterate over the lines and search for the line that contains the following string: Successfully started service 'sparkExecutorActorSystem' on port.\n",
        "        If the line is found, extract the port number and save it in the variable\n",
        "        Make sure the varibles are scoped to be called in the main() function.\n",
        "        If the line is not found,\n",
        "        Return True along with the port number variable.\n",
        "        Otherwise, return False.\n",
        "        call the function passing the sample input\n",
        "        Prompt 5: What is the sample input that can be tested as a test use case?\n",
        "        {sample_input}\n",
        "\n",
        "        prompt 6: Any additional expectation from the code logic?\n",
        "        {additional_requirement}\n",
        "\n",
        "        Prompt 7: Write the code for the scenario keeping additional expectation and expected language while generation along with the test case.\n",
        "\n",
        "        \"\"\"\n",
        "response = code_generation_model.predict(prefix=prefix)\n",
        "\n",
        "print(response.text)"
      ]
    },
    {
      "cell_type": "markdown",
      "metadata": {
        "id": "xo0CoiO1M9L1"
      },
      "source": [
        "#### Java\n"
      ]
    },
    {
      "cell_type": "code",
      "execution_count": null,
      "metadata": {
        "id": "JDh9uOpYMf4S"
      },
      "outputs": [],
      "source": [
        "prefix = \"\"\"\n",
        "        q: What is the input to the function?\n",
        "        a: The input to the function is a string.\n",
        "\n",
        "        q: What is the output of the function?\n",
        "        a: The output of the function is a reversed string.\n",
        "\n",
        "        q: What are the steps involved in reversing a string?\n",
        "        a: 1) Iterate over the string from the back.\n",
        "            2) Add each character to a new string in reverse order.\n",
        "            3) Return the new string.\n",
        "\n",
        "        q: Write pseudocode for the function.\n",
        "        a: function reverse_string(string):\n",
        "              new_string = \"\"\n",
        "              for i in range(len(string) - 1, -1, -1):\n",
        "                  new_string += string[i]\n",
        "              return new_string\n",
        "\n",
        "        q: how would you test the function?\n",
        "        a: the input \"hello\" should return \"olleh\"\n",
        "\n",
        "        q: write java code for the function follwing all the question-answer pairs.\n",
        "        \"\"\"\n",
        "response = code_generation_model.predict(prefix=prefix, max_output_tokens=2048)\n",
        "\n",
        "print(response.text)"
      ]
    },
    {
      "cell_type": "markdown",
      "metadata": {
        "id": "M6Ly_o7RcgeU"
      },
      "source": [
        "### 透過使用者旅程和偽碼/初始碼進行小範例\n",
        "\n",
        "在小範例提示中，你也可以傳遞使用者旅程或偽碼/初始碼範例，讓程式碼產生遵循特定指令。使用者旅程也可以包含範例輸入和輸出資料結構。你也可以透過傳遞一些初始碼，來補充這個範例，讓模型可以依照你想要的結構進行程式碼產生。以下是不同語言的一些範例。\n"
      ]
    },
    {
      "cell_type": "markdown",
      "metadata": {
        "id": "J3vT9XCorXnN"
      },
      "source": [
        "#### Kotlin\n"
      ]
    },
    {
      "cell_type": "code",
      "execution_count": null,
      "metadata": {
        "id": "xfH4a--xrX-Y"
      },
      "outputs": [],
      "source": [
        "user_journey = \"\"\"\n",
        "              A Kotlin developer is working on a new Android app.\n",
        "              They need to implement a feature that allows users to search for nearby restaurants.\n",
        "              \"\"\"\n",
        "sample_input = \"\"\"\n",
        "              A list of restaurants and a search query:\n",
        "              val restaurants = listOf(\n",
        "                                Restaurant(\"The Grill\", \"123 Main Street\", cuisine = \"American\"),\n",
        "                                Restaurant(\"Thai Paradise\", \"456 Elm Street\", cuisine = \"Thai\"),\n",
        "                                Restaurant(\"Little Italy\", \"789 Pine Street\", cuisine = \"Italian\"),\n",
        "                              )\n",
        "\n",
        "              val searchQuery = \"Italian\"\n",
        "\n",
        "              \"\"\"\n",
        "sample_output = \"\"\"\n",
        "          A list of restaurants that match the search query:\n",
        "          val matchingRestaurants = listOf(\n",
        "              Restaurant(\"Little Italy\", \"789 Pine Street\", cuisine = \"Italian\"),\n",
        "            )\n",
        "          \"\"\"\n",
        "language = \"Kotlin\"\n",
        "problem_statement = f\"\"\"a {language} function that takes a list of restaurants and a search query as input and returns  \\\n",
        "                        list of restaurants that match the search query. The search query can be a substring of the restaurant name, \\\n",
        "                        address, or cuisine type.\n",
        "                    \"\"\"\n",
        "additional_requirement = \"\"\"\n",
        "                     - The function should be efficient and scalable.\n",
        "                     - The function should be easy to read and maintain.\n",
        "                      \"\"\"\n",
        "prefix = f\"\"\"\n",
        "        Write {problem_statement}. \\n\n",
        "        Also add example use case that take {sample_input} and {sample_output} calling the function generated.\n",
        "        Here are some additional requirement for the function: {additional_requirement}.\n",
        "        \"\"\"\n",
        "response = code_generation_model.predict(prefix=prefix)\n",
        "\n",
        "print(response.text)"
      ]
    },
    {
      "cell_type": "markdown",
      "metadata": {
        "id": "Hkf9gqfUweTY"
      },
      "source": [
        "#### Rust\n"
      ]
    },
    {
      "cell_type": "code",
      "execution_count": null,
      "metadata": {
        "id": "gmzqFsnOf_Cq"
      },
      "outputs": [],
      "source": [
        "real_world_case = \"\"\"You are a software engineer at a company that develops trading software.\n",
        "                     You need to write a Rust program to calculate the moving average of a stock price over a given period of time.\"\"\"\n",
        "problem_statement = f\"\"\"The program should take two inputs:\n",
        "                        A vector of stock prices.\n",
        "                        The period over which to calculate the moving average.\n",
        "                        The program should output the moving average of the stock price over the given period.\n",
        "                    \"\"\"\n",
        "code_style = \"Idiomatic Rust\"\n",
        "algorithmic_complexity = \"O(n)\"\n",
        "pseudocode = \"\"\"\n",
        "              1) Initialize a variable to store the moving average.\n",
        "              2) Iterate over the vector of stock prices, adding each price to the moving average.\n",
        "              3) Divide the moving average by the period to get the average price over the given period.\n",
        "              4) Return the moving average price.\n",
        "             \"\"\"\n",
        "test_cases = \"\"\"\n",
        "            // Test case 1\n",
        "            let stock_prices = vec![100, 110, 120, 130, 140];\n",
        "            let period = 3;\n",
        "\n",
        "            let moving_average = calculate_moving_average(&stock_prices, period);\n",
        "\n",
        "            assert_eq!(moving_average, 200.0);\n",
        "\n",
        "            \"\"\"\n",
        "sample_input = \"[500, 100, 300, 450, 120]\"\n",
        "prefix = f\"\"\"Write a Rust program based on a {real_world_case} .\n",
        "             The problem statement that needs to be addressed is {problem_statement} .\n",
        "             You can use this pseudocode as an example to generate the code step by step:  {pseudocode} .\n",
        "             Add an example to call the generated function in main() {sample_input}\n",
        "             It should follow the code style pattern as {code_style} and should have {algorithmic_complexity} as algorithmic complexity.\n",
        "             Make sure that the code generated passes the following test cases: {test_cases}\n",
        "             \"\"\"\n",
        "response = code_generation_model.predict(\n",
        "    prefix=prefix, max_output_tokens=2000, temperature=0.2\n",
        ")\n",
        "\n",
        "print(response.text)"
      ]
    },
    {
      "cell_type": "markdown",
      "metadata": {
        "id": "GinhyCUizbDe"
      },
      "source": [
        "#### Scala\n"
      ]
    },
    {
      "cell_type": "code",
      "execution_count": null,
      "metadata": {
        "id": "VvKRnkyPzld6"
      },
      "outputs": [],
      "source": [
        "persona = \"\"\"You are a Scala developer working on a backend service for an e-commerce platform. \"\"\"\n",
        "goal = \"\"\"Your task is to generate Scala code for a data model representing products in the platform's catalog.\n",
        "          The product data model should include information such as product ID, name, price, and availability.\n",
        "       \"\"\"\n",
        "user_journey = \"\"\"\n",
        "              As a developer, your day-to-day tasks often involve designing data models to represent various entities in your application.\n",
        "              In this scenario, you are tasked with creating a Scala case class for the product data model and a companion object with utility methods.\n",
        "              \"\"\"\n",
        "requirements = \"\"\"\n",
        "            1. Create a Scala case class named `Product` with the following fields:\n",
        "                - `id` (String)\n",
        "                - `name` (String)\n",
        "                - `price` (Double)\n",
        "                - `available` (Boolean)\n",
        "\n",
        "            2. Implement a companion object for the `Product` case class with the following methods:\n",
        "                - `create` method that takes parameters for ID, name, price, and availability and returns an instance of the `Product` case class.\n",
        "                - `format` method that takes a `Product` instance and returns a formatted string representation of the product.\n",
        "\n",
        "            3. Ensure that the `create` method sets the availability to `true` by default if not provided.\n",
        "              \"\"\"\n",
        "code_structure = \"\"\"\n",
        "                You have been provided with a starter code structure. Your task is to complete the code to meet the above requirements. The input code structure is as follows:\n",
        "\n",
        "                ```scala\n",
        "                // Starter code\n",
        "                case class Product(id: String, name: String, price: Double, available: Boolean)\n",
        "\n",
        "                object Product {\n",
        "                  // Your generated Scala code for the companion object goes here\n",
        "                }\n",
        "\n",
        "                object Main extends App {\n",
        "                  // Your test cases go here\n",
        "                }\n",
        "                \"\"\"\n",
        "\n",
        "prefix = f\"\"\"{persona} {goal} {user_journey} {requirements} {code_structure} \"\"\"\n",
        "response = code_generation_model.predict(\n",
        "    prefix=prefix, max_output_tokens=2000, temperature=0.2\n",
        ")\n",
        "\n",
        "print(response.text)"
      ]
    },
    {
      "cell_type": "markdown",
      "metadata": {
        "id": "YsFg9jaE15fR"
      },
      "source": [
        "#### Shell 腳本\n"
      ]
    },
    {
      "cell_type": "code",
      "execution_count": null,
      "metadata": {
        "id": "uugt4kNs2Cjp"
      },
      "outputs": [],
      "source": [
        "persona = \"\"\"\n",
        "          Imagine you are a system administrator responsible for managing a Linux server environment.\n",
        "          Your daily tasks often involve creating shell scripts to automate various system maintenance and monitoring tasks.\n",
        "          In this scenario, you are tasked with generating a shell script to automate a common backup task.\n",
        "          \"\"\"\n",
        "user_journey = \"\"\"\n",
        "          As a system administrator, you frequently need to create backup scripts to ensure data integrity and disaster recovery.\n",
        "          Your goal is to generate a simple shell script that backs up a specified directory to a target backup location using the `rsync` command.\n",
        "              \"\"\"\n",
        "requriements = \"\"\"\n",
        "          1. Create a shell script named `backup.sh` that takes two command-line arguments:\n",
        "            - Source directory: The directory to be backed up.\n",
        "            - Target directory: The directory where the backup should be stored.\n",
        "\n",
        "          2. The script should use the `rsync` command to perform the backup. The `rsync` command should:\n",
        "            - Synchronize the contents of the source directory to the target directory.\n",
        "            - Preserve file permissions and timestamps.\n",
        "            - Display progress information during the backup.\n",
        "\n",
        "          3. Add comments to the script to explain its purpose and usage.\n",
        "              \"\"\"\n",
        "starter_code = \"\"\"\n",
        "          You have been provided with a starter code structure.\n",
        "          Your task is to complete the code to meet the above requirements.\n",
        "          The input code structure is as follows:\n",
        "\n",
        "          ```bash\n",
        "          #!/bin/bash\n",
        "\n",
        "          # Your generated Shell script code goes here\n",
        "          \"\"\"\n",
        "\n",
        "prefix = f\"\"\"{persona} {user_journey} {requriements} {starter_code} \"\"\"\n",
        "response = code_generation_model.predict(\n",
        "    prefix=prefix,\n",
        "    max_output_tokens=2000,\n",
        ")\n",
        "\n",
        "print(response.text)"
      ]
    },
    {
      "cell_type": "markdown",
      "metadata": {
        "id": "nrxZJs7OHuVF"
      },
      "source": [
        "#### Solidity [區塊鏈]\n"
      ]
    },
    {
      "cell_type": "code",
      "execution_count": null,
      "metadata": {
        "id": "raMp35oEIIrw"
      },
      "outputs": [],
      "source": [
        "user_input = \"\"\"\n",
        "         - The address of the user withdrawing the tokens\n",
        "         - The amount of tokens being withdrawn\n",
        "         \"\"\"\n",
        "return_output = \"\"\"\n",
        "         - A boolean value indicating whether the withdrawal was successful\n",
        "         \"\"\"\n",
        "requirements = \"\"\"\n",
        "          - The code should be written in Solidity using the latest best practices.\n",
        "          - algorithm should be O(1) time complexity.\n",
        "          \"\"\"\n",
        "\n",
        "\n",
        "prefix = f\"\"\"\n",
        "         Generate a Solidity function called withdraw() that allows users to withdraw tokens from a decentralized exchange (DEX).\n",
        "         The function should take the following inputs: {user_input} and should return: {return_output}.\n",
        "         The function should also meet the following requirements: {requirements}\n",
        "         \"\"\"\n",
        "response = code_generation_model.predict(\n",
        "    prefix=prefix, max_output_tokens=2000, temperature=0.2\n",
        ")\n",
        "\n",
        "print(response.text)"
      ]
    },
    {
      "cell_type": "markdown",
      "metadata": {
        "id": "ENUSlJeksY9F"
      },
      "source": [
        "#### Verilog\n"
      ]
    },
    {
      "cell_type": "code",
      "execution_count": null,
      "metadata": {
        "id": "8dfaF8eNsat0"
      },
      "outputs": [],
      "source": [
        "prefix = \"\"\"\n",
        "        Generate Verilog code for a 3-bit adder circuit that performs addition of two 3-bit numbers using only D flip-flops.\n",
        "        The circuit should have the following inputs:\n",
        "        a[2:0]\n",
        "        b[2:0]\n",
        "        The circuit should have the following outputs:\n",
        "        sum[2:0]\n",
        "        carry\n",
        "        The circuit should implement the following logic:\n",
        "        The circuit should add the two 3-bit numbers and store the result in the sum output. The carry output should be set to 1 if the addition results in a carry-out, and 0 otherwise.\n",
        "        Constraints:\n",
        "        The circuit must use only D flip-flops.\n",
        "        \"\"\"\n",
        "response = code_generation_model.predict(prefix=prefix)\n",
        "\n",
        "print(response.text)"
      ]
    },
    {
      "cell_type": "markdown",
      "metadata": {
        "id": "xmjVO4pCTorG"
      },
      "source": [
        "### DevOps 範本\n",
        "\n",
        "Codey 也能幫助你產生與 DevOps 相關的程式碼範例。你可以使用下列範本來產生 Docker、Jenkins、GitLab CI、Prometheus 設定檔以及更多此類的程式碼區塊。\n"
      ]
    },
    {
      "cell_type": "markdown",
      "metadata": {
        "id": "KN0EflgHP75p"
      },
      "source": [
        "#### Docker\n"
      ]
    },
    {
      "cell_type": "code",
      "execution_count": null,
      "metadata": {
        "id": "_BpavsvSP-r9"
      },
      "outputs": [],
      "source": [
        "prefix = \"\"\"\n",
        "        Generate a Dockerfile for a Python application that:\n",
        "          * Builds the image from a python:latest base image\n",
        "          * Exposes the following ports: 8000\n",
        "          * Installs the following dependencies: pip install flask\n",
        "          * Sets the working directory to /app\n",
        "          * Copies the following files to the image: app.py requirements.txt ./\n",
        "          * Runs the following command on startup: flask run --host=0.0.0.0\n",
        "        \"\"\"\n",
        "response = code_generation_model.predict(prefix=prefix)\n",
        "\n",
        "print(response.text)"
      ]
    },
    {
      "cell_type": "markdown",
      "metadata": {
        "id": "E36RX5VOTsXj"
      },
      "source": [
        "#### Docker 組合\n"
      ]
    },
    {
      "cell_type": "code",
      "execution_count": null,
      "metadata": {
        "id": "Dn5JbcwRQKw6"
      },
      "outputs": [],
      "source": [
        "prefix = \"\"\"\n",
        "        Generate a Compose file for the following services: web\n",
        "          * Define the following networks: default\n",
        "          * Define the following volumes: ./app:/app\n",
        "          * Define the following environments: FLASK_APP=app.py\n",
        "          * Define the following links: none\n",
        "          * Define the following depends_on relationships: none\n",
        "        \"\"\"\n",
        "response = code_generation_model.predict(prefix=prefix)\n",
        "\n",
        "print(response.text)"
      ]
    },
    {
      "cell_type": "markdown",
      "metadata": {
        "id": "qPO7MT6cTvMB"
      },
      "source": [
        "#### Jenkins\n"
      ]
    },
    {
      "cell_type": "code",
      "execution_count": null,
      "metadata": {
        "id": "784INw25SnAP"
      },
      "outputs": [],
      "source": [
        "prefix = \"\"\"\n",
        "        Objective: Generate a Jenkinsfile for a parametrized pipeline for a Java project.\n",
        "        Instructions:\n",
        "        Allow the user to input parameters like \"Environment\" and \"Feature Toggle.\"\n",
        "        Use these parameters in the build and test stages.\n",
        "        Provide default values for parameters.\n",
        "        \"\"\"\n",
        "response = code_generation_model.predict(prefix=prefix)\n",
        "\n",
        "print(response.text)"
      ]
    },
    {
      "cell_type": "markdown",
      "metadata": {
        "id": "_vqGes_oTxAq"
      },
      "source": [
        "#### GitLab CI\n"
      ]
    },
    {
      "cell_type": "code",
      "execution_count": null,
      "metadata": {
        "id": "brxDiPmeTyiy"
      },
      "outputs": [],
      "source": [
        "prefix = \"\"\"\n",
        "        Generate GitLab CI YAML configuration for a Node.js project.\n",
        "        Instructions:\n",
        "          - Assume the project uses Node.js and has unit tests.\n",
        "          - Include stages for \"Build,\" \"Test,\" and \"Deploy.\"\n",
        "          - Specify Node.js version and test script.\n",
        "          - Use GitLab CI variables for sensitive information.\n",
        "        \"\"\"\n",
        "response = code_generation_model.predict(prefix=prefix)\n",
        "\n",
        "print(response.text)"
      ]
    },
    {
      "cell_type": "markdown",
      "metadata": {
        "id": "AZ_wYBuIUDTP"
      },
      "source": [
        "#### Prometheus 配置\n"
      ]
    },
    {
      "cell_type": "code",
      "execution_count": null,
      "metadata": {
        "id": "tVcJWpPxUF2Q"
      },
      "outputs": [],
      "source": [
        "prefix = \"\"\"\n",
        "         Generate YAML configurations for Prometheus to monitor a containerized application.\n",
        "          Instructions:\n",
        "            - Specify the job for scraping metrics.\n",
        "            - Include targets, labels, and metric relabeling as needed.\n",
        "            - Set up alerting rules for key metrics.\n",
        "        \"\"\"\n",
        "response = code_generation_model.predict(prefix=prefix)\n",
        "\n",
        "print(response.text)"
      ]
    },
    {
      "cell_type": "markdown",
      "metadata": {
        "id": "SeneD9LlrpaN"
      },
      "source": [
        "### 網頁範本\n",
        "\n",
        "你也可以根據提示生成 HTML 和 CSS 程式碼。在以下範例中，你可以看到如何提及簡單 HTML 頁面及其特性的各種細節。\n"
      ]
    },
    {
      "cell_type": "markdown",
      "metadata": {
        "id": "HfB5_zSersVw"
      },
      "source": [
        "#### HTML\n"
      ]
    },
    {
      "cell_type": "code",
      "execution_count": null,
      "metadata": {
        "id": "Jj_d4IcLXzcZ"
      },
      "outputs": [],
      "source": [
        "prefix = \"\"\"write a html code for a simple page:\n",
        "            - Has a button \"click me\" and it shows how many time user has hit that button as its counter.\n",
        "            - Add style element that has page header as \"My Page Counter Demo\" in brown color\n",
        "            - Everything should be displayed as 'center'.\n",
        "            - The counter button should be blue by default and when clicked it should be red.\n",
        "            - The counter value should be in green color.\n",
        "            - The bottom of the page should display this message \"Codey Generated this page\" in bold and big font.\n",
        "\"\"\"\n",
        "response = code_generation_model.predict(prefix=prefix)\n",
        "\n",
        "print(response.text)"
      ]
    },
    {
      "cell_type": "code",
      "execution_count": null,
      "metadata": {
        "id": "VPPXyk6hu3kI"
      },
      "outputs": [],
      "source": [
        "prefix = \"\"\"\n",
        "        Generate a responsive HTML code for a landing page of a new e-commerce website that sells clothes. The landing page should have the following sections:\n",
        "         - A header with a logo, a navigation bar, and a search bar.\n",
        "         - A hero section with a large image of a model wearing clothes from the website and a call to action button.\n",
        "         - A featured products section with a grid of images of the best-selling products on the website.\n",
        "         - A testimonial section with quotes from satisfied customers.\n",
        "         - A footer with contact information and social media links.\n",
        "       \"\"\"\n",
        "response = code_generation_model.predict(prefix=prefix)\n",
        "\n",
        "print(response.text)"
      ]
    },
    {
      "cell_type": "markdown",
      "metadata": {
        "id": "0qRKW7UrPCxh"
      },
      "source": [
        "## 最佳實務\n"
      ]
    },
    {
      "cell_type": "markdown",
      "metadata": {
        "id": "1BRWXLPXPN4v"
      },
      "source": [
        "### 如何撰寫有效的程式碼生成提示\n",
        "\n",
        "撰寫程式碼生成提示時，務必盡可能清楚明確。提供給模型的資訊越多，它就能更了解你的用意並產生所需的程式碼。\n",
        "\n",
        "以下是撰寫有效程式碼生成提示的一些秘訣：\n",
        "\n",
        "* 從清楚且簡潔的任務描述開始，讓模型執行該任務。例如，不要說「產生一個對數字清單排序的函式」，你可以說「產生一個以遞增順序對整數清單排序的 Python 函式」。\n",
        "\n",
        "* 提供所需輸入和輸出範例。這將有助於模型了解資料格式和預期輸出。例如，你可以提供一個未排序的數字清單，以及相對應的已排序清單。\n",
        "\n",
        "* 使用自然語言來描述任務。模型經過大量文字和程式碼資料集的訓練，所以它能理解自然語言提示。例如，你可以說「產生一個在 Python 中反轉字串的函式」。\n"
      ]
    },
    {
      "cell_type": "markdown",
      "metadata": {
        "id": "aKMdcftDPZq4"
      },
      "source": [
        "### 如何選擇合適的溫度和最大輸出 Token\n",
        "\n",
        "溫度參數控制模型輸出的隨機性。更高的溫度會產生更有創意和多樣化的輸出，但它也可能不太準確。較低的溫度會產生更準確的輸出，但它也可能不太有創意。\n",
        "\n",
        "最大輸出 Token 參數控制模型將生成的最大 Token 數量。這對於限制輸出程式碼的長度或防止模型產生無限迴圈非常有用。\n",
        "\n",
        "以下是如何選擇合適溫度和最大輸出 Token 的一些秘訣：\n",
        "\n",
        "* 對需要高精度的任務使用較低的溫度，例如生成用於機器學習模型的程式碼。\n",
        "\n",
        "* 對需要創意的任務使用較高的溫度，例如生成用於網路應用程式或遊戲的程式碼。\n",
        "\n",
        "* 使用最大輸出 Token 參數來限制輸出程式碼的長度或防止模型產生無限迴圈。\n"
      ]
    },
    {
      "cell_type": "markdown",
      "metadata": {
        "id": "OjVR5n4-PgkU"
      },
      "source": [
        "如何解讀並使用程式碼生成建議\n",
        "\n",
        "模型產生的程式碼建議並非總是完美無瑕。仔細檢閱產生的程式碼並進行必要的更動非常重要。\n",
        "\n",
        "以下是一些解讀及使用程式碼生成建議的技巧：\n",
        "\n",
        "* 檢查輸出程式碼有無語法錯誤。\n",
        "* 確保輸出程式碼符合你的編碼標準。\n",
        "* 測試輸出程式碼以確保其能如預期執行。\n"
      ]
    },
    {
      "cell_type": "markdown",
      "metadata": {
        "id": "UxEG_Ui8PnE_"
      },
      "source": [
        "### 如何避免常見的程式碼產生陷阱\n",
        "\n",
        "以下是一些應避免的常見程式碼產生陷阱：\n",
        "\n",
        "* 使用模糊或不明確的提示。你在提示中能越具體，模型就能越好理解你的意圖和產生所需的程式碼。\n",
        "* 使用過高的溫度。較高的溫度可能導致較不準確和更具創意的輸出。重要的是根據你嘗試執行的任務選擇正確的溫度。\n",
        "* 未仔細檢閱產生的程式碼。產生的程式碼並非總是完美的。重要的是仔細檢閱產生的程式碼並進行必要的變更。\n"
      ]
    }
  ],
  "metadata": {
    "colab": {
      "provenance": [],
      "toc_visible": true
    },
    "environment": {
      "kernel": "python3",
      "name": "tf2-gpu.2-11.m108",
      "type": "gcloud",
      "uri": "gcr.io/deeplearning-platform-release/tf2-gpu.2-11:m108"
    },
    "kernelspec": {
      "display_name": "Python 3 (ipykernel)",
      "language": "python",
      "name": "python3"
    },
    "language_info": {
      "codemirror_mode": {
        "name": "ipython",
        "version": 3
      },
      "file_extension": ".py",
      "mimetype": "text/x-python",
      "name": "python",
      "nbconvert_exporter": "python",
      "pygments_lexer": "ipython3",
      "version": "3.10.10"
    }
  },
  "nbformat": 4,
  "nbformat_minor": 4
}