{
  "cells": [
    {
      "cell_type": "code",
      "execution_count": null,
      "metadata": {
        "id": "ur8xi4C7S06n"
      },
      "outputs": [],
      "source": [
        "# Copyright 2023 Google LLC\n",
        "#\n",
        "# Licensed under the Apache License, Version 2.0 (the \"License\");\n",
        "# you may not use this file except in compliance with the License.\n",
        "# You may obtain a copy of the License at\n",
        "#\n",
        "#     https://www.apache.org/licenses/LICENSE-2.0\n",
        "#\n",
        "# Unless required by applicable law or agreed to in writing, software\n",
        "# distributed under the License is distributed on an \"AS IS\" BASIS,\n",
        "# WITHOUT WARRANTIES OR CONDITIONS OF ANY KIND, either express or implied.\n",
        "# See the License for the specific language governing permissions and\n",
        "# limitations under the License."
      ]
    },
    {
      "cell_type": "markdown",
      "metadata": {
        "id": "JAPoU8Sm5E6e"
      },
      "source": [
        "# BigQuery DataFrames ML: 藥物名稱生成\n",
        "\n",
        "<table align=\"left\">\n",
        "  <td>\n",
        "    <a href=\"https://colab.sandbox.google.com/github/doggy8088/generative-ai/blob/main/language/use-cases/applying-llms-to-data/bq_dataframes_ml_drug_name_generation.ipynb\">\n",
        "      <img src=\"https://cloud.google.com/ml-engine/images/colab-logo-32px.png\" alt=\"Colab 商標\"> 在 Colab 中執行\n",
        "    </a>\n",
        "  </td>\n",
        "  <td>\n",
        "    <a href=\"https://github.com/doggy8088/generative-ai/blob/main/language/use-cases/applying-llms-to-data/bq_dataframes_ml_drug_name_generation.ipynb\">\n",
        "      <img src=\"https://cloud.google.com/ml-engine/images/github-logo-32px.png\" alt=\"GitHub 商標\"> 在 GitHub 上檢視\n",
        "    </a>\n",
        "  </td>\n",
        "  <td>\n",
        "    <a href=\"https://console.cloud.google.com/vertex-ai/workbench/deploy-notebook?download_url=https://raw.githubusercontent.com/doggy8088/generative-ai/blob/main/language/use-cases/applying-llms-to-data/bq_dataframes_ml_drug_name_generation.ipynb\">\n",
        "      <img src=\"https://lh3.googleusercontent.com/UiNooY4LUgW_oTvpsNhPpQzsstV5W8F7rYgxgGBD85cWJoLmrOzhVs_ksK_vgx40SHs7jCqkTkCk=e14-rj-sc0xffffff-h130-w32\" alt=\"Vertex AI 商標\"> 在 Vertex AI Workbench 中開啟\n",
        "    </a>\n",
        "  </td>                    \n",
        "</table>\n"
      ]
    },
    {
      "cell_type": "markdown",
      "metadata": {},
      "source": [
        "| | |\n",
        "|-|-|\n",
        "|作者 | [Ashley Xu](https://github.com/ashleyxuu) |\n"
      ]
    },
    {
      "cell_type": "markdown",
      "metadata": {
        "id": "24743cf4a1e1"
      },
      "source": [
        "**_注意_** : 已在下列環境中測試過這個筆記本：\n",
        "\n",
        "* Python 版本 = 3.9\n"
      ]
    },
    {
      "cell_type": "markdown",
      "metadata": {
        "id": "tvgnzT1CKxrO"
      },
      "source": [
        "## 概觀\n",
        "\n",
        "本筆記本的目標是要展示企業生成式 AI 使用案例。行銷使用者可以提供有關新藥物及其一般名稱的資訊，然後取得該藥物的行銷導向品牌名稱點子。\n",
        "\n",
        "進一步了解 [BigQuery 資料架構](https://cloud.google.com/bigquery/docs/dataframes-quickstart)。\n"
      ]
    },
    {
      "cell_type": "markdown",
      "metadata": {
        "id": "d975e698c9a4"
      },
      "source": [
        "### 目標\n",
        "\n",
        "在本教學課程中，你將瞭解生成式 AI 概念，如提示和少樣本學習，以及如何使用 BigFrames ML 僅使用直觀的資料架構 API 來執行這些任務。\n",
        "\n",
        "執行的步驟包括：\n",
        "\n",
        "1. 詢問使用者該藥物的通用名稱和用法。\n",
        "2. 使用 `bigframes` 查詢包含 100,000 多種藥物的 FDA 資料集，並篩選品牌名稱、通用名稱和適應症與用法欄。\n",
        "3. 篩選此資料集以找出可用作提示調整範例的典型品牌名稱。\n",
        "4. 使用使用者輸入、一般說明、範例和反例，針對所需的品牌名稱建立提示。\n",
        "5. 使用 `bigframes.ml.llm.PaLM2TextGenerator` 來產生品牌名稱選項。\n"
      ]
    },
    {
      "cell_type": "markdown",
      "metadata": {
        "id": "08d289fa873f"
      },
      "source": [
        "### 資料集\n",
        "\n",
        "此筆記本使用 [`bigquery-public-data.fda_drug`](https://console.cloud.google.com/bigquery?ws=!1m4!1m3!3m2!1sbigquery-public-data!2sfda_drug) 可取得的 [FDA 資料集](https://cloud.google.com/blog/topics/healthcare-life-sciences/fda-mystudies-comes-to-google-cloud)。\n"
      ]
    },
    {
      "cell_type": "markdown",
      "metadata": {
        "id": "aed92deeb4a0"
      },
      "source": [
        "### 成本\n",
        "\n",
        "本課程使用 Google Cloud 的計費元件：\n",
        "\n",
        "* BigQuery (運算) \n",
        "* BigQuery ML\n",
        "\n",
        "深入了解 [BigQuery 運算定價](https://cloud.google.com/bigquery/pricing#analysis_pricing_models)\n",
        "和 [BigQuery ML 定價](https://cloud.google.com/bigquery/pricing#bqml)，\n",
        "並使用 [定價計算工具](https://cloud.google.com/products/calculator/)\n",
        "根據預計用量產生成本估計。\n"
      ]
    },
    {
      "cell_type": "markdown",
      "metadata": {
        "id": "i7EUnXsZhAGF"
      },
      "source": [
        "## 安裝\n",
        "\n",
        "安裝執行此筆記本所需的以下套件。\n"
      ]
    },
    {
      "cell_type": "code",
      "execution_count": null,
      "metadata": {
        "id": "2b4ef9b72d43"
      },
      "outputs": [],
      "source": [
        "!pip install -U --quiet bigframes"
      ]
    },
    {
      "cell_type": "markdown",
      "metadata": {
        "id": "58707a750154"
      },
      "source": [
        "### 僅 Colab：取消以下Cell註解，重新啟動核心。\n"
      ]
    },
    {
      "cell_type": "code",
      "execution_count": null,
      "metadata": {
        "id": "f200f10a1da3"
      },
      "outputs": [],
      "source": [
        "# # Automatically restart kernel after installs so that your environment can access the new packages\n",
        "# import IPython\n",
        "\n",
        "# app = IPython.Application.instance()\n",
        "# app.kernel.do_shutdown(True)"
      ]
    },
    {
      "cell_type": "markdown",
      "metadata": {
        "id": "960505627ddf"
      },
      "source": [
        "### 匯入函式庫\n"
      ]
    },
    {
      "cell_type": "code",
      "execution_count": null,
      "metadata": {
        "id": "PyQmSRbKA8r-"
      },
      "outputs": [],
      "source": [
        "import bigframes.pandas as bpd\n",
        "from bigframes.ml.llm import PaLM2TextGenerator\n",
        "from google.cloud import bigquery_connection_v1 as bq_connection\n",
        "from IPython.display import Markdown"
      ]
    },
    {
      "cell_type": "markdown",
      "metadata": {
        "id": "sBCra4QMA2wR"
      },
      "source": [
        "### 驗證你的 Google Cloud 帳戶\n",
        "\n",
        "視你的 Jupyter 環境而定，你可能必須手動驗證。請按照以下相關說明進行操作。\n"
      ]
    },
    {
      "cell_type": "markdown",
      "metadata": {
        "id": "74ccc9e52986"
      },
      "source": [
        "**1. Vertex AI Workbench** \n",
        "* 不做任何事情，因為你已驗證身份。\n"
      ]
    },
    {
      "cell_type": "markdown",
      "metadata": {
        "id": "de775a3773ba"
      },
      "source": [
        "**2. Local JupyterLab 執行個體 (移除註解並執行)：** \n"
      ]
    },
    {
      "cell_type": "code",
      "execution_count": null,
      "metadata": {
        "id": "254614fa0c46"
      },
      "outputs": [],
      "source": [
        "# ! gcloud auth login"
      ]
    },
    {
      "cell_type": "markdown",
      "metadata": {
        "id": "ef21552ccea8"
      },
      "source": [
        "**3. Colab, 取消註釋並執行：** \n"
      ]
    },
    {
      "cell_type": "code",
      "execution_count": null,
      "metadata": {
        "id": "603adbbf0532"
      },
      "outputs": [],
      "source": [
        "# from google.colab import auth\n",
        "\n",
        "# auth.authenticate_user()"
      ]
    },
    {
      "cell_type": "markdown",
      "metadata": {
        "id": "BF1j6f9HApxa"
      },
      "source": [
        "## 在開始之前\n",
        "\n",
        "### 設定你的 Google Cloud 專案\n",
        "\n",
        "**以下步驟為必要步驟，不論你的筆記本環境為何。** \n",
        "\n",
        "1. [選擇或建立 Google Cloud 專案](https://console.cloud.google.com/cloud-resource-manager)。當你首次建立帳戶時，你會獲得 300 美金的免費額度以支付你的運算/儲存費用。\n",
        "\n",
        "2. [確定你的專案已啟用帳務](https://cloud.google.com/billing/docs/how-to/modify-project)。\n",
        "\n",
        "3. [啟用 BigQuery API](https://console.cloud.google.com/flows/enableapi?apiid=bigquery.googleapis.com)。\n",
        "\n",
        "4. 如果你在本機執行這個筆記本，你需要安裝 [Cloud SDK](https://cloud.google.com/sdk)。\n"
      ]
    },
    {
      "cell_type": "markdown",
      "metadata": {
        "id": "WReHDGG5g0XY"
      },
      "source": [
        "#### 設定你的專案 ID\n",
        "\n",
        "**如果你不知道自己的專案 ID** , 請嘗試以下動作：\n",
        "* 執行 `gcloud config list`。\n",
        "* 執行 `gcloud projects list`。\n",
        "* 參閱支援頁面：[尋找專案 ID](https://support.google.com/googleapi/answer/7014113)\n"
      ]
    },
    {
      "cell_type": "code",
      "execution_count": null,
      "metadata": {
        "id": "oM1iC_MfAts1"
      },
      "outputs": [],
      "source": [
        "PROJECT_ID = \"<your-project-id>\"  # @param {type:\"string\"}\n",
        "\n",
        "# Set the project id\n",
        "! gcloud config set project {PROJECT_ID}"
      ]
    },
    {
      "cell_type": "markdown",
      "metadata": {
        "id": "evsJaAj5te0X"
      },
      "source": [
        "#### BigFrames 組態\n",
        "\n",
        "接下來，我們將指定一個 [BigQuery 連線](https://cloud.google.com/bigquery/docs/working-with-connections)。如果你已經有連線，你可以簡化提供名稱並略過以下的建立步驟。\n"
      ]
    },
    {
      "cell_type": "code",
      "execution_count": null,
      "metadata": {
        "id": "G1vVsPiMsL2X"
      },
      "outputs": [],
      "source": [
        "# Please fill in these values.\n",
        "LOCATION = \"us\"  # @param {type:\"string\"}\n",
        "CONNECTION = \"bigframes-ml\"  # @param {type:\"string\"}\n",
        "\n",
        "connection_name = f\"{PROJECT_ID}.{LOCATION}.{CONNECTION}\""
      ]
    },
    {
      "cell_type": "markdown",
      "metadata": {
        "id": "WGS_TzhWlPBN"
      },
      "source": [
        "我們現在會嘗試使用提供的連接，如果它不存在，則建立一個新的。我們還將列印使用的服務帳戶。\n"
      ]
    },
    {
      "cell_type": "code",
      "execution_count": null,
      "metadata": {
        "id": "56Hw42m6kFrj"
      },
      "outputs": [],
      "source": [
        "# Initialize client and set request parameters\n",
        "client = bq_connection.ConnectionServiceClient()\n",
        "new_conn_parent = f\"projects/{PROJECT_ID}/locations/{LOCATION}\"\n",
        "exists_conn_parent = (\n",
        "    f\"projects/{PROJECT_ID}/locations/{LOCATION}/connections/{CONNECTION}\"\n",
        ")\n",
        "cloud_resource_properties = bq_connection.CloudResourceProperties({})\n",
        "\n",
        "# Try to connect using provided connection\n",
        "try:\n",
        "    request = client.get_connection(\n",
        "        request=bq_connection.GetConnectionRequest(name=exists_conn_parent)\n",
        "    )\n",
        "    CONN_SERVICE_ACCOUNT = f\"serviceAccount:{request.cloud_resource.service_account_id}\"\n",
        "# Create a new connection on error\n",
        "except Exception:\n",
        "    connection = bq_connection.types.Connection(\n",
        "        {\"friendly_name\": CONNECTION, \"cloud_resource\": cloud_resource_properties}\n",
        "    )\n",
        "    request = bq_connection.CreateConnectionRequest(\n",
        "        {\n",
        "            \"parent\": new_conn_parent,\n",
        "            \"connection_id\": CONNECTION,\n",
        "            \"connection\": connection,\n",
        "        }\n",
        "    )\n",
        "    response = client.create_connection(request)\n",
        "    CONN_SERVICE_ACCOUNT = (\n",
        "        f\"serviceAccount:{response.cloud_resource.service_account_id}\"\n",
        "    )\n",
        "# Set service account permissions\n",
        "!gcloud projects add-iam-policy-binding {PROJECT_ID} --condition=None --no-user-output-enabled --member={CONN_SERVICE_ACCOUNT} --role='roles/bigquery.connectionUser'\n",
        "!gcloud projects add-iam-policy-binding {PROJECT_ID} --condition=None --no-user-output-enabled --member={CONN_SERVICE_ACCOUNT} --role='roles/aiplatform.user'\n",
        "!gcloud projects add-iam-policy-binding {PROJECT_ID} --condition=None --no-user-output-enabled --member={CONN_SERVICE_ACCOUNT} --role='roles/run.invoker'\n",
        "\n",
        "print(CONN_SERVICE_ACCOUNT)"
      ]
    },
    {
      "cell_type": "markdown",
      "metadata": {
        "id": "init_aip:mbsdk,all"
      },
      "source": [
        "### 初始化 BigFrames 用戶端\n",
        "\n",
        "在這裡，我們根據提供的參數設定專案組態。\n"
      ]
    },
    {
      "cell_type": "code",
      "execution_count": null,
      "metadata": {
        "id": "OCccLirpkSRz"
      },
      "outputs": [],
      "source": [
        "bpd.options.bigquery.project = PROJECT_ID\n",
        "bpd.options.bigquery.location = LOCATION"
      ]
    },
    {
      "cell_type": "markdown",
      "metadata": {
        "id": "m8UCEtX9uLn6"
      },
      "source": [
        "## 生成一個名稱\n",
        "\n",
        "讓我們從輸入藥物的通用名稱和說明開始。\n"
      ]
    },
    {
      "cell_type": "code",
      "execution_count": null,
      "metadata": {
        "id": "oxphj2gnuKou"
      },
      "outputs": [],
      "source": [
        "GENERIC_NAME = \"Entropofloxacin\"  # @param {type:\"string\"}\n",
        "USAGE = \"Entropofloxacin is a fluoroquinolone antibiotic that is used to treat a variety of bacterial infections, including: pneumonia, streptococcus infections, salmonella infections, escherichia coli infections, and pseudomonas aeruginosa infections It is taken by mouth or by injection. The dosage and frequency of administration will vary depending on the type of infection being treated. It should be taken for the full course of treatment, even if symptoms improve after a few days. Stopping the medication early may increase the risk of the infection coming back.\"  # @param {type:\"string\"}\n",
        "NUM_NAMES = 10  # @param {type:\"integer\"}\n",
        "TEMPERATURE = 0.5  # @param {type: \"number\"}"
      ]
    },
    {
      "cell_type": "markdown",
      "metadata": {
        "id": "1q-vlbalzu1Q"
      },
      "source": [
        "現在，我們可以建立提示字串，並加入名稱和描述。\n"
      ]
    },
    {
      "cell_type": "code",
      "execution_count": null,
      "metadata": {
        "id": "0knz5ZWMzed-"
      },
      "outputs": [],
      "source": [
        "zero_shot_prompt = f\"\"\"Provide {NUM_NAMES} unique and modern brand names in Markdown bullet point format. Do not provide any additional explanation.\n",
        "\n",
        "Be creative with the brand names. Don't use English words directly; use variants or invented words.\n",
        "\n",
        "The generic name is: {GENERIC_NAME}\n",
        "\n",
        "The indications and usage are: {USAGE}.\"\"\"\n",
        "\n",
        "print(zero_shot_prompt)"
      ]
    },
    {
      "cell_type": "markdown",
      "metadata": {
        "id": "LCRE2L720f5y"
      },
      "source": [
        "接下來，我們來建立一個輔助函式來使用我們的模型預測。它會輸入一個字串，然後將其加入暫時性 BigFrames `DataFrame`。它也會回傳從回應 `DataFrame` 中萃取出的字串。\n"
      ]
    },
    {
      "cell_type": "code",
      "execution_count": null,
      "metadata": {
        "id": "LB3xgDroIxlx"
      },
      "outputs": [],
      "source": [
        "def predict(prompt: str, temperature: float = TEMPERATURE) -> str:\n",
        "    # Create dataframe\n",
        "    input = bpd.DataFrame(\n",
        "        {\n",
        "            \"prompt\": [prompt],\n",
        "        }\n",
        "    )\n",
        "\n",
        "    # Return response\n",
        "    return model.predict(input, temperature).ml_generate_text_llm_result.iloc[0]"
      ]
    },
    {
      "cell_type": "markdown",
      "metadata": {
        "id": "b1ZapNZsJW2p"
      },
      "source": [
        "我們現在可以初始化該模型，並獲得對提示的回應！\n"
      ]
    },
    {
      "cell_type": "code",
      "execution_count": null,
      "metadata": {
        "id": "UW2fQ2k5Hsic"
      },
      "outputs": [],
      "source": [
        "# Get BigFrames session\n",
        "session = bpd.get_global_session()\n",
        "\n",
        "# Define the model\n",
        "model = PaLM2TextGenerator(session=session, connection_name=connection_name)\n",
        "\n",
        "# Invoke LLM with prompt\n",
        "response = predict(zero_shot_prompt)\n",
        "\n",
        "# Print results as Markdown\n",
        "Markdown(response)"
      ]
    },
    {
      "cell_type": "markdown",
      "metadata": {
        "id": "o3yIhHV2jsUT"
      },
      "source": [
        "我們有一個好的開端了！讓我們看看我們是否可以優化我們的回應。\n"
      ]
    },
    {
      "cell_type": "markdown",
      "metadata": {
        "id": "mBroUzWS8xOL"
      },
      "source": [
        "## 少樣本學習\n",
        "\n",
        "讓我們嘗試使用 [少樣本學習](https://paperswithcode.com/task/few-shot-learning)。我們將提供我們要尋找內容的一些範例以及提示。\n",
        "\n",
        "我們的提示將包含 3 個部分：\n",
        "* 一般說明 (例如產生 $n$ 個品牌名稱) \n",
        "* 多個範例\n",
        "* 我們要為其產生名稱的藥物資訊\n",
        "\n",
        "讓我們了解如何建構此提示。\n",
        "\n",
        "我們的第一個步驟是定義我們要提供多少範例到提示中。\n"
      ]
    },
    {
      "cell_type": "code",
      "execution_count": null,
      "metadata": {
        "id": "MXdI78SOElyt"
      },
      "outputs": [],
      "source": [
        "# Specify number of examples to include\n",
        "\n",
        "NUM_EXAMPLES = 3  # @param {type:\"integer\"}"
      ]
    },
    {
      "cell_type": "markdown",
      "metadata": {
        "id": "U8w4puVM_892"
      },
      "source": [
        "接下來，讓我們定義一個會設定整體背景的開頭。\n"
      ]
    },
    {
      "cell_type": "code",
      "execution_count": null,
      "metadata": {
        "id": "aQ2iscnhF2cx"
      },
      "outputs": [],
      "source": [
        "prefix_prompt = f\"\"\"Provide {NUM_NAMES} unique and modern brand names in Markdown bullet point format, related to the drug at the bottom of this prompt.\n",
        "\n",
        "Be creative with the brand names. Don't use English words directly; use variants or invented words.\n",
        "\n",
        "First, we will provide {NUM_EXAMPLES} examples to help with your thought process.\n",
        "\n",
        "Then, we will provide the generic name and usage for the drug we'd like you to generate brand names for.\n",
        "\"\"\"\n",
        "\n",
        "print(prefix_prompt)"
      ]
    },
    {
      "cell_type": "markdown",
      "metadata": {
        "id": "VI0Spv-axN7d"
      },
      "source": [
        "我們的下一步將是將範例納入提示。\n",
        "\n",
        "我們將透過查詢 BigQuery 公共數據集來開始檢索範例的原始資料。\n"
      ]
    },
    {
      "cell_type": "code",
      "execution_count": null,
      "metadata": {
        "id": "IoO_Bp8wA07N"
      },
      "outputs": [],
      "source": [
        "# Query 3 columns of interest from drug label dataset\n",
        "df = bpd.read_gbq(\n",
        "    \"bigquery-public-data.fda_drug.drug_label\",\n",
        "    col_order=[\"openfda_generic_name\", \"openfda_brand_name\", \"indications_and_usage\"],\n",
        ")\n",
        "\n",
        "# Exclude any rows with missing data\n",
        "df = df.dropna()\n",
        "\n",
        "# Drop duplicate rows\n",
        "df = df.drop_duplicates()\n",
        "\n",
        "# Print values\n",
        "df.head()"
      ]
    },
    {
      "cell_type": "markdown",
      "metadata": {
        "id": "W5kOtbNGBTI2"
      },
      "source": [
        "現在讓我們過濾結果以移除非典型名稱\n"
      ]
    },
    {
      "cell_type": "code",
      "execution_count": null,
      "metadata": {
        "id": "95WDe2eCCeLx"
      },
      "outputs": [],
      "source": [
        "# Remove names with spaces\n",
        "df = df[df[\"openfda_brand_name\"].str.find(\" \") == -1]\n",
        "\n",
        "# Remove names with 5 or fewer characters\n",
        "df = df[df[\"openfda_brand_name\"].str.len() > 5]\n",
        "\n",
        "# Remove names where the generic and brand name match (case-insensitive)\n",
        "df = df[df[\"openfda_generic_name\"].str.lower() != df[\"openfda_brand_name\"].str.lower()]"
      ]
    },
    {
      "cell_type": "markdown",
      "metadata": {
        "id": "FZD89ep4EyYc"
      },
      "source": [
        "讓我們採取 `NUM_EXAMPLES`範例包含在提示中。\n"
      ]
    },
    {
      "cell_type": "code",
      "execution_count": null,
      "metadata": {
        "id": "2ohZYg7QEyJV"
      },
      "outputs": [],
      "source": [
        "# Take a sample and convert to a Pandas dataframe for local usage.\n",
        "df_examples = df.sample(NUM_EXAMPLES, random_state=3).to_pandas()\n",
        "\n",
        "df_examples"
      ]
    },
    {
      "cell_type": "markdown",
      "metadata": {
        "id": "J-Qa1_SCImXy"
      },
      "source": [
        "讓我們現在將數據轉換為 JSON 結構，以便融入提示中。基於一致性考量，我們將對每個範例品牌名稱進行大寫。\n"
      ]
    },
    {
      "cell_type": "code",
      "execution_count": null,
      "metadata": {
        "id": "PcJdSaw0EGcW"
      },
      "outputs": [],
      "source": [
        "examples = [\n",
        "    {\n",
        "        \"brand_name\": brand_name.capitalize(),\n",
        "        \"generic_name\": generic_name,\n",
        "        \"usage\": usage,\n",
        "    }\n",
        "    for brand_name, generic_name, usage in zip(\n",
        "        df_examples[\"openfda_brand_name\"],\n",
        "        df_examples[\"openfda_generic_name\"],\n",
        "        df_examples[\"indications_and_usage\"],\n",
        "    )\n",
        "]\n",
        "\n",
        "print(examples)"
      ]
    },
    {
      "cell_type": "markdown",
      "metadata": {
        "id": "oU4mb1Dwgq64"
      },
      "source": [
        "我們將為每個範例建立一個提示範本，並檢視第一個範本。\n"
      ]
    },
    {
      "cell_type": "code",
      "execution_count": null,
      "metadata": {
        "id": "kzAVsF6wJ93S"
      },
      "outputs": [],
      "source": [
        "example_prompt = \"\"\n",
        "for example in examples:\n",
        "    example_prompt += f\"Generic name: {example['generic_name']}\\nUsage: {example['usage']}\\nBrand name: {example['brand_name']}\\n\\n\"\n",
        "\n",
        "example_prompt"
      ]
    },
    {
      "cell_type": "markdown",
      "metadata": {
        "id": "kbV2X1CXAyLV"
      },
      "source": [
        "最後，我們可以在提示訊息中加入一個字尾。它會包含藥物的通用名稱、使用方式，最後要求提供品牌名稱。\n"
      ]
    },
    {
      "cell_type": "code",
      "execution_count": null,
      "metadata": {
        "id": "OYp6W_XfHTlo"
      },
      "outputs": [],
      "source": [
        "suffix_prompt = f\"\"\"Generic name: {GENERIC_NAME}\n",
        "Usage: {USAGE}\n",
        "Brand names:\"\"\"\n",
        "\n",
        "print(suffix_prompt)"
      ]
    },
    {
      "cell_type": "markdown",
      "metadata": {
        "id": "RiaisW1nihJP"
      },
      "source": [
        "讓我們把它完全融合成幾個提示短語。\n"
      ]
    },
    {
      "cell_type": "code",
      "execution_count": null,
      "metadata": {
        "id": "99xdU7l8C1h8"
      },
      "outputs": [],
      "source": [
        "# Define the prompt\n",
        "few_shot_prompt = prefix_prompt + example_prompt + suffix_prompt\n",
        "\n",
        "# Print the prompt\n",
        "print(few_shot_prompt)"
      ]
    },
    {
      "cell_type": "markdown",
      "metadata": {
        "id": "nbUWdHtfitWn"
      },
      "source": [
        "現在讓我們將提示傳遞給 LLM，以得到回應！\n"
      ]
    },
    {
      "cell_type": "code",
      "execution_count": null,
      "metadata": {
        "id": "d4ODRJdvLhlQ"
      },
      "outputs": [],
      "source": [
        "response = predict(few_shot_prompt)\n",
        "\n",
        "Markdown(response)"
      ]
    },
    {
      "cell_type": "markdown",
      "metadata": {
        "id": "pFakjrTElOBs"
      },
      "source": [
        "# 大量產生\n",
        "\n",
        "讓我們將這些實驗提升至下一個層級，大量產生許多名稱。我們將看到如何大規模利用 BigFrames！\n",
        "\n",
        "我們可以從找出沒有品牌名稱的藥物開始。大約有 4,000 種藥物符合此標準。我們將在此筆記本中設定 100 的限制。\n"
      ]
    },
    {
      "cell_type": "code",
      "execution_count": null,
      "metadata": {
        "id": "8eAutS41mx6U"
      },
      "outputs": [],
      "source": [
        "# Query 3 columns of interest from drug label dataset\n",
        "df_missing = bpd.read_gbq(\n",
        "    \"bigquery-public-data.fda_drug.drug_label\",\n",
        "    col_order=[\"openfda_generic_name\", \"openfda_brand_name\", \"indications_and_usage\"],\n",
        ")\n",
        "\n",
        "# Exclude any rows with missing data\n",
        "df_missing = df_missing.dropna()\n",
        "\n",
        "# Include rows in which openfda_brand_name equals openfda_generic_name\n",
        "df_missing = df_missing[\n",
        "    df_missing[\"openfda_generic_name\"] == df_missing[\"openfda_brand_name\"]\n",
        "]\n",
        "\n",
        "# Limit the number of rows for demonstration purposes\n",
        "df_missing = df_missing.head(100)\n",
        "\n",
        "# Print values\n",
        "df_missing.head()"
      ]
    },
    {
      "cell_type": "markdown",
      "metadata": {
        "id": "Fm6L8S7eVnCI"
      },
      "source": [
        "我們將建立一欄 `prompt` 自訂提問給每一列。\n"
      ]
    },
    {
      "cell_type": "code",
      "execution_count": null,
      "metadata": {
        "id": "19TvGN1PVmVX"
      },
      "outputs": [],
      "source": [
        "df_missing[\"prompt\"] = (\n",
        "    \"Provide a unique and modern brand name related to this pharmaceutical drug.\"\n",
        "    + \"Don't use English words directly; use variants or invented words. The generic name is: \"\n",
        "    + df_missing[\"openfda_generic_name\"]\n",
        "    + \". The indications and usage are: \"\n",
        "    + df_missing[\"indications_and_usage\"]\n",
        "    + \".\"\n",
        ")"
      ]
    },
    {
      "cell_type": "markdown",
      "metadata": {
        "id": "njxwBvCKgMPE"
      },
      "source": [
        "我們將建立一個新的輔助方法，`batch_predict()`，並查詢 LLM。此工作可能需要幾分鐘才能執行。\n"
      ]
    },
    {
      "cell_type": "code",
      "execution_count": null,
      "metadata": {
        "id": "tiSHa5B4aFhw"
      },
      "outputs": [],
      "source": [
        "def batch_predict(\n",
        "    input: bpd.DataFrame, temperature: float = TEMPERATURE\n",
        ") -> bpd.DataFrame:\n",
        "    return model.predict(input, temperature).ml_generate_text_llm_result\n",
        "\n",
        "\n",
        "response = batch_predict(df_missing[\"prompt\"])"
      ]
    },
    {
      "cell_type": "markdown",
      "metadata": {
        "id": "K5a2nHdLgZEj"
      },
      "source": [
        "讓我們來看看其中一個回應的結果！\n"
      ]
    },
    {
      "cell_type": "code",
      "execution_count": null,
      "metadata": {
        "id": "TnizdeqBdbZj"
      },
      "outputs": [],
      "source": [
        "# Pick a sample\n",
        "k = 0\n",
        "\n",
        "# Gather the prompt and response details\n",
        "df_missing = df_missing.head(100).reset_index(drop=True)\n",
        "\n",
        "prompt_generic = df_missing[\"openfda_generic_name\"][k]\n",
        "prompt_usage = df_missing[\"indications_and_usage\"][k]\n",
        "response_str = response[k]\n",
        "\n",
        "# Print details\n",
        "print(f\"Generic name: {prompt_generic}\")\n",
        "print(f\"Brand name: {prompt_usage}\")\n",
        "print(f\"Response: {response_str}\")"
      ]
    },
    {
      "cell_type": "markdown",
      "metadata": {
        "id": "W4MviwyMI-Qh"
      },
      "source": [
        "恭喜！已學會如何使用生成式AI來跳過創意流程。\n",
        "\n",
        "你也看到BigFrames如何可以管理流程的每一個步驟，包括收集數據、資料處理和查詢LLM。\n"
      ]
    },
    {
      "cell_type": "markdown",
      "metadata": {
        "id": "Bys6--dVmq7R"
      },
      "source": [
        "## 清理\n",
        "\n",
        "如需清理此專案中使用的所有 Google Cloud 資源，你可以 [刪除專案](https://cloud.google.com/resource-manager/docs/creating-managing-projects#shutting_down_projects) 用於教學課程。\n",
        "\n",
        "否則，你可以取消註解剩餘的Cell，然後執行它們，以刪除你在此教學課程中建立的個別資源：\n"
      ]
    },
    {
      "cell_type": "code",
      "execution_count": null,
      "metadata": {
        "id": "cIODjOLump_-"
      },
      "outputs": [],
      "source": [
        "# Delete the BigQuery Connection\n",
        "from google.cloud import bigquery_connection_v1 as bq_connection\n",
        "\n",
        "client = bq_connection.ConnectionServiceClient()\n",
        "CONNECTION_ID = f\"projects/{PROJECT_ID}/locations/{LOCATION}/connections/{CONNECTION}\"\n",
        "client.delete_connection(name=CONNECTION_ID)\n",
        "print(f\"Deleted connection {CONNECTION_ID}.\")"
      ]
    }
  ],
  "metadata": {
    "colab": {
      "name": "bq_dataframes_ml_drug_name_generation.ipynb",
      "toc_visible": true
    },
    "kernelspec": {
      "display_name": "Python 3",
      "name": "python3"
    }
  },
  "nbformat": 4,
  "nbformat_minor": 0
}