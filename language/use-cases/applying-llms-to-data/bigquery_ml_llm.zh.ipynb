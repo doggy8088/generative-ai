{
  "cells": [
    {
      "cell_type": "code",
      "execution_count": null,
      "metadata": {
        "id": "RWwfxTOXHI56"
      },
      "outputs": [],
      "source": [
        "# Copyright 2023 Google LLC\n",
        "#\n",
        "# Licensed under the Apache License, Version 2.0 (the \"License\");\n",
        "# you may not use this file except in compliance with the License.\n",
        "# You may obtain a copy of the License at\n",
        "#\n",
        "#     https://www.apache.org/licenses/LICENSE-2.0\n",
        "#\n",
        "# Unless required by applicable law or agreed to in writing, software\n",
        "# distributed under the License is distributed on an \"AS IS\" BASIS,\n",
        "# WITHOUT WARRANTIES OR CONDITIONS OF ANY KIND, either express or implied.\n",
        "# See the License for the specific language governing permissions and\n",
        "# limitations under the License."
      ]
    },
    {
      "cell_type": "markdown",
      "metadata": {
        "id": "iZXx5I1XHPkv"
      },
      "source": [
        "# 使用 Vertex AI LLM 及 BigQuery 中的資料\n",
        "\n",
        "<table align=\"left\">\n",
        "  <td style=\"text-align: center\">\n",
        "    <a href=\"https://colab.research.google.com/github/doggy8088/generative-ai/blob/main/language/use-cases/applying-llms-to-data/bigquery_ml_llm.zh.ipynb\">\n",
        "      <img src=\"https://cloud.google.com/ml-engine/images/colab-logo-32px.png\" alt=\"Google Colaboratory 標誌\"><br>在 Colab 中執行\n",
        "    </a>\n",
        "  </td>\n",
        "  <td style=\"text-align: center\">\n",
        "    <a href=\"https://github.com/doggy8088/generative-ai/blob/main/language/use-cases/applying-llms-to-data/bigquery_ml_llm.zh.ipynb\">\n",
        "      <img src=\"https://cloud.google.com/ml-engine/images/github-logo-32px.png\" alt=\"GitHub 標誌\"><br>在 GitHub 上檢視\n",
        "    </a>\n",
        "  </td>\n",
        "  <td style=\"text-align: center\">\n",
        "    <a href=\"https://console.cloud.google.com/vertex-ai/workbench/deploy-notebook?download_url=https://raw.githubusercontent.com/doggy8088/generative-ai/blob/main/language/use-cases/applying-llms-to-data/bigquery_ml_llm.zh.ipynb\">\n",
        "      <img src=\"https://lh3.googleusercontent.com/UiNooY4LUgW_oTvpsNhPpQzsstV5W8F7rYgxgGBD85cWJoLmrOzhVs_ksK_vgx40SHs7jCqkTkCk=e14-rj-sc0xffffff-h130-w32\" alt=\"Vertex AI 標誌\"><br>在 Vertex AI Workbench 中開啟\n",
        "    </a>\n",
        "  </td>\n",
        "</table>\n"
      ]
    },
    {
      "cell_type": "markdown",
      "metadata": {},
      "source": [
        "| | |\n",
        "|-|-|\n",
        "|作者 | [Rachael Deacon-smith](https://github.com/rachael-ds) |\n"
      ]
    },
    {
      "cell_type": "markdown",
      "metadata": {
        "id": "uvc6DhQ_WXN9"
      },
      "source": [
        "## 概述\n",
        "\n",
        "你可能會想知道：如何使用大型語言模型來處理儲存在資料倉庫中的資料？\n",
        "\n",
        "在 [BigQuery ML](https://cloud.google.com/bigquery/docs/bqml-introduction) (BQML) 和 [Vertex AI LLMs](https://cloud.google.com/vertex-ai) (針對文字的 PaLM 2) 之間最新的整合中，這意味著組織現在可以在 BigQuery 資料上使用 Vertex AI LLMs。組織可以繼續使用 BigQuery 進行資料分析，同時也能利用生成式 AI 的強大功能，無需移動其資料。\n",
        "\n",
        "在本教學課程中，你將逐步瞭解如何使用 Vertex AI LLMs 來處理儲存在 BigQuery 中的資料。\n"
      ]
    },
    {
      "cell_type": "markdown",
      "metadata": {
        "id": "n_RiJpQX1BuX"
      },
      "source": [
        "### 目標\n",
        "目標是運用 BigQuery ML，展示 LLM 可以應用於 BigQuery 數據的多種方式。\n",
        "\n",
        "你將執行呼叫 Vertex AI API 的簡單 SQL 語句，加上 `ML.GENERATE_TEXT` 函式，以：\n",
        "\n",
        "- 摘要和分類文字\n",
        "- 進行實體辨識\n",
        "- 豐富資料\n",
        "- 執行情緒分析\n"
      ]
    },
    {
      "cell_type": "markdown",
      "metadata": {
        "id": "hbGaRkPdW8h2"
      },
      "source": [
        "### 服務和費用\n",
        "本教學課程使用以下 Google Cloud 資料分析和 ML 服務，它們是 Google Cloud 的計費元件：\n",
        "\n",
        "* BigQuery 和 BigQuery ML <a href=\"https://cloud.google.com/bigquery/pricing\" target=\"_blank\">(定價)</a>\n",
        "* Vertex AI API <a href=\"https://cloud.google.com/vertex-ai/pricing\" target=\"_blank\">(定價)</a>\n",
        "\n",
        "查看 [BQML 定價頁面](https://cloud.google.com/bigquery/pricing#bqml)以了解如何計算這些服務的費用。\n",
        "\n",
        "使用 [定價計算器](https://cloud.google.com/products/calculator)根據預計使用量產生預算估計。\n"
      ]
    },
    {
      "cell_type": "markdown",
      "metadata": {
        "id": "uo6BplVWBKEG"
      },
      "source": [
        "### 安裝\n",
        "\n",
        "安裝執行此筆記本所需的下列套件。\n"
      ]
    },
    {
      "cell_type": "code",
      "execution_count": null,
      "metadata": {
        "id": "RkSpG3NGBHi6"
      },
      "outputs": [],
      "source": [
        "%pip install --upgrade --user google-cloud-bigquery-connection google-cloud-aiplatform"
      ]
    },
    {
      "cell_type": "markdown",
      "metadata": {
        "id": "OCYieookBsZ7"
      },
      "source": [
        "#### 重新啟動當前執行時期\n",
        "\n",
        "要在這個 Jupyter 執行時期中使用新安裝的套件，你必須重新啟動執行時期。你可以執行以下Cell來重新啟動當前核心，就可以做到這一點。\n"
      ]
    },
    {
      "cell_type": "code",
      "execution_count": null,
      "metadata": {
        "id": "gTUc2uR3BsKi"
      },
      "outputs": [],
      "source": [
        "# Automatically restart kernel after installs so that your environment can access the new packages\n",
        "import IPython\n",
        "\n",
        "app = IPython.Application.instance()\n",
        "app.kernel.do_shutdown(True)"
      ]
    },
    {
      "cell_type": "markdown",
      "metadata": {},
      "source": [
        "<div class=\"alert alert-block alert-warning\">\n",
        "<b>⚠️ 開始前，請等待 Kernel 重啟完畢 ⚠️</b>\n",
        "</div>\n"
      ]
    },
    {
      "cell_type": "markdown",
      "metadata": {
        "id": "vyX2PzO2Cttl"
      },
      "source": [
        "#### 設定專案和 Bigquery 區域\n",
        "\n",
        "在建立 BigQuery 資料集和雲端資源連線時，你需要設定 `PROJECT_ID` 和 `REGION` 變數。\n",
        "\n",
        "目前，只有 `us` 多區域和 `us-central1` 單一區域支援 BigQuery 的遠端模型服務。\n",
        "\n",
        "**對於這個筆記本，將區域設定為 `US` 以確保存取下方使用的所有公開資料集。** \n",
        "\n",
        "進一步了解[BigQuery 公開資料集區域](https://cloud.google.com/bigquery/public-data?gad=1&gclid=CjwKCAjw_aemBhBLEiwAT98FMhtM2q0Il2M4xU_eLwO_mAJpaZuuzBlQCNEkHKDDI-snZyGguxqnaRoCBdYQAvD_BwE&gclsrc=aw.ds#public_dataset_locations)。\n"
      ]
    },
    {
      "cell_type": "code",
      "execution_count": null,
      "metadata": {
        "id": "ZuVcOtXaC0fU"
      },
      "outputs": [],
      "source": [
        "PROJECT_ID = \"[your-project-id]\"  # @param {type:\"string\"}\n",
        "REGION = \"US\"  # @param {type: \"string\"}"
      ]
    },
    {
      "cell_type": "markdown",
      "metadata": {
        "id": "PYfiKTh1E1Sv"
      },
      "source": [
        "#### 設定專案變數\n"
      ]
    },
    {
      "cell_type": "markdown",
      "metadata": {
        "id": "wcEmPOYZB8za"
      },
      "source": [
        "這些變數將在整個筆記本中使用\n",
        "\n",
        "\n",
        "*   **DATASET_ID:** BigQuery 資料集的 ID\n",
        "*   **CONN_NAME** : 用於連線至 Vertex AI 服務的 BigQuery 連結器名稱\n",
        "*   **LLM_MODEL_NAME** : 在 BigQuery 中建立的 LLM 賦予的名稱\n"
      ]
    },
    {
      "cell_type": "code",
      "execution_count": null,
      "metadata": {
        "id": "_-q5vGIWdBiC"
      },
      "outputs": [],
      "source": [
        "DATASET_ID = \"bqml_llm\"\n",
        "CONN_NAME = \"bqml_llm_conn\"\n",
        "LLM_MODEL_NAME = \"bqml-vertex-llm\""
      ]
    },
    {
      "cell_type": "markdown",
      "metadata": {
        "id": "Ga6HKImjhI8l"
      },
      "source": [
        "### 驗證你的筆記本環境\n",
        "如果你使用 **Colab** ，你將需要先執行驗證。下一個Cell將會檢查你目前是否使用 Colab，並將開始驗證程序。\n",
        "\n",
        "如果你使用 **Vertex AI Workbench** ，你不需要其他驗證。如需更多資訊，你可以查看 [這裡](https://github.com/doggy8088/generative-ai/tree/main/setup-env) 的設定說明。\n"
      ]
    },
    {
      "cell_type": "code",
      "execution_count": null,
      "metadata": {
        "id": "KiB5cLgc4g2j"
      },
      "outputs": [],
      "source": [
        "import sys\n",
        "\n",
        "# Addtional authentication is required for Google Colab\n",
        "if \"google.colab\" in sys.modules:\n",
        "    # Authenticate user to Google Cloud\n",
        "    from google.colab import auth\n",
        "\n",
        "    auth.authenticate_user()"
      ]
    },
    {
      "cell_type": "markdown",
      "metadata": {
        "id": "EA2CDuZDXEs0"
      },
      "source": [
        "### 匯入函式庫\n"
      ]
    },
    {
      "cell_type": "code",
      "execution_count": null,
      "metadata": {
        "id": "wRHOEQ-tYnet"
      },
      "outputs": [],
      "source": [
        "from google.cloud import bigquery\n",
        "from google.cloud import bigquery_connection_v1 as bq_connection\n",
        "import pandas as pd\n",
        "\n",
        "pd.set_option(\"display.max_colwidth\", 1000)"
      ]
    },
    {
      "cell_type": "markdown",
      "metadata": {
        "id": "yo2m3VCXnXWV"
      },
      "source": [
        "### 建立 BigQuery Cloud 資源連線\n",
        "\n",
        "你需要建立 [Cloud 資源連線](https://cloud.google.com/bigquery/docs/create-cloud-resource-connection) 以讓 BigQuery 能與 Vertex AI 服務互動。\n",
        "\n",
        "你可能需要先 [啟用 BigQuery 連線 API](https://console.developers.google.com/apis/api/bigqueryconnection.googleapis.com/overview)。\n"
      ]
    },
    {
      "cell_type": "code",
      "execution_count": null,
      "metadata": {
        "id": "379c93f2-2ce3-4963-b355-d18ffc77dbb1"
      },
      "outputs": [],
      "source": [
        "client = bq_connection.ConnectionServiceClient()\n",
        "new_conn_parent = f\"projects/{PROJECT_ID}/locations/{REGION}\"\n",
        "exists_conn_parent = f\"projects/{PROJECT_ID}/locations/{REGION}/connections/{CONN_NAME}\"\n",
        "cloud_resource_properties = bq_connection.CloudResourceProperties({})\n",
        "\n",
        "# Try to use an existing connection if one already exists. If not, create a new one.\n",
        "try:\n",
        "    request = client.get_connection(\n",
        "        request=bq_connection.GetConnectionRequest(name=exists_conn_parent)\n",
        "    )\n",
        "    CONN_SERVICE_ACCOUNT = f\"serviceAccount:{request.cloud_resource.service_account_id}\"\n",
        "except Exception:\n",
        "    connection = bq_connection.types.Connection(\n",
        "        {\"friendly_name\": CONN_NAME, \"cloud_resource\": cloud_resource_properties}\n",
        "    )\n",
        "    request = bq_connection.CreateConnectionRequest(\n",
        "        {\n",
        "            \"parent\": new_conn_parent,\n",
        "            \"connection_id\": CONN_NAME,\n",
        "            \"connection\": connection,\n",
        "        }\n",
        "    )\n",
        "    response = client.create_connection(request)\n",
        "    CONN_SERVICE_ACCOUNT = (\n",
        "        f\"serviceAccount:{response.cloud_resource.service_account_id}\"\n",
        "    )\n",
        "print(CONN_SERVICE_ACCOUNT)"
      ]
    },
    {
      "cell_type": "markdown",
      "metadata": {
        "id": "OqrFKwdUnqlW"
      },
      "source": [
        "### 設定服務帳戶的權限\n",
        "資源連接服務帳戶需要某些專案層級權限，這些權限於 <a href=\"https://cloud.google.com/bigquery/docs/bigquery-ml-remote-model-tutorial#set_up_access\" target=\"_blank\">Vertex AI 函式文件</a> 中列出。\n",
        "\n",
        "<br>\n",
        "\n",
        "**注意：** 如果你使用 **Vertex AI Workbench** ，Vertex AI 使用的服務帳戶可能沒有足夠的權限來新增 IAM 政策繫結。你可能會看到錯誤：\n",
        "> `錯誤：(gcloud.projects.add-iam-policy-binding) 使用者 [12345-compute@developer.gserviceaccount.com] 沒有權限存取專案執行個體 [my-project-id:setIamPolicy] (或它可能不存在)：拒絕政策更新存取權。`\n",
        "\n",
        "如果你在 Vertex AI Workbench 中看到上述錯誤，請開啟終端機 (檔案 -> 新建 -> 終端機)，然後透過 `gcloud auth login` 驗證你的 GCP 使用者帳戶並遵循其中的步驟。驗證後，返回這個筆記本並執行下方的Cell。或者，你可以設定 IAM 角色\n"
      ]
    },
    {
      "cell_type": "code",
      "execution_count": null,
      "metadata": {
        "id": "pyOp6r_SeZ6I"
      },
      "outputs": [],
      "source": [
        "gcloud_serviceusage = f\"\"\"\n",
        "gcloud projects add-iam-policy-binding {PROJECT_ID} --condition=None --no-user-output-enabled --member=\"{CONN_SERVICE_ACCOUNT}\" --role=\"roles/serviceusage.serviceUsageConsumer\"\n",
        "\"\"\"\n",
        "\n",
        "gcloud_bigquery = f\"\"\"\n",
        "gcloud projects add-iam-policy-binding {PROJECT_ID} --condition=None --no-user-output-enabled --member=\"{CONN_SERVICE_ACCOUNT}\" --role=\"roles/bigquery.connectionUser\"\n",
        "\"\"\"\n",
        "\n",
        "gcloud_aiplatform = f\"\"\"\n",
        "gcloud projects add-iam-policy-binding {PROJECT_ID} --condition=None --no-user-output-enabled --member=\"{CONN_SERVICE_ACCOUNT}\" --role=\"roles/aiplatform.user\"\n",
        "\"\"\"\n",
        "\n",
        "print(gcloud_serviceusage)\n",
        "!$gcloud_serviceusage #execute gcloud script\n",
        "\n",
        "print(gcloud_bigquery)\n",
        "!$gcloud_bigquery #execute gcloud script\n",
        "\n",
        "print(gcloud_aiplatform)\n",
        "!$gcloud_aiplatform #execute gcloud script"
      ]
    },
    {
      "cell_type": "markdown",
      "metadata": {},
      "source": [
        "你可以執行下方Cell來確認已設定這三個 IAM 角色：\n",
        "- roles/aiplatform.user\n",
        "- roles/bigquery.connectionUser\n",
        "- roles/serviceusage.serviceUsageConsumer\n"
      ]
    },
    {
      "cell_type": "code",
      "execution_count": null,
      "metadata": {},
      "outputs": [],
      "source": [
        "!gcloud projects get-iam-policy $PROJECT_ID  \\\n",
        "--flatten=\"bindings[].members\" \\\n",
        "--format=\"table(bindings.role)\" \\\n",
        "--filter=\"bindings.members:$CONN_SERVICE_ACCOUNT\""
      ]
    },
    {
      "cell_type": "markdown",
      "metadata": {
        "id": "7aJ_rzE8-nsT"
      },
      "source": [
        "## 準備 BigQuery 資料集\n"
      ]
    },
    {
      "cell_type": "markdown",
      "metadata": {
        "id": "G6NYBJlSciEN"
      },
      "source": [
        "### 建立 BigQuery 資料集\n",
        "你將需要一個 BigQuery 資料集來儲存你的機器學習模型和表格。此資料集必須在 BigQuery Cloud 資源連接所使用的相同區域中建立。\n",
        "\n",
        "執行以下動作以在你的專案內建立資料集：\n"
      ]
    },
    {
      "cell_type": "code",
      "execution_count": null,
      "metadata": {
        "id": "NYSwQkixctO9"
      },
      "outputs": [],
      "source": [
        "client = bigquery.Client(project=PROJECT_ID)\n",
        "\n",
        "dataset_id = f\"\"\"{PROJECT_ID}.{DATASET_ID}\"\"\"\n",
        "dataset = bigquery.Dataset(dataset_id)\n",
        "dataset.location = REGION\n",
        "\n",
        "dataset = client.create_dataset(dataset, exists_ok=True)\n",
        "\n",
        "print(f\"Dataset {dataset.dataset_id} created.\")"
      ]
    },
    {
      "cell_type": "markdown",
      "metadata": {
        "id": "J8lKov-Y-wkz"
      },
      "source": [
        "建立Wrapper以使用BigQuery客戶端執行查詢並回傳結果：\n"
      ]
    },
    {
      "cell_type": "code",
      "execution_count": null,
      "metadata": {
        "id": "Y8F-vcik4JVK"
      },
      "outputs": [],
      "source": [
        "# Wrapper to use BigQuery client to run query and return result\n",
        "\n",
        "\n",
        "def run_bq_query(sql: str):\n",
        "    \"\"\"\n",
        "    Input: SQL query, as a string, to execute in BigQuery\n",
        "    Returns the query results or error, if any\n",
        "    \"\"\"\n",
        "    try:\n",
        "        query_job = client.query(sql)\n",
        "        result = query_job.result()\n",
        "        print(f\"JOB ID: {query_job.job_id} STATUS: {query_job.state}\")\n",
        "        return result\n",
        "\n",
        "    except Exception as e:\n",
        "        raise Exception(str(e))"
      ]
    },
    {
      "cell_type": "markdown",
      "metadata": {
        "id": "gJE6PHD_6vq9"
      },
      "source": [
        "## 使用大型語言模型和 BigQuery ML\n"
      ]
    },
    {
      "cell_type": "markdown",
      "metadata": {
        "id": "xf-f6XKC618_"
      },
      "source": [
        "要與 BigQuery ML 一起使用 LLM，你首先需要設定 LLM，然後執行帶有提示的 `ML.GENERATE_TEXT` 函式。這一切都可以用 SQL 完成。\n"
      ]
    },
    {
      "cell_type": "markdown",
      "metadata": {
        "id": "dTuIqYeEHF8Z"
      },
      "source": [
        "### 設定 Vertex AI 模型\n",
        "\n",
        "你可以在 BigQuery 使用 CREATE MODEL 語句來設定 Vertex AI 遠端模型：\n"
      ]
    },
    {
      "cell_type": "code",
      "execution_count": null,
      "metadata": {
        "id": "f9OUDRjzWsWg"
      },
      "outputs": [],
      "source": [
        "sql = f\"\"\"\n",
        "      CREATE OR REPLACE MODEL\n",
        "        `{PROJECT_ID}.{DATASET_ID}.{LLM_MODEL_NAME}`\n",
        "        REMOTE WITH CONNECTION\n",
        "          `{PROJECT_ID}.{REGION}.{CONN_NAME}`\n",
        "          OPTIONS ( remote_service_type = 'CLOUD_AI_LARGE_LANGUAGE_MODEL_V1');\n",
        "      \"\"\"\n",
        "result = run_bq_query(sql)"
      ]
    },
    {
      "cell_type": "markdown",
      "metadata": {
        "id": "LyK-KKouqM7W"
      },
      "source": [
        "### 使用 LLM\n",
        "你可以對大查詢資料中儲存的資料或自由文字執行 `ML.GENERATE_TEXT` 函式，以在 BQML 中使用 LLM\n",
        "\n",
        "[BQML document](https://cloud.google.com/bigquery/docs/generate-text#generate_text) 提供了關於使用參數的更多詳細資訊：`temperature, max_output_tokens, top_p and top_k.`\n",
        "\n",
        "*請注意：輸入文字的資料表欄位必須有別名 'prompt'*\n"
      ]
    },
    {
      "cell_type": "code",
      "execution_count": null,
      "metadata": {
        "id": "BWijPOQ3wOKD"
      },
      "outputs": [],
      "source": [
        "PROMPT = \"Describe a cat in one paragraph\"\n",
        "\n",
        "sql = f\"\"\"\n",
        "          SELECT\n",
        "            *\n",
        "          FROM\n",
        "            ML.GENERATE_TEXT(\n",
        "              MODEL `{PROJECT_ID}.{DATASET_ID}.{LLM_MODEL_NAME}`,\n",
        "              (\n",
        "              SELECT\n",
        "                '{PROMPT}' AS prompt\n",
        "              ),\n",
        "              STRUCT\n",
        "              (\n",
        "                1 AS temperature,\n",
        "                1024 AS max_output_tokens,\n",
        "                0.8 AS top_p,\n",
        "                40 AS top_k,\n",
        "                TRUE AS flatten_json_output\n",
        "              ));\n",
        "        \"\"\"\n",
        "result = run_bq_query(sql)\n",
        "result.to_dataframe()"
      ]
    },
    {
      "cell_type": "markdown",
      "metadata": {
        "id": "oBDGjTLQHeza"
      },
      "source": [
        "在這種情況下，LLM 對描述一隻貓的簡單提示做出了回應，只用了一段。\n",
        "\n",
        "LLM 的回應會以 BigQuery 中的結果表格形式返回。表格包括可解析為提取內容結果的 JSON。\n",
        "\n",
        "將 `flatten_json_output` 參數設定為 TRUE 將返回一個展平的 JSON，作為一個字串：`ml_generate_text_llm_result`。\n",
        "\n",
        "對於其餘範例，為了簡化起見，你可以只顯示提示和 `ml_generate_text_llm_result`。\n"
      ]
    },
    {
      "cell_type": "markdown",
      "metadata": {
        "id": "l0dU6XNTUwQQ"
      },
      "source": [
        "## 範例使用案例\n",
        "\n",
        "以下範例探討使用 BQML LLM 執行內容創作、文字摘要、分類、實體辨識、資料豐富化及情緒分析。\n",
        "\n",
        "撰寫你自己的提示時，我們建議你先檢閱這些 [提示設計最佳實務](https://github.com/doggy8088/generative-ai/blob/main/language/intro_prompt_design.ipynb)。\n"
      ]
    },
    {
      "cell_type": "markdown",
      "metadata": {
        "id": "jf00IgH0jER_"
      },
      "source": [
        "#### 文本分類\n",
        "\n",
        "本範例將新聞文章分類成以下類別之一：科技、體育、商業、政治或娛樂。這些文章儲存在 BigQuery BBC News 公共資料集。\n"
      ]
    },
    {
      "cell_type": "code",
      "execution_count": null,
      "metadata": {
        "id": "m61p1jp8Fesm"
      },
      "outputs": [],
      "source": [
        "PROMPT = \"Please categorize this BBC news article into either tech, sport, business, politics, or entertainment and return the category. Here is an example. News article: Intel has unveiled research that could mean data is soon being moved around chips at the speed of light., Category: Tech \"\n",
        "\n",
        "sql = f\"\"\"\n",
        "          SELECT\n",
        "            body AS article_body,\n",
        "            CONCAT('{PROMPT}','News article: ', 'article_body', ', Category:') as prompt_template,\n",
        "            ml_generate_text_llm_result as llm_result\n",
        "          FROM\n",
        "            ML.GENERATE_TEXT(\n",
        "              MODEL `{PROJECT_ID}.{DATASET_ID}.{LLM_MODEL_NAME}`,\n",
        "              (\n",
        "              SELECT\n",
        "                CONCAT('{PROMPT}','News article: ', body, ', Category:') AS prompt,\n",
        "                body\n",
        "              FROM\n",
        "                `bigquery-public-data.bbc_news.fulltext`\n",
        "              LIMIT\n",
        "                5),\n",
        "              STRUCT(1 AS temperature, 1024 AS max_output_tokens, 0.8 AS top_p, 40 AS top_k, TRUE AS flatten_json_output));\n",
        "        \"\"\"\n",
        "result = run_bq_query(sql)\n",
        "result.to_dataframe()"
      ]
    },
    {
      "cell_type": "markdown",
      "metadata": {
        "id": "SCreOP1si33Y"
      },
      "source": [
        "#### 文字摘要\n",
        "\n",
        "這個範例將儲存在 BigQuery BBC 新聞公開資料集中的新聞文章改寫成 12 歲的兒童也可理解的文字。\n"
      ]
    },
    {
      "cell_type": "code",
      "execution_count": null,
      "metadata": {
        "id": "tzg7El87fzWe"
      },
      "outputs": [],
      "source": [
        "PROMPT = \"Please rewrite this article to enable easier understanding for a 12 year old. Article: \"\n",
        "\n",
        "sql = f\"\"\"\n",
        "          SELECT\n",
        "            body as article_before,\n",
        "            CONCAT('{PROMPT}', 'article_before') as prompt_template,\n",
        "            ml_generate_text_llm_result as llm_result\n",
        "          FROM\n",
        "            ML.GENERATE_TEXT(\n",
        "              MODEL `{PROJECT_ID}.{DATASET_ID}.{LLM_MODEL_NAME}`,\n",
        "              (\n",
        "              SELECT\n",
        "                CONCAT('{PROMPT}', body) AS prompt,\n",
        "                body\n",
        "              FROM  `bigquery-public-data.bbc_news.fulltext`\n",
        "              LIMIT 5\n",
        "              ),\n",
        "              STRUCT(1 AS temperature, 1024 AS max_output_tokens, 0.8 AS top_p, 40 AS top_k, TRUE AS flatten_json_output));\n",
        "        \"\"\"\n",
        "result = run_bq_query(sql)\n",
        "result.to_dataframe()"
      ]
    },
    {
      "cell_type": "markdown",
      "metadata": {
        "id": "y3awToblHGzH"
      },
      "source": [
        "此範例將 BigQuery BBC News 公共資料集內儲存的冗長新聞文章摘要為 25 個字或更少\n"
      ]
    },
    {
      "cell_type": "code",
      "execution_count": null,
      "metadata": {
        "id": "lNjtW8j3moUX"
      },
      "outputs": [],
      "source": [
        "PROMPT = \"Please summarize this BBC news article into 25 words or less: \"\n",
        "\n",
        "sql = f\"\"\"\n",
        "          SELECT\n",
        "            body as article_before,\n",
        "            ARRAY_LENGTH(SPLIT(body, ' ')) AS word_count_before,\n",
        "            CONCAT('{PROMPT}') as prompt_template,\n",
        "            ml_generate_text_llm_result as article_after,\n",
        "            ARRAY_LENGTH(SPLIT(ml_generate_text_llm_result, ' ')) AS word_count_after,\n",
        "            1-ARRAY_LENGTH(SPLIT(ml_generate_text_llm_result, ' '))/ARRAY_LENGTH(SPLIT(body, ' ')) as percent_reduction_words\n",
        "          FROM\n",
        "            ML.GENERATE_TEXT(\n",
        "              MODEL `{PROJECT_ID}.{DATASET_ID}.{LLM_MODEL_NAME}`,\n",
        "              (\n",
        "              SELECT\n",
        "                CONCAT('{PROMPT}', body) AS prompt,\n",
        "                body\n",
        "              FROM\n",
        "                `bigquery-public-data.bbc_news.fulltext`\n",
        "              LIMIT\n",
        "                5),\n",
        "              STRUCT(1 AS temperature, 1024 AS max_output_tokens, 0.8 AS top_p, 40 AS top_k, TRUE AS flatten_json_output));\n",
        "        \"\"\"\n",
        "result = run_bq_query(sql)\n",
        "result.to_dataframe()"
      ]
    },
    {
      "cell_type": "markdown",
      "metadata": {
        "id": "jVDeKe3YHk1J"
      },
      "source": [
        "結果字數不一定都會在要求的 25 字以內，因此可能需要採取進一步的 [提示工程](https://cloud.google.com/vertex-ai/docs/generative-ai/learn/introduction-prompt-design)。\n"
      ]
    },
    {
      "cell_type": "markdown",
      "metadata": {
        "id": "BfMmRrv4jMjp"
      },
      "source": [
        "#### 實體辨識\n",
        "\n",
        "這個例子提取含有統計資料的新聞文章中的句子。這些文章儲存在 BigQuery BBC News 公開資料集中。\n"
      ]
    },
    {
      "cell_type": "code",
      "execution_count": null,
      "metadata": {
        "id": "k-8BuOYvERHh"
      },
      "outputs": [],
      "source": [
        "PROMPT = \"Please return a bullet-point list of all sentences in this article that cite a statistic: \"\n",
        "\n",
        "sql = f\"\"\"\n",
        "          SELECT\n",
        "            body AS article_body,\n",
        "            CONCAT('{PROMPT}', 'article_body') AS prompt,\n",
        "            ml_generate_text_llm_result AS llm_result\n",
        "          FROM\n",
        "            ML.GENERATE_TEXT(\n",
        "              MODEL `{PROJECT_ID}.{DATASET_ID}.{LLM_MODEL_NAME}`,\n",
        "              (\n",
        "              SELECT\n",
        "                CONCAT('{PROMPT}', body) AS prompt,\n",
        "                body\n",
        "              FROM\n",
        "                `bigquery-public-data.bbc_news.fulltext`\n",
        "              LIMIT\n",
        "                5),\n",
        "              STRUCT(1 AS temperature, 1024 AS max_output_tokens, 0.8 AS top_p, 40 AS top_k, TRUE AS flatten_json_output));\n",
        "        \"\"\"\n",
        "result = run_bq_query(sql)\n",
        "result.to_dataframe()"
      ]
    },
    {
      "cell_type": "markdown",
      "metadata": {
        "id": "rSP17UbCYDR_"
      },
      "source": [
        "此範例從儲存在 BigQuery thelook_ecommerce 公共資料集中的產品描述中，萃取品牌名稱。\n"
      ]
    },
    {
      "cell_type": "code",
      "execution_count": null,
      "metadata": {
        "id": "i_Go_5XMSei7"
      },
      "outputs": [],
      "source": [
        "PROMPT = \"Please return the brand name listed in this product description. Here is an example. Product: TYR Sport Mens Solid Durafast Jammer Swim Suit, Brand: TYR ; Product: \"\n",
        "\n",
        "sql = f\"\"\"\n",
        "          SELECT\n",
        "            name AS product_description,\n",
        "            CONCAT('{PROMPT}', 'product_description,',' Brand: ') as prompt_template,\n",
        "            ml_generate_text_llm_result as llm_result\n",
        "          FROM\n",
        "            ML.GENERATE_TEXT(\n",
        "              MODEL `{PROJECT_ID}.{DATASET_ID}.{LLM_MODEL_NAME}`,\n",
        "              (\n",
        "              SELECT\n",
        "                CONCAT('{PROMPT}', name,' Brand: ') AS prompt,\n",
        "                name\n",
        "              FROM\n",
        "                `bigquery-public-data.thelook_ecommerce.products`\n",
        "              LIMIT\n",
        "                5),\n",
        "              STRUCT(1 AS temperature, 1024 AS max_output_tokens, 0.8 AS top_p, 40 AS top_k, TRUE AS flatten_json_output));\n",
        "        \"\"\"\n",
        "result = run_bq_query(sql)\n",
        "result.to_dataframe()"
      ]
    },
    {
      "cell_type": "markdown",
      "metadata": {
        "id": "5JzOqTnIizNw"
      },
      "source": [
        "#### 情緒分析\n",
        "\n",
        "這項範例會對儲存在 BigQuery IMDB 公用資料集的電影評論執行情緒分析，以判斷電影評論是正向、負向或中立。\n"
      ]
    },
    {
      "cell_type": "code",
      "execution_count": null,
      "metadata": {
        "id": "4ALWl_i4oF-X"
      },
      "outputs": [],
      "source": [
        "PROMPT = \"Please categorize this movie review as either Positive, Negative or Neutral. Here is an example. Review: I dislike this movie, Sentiment: Negative\"\n",
        "\n",
        "sql = f\"\"\"\n",
        "          SELECT\n",
        "            review,\n",
        "            CONCAT('{PROMPT}',' Review: review Sentiment:') as prompt_template,\n",
        "            ml_generate_text_llm_result as llm_result\n",
        "\n",
        "          FROM\n",
        "            ML.GENERATE_TEXT(\n",
        "              MODEL `{PROJECT_ID}.{DATASET_ID}.{LLM_MODEL_NAME}`,\n",
        "              (\n",
        "              SELECT\n",
        "                CONCAT('{PROMPT}',' Review: ', review, ', Sentiment:') AS prompt,\n",
        "                review\n",
        "              FROM\n",
        "                `bigquery-public-data.imdb.reviews`\n",
        "              WHERE\n",
        "                UPPER(title) = 'TROY'\n",
        "              LIMIT\n",
        "                10 ),\n",
        "              STRUCT(0.2 AS temperature,\n",
        "                50 AS max_output_tokens,\n",
        "                0.8 AS top_p,\n",
        "                40 AS top_k, TRUE AS flatten_json_output))\n",
        "          \"\"\"\n",
        "result = run_bq_query(sql)\n",
        "result.to_dataframe()"
      ]
    },
    {
      "cell_type": "markdown",
      "metadata": {
        "id": "YmeeDBBrOJ3r"
      },
      "source": [
        "#### 內容創作\n"
      ]
    },
    {
      "cell_type": "markdown",
      "metadata": {
        "id": "1ofIZ7ozZnSu"
      },
      "source": [
        "本範例根據收件者人口統計和支出資料建立一個行銷活動電子郵件。商業資料從 BigQuery 的 [thelook 電子商務公眾資料集](https://console.cloud.google.com/marketplace/product/bigquery-public-data/thelook-ecommerce) 取得。\n"
      ]
    },
    {
      "cell_type": "markdown",
      "metadata": {
        "id": "iS6MFUvZ09cN"
      },
      "source": [
        "首先，你需要將資料集的 order_items、products 和 users 表格加入，才能取得包含電子郵件資訊的表格，其中包括購買的品項、該品項的描述，以及購買者的統計資料。\n"
      ]
    },
    {
      "cell_type": "code",
      "execution_count": null,
      "metadata": {
        "id": "eMjm_YCrsKmC"
      },
      "outputs": [],
      "source": [
        "sql = f\"\"\"\n",
        "      CREATE OR REPLACE TABLE\n",
        "        `{PROJECT_ID}.{DATASET_ID}.purchases` AS\n",
        "      SELECT\n",
        "        u.id,\n",
        "        u.first_name,\n",
        "        u.email,\n",
        "        u.postal_code,\n",
        "        u.country,\n",
        "        o.order_id,\n",
        "        o.created_at,\n",
        "        p.category,\n",
        "        p.name\n",
        "      FROM\n",
        "        `bigquery-public-data.thelook_ecommerce.users` u\n",
        "      JOIN (\n",
        "        SELECT\n",
        "          user_id,\n",
        "          order_id,\n",
        "          created_at,\n",
        "          product_id,\n",
        "          ROW_NUMBER() OVER (PARTITION BY user_id ORDER BY created_at DESC) AS rn\n",
        "        FROM\n",
        "          `bigquery-public-data.thelook_ecommerce.order_items`\n",
        "      ) o\n",
        "      ON\n",
        "        u.id = o.user_id\n",
        "      JOIN\n",
        "        `bigquery-public-data.thelook_ecommerce.products` p\n",
        "      ON\n",
        "        o.product_id = p.id\n",
        "      WHERE\n",
        "        o.rn = 1 AND p.category = \"Active\" AND u.country = \"United States\";\n",
        "       \"\"\"\n",
        "\n",
        "result = run_bq_query(sql)"
      ]
    },
    {
      "cell_type": "markdown",
      "metadata": {
        "id": "ypwarbiXtWaM"
      },
      "source": [
        "查詢新表格，你將會看到每筆購買的綜合資料集。\n"
      ]
    },
    {
      "cell_type": "code",
      "execution_count": null,
      "metadata": {
        "id": "B49ngc6dsYkR"
      },
      "outputs": [],
      "source": [
        "sql = f\"\"\"\n",
        "        SELECT\n",
        "            *\n",
        "        FROM\n",
        "            `{PROJECT_ID}.{DATASET_ID}.purchases`\n",
        "        LIMIT\n",
        "            10;\n",
        "      \"\"\"\n",
        "result = run_bq_query(sql)\n",
        "result.to_dataframe().head(10)"
      ]
    },
    {
      "cell_type": "markdown",
      "metadata": {
        "id": "N8CX3Hwntd2D"
      },
      "source": [
        "現在你會為 LLM 準備提示，並納入商品名稱、購買者的姓名和郵遞區號。\n"
      ]
    },
    {
      "cell_type": "code",
      "execution_count": null,
      "metadata": {
        "id": "Y2LT134zQEGy"
      },
      "outputs": [],
      "source": [
        "PROMPT_PART1 = \"A user bought a product with this description: \"\n",
        "PROMPT_PART2 = ' Write a follow up marketing email mentioning the high-level product category of their purchase in one word, for example \"We hope you are enjoying your new t-shirt\". '\n",
        "PROMPT_PART3 = \"Encourage the individual to shop with the store again using the coupon code RETURN10 for 10% off their next purchase. \"\n",
        "PROMPT_PART4 = \"Provide two local outdoor activities they could pursue with their new purchase. They live in the zip code \"\n",
        "PROMPT_PART5 = '. Do not mention the brand of the product, just sign off the email with \"-TheLook.\" Address the email to: '\n",
        "\n",
        "sql = f\"\"\"\n",
        "          SELECT\n",
        "            prompt,\n",
        "            ml_generate_text_llm_result\n",
        "          FROM\n",
        "            ML.GENERATE_TEXT(\n",
        "              MODEL `{PROJECT_ID}.{DATASET_ID}.{LLM_MODEL_NAME}`,\n",
        "              (\n",
        "              SELECT\n",
        "                CONCAT('{PROMPT_PART1}',name,'{PROMPT_PART2}','{PROMPT_PART3}','{PROMPT_PART4}',postal_code,'{PROMPT_PART5}',first_name) AS prompt\n",
        "              FROM\n",
        "                `{PROJECT_ID}.{DATASET_ID}.purchases`\n",
        "              LIMIT\n",
        "                5),\n",
        "              STRUCT(1 AS temperature,\n",
        "                1024 AS max_output_tokens,\n",
        "                0.8 AS top_p,\n",
        "                40 AS top_k,\n",
        "                TRUE AS flatten_json_output));\n",
        "        \"\"\"\n",
        "result = run_bq_query(sql)\n",
        "result.to_dataframe()"
      ]
    },
    {
      "cell_type": "markdown",
      "metadata": {
        "id": "DBgDJ4lZW3UE"
      },
      "source": [
        "## 清除\n",
        "如需清除本專案中所用的所有 Google Cloud 資源，你可 <a href=\"https://cloud.google.com/resource-manager/docs/creating-managing-projects#shutting_down_projects\" target=\"_blank\">刪除 Google Cloud\n",
        "專案</a>，你已對此教學課程使用其。\n",
        "\n",
        "否則，你可以透過取消註解下方內容，刪除你在本教學課程中建立的個別資源：\n"
      ]
    },
    {
      "cell_type": "code",
      "execution_count": null,
      "metadata": {
        "id": "9Oa51GiesTqA"
      },
      "outputs": [],
      "source": [
        "# # Delete BigQuery dataset, including the BigQuery ML models you just created, and the BigQuery Connection\n",
        "# ! bq rm -r -f $PROJECT_ID:$DATASET_ID\n",
        "# ! bq rm --connection --project_id=$PROJECT_ID --location=$REGION $CONN_NAME"
      ]
    },
    {
      "cell_type": "markdown",
      "metadata": {
        "id": "prf0sOh3ER4A"
      },
      "source": [
        "**總結** \n",
        "\n",
        "在本教學中，我們展示如何整合 BQML 與 Vertex AI LLM 並提供範例說明如何將新的 `ML.GENERATE_TEXT` 函式直接應用到儲存在 BigQuery 中的資料。\n",
        "\n",
        "查看我們的 [BigQuery ML LLM 網頁](https://cloud.google.com/bigquery/docs/inference-overview#generative_ai) 以進一步了解 BigQuery 中的遠端模型和生成式 AI。\n"
      ]
    }
  ],
  "metadata": {
    "colab": {
      "name": "bqml_llm_examples.ipynb",
      "toc_visible": true
    },
    "environment": {
      "kernel": "python3",
      "name": "tf2-gpu.2-11.m108",
      "type": "gcloud",
      "uri": "gcr.io/deeplearning-platform-release/tf2-gpu.2-11:m108"
    },
    "kernelspec": {
      "display_name": "Python 3 (ipykernel)",
      "language": "python",
      "name": "python3"
    },
    "language_info": {
      "codemirror_mode": {
        "name": "ipython",
        "version": 3
      },
      "file_extension": ".py",
      "mimetype": "text/x-python",
      "name": "python",
      "nbconvert_exporter": "python",
      "pygments_lexer": "ipython3",
      "version": "3.10.10"
    }
  },
  "nbformat": 4,
  "nbformat_minor": 4
}