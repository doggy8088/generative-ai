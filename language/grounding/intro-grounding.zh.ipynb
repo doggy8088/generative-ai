{
  "cells": [
    {
      "cell_type": "code",
      "execution_count": 1,
      "metadata": {
        "id": "ur8xi4C7S06n"
      },
      "outputs": [],
      "source": [
        "# Copyright 2023 Google LLC\n",
        "#\n",
        "# Licensed under the Apache License, Version 2.0 (the \"License\");\n",
        "# you may not use this file except in compliance with the License.\n",
        "# You may obtain a copy of the License at\n",
        "#\n",
        "#     https://www.apache.org/licenses/LICENSE-2.0\n",
        "#\n",
        "# Unless required by applicable law or agreed to in writing, software\n",
        "# distributed under the License is distributed on an \"AS IS\" BASIS,\n",
        "# WITHOUT WARRANTIES OR CONDITIONS OF ANY KIND, either express or implied.\n",
        "# See the License for the specific language governing permissions and\n",
        "# limitations under the License."
      ]
    },
    {
      "cell_type": "markdown",
      "metadata": {
        "id": "JAPoU8Sm5E6e"
      },
      "source": [
        "# Grounding 的 Vertex AI 入門指南\n",
        "\n",
        "<table align=\"left\">\n",
        "  <td style=\"text-align: center\">\n",
        "    <a href=\"https://colab.research.google.com/github/doggy8088/generative-ai/blob/main/language/grounding/intro-grounding.zh.ipynb\">\n",
        "      <img src=\"https://cloud.google.com/ml-engine/images/colab-logo-32px.png\" alt=\"Google Colaboratory logo\"><br> 於 Colab 中執行\n",
        "    </a>\n",
        "  </td>\n",
        "  <td style=\"text-align: center\">\n",
        "    <a href=\"https://github.com/doggy8088/generative-ai/blob/main/language/grounding/intro-grounding.zh.ipynb\">\n",
        "      <img src=\"https://cloud.google.com/ml-engine/images/github-logo-32px.png\" alt=\"GitHub logo\"><br> 在 GitHub 上檢視\n",
        "    </a>\n",
        "  </td>\n",
        "  <td style=\"text-align: center\">\n",
        "    <a href=\"https://console.cloud.google.com/vertex-ai/workbench/deploy-notebook?download_url=https://raw.githubusercontent.com/doggy8088/generative-ai/blob/main/language/grounding/intro-grounding.zh.ipynb\">\n",
        "      <img src=\"https://lh3.googleusercontent.com/UiNooY4LUgW_oTvpsNhPpQzsstV5W8F7rYgxgGBD85cWJoLmrOzhVs_ksK_vgx40SHs7jCqkTkCk=e14-rj-sc0xffffff-h130-w32\" alt=\"Vertex AI logo\"><br> 在 Vertex AI Workbench 中開啟\n",
        "    </a>\n",
        "  </td>\n",
        "</table>\n"
      ]
    },
    {
      "cell_type": "markdown",
      "metadata": {},
      "source": [
        "| | |\n",
        "|-|-|\n",
        "| 作者 | [Kristopher Overholt](https://github.com/koverholt) |\n"
      ]
    },
    {
      "cell_type": "markdown",
      "metadata": {
        "id": "24743cf4a1e1"
      },
      "source": [
        "**_NOTE_** : 此筆記本已在以下環境中進行了測試：\n",
        "\n",
        "* Python 版本 = 3.11\n"
      ]
    },
    {
      "cell_type": "markdown",
      "metadata": {
        "id": "tvgnzT1CKxrO"
      },
      "source": [
        "## 概述\n",
        "\n",
        "[在 Vertex AI 中奠基](https://cloud.google.com/vertex-ai/docs/generative-ai/grounding/ground-language-models) 讓你可以使用語言模型 (例如 [`text-bison` 與 `chat-bison`](https://cloud.google.com/vertex-ai/docs/generative-ai/language-model-overview)) 生成奠基於你自己文件與資料的內容。此功能讓模型在執行階段存取的資訊超出了其訓練資料。藉由在 [Vertex AI Search](https://cloud.google.com/generative-ai-app-builder/docs/enterprise-search-introduction) 中將模型回應奠基於 Google 搜尋結果或資料儲存空間，奠基於資料的 LLM 可產生更準確、最新且相關的回應。\n",
        "\n",
        "奠基提供了以下優點：\n",
        "\n",
        "- 減少模型幻覺 (模型產生不切實際內容的實例) \n",
        "- 將模型回應錨定至特定資訊、文件和資料來源\n",
        "- 提升產生內容的可信度、準確性和可適用性\n",
        "\n",
        "在 Vertex AI 中奠基的脈絡中，你可設定兩個不同的奠基來源：\n",
        "\n",
        "1. 公開可用且已建立索引的資料的 Google 搜尋結果\n",
        "1. [Vertex AI Search 中的資料儲存空間](https://cloud.google.com/generative-ai-app-builder/docs/create-datastore-ingest)，其中可包含你的網站資料、非結構化資料或結構化資料等形式的資料\n",
        "\n",
        "**注意：** 此範例筆記本中的一些功能需要早期使用允許清單來存取特定功能。[在 Vertex AI Search 中奠基](https://cloud.google.com/vertex-ai/docs/generative-ai/grounding/ground-language-models) 可在公開預覽版中使用，而使用 Google 網路搜尋結果奠基則可在私人預覽版中使用。若要申請早期存取私人預覽版的功能，請聯絡你的客戶代表或 [Google Cloud 支援](https://cloud.google.com/contact)。\n"
      ]
    },
    {
      "cell_type": "markdown",
      "metadata": {
        "id": "d975e698c9a4"
      },
      "source": [
        "### 目標\n",
        "\n",
        "在此教學課程中，你將學習如何：\n",
        "\n",
        "- 產生以 Google 搜尋結果為基礎的 LLM 文字和聊天機器人回應\n",
        "- 比較未經基礎訓練的 LLM 回應和經基礎訓練的 LLM 回應的結果\n",
        "- 在 Vertex AI 搜尋中建立和使用資料庫，以根據自訂的文件和資料建立回應基礎\n",
        "- 產生以 Vertex AI 搜尋結果為基礎的 LLM 文字和聊天機器人回應\n",
        "- 使用具有基礎功能的非同步文字和聊天機器人模型 API\n",
        "\n",
        "本教學課程使用下列 Google Cloud AI 服務和資源：\n",
        "\n",
        "- Vertex AI\n",
        "- Vertex AI 搜尋和對話\n",
        "\n",
        "執行的步驟包括：\n",
        "\n",
        "- 設定 LLM 和提示，以供各種範例使用\n",
        "- 在 Vertex AI 中將範例提示傳送至生成文字和聊天機器人模型\n",
        "- 使用你自己的資料，在 Vertex AI 搜尋中設定資料庫\n",
        "- 傳送具有各種基礎級別 (無基礎、網路基礎、資料庫基礎) 的範例提示\n"
      ]
    },
    {
      "cell_type": "markdown",
      "metadata": {
        "id": "BF1j6f9HApxa"
      },
      "source": [
        "## 在你開始之前\n",
        "\n",
        "### 設定你的 Google Cloud 專案\n",
        "\n",
        "**以下步驟為必需，無關於你的筆記本環境。** \n",
        "\n",
        "1. [選擇或建立一個 Google Cloud 專案](https://console.cloud.google.com/cloud-resource-manager)。當你第一次建立一個帳戶時，你將會有 300 美元的免費額度可用於你的運算/儲存成本。\n",
        "1. [確保已為你的專案啟用帳單](https://cloud.google.com/billing/docs/how-to/modify-project)。\n",
        "1. 啟用 [Vertex AI API](https://console.cloud.google.com/flows/enableapi?apiid=aiplatform.googleapis.com) 和 [Vertex AI 搜尋與對話 API](https://console.cloud.google.com/flows/enableapi?apiid=discoveryengine.googleapis.com)。\n",
        "1. 如果你想將落地與 Google 網路搜尋結果結合使用，則你的專案也必須在此功能處於 Private Preview 階段時加入允許清單。\n",
        "1. 如果你在本機上執行這個筆記本，則你需要安裝 [Cloud SDK](https://cloud.google.com/sdk)。\n"
      ]
    },
    {
      "cell_type": "markdown",
      "metadata": {
        "id": "i7EUnXsZhAGF"
      },
      "source": [
        "### 安裝\n",
        "\n",
        "安裝執行此筆記本所需的下列套件。\n"
      ]
    },
    {
      "cell_type": "code",
      "execution_count": 2,
      "metadata": {
        "id": "2b4ef9b72d43"
      },
      "outputs": [],
      "source": [
        "!pip install --upgrade --quiet google-cloud-aiplatform==1.38.1"
      ]
    },
    {
      "cell_type": "markdown",
      "metadata": {
        "id": "58707a750154"
      },
      "source": [
        "安裝套件後重新啟動 Kernel：\n"
      ]
    },
    {
      "cell_type": "code",
      "execution_count": 3,
      "metadata": {
        "id": "f200f10a1da3"
      },
      "outputs": [],
      "source": [
        "import IPython\n",
        "\n",
        "app = IPython.Application.instance()\n",
        "app.kernel.do_shutdown(True)"
      ]
    },
    {
      "cell_type": "markdown",
      "metadata": {
        "id": "WReHDGG5g0XY"
      },
      "source": [
        "### 設定你的專案 ID\n",
        "\n",
        "**如果你不知道你的專案 ID，** 請嘗試執行下列操作：\n",
        "* 執行 `gcloud config list`。\n",
        "* 執行 `gcloud projects list`。\n",
        "* 查看支援頁面：[找出專案 ID](https://support.google.com/googleapi/answer/7014113)\n"
      ]
    },
    {
      "cell_type": "code",
      "execution_count": 4,
      "metadata": {
        "id": "oM1iC_MfAts1"
      },
      "outputs": [
        {
          "name": "stdout",
          "output_type": "stream",
          "text": [
            "Updated property [core/project].\n"
          ]
        }
      ],
      "source": [
        "PROJECT_ID = \"your-project-id\"  # @param {type:\"string\"}\n",
        "\n",
        "# Set the project ID\n",
        "!gcloud config set project {PROJECT_ID}"
      ]
    },
    {
      "cell_type": "markdown",
      "metadata": {
        "id": "region"
      },
      "source": [
        "### 設定你的區域\n",
        "\n",
        "你也可以變更 Vertex AI 使用的 `REGION` 變數。深入瞭解 [Vertex AI 地區](https://cloud.google.com/vertex-ai/docs/general/locations)。\n"
      ]
    },
    {
      "cell_type": "code",
      "execution_count": 5,
      "metadata": {
        "id": "region"
      },
      "outputs": [],
      "source": [
        "REGION = \"us-central1\"  # @param {type: \"string\"}"
      ]
    },
    {
      "cell_type": "markdown",
      "metadata": {
        "id": "sBCra4QMA2wR"
      },
      "source": [
        "### 驗證你的 Google Cloud 帳戶\n",
        "\n",
        "如果你在 Google Colab 上執行此筆記本，你將需要驗證你的環境。為執行此操作，請執行下列新Cell。如果你使用 Vertex AI Workbench，這個步驟並非必要。\n"
      ]
    },
    {
      "cell_type": "code",
      "execution_count": 6,
      "metadata": {
        "id": "603adbbf0532"
      },
      "outputs": [],
      "source": [
        "import sys\n",
        "\n",
        "if \"google.colab\" in sys.modules:\n",
        "    # Authenticate user to Google Cloud\n",
        "    from google.colab import auth\n",
        "\n",
        "    auth.authenticate_user()"
      ]
    },
    {
      "cell_type": "markdown",
      "metadata": {
        "id": "960505627ddf"
      },
      "source": [
        "### 匯入函式庫\n"
      ]
    },
    {
      "cell_type": "code",
      "execution_count": 7,
      "metadata": {
        "id": "PyQmSRbKA8r-"
      },
      "outputs": [],
      "source": [
        "import vertexai\n",
        "from vertexai.language_models import TextGenerationModel, ChatModel, GroundingSource"
      ]
    },
    {
      "cell_type": "markdown",
      "metadata": {
        "id": "init_aip:mbsdk,all"
      },
      "source": [
        "### 初始化 Python 的 Vertex AI SDK\n",
        "\n",
        "為你的專案初始化 Python 的 Vertex AI SDK：\n"
      ]
    },
    {
      "cell_type": "code",
      "execution_count": 8,
      "metadata": {
        "id": "init_aip:mbsdk,all"
      },
      "outputs": [],
      "source": [
        "vertexai.init(project=PROJECT_ID, location=REGION)"
      ]
    },
    {
      "cell_type": "markdown",
      "metadata": {},
      "source": [
        "初始化 Vertex AI 中的生成式文字和聊天模型：\n"
      ]
    },
    {
      "cell_type": "code",
      "execution_count": 9,
      "metadata": {},
      "outputs": [],
      "source": [
        "text_model = TextGenerationModel.from_pretrained(\"text-bison\")\n",
        "chat_model = ChatModel.from_pretrained(\"chat-bison\")"
      ]
    },
    {
      "cell_type": "markdown",
      "metadata": {},
      "source": [
        "## 例子：使用 Google 搜尋結果作為接地\n",
        "\n",
        "這個例子中，你會將沒有接地的 LLM 回應與接地 Google 搜尋結果後之回應進行比較。你會針對 Google 商店最近發布的硬體提問。\n"
      ]
    },
    {
      "cell_type": "code",
      "execution_count": 10,
      "metadata": {},
      "outputs": [],
      "source": [
        "PROMPT = (\n",
        "    \"What are the price, available colors, and storage size options of a Pixel Tablet?\"\n",
        ")"
      ]
    },
    {
      "cell_type": "markdown",
      "metadata": {},
      "source": [
        "### 無基礎文字生成\n",
        "\n",
        "向 LLM 發出沒有基礎的預測要求：\n"
      ]
    },
    {
      "cell_type": "code",
      "execution_count": 11,
      "metadata": {},
      "outputs": [
        {
          "data": {
            "text/plain": [
              " **Price:**\n",
              "\n",
              "* Starting at $399 for the Wi-Fi-only model with 128GB of storage\n",
              "* $499 for the Wi-Fi + 5G model with 128GB of storage\n",
              "* $599 for the Wi-Fi + 5G model with 256GB of storage\n",
              "\n",
              "**Available Colors:**\n",
              "\n",
              "* Chalk (white)\n",
              "* Charcoal (black)\n",
              "* Sage (green)\n",
              "\n",
              "**Storage Size Options:**\n",
              "\n",
              "* 128GB\n",
              "* 256GB"
            ]
          },
          "execution_count": 11,
          "metadata": {},
          "output_type": "execute_result"
        }
      ],
      "source": [
        "response = text_model.predict(PROMPT)\n",
        "response"
      ]
    },
    {
      "cell_type": "markdown",
      "metadata": {},
      "source": [
        "### 文字產生基於 Google 搜尋結果\n",
        "\n",
        "現在你可以新增關鍵字參數 `grounding_source`，其 grounding source 為 `GroundingSource.WebSearch()`，指示 LLM 先利用提示執行 Google 搜尋，然後根據網路搜尋結果建構答案：\n"
      ]
    },
    {
      "cell_type": "code",
      "execution_count": 12,
      "metadata": {},
      "outputs": [
        {
          "data": {
            "text/plain": [
              "( The Pixel Tablet starts at $499 in the US, £599 in the UK, €679 throughout selected European regions, and CAD $699 in Canada. It comes in three colors: Porcelain (white), Rose (pink), and Hazel (green). The storage size options are 128GB and 256GB.,\n",
              " GroundingMetadata(citations=[GroundingCitation(start_index=1, end_index=129, url='https://www.androidauthority.com/google-pixel-tablet-3163922/', title=None, license=None, publication_date=None), GroundingCitation(start_index=130, end_index=206, url='https://www.androidpolice.com/google-pixel-tablet/', title=None, license=None, publication_date=None)], search_queries=['Pixel Tablet price, colors, and storage size options?']))"
            ]
          },
          "execution_count": 12,
          "metadata": {},
          "output_type": "execute_result"
        }
      ],
      "source": [
        "grounding_source = GroundingSource.WebSearch()\n",
        "\n",
        "response = text_model.predict(\n",
        "    PROMPT,\n",
        "    grounding_source=grounding_source,\n",
        ")\n",
        "\n",
        "response, response.grounding_metadata"
      ]
    },
    {
      "cell_type": "markdown",
      "metadata": {},
      "source": [
        "請注意，沒有基礎的回應只有來自 LLM 關於 Pixel 平板電腦的有限資訊。而以網路搜尋結果為基礎的回應包含網路搜尋結果的最新資訊，這些資訊會作為帶有基礎要求的 LLM 一部分被返回。\n"
      ]
    },
    {
      "cell_type": "markdown",
      "metadata": {},
      "source": [
        "##範例：以客製化文件和資料為基礎\n",
        "\n",
        "在這個範例中，你會將大型語言模型不依據任何根據的回應與奠基於在 Vertex AI 搜尋 [資料儲存結果](https://cloud.google.com/generative-ai-app-builder/docs/create-datastore-ingest) 的回應做比較。你會詢問一個關於建立 [BigQuery 中的物件資料表](https://cloud.google.com/bigquery/docs/object-table-introduction) 的 GoogleSQL 查詢問題。\n"
      ]
    },
    {
      "cell_type": "markdown",
      "metadata": {},
      "source": [
        "### 在 Vertex AI Search 中建立一個資料儲存庫\n",
        "\n",
        "請按照 [Vertex AI Search 入門文件](https://cloud.google.com/generative-ai-app-builder/docs/try-enterprise-search#create_a_search_app_for_website_data) 中的步驟，在 Vertex AI Search 中使用範例資料建立一個資料儲存庫。在此範例中，你會使用一個基於網站的資料儲存庫，其中包含來自 Google Cloud 網站的內容，包括文件。\n",
        "\n",
        "建立好資料儲存庫後，取得資料儲存庫 ID 並在下方輸入。\n"
      ]
    },
    {
      "cell_type": "code",
      "execution_count": 13,
      "metadata": {},
      "outputs": [],
      "source": [
        "DATA_STORE_ID = \"your-data-store-id_1234567890123\"  # Replace this with your data store ID from Vertex AI Search\n",
        "DATA_STORE_REGION = \"global\""
      ]
    },
    {
      "cell_type": "markdown",
      "metadata": {},
      "source": [
        "現在，可以針對 BigQuery 中的物件表格提出問題以及在什麼時候使用它們：\n"
      ]
    },
    {
      "cell_type": "code",
      "execution_count": 14,
      "metadata": {},
      "outputs": [],
      "source": [
        "PROMPT = \"When should I use an object table in BigQuery? And how does it store data?\""
      ]
    },
    {
      "cell_type": "markdown",
      "metadata": {},
      "source": [
        "### 無基礎文字生成\n",
        "\n",
        "向 LLM 發出沒有基礎的預測要求：\n"
      ]
    },
    {
      "cell_type": "code",
      "execution_count": 15,
      "metadata": {},
      "outputs": [
        {
          "data": {
            "text/plain": [
              "( **When to use an object table in BigQuery**\n",
              "\n",
              "Object tables are a specialized type of table in BigQuery that is designed for storing and querying semi-structured data. Semi-structured data is data that does not conform to a fixed schema, such as JSON, XML, or Avro.\n",
              "\n",
              "Object tables are useful for storing data that is:\n",
              "\n",
              "* **Complex and hierarchical:** Object tables can store data that is nested or has a complex structure. For example, you could store a JSON object that represents a customer record, which includes the customer's name, address, and order history.\n",
              "* **Changing frequently:** Object,\n",
              " GroundingMetadata(citations=[], search_queries=[]))"
            ]
          },
          "execution_count": 15,
          "metadata": {},
          "output_type": "execute_result"
        }
      ],
      "source": [
        "response = text_model.predict(PROMPT)\n",
        "\n",
        "response, response.grounding_metadata"
      ]
    },
    {
      "cell_type": "markdown",
      "metadata": {},
      "source": [
        "### 以 Vertex AI 搜尋結果為基礎的文字生成\n",
        "\n",
        "現在，我們可以在 `grounding_source` 關鍵字參數中加入 `GroundingSource.VertexAISearch()` 的根據來源，指示 LLM 首先在你的自訂資料儲存中進行搜尋，然後根據相關文件建立答案：\n"
      ]
    },
    {
      "cell_type": "code",
      "execution_count": 16,
      "metadata": {},
      "outputs": [
        {
          "data": {
            "text/plain": [
              "( **When to use an object table in BigQuery**\n",
              "\n",
              "Object tables are useful for storing and analyzing unstructured data, such as images, videos, and audio files. They can also be used to store semi-structured data, such as JSON or XML files.\n",
              "\n",
              "Object tables are particularly useful when you need to:\n",
              "\n",
              "* Store large amounts of unstructured data\n",
              "* Perform complex analysis on unstructured data\n",
              "* Share unstructured data with others\n",
              "* Access unstructured data from multiple locations\n",
              "\n",
              "**How object tables store data**\n",
              "\n",
              "Object tables store data in a columnar format, which makes it efficient to query and analyze large amounts of data. Each column,\n",
              " GroundingMetadata(citations=[], search_queries=['When should I use an object table in BigQuery?']))"
            ]
          },
          "execution_count": 16,
          "metadata": {},
          "output_type": "execute_result"
        }
      ],
      "source": [
        "grounding_source = GroundingSource.VertexAISearch(\n",
        "    data_store_id=DATA_STORE_ID, location=DATA_STORE_REGION\n",
        ")\n",
        "\n",
        "response = text_model.predict(\n",
        "    PROMPT,\n",
        "    grounding_source=grounding_source,\n",
        ")\n",
        "\n",
        "response, response.grounding_metadata"
      ]
    },
    {
      "cell_type": "markdown",
      "metadata": {},
      "source": [
        "請注意，沒有基礎的回應只有關於 BigQuery 中物件表格的有限資訊，可能不準確。而基於 Vertex AI 搜尋結果的回應包含 Google Cloud 文件中關於 BigQuery 的最新資訊。\n"
      ]
    },
    {
      "cell_type": "markdown",
      "metadata": {},
      "source": [
        "## 範例：實際對話回應\n",
        "\n",
        "你也可以使用 grounding 機制，在 Vertex AI 中使用對話模型時。在本範例中，你將比較沒有 grounding 機制的 LLM 回應，以及 grounding 到 Google 搜尋結果和 Vertex AI Search 中資料儲存所產生。\n",
        "\n",
        "你會詢問一個有關 Vertex AI 的問題，和一個後續關於 Vertex AI 中管理資料集的問題：\n"
      ]
    },
    {
      "cell_type": "code",
      "execution_count": 17,
      "metadata": {},
      "outputs": [],
      "source": [
        "PROMPT = \"What are managed datasets in Vertex AI?\"\n",
        "PROMPT_FOLLOWUP = \"What types of data can I use\""
      ]
    },
    {
      "cell_type": "markdown",
      "metadata": {},
      "source": [
        "### 無接地的聊天會話\n",
        "\n",
        "開始聊天會話，並向無接地的 LLM 傳送訊息：\n"
      ]
    },
    {
      "cell_type": "code",
      "execution_count": 18,
      "metadata": {},
      "outputs": [
        {
          "name": "stdout",
          "output_type": "stream",
          "text": [
            " Managed datasets are a feature of Vertex AI that allows you to easily create, manage, and version your datasets. With managed datasets, you can:\n",
            "\n",
            "* **Easily create datasets:** You can create datasets from a variety of sources, including Cloud Storage, BigQuery, and CSV files.\n",
            "* **Manage datasets:** You can view, edit, and delete datasets. You can also add and remove columns from datasets.\n",
            "* **Version datasets:** You can create new versions of datasets. This allows you to track changes to your datasets over time.\n",
            "* **Share datasets:** You can share datasets with other users in your organization.\n",
            "* **Use datasets in Vertex AI models:** You can use managed datasets to train and evaluate Vertex AI models.\n",
            "\n",
            "Managed datasets are a powerful tool that can help you to improve the performance of your Vertex AI models.\n",
            " You can use a variety of data types with managed datasets, including:\n",
            "\n",
            "* **Structured data:** Structured data is data that is organized in a tabular format. Examples of structured data include CSV files, JSON files, and BigQuery tables.\n",
            "* **Unstructured data:** Unstructured data is data that is not organized in a tabular format. Examples of unstructured data include images, videos, and text files.\n",
            "* **Semi-structured data:** Semi-structured data is data that has some structure, but not as much as structured data. Examples of semi-structured data include XML files and HTML files.\n",
            "\n",
            "You can also use managed datasets to combine different types of data. For example, you could create a dataset that includes both structured data and unstructured data.\n"
          ]
        }
      ],
      "source": [
        "chat = chat_model.start_chat()\n",
        "\n",
        "response = chat.send_message(PROMPT)\n",
        "print(response.text)\n",
        "\n",
        "response = chat.send_message(PROMPT_FOLLOWUP)\n",
        "print(response.text)"
      ]
    },
    {
      "cell_type": "markdown",
      "metadata": {},
      "source": [
        "### 聊天會話建立在 Google 搜尋結果上\n",
        "\n",
        "現在你可以加入 `grounding_source` 關鍵字參數，並輸入 `GroundingSource.WebSearch()` 的根源字，指示聊天模型先執行 Google 搜尋快速指令，再根據網路搜尋結果建構答案：\n"
      ]
    },
    {
      "cell_type": "code",
      "execution_count": 19,
      "metadata": {},
      "outputs": [
        {
          "name": "stdout",
          "output_type": "stream",
          "text": [
            " Managed datasets in Vertex AI are a way to store and manage your data for use in machine learning models. They provide a number of benefits, including:\n",
            "\n",
            "- **Centralized storage:** Managed datasets are stored in a central location, making them easy to access and manage.\n",
            "- **Data versioning:** Managed datasets support data versioning, so you can easily track changes to your data over time.\n",
            "- **Data security:** Managed datasets are encrypted at rest and in transit, so you can be sure that your data is safe.\n",
            "- **Data processing:** Managed datasets can be processed using a variety of tools, including Vertex AI's built-in data processing tools.\n",
            "GroundingMetadata(citations=[], search_queries=['Vertex AI managed datasets?'])\n",
            " You can use a variety of data types in managed datasets, including:\n",
            "\n",
            "- **Structured data:** Structured data is data that is organized in a tabular format, such as CSV files or SQL tables.\n",
            "- **Unstructured data:** Unstructured data is data that is not organized in a tabular format, such as images, videos, and text files.\n",
            "- **Semi-structured data:** Semi-structured data is data that is partially structured, such as JSON files or XML files.\n",
            "GroundingMetadata(citations=[], search_queries=['What types of data can I use in a managed dataset in Vertex AI?'])\n"
          ]
        }
      ],
      "source": [
        "chat = chat_model.start_chat()\n",
        "grounding_source = GroundingSource.WebSearch()\n",
        "\n",
        "response = chat.send_message(\n",
        "    PROMPT,\n",
        "    grounding_source=grounding_source,\n",
        ")\n",
        "print(response.text)\n",
        "print(response.grounding_metadata)\n",
        "\n",
        "response = chat.send_message(\n",
        "    PROMPT_FOLLOWUP,\n",
        "    grounding_source=grounding_source,\n",
        ")\n",
        "print(response.text)\n",
        "print(response.grounding_metadata)"
      ]
    },
    {
      "cell_type": "markdown",
      "metadata": {},
      "source": [
        "### 對話會談建構在 Vertex AI Search 的檢索結果上\n",
        "\n",
        "現在你可以加入 `grounding_source` 關鍵字 arg，其中接地來源為 `GroundingSource.VertexAISearch()`，指示對話模型會先在你的自訂資料儲存庫內執行檢索，然後根據相關文件建構答案：\n"
      ]
    },
    {
      "cell_type": "code",
      "execution_count": 20,
      "metadata": {},
      "outputs": [
        {
          "name": "stdout",
          "output_type": "stream",
          "text": [
            " Managed datasets in Vertex AI are used to provide the source data for training AutoML and custom models.\n",
            "GroundingMetadata(citations=[GroundingCitation(start_index=1, end_index=105, url='https://cloud.google.com/vertex-ai/docs/datasets/overview', title=None, license=None, publication_date=None)], search_queries=['Vertex AI managed datasets?'])\n",
            " Managed datasets in Vertex AI are used to provide the source data for training AutoML and custom models.\n",
            "GroundingMetadata(citations=[GroundingCitation(start_index=1, end_index=105, url='https://cloud.google.com/vertex-ai/docs/datasets/overview', title=None, license=None, publication_date=None)], search_queries=['Vertex AI managed datasets'])\n"
          ]
        }
      ],
      "source": [
        "chat = chat_model.start_chat()\n",
        "grounding_source = GroundingSource.VertexAISearch(\n",
        "    data_store_id=DATA_STORE_ID, location=DATA_STORE_REGION\n",
        ")\n",
        "\n",
        "response = chat.send_message(\n",
        "    PROMPT,\n",
        "    grounding_source=grounding_source,\n",
        ")\n",
        "print(response.text)\n",
        "print(response.grounding_metadata)\n",
        "\n",
        "response = chat.send_message(\n",
        "    PROMPT_FOLLOWUP,\n",
        "    grounding_source=grounding_source,\n",
        ")\n",
        "print(response.text)\n",
        "print(response.grounding_metadata)"
      ]
    },
    {
      "cell_type": "markdown",
      "metadata": {},
      "source": [
        "## 範例：歸因的非同步文字和聊天回應\n",
        "\n",
        "你也可以在使用非同步 API 處理文字和聊天模型時，在 Vertex AI 中使用歸因。在這個範例中，你會將 LLM 回應與沒有歸因的回應，與以 Vertex AI Search 中資料儲存結果為基礎的歸因回應進行比較。\n",
        "\n",
        "你會詢問一個有關 Google Cloud 中不同服務的問題。\n"
      ]
    },
    {
      "cell_type": "code",
      "execution_count": 21,
      "metadata": {},
      "outputs": [],
      "source": [
        "PROMPT = \"What are the different types of databases available in Google Cloud?\""
      ]
    },
    {
      "cell_type": "markdown",
      "metadata": {},
      "source": [
        "### 非同步的文字生成，以 Google 搜尋結果為依據\n"
      ]
    },
    {
      "cell_type": "code",
      "execution_count": 22,
      "metadata": {},
      "outputs": [
        {
          "data": {
            "text/plain": [
              "( The different types of databases available in Google Cloud are:\n",
              "\n",
              "1. Cloud Spanner: It provides all the relational database capabilities of Cloud SQL along with horizontal scalability which usually comes with NoSQL databases.\n",
              "\n",
              "2. Cloud Bigtable: Users can store different types of data, including time-series, marketing, financial, IoT, and graph data. Cloud Bigtable also integrates with popular big data.\n",
              "\n",
              "3. Cloud SQL: Provides managed MySQL, PostgreSQL, and SQL Server databases on Google Cloud.\n",
              "\n",
              "4. AlloyDB: It is a fully managed PostgreSQL-compatible database service that offers high performance and scalability for PostgreSQL workloads.,\n",
              " GroundingMetadata(citations=[GroundingCitation(start_index=69, end_index=226, url='https://medium.com/google-cloud/choose-the-right-database-service-in-gcp-8e3803245e1d', title=None, license=None, publication_date=None), GroundingCitation(start_index=230, end_index=352, url='https://www.techtarget.com/searchcloudcomputing/feature/7-Google-Cloud-database-options-to-free-up-your-IT-team', title=None, license=None, publication_date=None), GroundingCitation(start_index=353, end_index=407, url='https://www.techtarget.com/searchcloudcomputing/feature/7-Google-Cloud-database-options-to-free-up-your-IT-team', title=None, license=None, publication_date=None), GroundingCitation(start_index=411, end_index=500, url='https://cloud.google.com/blog/topics/developers-practitioners/your-google-cloud-database-options-explained', title=None, license=None, publication_date=None)], search_queries=['What are the different types of databases available in Google Cloud?']))"
            ]
          },
          "execution_count": 22,
          "metadata": {},
          "output_type": "execute_result"
        }
      ],
      "source": [
        "grounding_souce = GroundingSource.WebSearch()\n",
        "\n",
        "response = await text_model.predict_async(\n",
        "    PROMPT,\n",
        "    grounding_source=grounding_souce,\n",
        ")\n",
        "\n",
        "response, response.grounding_metadata"
      ]
    },
    {
      "cell_type": "markdown",
      "metadata": {},
      "source": [
        "### 在 Vertex AI 搜尋結果中進行非同步文字產生\n"
      ]
    },
    {
      "cell_type": "code",
      "execution_count": 23,
      "metadata": {},
      "outputs": [
        {
          "data": {
            "text/plain": [
              "( The different types of databases available in Google Cloud are:\n",
              "\n",
              "1. **Cloud SQL**: A fully-managed database service that supports MySQL, PostgreSQL, and SQL Server.\n",
              "2. **BigQuery**: A serverless, highly scalable data warehouse that can handle petabytes of data.\n",
              "3. **Spanner**: A globally distributed, highly scalable relational database that supports ACID transactions.\n",
              "4. **Firestore**: A NoSQL document database that is ideal for real-time applications.\n",
              "5. **Memorystore**: An in-memory data store that is ideal for applications that require fast access to data.,\n",
              " GroundingMetadata(citations=[GroundingCitation(start_index=1, end_index=65, url='https://cloud.google.com/learn/what-is-a-cloud-database', title=None, license=None, publication_date=None)], search_queries=['What are the different types of databases available in Google Cloud?']))"
            ]
          },
          "execution_count": 23,
          "metadata": {},
          "output_type": "execute_result"
        }
      ],
      "source": [
        "grounding_souce = GroundingSource.VertexAISearch(\n",
        "    data_store_id=DATA_STORE_ID, location=DATA_STORE_REGION\n",
        ")\n",
        "\n",
        "response = await text_model.predict_async(\n",
        "    PROMPT,\n",
        "    grounding_source=grounding_souce,\n",
        ")\n",
        "\n",
        "response, response.grounding_metadata"
      ]
    },
    {
      "cell_type": "markdown",
      "metadata": {},
      "source": [
        "### 非同步聊天會話建立在 Google 搜尋結果上\n"
      ]
    },
    {
      "cell_type": "code",
      "execution_count": 24,
      "metadata": {},
      "outputs": [
        {
          "data": {
            "text/plain": [
              "( - Cloud Spanner\n",
              "- Cloud Bigtable\n",
              "- Cloud SQL\n",
              "- AlloyDB,\n",
              " GroundingMetadata(citations=[], search_queries=['What are the different types of databases available in Google Cloud?']))"
            ]
          },
          "execution_count": 24,
          "metadata": {},
          "output_type": "execute_result"
        }
      ],
      "source": [
        "chat = chat_model.start_chat()\n",
        "\n",
        "grounding_source = GroundingSource.WebSearch()\n",
        "response = await chat.send_message_async(\n",
        "    PROMPT,\n",
        "    grounding_source=grounding_source,\n",
        ")\n",
        "\n",
        "response, response.grounding_metadata"
      ]
    },
    {
      "cell_type": "markdown",
      "metadata": {},
      "source": [
        "### 非同步聊天會話基於 Vertex AI 搜尋結果\n"
      ]
    },
    {
      "cell_type": "code",
      "execution_count": 25,
      "metadata": {},
      "outputs": [
        {
          "data": {
            "text/plain": [
              "( The different types of databases available in Google Cloud are:\n",
              "\n",
              "1. [2] **Cloud SQL**: A fully-managed database service that supports MySQL, PostgreSQL, and SQL Server.\n",
              "2. [2] **BigQuery**: A serverless, highly scalable data warehouse that can handle large amounts of data.\n",
              "3. [2] **Spanner**: A globally-distributed, highly available relational database.\n",
              "4. [2] **Firestore**: A NoSQL document database that is ideal for real-time applications.\n",
              "5. [2] **Memorystore**: An in-memory data store that is optimized for high-performance applications.,\n",
              " GroundingMetadata(citations=[GroundingCitation(start_index=1, end_index=65, url='https://cloud.google.com/learn/what-is-a-cloud-database', title=None, license=None, publication_date=None)], search_queries=['What are the different types of databases available in Google Cloud?']))"
            ]
          },
          "execution_count": 25,
          "metadata": {},
          "output_type": "execute_result"
        }
      ],
      "source": [
        "chat = chat_model.start_chat()\n",
        "\n",
        "grounding_source = GroundingSource.VertexAISearch(\n",
        "    data_store_id=DATA_STORE_ID, location=DATA_STORE_REGION\n",
        ")\n",
        "response = await chat.send_message_async(\n",
        "    PROMPT,\n",
        "    grounding_source=grounding_source,\n",
        ")\n",
        "\n",
        "response, response.grounding_metadata"
      ]
    },
    {
      "cell_type": "markdown",
      "metadata": {
        "id": "TpV-iwP9qw9c"
      },
      "source": [
        "## 清除\n",
        "\n",
        "要避免因這個筆記本使用的資源而向你的 Google Cloud 帳戶收費，請執行以下步驟：\n",
        "\n",
        "1. 要避免不必要的 Google Cloud 費用，請使用 [Google Cloud 控制台](https://console.cloud.google.com/) 刪除你不需要的專案。如需進一步瞭解，請參閱 Google Cloud 的記錄，了解 [如何管理並刪除專案](https://cloud.google.com/resource-manager/docs/creating-managing-projects)。\n",
        "1. 如果你使用現有的 Google Cloud 專案，請刪除你建立的資源，以避免向你的帳戶收費。如需進一步瞭解，請參閱 [從 Vertex AI 搜尋資料儲存刪除資料](https://cloud.google.com/generative-ai-app-builder/docs/delete-datastores) 的記錄，然後刪除你的資料儲存。\n",
        "1. 在 Google Cloud 控制台中停用 [Vertex AI 搜尋和對話 API](https://pantheon.corp.google.com/apis/api/discoveryengine.googleapis.com) 和 [Vertex AI API](https://pantheon.corp.google.com/apis/api/aiplatform.googleapis.com)。\n"
      ]
    }
  ],
  "metadata": {
    "colab": {
      "collapsed_sections": [],
      "name": "notebook_template.ipynb",
      "toc_visible": true
    },
    "kernelspec": {
      "display_name": "Python 3 (ipykernel)",
      "language": "python",
      "name": "python3"
    },
    "language_info": {
      "codemirror_mode": {
        "name": "ipython",
        "version": 3
      },
      "file_extension": ".py",
      "mimetype": "text/x-python",
      "name": "python",
      "nbconvert_exporter": "python",
      "pygments_lexer": "ipython3",
      "version": "3.11.6"
    }
  },
  "nbformat": 4,
  "nbformat_minor": 4
}