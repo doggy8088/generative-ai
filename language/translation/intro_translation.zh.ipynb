{
  "cells": [
    {
      "cell_type": "code",
      "execution_count": null,
      "metadata": {
        "id": "ur8xi4C7S06n",
        "tags": []
      },
      "outputs": [],
      "source": [
        "# Copyright 2024 Google LLC\n",
        "#\n",
        "# Licensed under the Apache License, Version 2.0 (the \"License\");\n",
        "# you may not use this file except in compliance with the License.\n",
        "# You may obtain a copy of the License at\n",
        "#\n",
        "#     https://www.apache.org/licenses/LICENSE-2.0\n",
        "#\n",
        "# Unless required by applicable law or agreed to in writing, software\n",
        "# distributed under the License is distributed on an \"AS IS\" BASIS,\n",
        "# WITHOUT WARRANTIES OR CONDITIONS OF ANY KIND, either express or implied.\n",
        "# See the License for the specific language governing permissions and\n",
        "# limitations under the License."
      ]
    },
    {
      "cell_type": "markdown",
      "metadata": {
        "id": "JAPoU8Sm5E6e"
      },
      "source": [
        "# 開始使用翻譯\n",
        "\n",
        "<table align=\"left\">\n",
        "  <td style=\"text-align: center\">\n",
        "    <a href=\"https://console.cloud.google.com/vertex-ai/colab/import/https:%2F%2Fraw.githubusercontent.com%2Fdoggy8088%2Fgenerative-ai%2Fmain%2Flanguage%2Ftranslation%2Fintro_translation.zh.ipynb\">\n",
        "      <img width=\"32px\" src=\"https://lh3.googleusercontent.com/JmcxdQi-qOpctIvWKgPtrzZdJJK-J3sWE1RsfjZNwshCFgE_9fULcNpuXYTilIR2hjwN\" alt=\"Vertex AI 圖像\"><br> 在 Colab Enterprise 中執行\n",
        "    </a>\n",
        "  </td>\n",
        "  <td style=\"text-align: center\">\n",
        "    <a href=\"https://console.cloud.google.com/vertex-ai/workbench/deploy-notebook?download_url=https://raw.githubusercontent.com/doggy8088/generative-ai/blob/main/language/translation/intro_translation.zh.ipynb\">\n",
        "      <img src=\"https://www.gstatic.com/images/branding/gcpiconscolors/vertexai/v1/32px.svg\" alt=\"Vertex AI 圖像\"><br> 在 Vertex AI Workbench 中開啟\n",
        "    </a>\n",
        "  </td>\n",
        "  <td style=\"text-align: center\">\n",
        "    <a href=\"https://github.com/doggy8088/generative-ai/blob/main/language/translation/intro_translation.zh.ipynb\">\n",
        "      <img width=\"32px\" src=\"https://upload.wikimedia.org/wikipedia/commons/9/91/Octicons-mark-github.svg\" alt=\"Github 圖像\"><br> 在 GitHub 上檢視\n",
        "    </a>\n",
        "  </td>\n",
        "</table>\n"
      ]
    },
    {
      "cell_type": "markdown",
      "metadata": {
        "id": "tvgnzT1CKxrO"
      },
      "source": [
        "---\n",
        "\n",
        "* 作者：Holt Skinner\n",
        "* 建立時間：2024 年 1 月\n",
        "\n",
        "---\n",
        "\n",
        "## 概觀\n",
        "\n",
        "本筆記本示範如何使用 [Google Cloud Translation API](https://cloud.google.com/translate) 翻譯 [130 多種語言](https://cloud.google.com/translate/docs/languages) 的文字。\n"
      ]
    },
    {
      "cell_type": "markdown",
      "metadata": {
        "id": "d975e698c9a4"
      },
      "source": [
        "### 目標\n",
        "\n",
        "本教學課程使用以下 Google Cloud AI 服務與資源：\n",
        "\n",
        "- [Cloud Translation API](https://cloud.google.com/translate/docs/overview)\n",
        "- Cloud Storage\n"
      ]
    },
    {
      "cell_type": "markdown",
      "metadata": {
        "id": "aed92deeb4a0"
      },
      "source": [
        "### 成本\n",
        "\n",
        "本教學課程使用 Google Cloud 的計費元件：\n",
        "\n",
        "* 翻譯服務\n",
        "* Cloud Storage\n",
        "\n",
        "了解 [翻譯服務價格](https://cloud.google.com/translate/pricing)，\n",
        "以及 [Cloud Storage 價格](https://cloud.google.com/storage/pricing)，\n",
        "並使用 [定價計算器](https://cloud.google.com/products/calculator/)，\n",
        "根據預期的使用量進行成本估算。\n"
      ]
    },
    {
      "cell_type": "markdown",
      "metadata": {
        "id": "i7EUnXsZhAGF"
      },
      "source": [
        "## 開始使用\n"
      ]
    },
    {
      "cell_type": "markdown",
      "metadata": {
        "id": "NNSWiCNPjh_p"
      },
      "source": [
        "### 安裝 Vertex AI SDK、其他套件及其相依性\n",
        "\n",
        "安裝執行此雲端筆記本所需的下列套件。\n"
      ]
    },
    {
      "cell_type": "code",
      "execution_count": null,
      "metadata": {
        "colab": {
          "base_uri": "https://localhost:8080/"
        },
        "executionInfo": {
          "elapsed": 20203,
          "status": "ok",
          "timestamp": 1706636547883,
          "user": {
            "displayName": "",
            "userId": ""
          },
          "user_tz": 360
        },
        "id": "2b4ef9b72d43",
        "outputId": "d2e8a399-b4f9-4af3-fe49-bde99f1c14cb"
      },
      "outputs": [],
      "source": [
        "# Install the packages\n",
        "%pip install --user --upgrade -q google-cloud-translate"
      ]
    },
    {
      "cell_type": "markdown",
      "metadata": {
        "id": "gbWwuHK8j1xm"
      },
      "source": [
        "### 執行下列單元以重新啟動核心。\n"
      ]
    },
    {
      "cell_type": "code",
      "execution_count": null,
      "metadata": {
        "id": "f200f10a1da3"
      },
      "outputs": [],
      "source": [
        "# Automatically restart kernel after installs so that your environment can access the new packages\n",
        "import IPython\n",
        "\n",
        "app = IPython.Application.instance()\n",
        "app.kernel.do_shutdown(True)"
      ]
    },
    {
      "cell_type": "markdown",
      "metadata": {
        "id": "GTdx_NRxkD5M"
      },
      "source": [
        "<div class=\"alert alert-block alert-warning\">\n",
        "<b>⚠️ 這個 kernel 將會重新啟動。請等到重新啟動程序完成後再進行下一步。⚠️</b>\n",
        "</div>\n"
      ]
    },
    {
      "cell_type": "markdown",
      "metadata": {
        "id": "YbMFqPZ3tnwz"
      },
      "source": [
        "設定專案與地區。\n",
        "\n",
        "* 請注意翻譯的**可用地區** ，請參閱文件[說明](https://cloud.google.com/translate/docs/advanced/endpoints)\n"
      ]
    },
    {
      "cell_type": "code",
      "execution_count": 5,
      "metadata": {
        "executionInfo": {
          "elapsed": 123,
          "status": "ok",
          "timestamp": 1706636986323,
          "user": {
            "displayName": "",
            "userId": ""
          },
          "user_tz": 360
        },
        "id": "GjSsu6cmUdEx"
      },
      "outputs": [],
      "source": [
        "PROJECT_ID = \"YOUR_PROJECT_ID\"  # @param {type:\"string\"}\n",
        "LOCATION = \"us-central1\"  # @param {type:\"string\"}"
      ]
    },
    {
      "cell_type": "markdown",
      "metadata": {
        "id": "opUxT_k5TdgP"
      },
      "source": [
        "### 驗證筆記本環境\n",
        "\n",
        "* 如果你使用 **Colab** 執行這個筆記本，請執行下列Cell並繼續。\n",
        "* 如果你使用 **Vertex AI Workbench** ，請查看 [這裡](https://github.com/doggy8088/generative-ai/tree/main/setup-env) 的設定說明。\n"
      ]
    },
    {
      "cell_type": "code",
      "execution_count": null,
      "metadata": {
        "executionInfo": {
          "elapsed": 1272,
          "status": "ok",
          "timestamp": 1706638093640,
          "user": {
            "displayName": "",
            "userId": ""
          },
          "user_tz": 360
        },
        "id": "vbNgv4q1T2Mi"
      },
      "outputs": [],
      "source": [
        "import sys\n",
        "\n",
        "# Additional authentication is required for Google Colab\n",
        "if \"google.colab\" in sys.modules:\n",
        "    # Authenticate user to Google Cloud\n",
        "    from google.colab import auth\n",
        "\n",
        "    auth.authenticate_user()\n",
        "\n",
        "    ! gcloud config set project {PROJECT_ID}\n",
        "    ! gcloud auth application-default login -q"
      ]
    },
    {
      "cell_type": "markdown",
      "metadata": {},
      "source": [
        "初始化 [Vertex AI Python SDK](https://cloud.google.com/vertex-ai/docs/python-sdk/use-vertex-ai-python-sdk)\n"
      ]
    },
    {
      "cell_type": "code",
      "execution_count": 11,
      "metadata": {},
      "outputs": [],
      "source": [
        "import vertexai\n",
        "\n",
        "# Initialize Vertex AI\n",
        "vertexai.init(project=PROJECT_ID, location=VERTEXAI_LOCATION)"
      ]
    },
    {
      "cell_type": "markdown",
      "metadata": {
        "id": "960505627ddf"
      },
      "source": [
        "### 匯入函式庫\n"
      ]
    },
    {
      "cell_type": "code",
      "execution_count": 2,
      "metadata": {
        "executionInfo": {
          "elapsed": 101,
          "status": "ok",
          "timestamp": 1706639580284,
          "user": {
            "displayName": "",
            "userId": ""
          },
          "user_tz": 360
        },
        "id": "PyQmSRbKA8r-"
      },
      "outputs": [],
      "source": [
        "from typing import Optional\n",
        "\n",
        "from google.api_core.client_options import ClientOptions\n",
        "from google.cloud import translate"
      ]
    },
    {
      "cell_type": "markdown",
      "metadata": {
        "id": "v4gUI8WqciKS"
      },
      "source": [
        "### 建立客戶端\n"
      ]
    },
    {
      "cell_type": "code",
      "execution_count": 3,
      "metadata": {
        "executionInfo": {
          "elapsed": 1381,
          "status": "ok",
          "timestamp": 1706639583553,
          "user": {
            "displayName": "",
            "userId": ""
          },
          "user_tz": 360
        },
        "id": "6Pl3un_YciKS"
      },
      "outputs": [],
      "source": [
        "client = translate.TranslationServiceClient(\n",
        "    # Optional: https://cloud.google.com/translate/docs/advanced/endpoints\n",
        "    # client_options=ClientOptions(\n",
        "    #     api_endpoint=f\"translate-{TRANSLATE_LOCATION}.googleapis.com\"\n",
        "    # )\n",
        ")"
      ]
    },
    {
      "cell_type": "markdown",
      "metadata": {
        "id": "v5CEc4-Wrjk2"
      },
      "source": [
        "### 建立輔助函式\n"
      ]
    },
    {
      "cell_type": "code",
      "execution_count": 6,
      "metadata": {
        "executionInfo": {
          "elapsed": 135,
          "status": "ok",
          "timestamp": 1706640559737,
          "user": {
            "displayName": "",
            "userId": ""
          },
          "user_tz": 360
        },
        "id": "kYx2wwhjrmD6"
      },
      "outputs": [],
      "source": [
        "def translate_text(\n",
        "    text: str,\n",
        "    project_id: str = PROJECT_ID,\n",
        "    location: str = LOCATION,\n",
        "    glossary: Optional[str] = None,\n",
        ") -> translate.TranslateTextResponse:\n",
        "    \"\"\"Translating Text.\"\"\"\n",
        "    # Translate text from English to Spanish\n",
        "    # Detail on supported types can be found here:\n",
        "    # https://cloud.google.com/translate/docs/supported-formats\n",
        "    response = client.translate_text(\n",
        "        request=translate.TranslateTextRequest(\n",
        "            parent=client.common_location_path(project_id, location),\n",
        "            contents=[text],\n",
        "            # Supported language codes: https://cloud.google.com/translate/docs/languages\n",
        "            source_language_code=\"en\",\n",
        "            target_language_code=\"es\",\n",
        "            glossary_config=translate.TranslateTextGlossaryConfig(glossary=glossary)\n",
        "            if glossary\n",
        "            else None,\n",
        "        )\n",
        "    )\n",
        "\n",
        "    return response\n",
        "\n",
        "\n",
        "def create_glossary(\n",
        "    input_uri: str,\n",
        "    glossary_id: str,\n",
        "    project_id: str = PROJECT_ID,\n",
        "    location: str = LOCATION,\n",
        "    timeout: int = 180,\n",
        ") -> translate.Glossary:\n",
        "    \"\"\"\n",
        "    Create a unidirectional glossary. Glossary can be words or\n",
        "    short phrases (usually fewer than five words).\n",
        "    https://cloud.google.com/translate/docs/advanced/glossary#format-glossary\n",
        "    \"\"\"\n",
        "    glossary = translate.Glossary(\n",
        "        name=client.glossary_path(project_id, location, glossary_id),\n",
        "        # Supported language codes: https://cloud.google.com/translate/docs/languages\n",
        "        language_pair=translate.Glossary.LanguageCodePair(\n",
        "            source_language_code=\"en\", target_language_code=\"es\"\n",
        "        ),\n",
        "        input_config=translate.GlossaryInputConfig(\n",
        "            gcs_source=translate.GcsSource(input_uri=input_uri)\n",
        "        ),\n",
        "    )\n",
        "\n",
        "    # glossary is a custom dictionary Translation API uses\n",
        "    # to translate the domain-specific terminology.\n",
        "    operation = client.create_glossary(\n",
        "        parent=client.common_location_path(project_id, location), glossary=glossary\n",
        "    )\n",
        "\n",
        "    result = operation.result(timeout)\n",
        "    return result"
      ]
    },
    {
      "cell_type": "markdown",
      "metadata": {},
      "source": [
        "現在讓我們嘗試將一個簡單的短語從英文翻譯成西班牙文。\n"
      ]
    },
    {
      "cell_type": "code",
      "execution_count": 11,
      "metadata": {},
      "outputs": [
        {
          "name": "stdout",
          "output_type": "stream",
          "text": [
            "Translated text: ¡Hola!\n"
          ]
        }
      ],
      "source": [
        "response = translate_text(\"Hi there!\")\n",
        "\n",
        "# Display the translation for each input text provided\n",
        "for translation in response.translations:\n",
        "    print(f\"Translated text: {translation.translated_text}\")"
      ]
    },
    {
      "cell_type": "markdown",
      "metadata": {},
      "source": [
        "## 詞彙表\n"
      ]
    },
    {
      "cell_type": "markdown",
      "metadata": {},
      "source": [
        "看起來不錯！但是，如果我們嘗試翻譯技術詞彙，例如 Google Cloud 產品 [運算引擎](https://cloud.google.com/compute?hl=en)，會發生什麼事？\n"
      ]
    },
    {
      "cell_type": "code",
      "execution_count": 21,
      "metadata": {},
      "outputs": [
        {
          "name": "stdout",
          "output_type": "stream",
          "text": [
            "Translated text: Motor de Computación\n"
          ]
        }
      ],
      "source": [
        "response = translate_text(\"Compute Engine\")\n",
        "\n",
        "# Display the translation for each input text provided\n",
        "for translation in response.translations:\n",
        "    print(f\"Translated text: {translation.translated_text}\")"
      ]
    },
    {
      "cell_type": "markdown",
      "metadata": {},
      "source": [
        "### 建立詞彙表\n"
      ]
    },
    {
      "cell_type": "markdown",
      "metadata": {},
      "source": [
        "注意，翻譯 API 逐字翻譯名稱。\n",
        "\n",
        "假設我們希望這個名稱在所有語言中保持一致，我們可以建立 [詞彙表](https://cloud.google.com/translate/docs/advanced/glossary) 以一致翻譯特定網域的字詞和片語。\n",
        "\n",
        "接下來，我們將為許多 Google Cloud 產品名稱建立詞彙表，以表示如何將它們翻譯成西班牙語。\n",
        "\n",
        "我們已經建立一個輸入 TSV 檔案並上傳到公開存取的 Cloud Storage 儲存空間。\n"
      ]
    },
    {
      "cell_type": "code",
      "execution_count": 32,
      "metadata": {},
      "outputs": [],
      "source": [
        "glossary = create_glossary(\n",
        "    input_uri=\"gs://github-repo/translation/GoogleCloudGlossary.tsv\",\n",
        "    glossary_id=\"google_cloud_english_to_spanish\",\n",
        ")\n",
        "print(glossary)"
      ]
    },
    {
      "cell_type": "markdown",
      "metadata": {},
      "source": [
        "現在，讓我們試著用詞彙表再次翻譯文字。\n"
      ]
    },
    {
      "cell_type": "code",
      "execution_count": 10,
      "metadata": {},
      "outputs": [
        {
          "name": "stdout",
          "output_type": "stream",
          "text": [
            "Default Translated text: Motor de Computación\n",
            "Glossary Translated text: Compute Engine\n"
          ]
        }
      ],
      "source": [
        "response = translate_text(\"Compute Engine\", glossary=glossary.name)\n",
        "\n",
        "# Display the translation for each input text provided\n",
        "for translation in response.translations:\n",
        "    print(f\"Default Translated text: {translation.translated_text}\")\n",
        "\n",
        "for translation in response.glossary_translations:\n",
        "    print(f\"Glossary Translated text: {translation.translated_text}\")"
      ]
    }
  ],
  "metadata": {
    "colab": {
      "provenance": []
    },
    "environment": {
      "kernel": "python3",
      "name": "common-cpu.m108",
      "type": "gcloud",
      "uri": "gcr.io/deeplearning-platform-release/base-cpu:m108"
    },
    "kernelspec": {
      "display_name": "Python 3",
      "language": "python",
      "name": "python3"
    },
    "language_info": {
      "codemirror_mode": {
        "name": "ipython",
        "version": 3
      },
      "file_extension": ".py",
      "mimetype": "text/x-python",
      "name": "python",
      "nbconvert_exporter": "python",
      "pygments_lexer": "ipython3",
      "version": "3.11.7"
    }
  },
  "nbformat": 4,
  "nbformat_minor": 0
}