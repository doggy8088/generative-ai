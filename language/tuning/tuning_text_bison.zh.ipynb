{
  "cells": [
    {
      "cell_type": "code",
      "execution_count": null,
      "metadata": {
        "id": "ur8xi4C7S06n"
      },
      "outputs": [],
      "source": [
        "# Copyright 2023 Google LLC\n",
        "#\n",
        "# Licensed under the Apache License, Version 2.0 (the \"License\");\n",
        "# you may not use this file except in compliance with the License.\n",
        "# You may obtain a copy of the License at\n",
        "#\n",
        "#     https://www.apache.org/licenses/LICENSE-2.0\n",
        "#\n",
        "# Unless required by applicable law or agreed to in writing, software\n",
        "# distributed under the License is distributed on an \"AS IS\" BASIS,\n",
        "# WITHOUT WARRANTIES OR CONDITIONS OF ANY KIND, either express or implied.\n",
        "# See the License for the specific language governing permissions and\n",
        "# limitations under the License."
      ]
    },
    {
      "cell_type": "markdown",
      "metadata": {
        "id": "tvgnzT1CKxrO"
      },
      "source": [
        "# 微調並部署基礎模型\n",
        "\n",
        "<table align=\"left\">\n",
        "  <td style=\"text-align: center\">\n",
        "    <a href=\"https://colab.research.google.com/github/doggy8088/generative-ai/blob/main/language/tuning/tuning_text_bison.zh.ipynb\">\n",
        "      <img src=\"https://cloud.google.com/ml-engine/images/colab-logo-32px.png\" alt=\"Google Colaboratory logo\"><br> 在 Colab 中執行\n",
        "    </a>\n",
        "  </td>\n",
        "  <td style=\"text-align: center\">\n",
        "    <a href=\"https://github.com/doggy8088/generative-ai/blob/main/language/tuning/tuning_text_bison.zh.ipynb\">\n",
        "      <img src=\"https://cloud.google.com/ml-engine/images/github-logo-32px.png\" alt=\"GitHub logo\"><br> 在 GitHub 上檢視\n",
        "    </a>\n",
        "  </td>\n",
        "  <td style=\"text-align: center\">\n",
        "    <a href=\"https://console.cloud.google.com/vertex-ai/workbench/deploy-notebook?download_url=https://raw.githubusercontent.com/doggy8088/generative-ai/blob/main/language/tuning/tuning_text_bison.zh.ipynb\">\n",
        "      <img src=\"https://lh3.googleusercontent.com/UiNooY4LUgW_oTvpsNhPpQzsstV5W8F7rYgxgGBD85cWJoLmrOzhVs_ksK_vgx40SHs7jCqkTkCk=e14-rj-sc0xffffff-h130-w32\" alt=\"Vertex AI logo\"><br> 在 Vertex AI Workbench 中開啟\n",
        "    </a>\n",
        "  </td>\n",
        "</table>\n"
      ]
    },
    {
      "cell_type": "markdown",
      "metadata": {},
      "source": [
        "| | |\n",
        "|-|-|\n",
        "|作者 | [Erwin Huizenga](https://github.com/erwinh85) |\n"
      ]
    },
    {
      "cell_type": "markdown",
      "metadata": {
        "id": "JAPoU8Sm5E6e"
      },
      "source": [
        "建立大型語言模型需要大量的資料、大量的運算資源以及專門的技術。在 Vertex AI 上，微調可讓你自訂基礎模型以應付更特定的任務或知識領域。\n",
        "\n",
        "提示設計雖然非常適合快速實驗，但若有訓練資料，你可以透過微調模型來提升品質。微調模型可讓你根據你希望模型執行的任務範例，來自訂模型回應。\n",
        "\n",
        "如需了解微調的更多詳細資訊，請參閱 [官方文件](https://cloud.google.com/vertex-ai/docs/generative-ai/models/tune-models)。\n"
      ]
    },
    {
      "cell_type": "markdown",
      "metadata": {
        "id": "d975e698c9a4"
      },
      "source": [
        "### 目標\n",
        "\n",
        "本教學課程將教你如何針對新的未見過資料微調基礎模型，而且你將會使用下列 Google Cloud 產品：\n",
        "\n",
        "- Vertex AI Generative AI Studio\n",
        "- Vertex AI Pipelines\n",
        "- Vertex AI Model Registry\n",
        "- Vertex AI Endpoints\n",
        "\n",
        "執行的步驟包括：\n",
        "\n",
        "- 從 BQ 取得訓練資料並產生一個 JSONL 檔案\n",
        "- 上傳訓練資料\n",
        "- 建立一個管道作業\n",
        "- 在 Vertex AI Model Registry 中檢查你的模型\n",
        "- 從你的微調模型取得預測\n"
      ]
    },
    {
      "cell_type": "markdown",
      "metadata": {
        "id": "6CZvFRbIaalF"
      },
      "source": [
        "### 配額\n",
        "**重要事項** : 調整 text-bison@001 模型會使用 tpu-v3-8 訓練資源以及你 Google Cloud 專案隨附的配額。每個專案有八個 v3-8 核心配額，可容許執行同時執行一至兩個調整工作。如果你想執行更多同時執行工作，需要透過 [配額頁面](https://console.cloud.google.com/iam-admin/quotas) 要求額外配額。\n"
      ]
    },
    {
      "cell_type": "markdown",
      "metadata": {
        "id": "6q2bKpVjaalF"
      },
      "source": [
        "### 費用\n",
        "本教學指南使用 Google\n",
        "Cloud 的計費元件：\n",
        "\n",
        "* Vertex AI Generative AI Studio\n",
        "\n",
        "了解 [Vertex AI 定價](https://cloud.google.com/vertex-ai/pricing)\n",
        "，並使用 [定價計算器](https://cloud.google.com/products/calculator/)\n",
        "，根據預計用量產生成本估算。\n"
      ]
    },
    {
      "cell_type": "markdown",
      "metadata": {
        "id": "acBlvcGFaalF"
      },
      "source": [
        "### 安裝 Vertex AI SDK\n"
      ]
    },
    {
      "cell_type": "code",
      "execution_count": null,
      "metadata": {
        "id": "BEtR1xyRaalG"
      },
      "outputs": [],
      "source": [
        "!pip install google-cloud-aiplatform google-cloud-bigquery sequence-evaluate sentence-transformers rouge --upgrade --user"
      ]
    },
    {
      "cell_type": "markdown",
      "metadata": {
        "id": "qAMVnZC9aalG"
      },
      "source": [
        "**僅 Colab：** 取消以下單元的註解以重新啟動Kernel或使用重新啟動按鈕。對於 Vertex AI Workbench，你可以使用頂端的按鈕重新啟動終端機。\n"
      ]
    },
    {
      "cell_type": "code",
      "execution_count": null,
      "metadata": {
        "id": "MdQC6wcuaalG"
      },
      "outputs": [],
      "source": [
        "# Automatically restart kernel after installs so that your environment can access the new packages\n",
        "import IPython\n",
        "\n",
        "app = IPython.Application.instance()\n",
        "app.kernel.do_shutdown(True)"
      ]
    },
    {
      "cell_type": "markdown",
      "metadata": {
        "id": "2LlxsZrWaalG"
      },
      "source": [
        "### 驗證筆記本環境\n",
        "* 如果你使用 **Colab** 執行此筆記本，取消註解下方的Cell並繼續。\n",
        "* 如果你使用 **Vertex AI 工作台** ，請查看[此處](https://github.com/doggy8088/generative-ai/tree/main/setup-env)的設定說明。\n"
      ]
    },
    {
      "cell_type": "code",
      "execution_count": 1,
      "metadata": {
        "id": "oh-QANoIaalG"
      },
      "outputs": [],
      "source": [
        "from google.colab import auth\n",
        "\n",
        "auth.authenticate_user()"
      ]
    },
    {
      "cell_type": "markdown",
      "metadata": {
        "id": "qW8qtGsmaalG"
      },
      "source": [
        "### BigQuery IAM\n",
        "現在你需要加入服務帳戶的權限：\n",
        "- 前往主控台的 [IAM 頁面](https://console.cloud.google.com/iam-admin/)\n",
        "- 尋找預設的運算服務帳戶。它應該看起來像這樣：`<project-number>-compute@developer.gserviceaccount.com`\n",
        "- 分配 `bigquery.user` 給預設的運算服務帳戶\n"
      ]
    },
    {
      "cell_type": "markdown",
      "metadata": {
        "id": "ZmhnHOjlaalH"
      },
      "source": [
        "### 設定你的專案代號\n",
        "\n",
        "**如果你不知道你的專案代號** , 你可能會使用 `gcloud` 來取得你的專案代號。否則，請查看支援網頁：[找出專案代號](https://support.google.com/googleapi/answer/7014113)。請在底下更新 `PROJECT_ID`。\n"
      ]
    },
    {
      "cell_type": "code",
      "execution_count": null,
      "metadata": {
        "id": "j8nXkkYxaalH"
      },
      "outputs": [],
      "source": [
        "PROJECT_ID = \"<your_project_id>\"  # @param {type:\"string\"}\n",
        "\n",
        "# Set the project id\n",
        "! gcloud config set project {PROJECT_ID}"
      ]
    },
    {
      "cell_type": "markdown",
      "metadata": {
        "id": "PrsmSjICaalH"
      },
      "source": [
        "### 建立儲存區\n",
        "現在你必須建立一個儲存區，我們將使用它來儲存調整資料。如需避免使用者在資源建立時發生重複，請為每個執行階段產生一個 UUID，並將其附加到此教學課程中建立的資源名稱上。\n"
      ]
    },
    {
      "cell_type": "code",
      "execution_count": 3,
      "metadata": {
        "id": "LiKRZOgqaalH"
      },
      "outputs": [],
      "source": [
        "import random\n",
        "import string\n",
        "\n",
        "\n",
        "# Generate a uuid of a specifed length(default=8)\n",
        "def generate_uuid(length: int = 8) -> str:\n",
        "    return \"\".join(random.choices(string.ascii_lowercase + string.digits, k=length))\n",
        "\n",
        "\n",
        "UUID = generate_uuid()"
      ]
    },
    {
      "cell_type": "markdown",
      "metadata": {
        "id": "-D28-KrtaalH"
      },
      "source": [
        "選擇儲存空間名稱並更新 `BUCKET_NAME` 參數。\n"
      ]
    },
    {
      "cell_type": "code",
      "execution_count": 4,
      "metadata": {
        "id": "pxRSNVCYaalH"
      },
      "outputs": [],
      "source": [
        "BUCKET_NAME = \"<your_bucket_uri>\"  # @param {type:\"string\"}\n",
        "BUCKET_URI = f\"gs://{BUCKET_NAME}\"\n",
        "REGION = \"us-central1\"  # @param {type: \"string\"}"
      ]
    },
    {
      "cell_type": "code",
      "execution_count": 5,
      "metadata": {
        "id": "ZpjqMRc-aalH"
      },
      "outputs": [],
      "source": [
        "if BUCKET_NAME == \"\" or BUCKET_NAME is None or BUCKET_NAME == \"<your-bucket-name>\":\n",
        "    BUCKET_NAME = \"vertex-\" + UUID\n",
        "    BUCKET_URI = f\"gs://{BUCKET_NAME}\""
      ]
    },
    {
      "cell_type": "markdown",
      "metadata": {
        "id": "WtJg8ILPaalH"
      },
      "source": [
        "僅在你的儲存空間尚不存在時：執行下列Cell來建立你的雲端儲存空間儲存空間。\n"
      ]
    },
    {
      "cell_type": "code",
      "execution_count": null,
      "metadata": {
        "id": "NSRiXkavaalH"
      },
      "outputs": [],
      "source": [
        "! gsutil mb -l $REGION -p $PROJECT_ID $BUCKET_URI"
      ]
    },
    {
      "cell_type": "markdown",
      "metadata": {
        "id": "jNL0oqUJaalH"
      },
      "source": [
        "最後，透過檢查雲端儲存空間中的內容，驗證存取權限：\n"
      ]
    },
    {
      "cell_type": "code",
      "execution_count": null,
      "metadata": {
        "id": "leJFL5oIaalH"
      },
      "outputs": [],
      "source": [
        "! gsutil ls -al $BUCKET_URI"
      ]
    },
    {
      "cell_type": "markdown",
      "metadata": {
        "id": "XoEqT2Y4DJmf"
      },
      "source": [
        "### 匯入函式庫\n"
      ]
    },
    {
      "cell_type": "markdown",
      "metadata": {
        "id": "0E7pfl6sjzh_"
      },
      "source": [
        "**Colab 只限** : 執行下列Cell以初始化 Vertex AI SDK。對於 Vertex AI Workbench，你不必執行這個動作。\n"
      ]
    },
    {
      "cell_type": "code",
      "execution_count": 8,
      "metadata": {
        "id": "JXlNPFmGjzh_"
      },
      "outputs": [],
      "source": [
        "import vertexai\n",
        "\n",
        "vertexai.init(project=PROJECT_ID, location=REGION)"
      ]
    },
    {
      "cell_type": "code",
      "execution_count": 9,
      "metadata": {
        "id": "pRUOFELefqf1"
      },
      "outputs": [],
      "source": [
        "from typing import Union\n",
        "\n",
        "import pandas as pd\n",
        "from sklearn.model_selection import train_test_split\n",
        "\n",
        "from google.cloud import aiplatform\n",
        "from google.cloud import bigquery\n",
        "from vertexai.language_models import TextGenerationModel"
      ]
    },
    {
      "cell_type": "markdown",
      "metadata": {
        "id": "WdtNETYxaalH"
      },
      "source": [
        "## 調整你的模型\n",
        "\n",
        "現在你可以建立調整工作。透過使用 Generative AI Studio、cURL 或 Python SDK 建立管線工作來調整基礎模型。在本筆記本中，我們將使用 Python SDK。你將使用 Q&A 與 JSON 格式的脈絡資料集。\n",
        "\n",
        "### 訓練資料\n",
        "💾 你的模型調整資料集必須採用 JSONL 格式，其中每一行包含一個單一的訓練範例。你必須確保包含說明。\n",
        "\n",
        "你將使用 BigQuery 公共資料集中的 StackOverflow 資料，限制為標籤為 `python` 的問題，並自 2020-01-01 以來接受回覆的答案。\n"
      ]
    },
    {
      "cell_type": "markdown",
      "metadata": {
        "id": "Puc3jl8QaalI"
      },
      "source": [
        "首先建立一個輔助函式，讓你可以輕鬆的查詢 BigQuery 並且回傳結果作為 Pandas DataFrame。\n"
      ]
    },
    {
      "cell_type": "code",
      "execution_count": 10,
      "metadata": {
        "id": "Eg60aUgvaalI"
      },
      "outputs": [],
      "source": [
        "def run_bq_query(sql: str) -> Union[str, pd.DataFrame]:\n",
        "    \"\"\"\n",
        "    Run a BigQuery query and return the job ID or result as a DataFrame\n",
        "    Args:\n",
        "        sql: SQL query, as a string, to execute in BigQuery\n",
        "    Returns:\n",
        "        df: DataFrame of results from query,  or error, if any\n",
        "    \"\"\"\n",
        "\n",
        "    bq_client = bigquery.Client(project=PROJECT_ID)\n",
        "\n",
        "    # Try dry run before executing query to catch any errors\n",
        "    job_config = bigquery.QueryJobConfig(dry_run=True, use_query_cache=False)\n",
        "    bq_client.query(sql, job_config=job_config)\n",
        "\n",
        "    # If dry run succeeds without errors, proceed to run query\n",
        "    job_config = bigquery.QueryJobConfig()\n",
        "    client_result = bq_client.query(sql, job_config=job_config)\n",
        "\n",
        "    job_id = client_result.job_id\n",
        "\n",
        "    # Wait for query/job to finish running. then get & return data frame\n",
        "    df = client_result.result().to_arrow().to_pandas()\n",
        "    print(f\"Finished job_id: {job_id}\")\n",
        "\n",
        "    return df"
      ]
    },
    {
      "cell_type": "markdown",
      "metadata": {
        "id": "1BydoFfTaalI"
      },
      "source": [
        "接下來定義查詢內容。\n"
      ]
    },
    {
      "cell_type": "code",
      "execution_count": null,
      "metadata": {
        "id": "9VTaovLtaalI"
      },
      "outputs": [],
      "source": [
        "df = run_bq_query(\n",
        "    \"\"\"SELECT\n",
        "    CONCAT(q.title, q.body) as input_text,\n",
        "    a.body AS output_text\n",
        "FROM\n",
        "    `bigquery-public-data.stackoverflow.posts_questions` q\n",
        "JOIN\n",
        "    `bigquery-public-data.stackoverflow.posts_answers` a\n",
        "ON\n",
        "    q.accepted_answer_id = a.id\n",
        "WHERE\n",
        "    q.accepted_answer_id IS NOT NULL AND\n",
        "    REGEXP_CONTAINS(q.tags, \"python\") AND\n",
        "    a.creation_date >= \"2020-01-01\"\n",
        "LIMIT\n",
        "    10000\n",
        "\"\"\"\n",
        ")\n",
        "\n",
        "df.head()"
      ]
    },
    {
      "cell_type": "markdown",
      "metadata": {
        "id": "qYUg8cBbaalJ"
      },
      "source": [
        "應該有 10k 的問答資料。\n"
      ]
    },
    {
      "cell_type": "code",
      "execution_count": null,
      "metadata": {
        "id": "6FqbVHoeaalJ"
      },
      "outputs": [],
      "source": [
        "print(len(df))"
      ]
    },
    {
      "cell_type": "markdown",
      "metadata": {
        "id": "OftmoPZ6aalJ"
      },
      "source": [
        "讓我們將資料分成訓練和評估。對於抽取式問答任務我們建議使用 100+ 訓練範例。在這個情況中你將使用 800。\n"
      ]
    },
    {
      "cell_type": "code",
      "execution_count": null,
      "metadata": {
        "id": "aXqBwSwaaalJ"
      },
      "outputs": [],
      "source": [
        "# split is set to 80/20\n",
        "train, evaluation = train_test_split(df, test_size=0.2)\n",
        "evaluation = evaluation.sample(n=250, random_state=1)\n",
        "print(len(train))\n",
        "print(len(evaluation))"
      ]
    },
    {
      "cell_type": "markdown",
      "metadata": {
        "id": "nf-q8TpnaalJ"
      },
      "source": [
        "進行調校時，必須先將訓練資料轉換為 JSONL 格式。\n"
      ]
    },
    {
      "cell_type": "code",
      "execution_count": null,
      "metadata": {
        "id": "FqRbOwzEaalJ"
      },
      "outputs": [],
      "source": [
        "tune_jsonl = train.to_json(orient=\"records\", lines=True)\n",
        "\n",
        "print(f\"Length: {len(tune_jsonl)}\")\n",
        "print(tune_jsonl[0:100])"
      ]
    },
    {
      "cell_type": "markdown",
      "metadata": {
        "id": "r04PWISCaalJ"
      },
      "source": [
        "接著，你可以在傳送至 Google Cloud Storage (GCS) 之前，先將它寫入本機 JSONL。\n"
      ]
    },
    {
      "cell_type": "code",
      "execution_count": 15,
      "metadata": {
        "id": "vXVV9c0HaalJ"
      },
      "outputs": [],
      "source": [
        "training_data_filename = \"tune_data_stack_overflow_python_qa.jsonl\"\n",
        "\n",
        "with open(training_data_filename, \"w\") as f:\n",
        "    f.write(tune_jsonl)"
      ]
    },
    {
      "cell_type": "code",
      "execution_count": null,
      "metadata": {
        "id": "UHS1lDIrrfQH"
      },
      "outputs": [],
      "source": [
        "tune_jsonl = evaluation.to_json(orient=\"records\", lines=True)\n",
        "\n",
        "print(f\"Length: {len(tune_jsonl)}\")\n",
        "print(tune_jsonl[0:100])"
      ]
    },
    {
      "cell_type": "code",
      "execution_count": 17,
      "metadata": {
        "id": "4eULfrv2rTjO"
      },
      "outputs": [],
      "source": [
        "evaluation_data_filename = \"tune_eval_data_stack_overflow_python_qa.jsonl\"\n",
        "\n",
        "with open(evaluation_data_filename, \"w\") as f:\n",
        "    f.write(tune_jsonl)"
      ]
    },
    {
      "cell_type": "markdown",
      "metadata": {
        "id": "FV8Wxz7JaalN"
      },
      "source": [
        "你接著可以將本機檔案匯出到 GCS，Vertex AI 便可於調整作業中使用該檔案。\n"
      ]
    },
    {
      "cell_type": "code",
      "execution_count": null,
      "metadata": {
        "id": "vDDLHac5aalN"
      },
      "outputs": [],
      "source": [
        "! gsutil cp $training_data_filename $evaluation_data_filename $BUCKET_URI"
      ]
    },
    {
      "cell_type": "markdown",
      "metadata": {
        "id": "Ff68wmzoaalN"
      },
      "source": [
        "你可以檢查檔案是否順利傳輸到你的 Google Cloud Storage 儲存空間：\n"
      ]
    },
    {
      "cell_type": "code",
      "execution_count": null,
      "metadata": {
        "id": "2-DnKpYlaalN"
      },
      "outputs": [],
      "source": [
        "! gsutil ls -al $BUCKET_URI"
      ]
    },
    {
      "cell_type": "code",
      "execution_count": 20,
      "metadata": {
        "id": "8wE9P7OFaalN"
      },
      "outputs": [],
      "source": [
        "TRAINING_DATA_URI = f\"{BUCKET_URI}/{training_data_filename}\"\n",
        "EVAUATION_DATA_URI = f\"{BUCKET_URI}/{evaluation_data_filename}\""
      ]
    },
    {
      "cell_type": "markdown",
      "metadata": {
        "id": "-mW7K57BaalN",
        "tags": []
      },
      "source": [
        "### 模型微調\n",
        "現在是開始微調模型的時候了。你將使用 Vertex AI SDK 提交微調工作。\n",
        "\n",
        "#### 建議的微調設定\n",
        "✅ 以下是根據任務微調基礎模型的一些建議設定，例如此範例中的問答。你可以在 [文件](https://cloud.google.com/vertex-ai/docs/generative-ai/models/tune-models) 中找到更多資訊。\n",
        "\n",
        "萃取式問答：\n",
        "- 確保訓練資料集大小超過 100 筆\n",
        "- 訓練步驟 [100-500]。你可以嘗試多個值以取得特定資料集的最佳效能 (例如 100、200、500)\n"
      ]
    },
    {
      "cell_type": "code",
      "execution_count": null,
      "metadata": {
        "id": "-vP_jeATTnbK"
      },
      "outputs": [],
      "source": [
        "# create tensorboard\n",
        "display_name = \"Adapter tuning - \"\n",
        "\n",
        "tensorboard = aiplatform.Tensorboard.create(\n",
        "    display_name=display_name,\n",
        "    project=PROJECT_ID,\n",
        "    location=REGION,\n",
        ")\n",
        "\n",
        "print(tensorboard.display_name)\n",
        "print(tensorboard.resource_name)"
      ]
    },
    {
      "cell_type": "code",
      "execution_count": null,
      "metadata": {
        "id": "0CFVBoFu5Cnx"
      },
      "outputs": [],
      "source": [
        "# Get tensorboard_id thats used in the pipeline\n",
        "tensorboard_id = tensorboard.resource_name.split(\"tensorboards/\")[-1]\n",
        "print(tensorboard_id)"
      ]
    },
    {
      "cell_type": "code",
      "execution_count": 30,
      "metadata": {
        "id": "26HRfld3aalN"
      },
      "outputs": [],
      "source": [
        "MODEL_NAME = f\"genai-workshop-tuned-model-{UUID}\"\n",
        "TRAINING_STEPS = 100"
      ]
    },
    {
      "cell_type": "code",
      "execution_count": 35,
      "metadata": {
        "id": "DvG1Rp3-iAG_"
      },
      "outputs": [],
      "source": [
        "pipeline_arguments = {\n",
        "    \"model_display_name\": MODEL_NAME,\n",
        "    \"location\": REGION,\n",
        "    \"large_model_reference\": \"text-bison@001\",\n",
        "    \"project\": PROJECT_ID,\n",
        "    \"train_steps\": TRAINING_STEPS,\n",
        "    \"dataset_uri\": TRAINING_DATA_URI,\n",
        "    \"evaluation_interval\": 20,\n",
        "    \"evaluation_data_uri\": EVAUATION_DATA_URI,\n",
        "    \"tensorboard_resource_id\": tensorboard_id,\n",
        "}\n",
        "\n",
        "pipeline_root = f\"{BUCKET_URI}/{MODEL_NAME}\"\n",
        "template_path = \"https://us-kfp.pkg.dev/ml-pipeline/large-language-model-pipelines/tune-large-model/v2.0.0\""
      ]
    },
    {
      "cell_type": "code",
      "execution_count": 55,
      "metadata": {
        "id": "on4baTh5aalN"
      },
      "outputs": [],
      "source": [
        "# Function that starts the tuning job\n",
        "def tuned_model(\n",
        "    project_id: str,\n",
        "    location: str,\n",
        "    template_path: str,\n",
        "    model_display_name: str,\n",
        "    pipeline_arguments: str,\n",
        "):\n",
        "    \"\"\"Prompt-tune a new model, based on a prompt-response data.\n",
        "\n",
        "    \"training_data\" can be either the GCS URI of a file formatted in JSONL format\n",
        "    (for example: training_data=f'gs://{bucket}/{filename}.jsonl'), or a pandas\n",
        "    DataFrame. Each training example should be JSONL record with two keys, for\n",
        "    example:\n",
        "      {\n",
        "        \"input_text\": <input prompt>,\n",
        "        \"output_text\": <associated output>\n",
        "      },\n",
        "\n",
        "    Args:\n",
        "      project_id: GCP Project ID, used to initialize aiplatform\n",
        "      location: GCP Region, used to initialize aiplatform\n",
        "      template_path: path to the template\n",
        "      model_display_name: Name for your model.\n",
        "      pipeline_arguments: arguments used during pipeline runtime\n",
        "    \"\"\"\n",
        "\n",
        "    aiplatform.init(project=project_id, location=location)\n",
        "\n",
        "    from google.cloud.aiplatform import PipelineJob\n",
        "\n",
        "    job = PipelineJob(\n",
        "        template_path=template_path,\n",
        "        display_name=model_display_name,\n",
        "        parameter_values=pipeline_arguments,\n",
        "        location=REGION,\n",
        "        pipeline_root=pipeline_root,\n",
        "        enable_caching=True,\n",
        "    )\n",
        "\n",
        "    return job"
      ]
    },
    {
      "cell_type": "markdown",
      "metadata": {
        "id": "o0XNL9ojaalN"
      },
      "source": [
        "接下來，是時候開始你的微調工作了。\n",
        "\n",
        "**免責聲明：** 微調和部署模型需要時間。\n"
      ]
    },
    {
      "cell_type": "code",
      "execution_count": null,
      "metadata": {
        "id": "m0m86z20zFgl"
      },
      "outputs": [],
      "source": [
        "job = tuned_model(PROJECT_ID, REGION, template_path, MODEL_NAME, pipeline_arguments)"
      ]
    },
    {
      "cell_type": "code",
      "execution_count": null,
      "metadata": {
        "id": "NPHoXo8UIhlz"
      },
      "outputs": [],
      "source": [
        "job.submit()"
      ]
    },
    {
      "cell_type": "markdown",
      "metadata": {
        "id": "PRCkdxXvaalO"
      },
      "source": [
        "按上述連結，你可以查看你的串接執行。如以下截圖所示，它會執行以下步驟：\n",
        "\n",
        "- 驗證\n",
        "- 匯出管理的資料集\n",
        "- 將 JSONL 轉換為 TFRecord\n",
        "- 大型語言模型微調\n",
        "- 上傳 LLM 模型\n"
      ]
    },
    {
      "cell_type": "markdown",
      "metadata": {
        "id": "jq9rL5o32EXs"
      },
      "source": [
        "`job.state` 讓你可以查看管線的狀態。\n"
      ]
    },
    {
      "cell_type": "code",
      "execution_count": null,
      "metadata": {
        "id": "u8l8o3z30WO4"
      },
      "outputs": [],
      "source": [
        "job.state"
      ]
    },
    {
      "cell_type": "markdown",
      "metadata": {
        "id": "O6JC8XplaalO"
      },
      "source": [
        "## 在 Vertex AI Model Registry 上檢視你調整完成的基礎模型\n",
        "調整工作完成後，你的模型會顯示在 Vertex AI Model Registry 上。以下 Python SDK 範例會顯示如何列出經過調整的模型。\n"
      ]
    },
    {
      "cell_type": "code",
      "execution_count": null,
      "metadata": {
        "id": "GPWX0ITCaalO"
      },
      "outputs": [],
      "source": [
        "def list_tuned_models(project_id, location):\n",
        "    aiplatform.init(project=project_id, location=location)\n",
        "    model = TextGenerationModel.from_pretrained(\"text-bison@001\")\n",
        "    tuned_model_names = model.list_tuned_model_names()\n",
        "    print(tuned_model_names)"
      ]
    },
    {
      "cell_type": "code",
      "execution_count": null,
      "metadata": {
        "id": "bAIwCGYJaalO"
      },
      "outputs": [],
      "source": [
        "list_tuned_models(PROJECT_ID, REGION)"
      ]
    },
    {
      "attachments": {},
      "cell_type": "markdown",
      "metadata": {
        "id": "ZriyF0V-aalO"
      },
      "source": [
        "你也可以使用 Google Cloud Console UI 檢視 [Vertex AI Model Registry](https://console.cloud.google.com/vertex-ai/models) 中的所有模型。下面你可以看到 Vertex AI Model Registry 中可用的已調整基礎模型範例。\n"
      ]
    },
    {
      "cell_type": "markdown",
      "metadata": {
        "id": "cFftY6-EaalO"
      },
      "source": [
        "## 使用已調校模型取得預測\n",
        "現在是取得預測的時候了。首先，你需要從 Vertex AI 模型註冊取得最新的調校模型。\n"
      ]
    },
    {
      "cell_type": "code",
      "execution_count": null,
      "metadata": {
        "id": "vU-K3EIkaalO"
      },
      "outputs": [],
      "source": [
        "def fetch_model(project_id, location):\n",
        "    aiplatform.init(project=project_id, location=location)\n",
        "    model = TextGenerationModel.from_pretrained(\"text-bison@001\")\n",
        "    list_tuned_models = model.list_tuned_model_names()\n",
        "    tuned_model = list_tuned_models[0]\n",
        "\n",
        "    return tuned_model"
      ]
    },
    {
      "cell_type": "code",
      "execution_count": null,
      "metadata": {
        "id": "j66dr12taalO"
      },
      "outputs": [],
      "source": [
        "deployed_model = fetch_model(PROJECT_ID, REGION)\n",
        "deployed_model = TextGenerationModel.get_tuned_model(deployed_model)"
      ]
    },
    {
      "cell_type": "markdown",
      "metadata": {
        "id": "xDOueoptaalO"
      },
      "source": [
        "現在你可以開始傳送提示到 API。請隨時更新以下提示。\n"
      ]
    },
    {
      "cell_type": "code",
      "execution_count": null,
      "metadata": {
        "id": "2ERbfPJPaalO"
      },
      "outputs": [],
      "source": [
        "PROMPT = \"\"\"\n",
        "How can I store my TensorFlow checkpoint on Google Cloud Storage?\n",
        "\n",
        "Python example:\n",
        "\n",
        "\"\"\""
      ]
    },
    {
      "cell_type": "code",
      "execution_count": null,
      "metadata": {
        "id": "trzon4EyaalO"
      },
      "outputs": [],
      "source": [
        "print(deployed_model.predict(PROMPT))"
      ]
    },
    {
      "cell_type": "markdown",
      "metadata": {
        "id": "qtYr_KNPaalO"
      },
      "source": [
        "## 評估\n",
        "對模型執行評估來了解其效能至關重要。評估可使用 F1 或 Rouge 等評估指標以自動化方式進行。你也可以運用人工評估方法。人工評估方法涉及要求人員評分 LLM 回答的品質。這可透過群眾外包或由專家評估回應來執行。一些標準的人工評估指標包括流暢度、連貫性、相關性，和資訊性。你通常會想要選擇多種評估指標，以便充分了解模型效能。以下會提供評估執行的範例。\n",
        "\n",
        "在此範例中，你將使用 [sequence-evaluate](https://pypi.org/project/sequence-evaluate/) 來評估調整後的模型。\n"
      ]
    },
    {
      "cell_type": "code",
      "execution_count": null,
      "metadata": {
        "id": "9856CuicaalO"
      },
      "outputs": [],
      "source": [
        "from seq_eval import SeqEval\n",
        "\n",
        "evaluator = SeqEval()"
      ]
    },
    {
      "cell_type": "markdown",
      "metadata": {
        "id": "AS10ybdraalO"
      },
      "source": [
        "在筆記本前面，你建立了一個訓練和評量資料集。現在是取得部分評量資料的時候了。你將使用這些問題從我們微調的模型取得回應，而我們會使用答案作為參考：\n",
        "\n",
        "- **候選項目：** 微調模型產生的答案。\n",
        "- **參考：** 我們將用於比較的原始答案。\n"
      ]
    },
    {
      "cell_type": "code",
      "execution_count": null,
      "metadata": {
        "id": "LKMmIH0XaalO"
      },
      "outputs": [],
      "source": [
        "evaluation = evaluation.head(10)  # you can change the number of rows you want to use\n",
        "evaluation_question = evaluation[\"input_text\"]\n",
        "evaluation_answer = evaluation[\"output_text\"]"
      ]
    },
    {
      "cell_type": "markdown",
      "metadata": {
        "id": "jx-g2molaalP"
      },
      "source": [
        "現在你可以使用根據你從評估資料集中提出的問題調整的模型繼續生成候選人。\n"
      ]
    },
    {
      "cell_type": "code",
      "execution_count": null,
      "metadata": {
        "id": "e5DqVXvEaalP"
      },
      "outputs": [],
      "source": [
        "candidates = []\n",
        "\n",
        "for i in evaluation_question:\n",
        "    response = deployed_model.predict(i)\n",
        "    candidates.append(response.text)\n",
        "\n",
        "len(candidates)"
      ]
    },
    {
      "cell_type": "markdown",
      "metadata": {
        "id": "oftLTb0maalP"
      },
      "source": [
        "你還需建立我們的參考清單。這些將會用於評估模型的績效。\n"
      ]
    },
    {
      "cell_type": "code",
      "execution_count": null,
      "metadata": {
        "id": "y7zN70CJaalP"
      },
      "outputs": [],
      "source": [
        "references = evaluation_answer.tolist()\n",
        "\n",
        "len(references)"
      ]
    },
    {
      "cell_type": "markdown",
      "metadata": {
        "id": "UwKcyIDdjziD"
      },
      "source": [
        "接下來你會產生評估指標。 `evaluator.evaluate` 將會傳回幾個評估指標。其中一些重要的指標有：\n",
        "- [Blue](https://en.wikipedia.org/wiki/BLEU)：BLEU 評估指標是機器產生的文字和人工撰寫的參考文字的相似度指標。\n",
        "- [Rouge](https://en.wikipedia.org/wiki/ROUGE_(metric))：ROUGE 評估指標是機器產生的文字和人工撰寫的參考文字的重疊度指標。\n"
      ]
    },
    {
      "cell_type": "code",
      "execution_count": null,
      "metadata": {
        "id": "B828sNxUaalP"
      },
      "outputs": [],
      "source": [
        "scores = evaluator.evaluate(candidates, references, verbose=False)\n",
        "print(scores)"
      ]
    }
  ],
  "metadata": {
    "colab": {
      "provenance": [],
      "toc_visible": true
    },
    "environment": {
      "kernel": "python3",
      "name": "tf2-gpu.2-11.m108",
      "type": "gcloud",
      "uri": "gcr.io/deeplearning-platform-release/tf2-gpu.2-11:m108"
    },
    "kernelspec": {
      "display_name": "Python 3 (ipykernel)",
      "language": "python",
      "name": "python3"
    },
    "language_info": {
      "codemirror_mode": {
        "name": "ipython",
        "version": 3
      },
      "file_extension": ".py",
      "mimetype": "text/x-python",
      "name": "python",
      "nbconvert_exporter": "python",
      "pygments_lexer": "ipython3",
      "version": "3.11.7"
    }
  },
  "nbformat": 4,
  "nbformat_minor": 0
}